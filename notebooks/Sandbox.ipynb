{
 "cells": [
  {
   "cell_type": "markdown",
   "metadata": {},
   "source": [
    "## Features reduction"
   ]
  },
  {
   "cell_type": "code",
   "execution_count": 1,
   "metadata": {},
   "outputs": [
    {
     "name": "stderr",
     "output_type": "stream",
     "text": [
      "/home/franck/anaconda3/envs/thesis/lib/python3.6/site-packages/sklearn/externals/six.py:31: DeprecationWarning: The module is deprecated in version 0.21 and will be removed in version 0.23 since we've dropped support for Python 2.7. Please rely on the official version of six (https://pypi.org/project/six/).\n",
      "  \"(https://pypi.org/project/six/).\", DeprecationWarning)\n"
     ]
    }
   ],
   "source": [
    "import os\n",
    "import sys\n",
    "module_path = os.path.abspath(os.path.join('..'))\n",
    "if module_path not in sys.path:\n",
    "    sys.path.append(module_path)\n",
    "\n",
    "import pandas as pd\n",
    "%matplotlib inline\n",
    "import matplotlib.pyplot as plt\n",
    "import numpy as np\n",
    "from IPython.display import display\n",
    "from sklearn.model_selection import train_test_split\n",
    "from sklearn.metrics import r2_score\n",
    "import seaborn as sb\n",
    "import imblearn\n",
    "\n",
    "from core.utils.preprocessing import df_to_xydf, df_to_xy\n",
    "\n",
    "# Read and sanitize the data\n",
    "df = pd.read_csv(\"../data/t00/data_t00.csv\")\n",
    "df_full = df.copy()\n",
    "drop_cols = [\"worker_id\", \"resp_worker_id\", \"prop_worker_id\", \"updated\", \"status\", \"job_id\", \"status\", \"timestamp\", \"rowid\", \"offer_dss\", \"offer\", \"offer_final\"]\n",
    "df = df[[col for col in df.columns if col not in drop_cols]]\n",
    "df = df.dropna()\n",
    "\n",
    "cols = [col for col in df.columns if col != \"min_offer\"] + [\"min_offer\"]\n"
   ]
  },
  {
   "cell_type": "markdown",
   "metadata": {},
   "source": [
    "## Determine significant features"
   ]
  },
  {
   "cell_type": "markdown",
   "metadata": {},
   "source": [
    "**Feature importance permutation**"
   ]
  },
  {
   "cell_type": "code",
   "execution_count": 2,
   "metadata": {},
   "outputs": [],
   "source": [
    "from core.utils.preprocessing import df_to_xy, df_to_xydf\n",
    "from core.models import AcceptanceModel\n",
    "from core.utils.benchmark import process_model, process_benchmark_cv\n",
    "from mlxtend.evaluate import feature_importance_permutation"
   ]
  },
  {
   "cell_type": "markdown",
   "metadata": {},
   "source": [
    "## Train model with top features"
   ]
  },
  {
   "cell_type": "code",
   "execution_count": 3,
   "metadata": {},
   "outputs": [
    {
     "name": "stdout",
     "output_type": "stream",
     "text": [
      "(['cc_beta'], 0.18827338597075433)\n"
     ]
    }
   ],
   "source": [
    "from core.models import AcceptanceModel, EMModel\n",
    "from core.utils.selection import ffs\n",
    "\n",
    "#model = AcceptanceModel()\n",
    "model = EMModel()\n",
    "tmp = ffs(model, df, cv=2)\n",
    "print(tmp)"
   ]
  },
  {
   "cell_type": "code",
   "execution_count": 4,
   "metadata": {},
   "outputs": [],
   "source": [
    "X, y = df_to_xy(df, select_columns=['cpc_q7', 'ras_q21', 'ras_q5'])\n",
    "X, y = df_to_xy(df, select_columns=['cpc_expected_value', 'ras_q3'])"
   ]
  },
  {
   "cell_type": "code",
   "execution_count": 5,
   "metadata": {},
   "outputs": [
    {
     "name": "stdout",
     "output_type": "stream",
     "text": [
      "[0.07843137 0.07575758 0.1010101 ]\n"
     ]
    },
    {
     "name": "stderr",
     "output_type": "stream",
     "text": [
      "/home/franck/anaconda3/envs/thesis/lib/python3.6/site-packages/sklearn/model_selection/_split.py:1978: FutureWarning: The default value of cv will change from 3 to 5 in version 0.22. Specify it explicitly to silence this warning.\n",
      "  warnings.warn(CV_WARNING, FutureWarning)\n",
      "/home/franck/anaconda3/envs/thesis/lib/python3.6/site-packages/sklearn/svm/base.py:193: FutureWarning: The default value of gamma will change from 'auto' to 'scale' in version 0.22 to account better for unscaled features. Set gamma explicitly to 'auto' or 'scale' to avoid this warning.\n",
      "  \"avoid this warning.\", FutureWarning)\n",
      "/home/franck/anaconda3/envs/thesis/lib/python3.6/site-packages/sklearn/svm/base.py:193: FutureWarning: The default value of gamma will change from 'auto' to 'scale' in version 0.22 to account better for unscaled features. Set gamma explicitly to 'auto' or 'scale' to avoid this warning.\n",
      "  \"avoid this warning.\", FutureWarning)\n",
      "/home/franck/anaconda3/envs/thesis/lib/python3.6/site-packages/sklearn/svm/base.py:193: FutureWarning: The default value of gamma will change from 'auto' to 'scale' in version 0.22 to account better for unscaled features. Set gamma explicitly to 'auto' or 'scale' to avoid this warning.\n",
      "  \"avoid this warning.\", FutureWarning)\n"
     ]
    },
    {
     "data": {
      "text/plain": [
       "45.4"
      ]
     },
     "execution_count": 5,
     "metadata": {},
     "output_type": "execute_result"
    }
   ],
   "source": [
    "from sklearn.linear_model import LinearRegression\n",
    "from sklearn.ensemble import RandomForestClassifier\n",
    "from sklearn.svm import SVC\n",
    "from sklearn.model_selection import cross_val_score\n",
    "from core.models.metrics import avg_gain_ratio, avg_loss_ratio\n",
    "\n",
    "X, y = df_to_xy(df)\n",
    "\n",
    "def my_binary_scoring(estimator, x, y):\n",
    "    pred = estimator.predict(x)\n",
    "    return avg_loss_ratio(y, pred)\n",
    "\n",
    "limit = 40\n",
    "y_binary = (y <= limit).astype(int).ravel()\n",
    "y_binary[y_binary==1] = limit\n",
    "y_binary[y_binary==0] = 50\n",
    "\n",
    "model = SVC()\n",
    "#model.score(X, y)\n",
    "score = cross_val_score(model, X, y_binary, scoring=my_binary_scoring)\n",
    "print(score)\n",
    "y_binary.mean()"
   ]
  },
  {
   "cell_type": "code",
   "execution_count": 6,
   "metadata": {},
   "outputs": [
    {
     "data": {
      "text/plain": [
       "50     41\n",
       "40     20\n",
       "45      8\n",
       "5       8\n",
       "35      5\n",
       "30      4\n",
       "100     3\n",
       "20      3\n",
       "25      2\n",
       "10      2\n",
       "0       2\n",
       "60      1\n",
       "55      1\n",
       "Name: min_offer, dtype: int64"
      ]
     },
     "execution_count": 6,
     "metadata": {},
     "output_type": "execute_result"
    }
   ],
   "source": [
    "df.min_offer.value_counts()"
   ]
  },
  {
   "cell_type": "code",
   "execution_count": 33,
   "metadata": {},
   "outputs": [
    {
     "name": "stdout",
     "output_type": "stream",
     "text": [
      "(['cc_beta'], 0.18823433631342437)\n"
     ]
    }
   ],
   "source": [
    "from sklearn.svm import LinearSVC, LinearSVR, SVC\n",
    "from sklearn.linear_model import LogisticRegression\n",
    "from sklearn.neural_network import BernoulliRBM, MLPClassifier\n",
    "from core.utils.selection import ffs\n",
    "\n",
    "model = SVC(gamma=\"auto\", kernel=\"poly\")\n",
    "model = LogisticRegression()\n",
    "model = MLPClassifier((8, 4, 2, 4, 8, 16), solver=\"sgd\")\n",
    "enforced_target_values = {(0, 40):40, (45, 100):50}\n",
    "enforced_target_values = None\n",
    "tmp = ffs(model, df, cv=3, enforced_target_values=enforced_target_values, early_stop=0)\n",
    "print(tmp)\n",
    "#model = AcceptanceModel()"
   ]
  },
  {
   "cell_type": "code",
   "execution_count": 8,
   "metadata": {},
   "outputs": [],
   "source": [
    "# model_svc = SVC(gamma=\"auto\", kernel=\"poly\")\n",
    "# # linear’, ‘poly’, ‘rbf’, ‘sigmoid’\n",
    "# X, y = df_to_xy(df, select_columns=['cpc_expected_value', 'ras_q3'])\n",
    "# model_svc.fit(X, y)\n",
    "# np.unique(model_svc.predict(X))"
   ]
  },
  {
   "cell_type": "code",
   "execution_count": 9,
   "metadata": {},
   "outputs": [
    {
     "name": "stderr",
     "output_type": "stream",
     "text": [
      "/home/franck/anaconda3/envs/thesis/lib/python3.6/site-packages/sklearn/svm/base.py:193: FutureWarning: The default value of gamma will change from 'auto' to 'scale' in version 0.22 to account better for unscaled features. Set gamma explicitly to 'auto' or 'scale' to avoid this warning.\n",
      "  \"avoid this warning.\", FutureWarning)\n"
     ]
    },
    {
     "data": {
      "text/plain": [
       "0.27872951609793717"
      ]
     },
     "execution_count": 9,
     "metadata": {},
     "output_type": "execute_result"
    }
   ],
   "source": [
    "\n",
    "limit = 25\n",
    "X, y = df_to_xy(df.sample(frac=1.0))\n",
    "y_binary = (y <= limit).astype(int).ravel()\n",
    "y_binary[y_binary==1] = limit\n",
    "y_binary[y_binary==0] = 50\n",
    "\n",
    "avg_loss_ratio(y, y_binary)\n",
    "split = 75\n",
    "model = SVC()\n",
    "model.fit(X[:split], y_binary[:split])\n",
    "p = model.predict(X[split:])\n",
    "avg_loss_ratio(y[split:], p)"
   ]
  },
  {
   "cell_type": "code",
   "execution_count": 10,
   "metadata": {},
   "outputs": [
    {
     "name": "stdout",
     "output_type": "stream",
     "text": [
      "[50 50 50 50 50 40 50 50 50 50 50 50 50 50 40 50 50 50 50 50 40 50 50 50\n",
      " 50 50 50 50 50 40 50 50 50 50 50 50 50 50 50 50 50 50 50 50 50 50 50 50\n",
      " 50 50 50 50 50 40 50 50 50 50 50 50 50 50 50 50 50 50 50 50 50 50 50 40\n",
      " 50 40 50 50 40 50 40 50 50 50 40 50 40 40 50 50 40 50 50 50 50 50 40 50\n",
      " 50 50 50 40]\n"
     ]
    }
   ],
   "source": [
    "\n",
    "def target_to_enforced_target_values(y, enforced_target_values):\n",
    "    y = y.ravel()\n",
    "    res = np.array(y)\n",
    "    for (lower, higher), value in enforced_target_values.items():\n",
    "        res[(lower<y) & (y<=higher)] = value\n",
    "    return res\n",
    "enforced_target_values = {(-1, 20):40, (20, 100):50}\n",
    "print(target_to_enforced_target_values(y, enforced_target_values))"
   ]
  },
  {
   "cell_type": "code",
   "execution_count": 30,
   "metadata": {},
   "outputs": [
    {
     "data": {
      "text/plain": [
       "40.9"
      ]
     },
     "execution_count": 30,
     "metadata": {},
     "output_type": "execute_result"
    }
   ],
   "source": [
    "df_full[\"min_offer\"].mean()"
   ]
  }
 ],
 "metadata": {
  "kernelspec": {
   "display_name": "Python 3",
   "language": "python",
   "name": "python3"
  },
  "language_info": {
   "codemirror_mode": {
    "name": "ipython",
    "version": 3
   },
   "file_extension": ".py",
   "mimetype": "text/x-python",
   "name": "python",
   "nbconvert_exporter": "python",
   "pygments_lexer": "ipython3",
   "version": "3.6.8"
  }
 },
 "nbformat": 4,
 "nbformat_minor": 2
}
