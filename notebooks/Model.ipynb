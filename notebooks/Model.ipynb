{
 "cells": [
  {
   "cell_type": "code",
   "execution_count": 1,
   "metadata": {
    "scrolled": true
   },
   "outputs": [
    {
     "data": {
      "text/html": [
       "<div>\n",
       "<style scoped>\n",
       "    .dataframe tbody tr th:only-of-type {\n",
       "        vertical-align: middle;\n",
       "    }\n",
       "\n",
       "    .dataframe tbody tr th {\n",
       "        vertical-align: top;\n",
       "    }\n",
       "\n",
       "    .dataframe thead th {\n",
       "        text-align: right;\n",
       "    }\n",
       "</style>\n",
       "<table border=\"1\" class=\"dataframe\">\n",
       "  <thead>\n",
       "    <tr style=\"text-align: right;\">\n",
       "      <th></th>\n",
       "      <th>time_spent_risk</th>\n",
       "      <th>cells</th>\n",
       "      <th>selfish</th>\n",
       "      <th>time_spent_prop</th>\n",
       "      <th>count_effort</th>\n",
       "      <th>Honesty_Humility</th>\n",
       "      <th>Extraversion</th>\n",
       "      <th>Agreeableness</th>\n",
       "      <th>min_offer</th>\n",
       "    </tr>\n",
       "  </thead>\n",
       "  <tbody>\n",
       "    <tr>\n",
       "      <th>0</th>\n",
       "      <td>43000</td>\n",
       "      <td>26</td>\n",
       "      <td>60</td>\n",
       "      <td>31000</td>\n",
       "      <td>20</td>\n",
       "      <td>4.2</td>\n",
       "      <td>3.0</td>\n",
       "      <td>2.8</td>\n",
       "      <td>50</td>\n",
       "    </tr>\n",
       "    <tr>\n",
       "      <th>1</th>\n",
       "      <td>12000</td>\n",
       "      <td>7</td>\n",
       "      <td>20</td>\n",
       "      <td>38000</td>\n",
       "      <td>20</td>\n",
       "      <td>1.9</td>\n",
       "      <td>4.4</td>\n",
       "      <td>2.9</td>\n",
       "      <td>50</td>\n",
       "    </tr>\n",
       "    <tr>\n",
       "      <th>2</th>\n",
       "      <td>88000</td>\n",
       "      <td>50</td>\n",
       "      <td>20</td>\n",
       "      <td>69000</td>\n",
       "      <td>12</td>\n",
       "      <td>3.3</td>\n",
       "      <td>3.8</td>\n",
       "      <td>3.4</td>\n",
       "      <td>80</td>\n",
       "    </tr>\n",
       "    <tr>\n",
       "      <th>3</th>\n",
       "      <td>24000</td>\n",
       "      <td>50</td>\n",
       "      <td>60</td>\n",
       "      <td>26000</td>\n",
       "      <td>14</td>\n",
       "      <td>3.6</td>\n",
       "      <td>3.8</td>\n",
       "      <td>2.6</td>\n",
       "      <td>50</td>\n",
       "    </tr>\n",
       "    <tr>\n",
       "      <th>4</th>\n",
       "      <td>137000</td>\n",
       "      <td>24</td>\n",
       "      <td>60</td>\n",
       "      <td>43000</td>\n",
       "      <td>4</td>\n",
       "      <td>3.6</td>\n",
       "      <td>2.5</td>\n",
       "      <td>2.7</td>\n",
       "      <td>100</td>\n",
       "    </tr>\n",
       "  </tbody>\n",
       "</table>\n",
       "</div>"
      ],
      "text/plain": [
       "   time_spent_risk  cells  selfish  time_spent_prop  count_effort  \\\n",
       "0            43000     26       60            31000            20   \n",
       "1            12000      7       20            38000            20   \n",
       "2            88000     50       20            69000            12   \n",
       "3            24000     50       60            26000            14   \n",
       "4           137000     24       60            43000             4   \n",
       "\n",
       "   Honesty_Humility  Extraversion  Agreeableness  min_offer  \n",
       "0               4.2           3.0            2.8         50  \n",
       "1               1.9           4.4            2.9         50  \n",
       "2               3.3           3.8            3.4         80  \n",
       "3               3.6           3.8            2.6         50  \n",
       "4               3.6           2.5            2.7        100  "
      ]
     },
     "metadata": {},
     "output_type": "display_data"
    },
    {
     "data": {
      "text/plain": [
       "<Figure size 432x288 with 0 Axes>"
      ]
     },
     "execution_count": 1,
     "metadata": {},
     "output_type": "execute_result"
    },
    {
     "data": {
      "image/png": "[encoded data removed]",
      "text/plain": [
       "<Figure size 432x288 with 9 Axes>"
      ]
     },
     "metadata": {},
     "output_type": "display_data"
    },
    {
     "data": {
      "text/plain": [
       "<Figure size 432x288 with 0 Axes>"
      ]
     },
     "metadata": {},
     "output_type": "display_data"
    }
   ],
   "source": [
    "import pandas as pd\n",
    "%matplotlib inline\n",
    "import matplotlib.pyplot as plt\n",
    "import numpy as np\n",
    "from IPython.display import display\n",
    "from sklearn.model_selection import train_test_split\n",
    "from sklearn.metrics import r2_score\n",
    "import seaborn as sb\n",
    "\n",
    "#fix rnd seed\n",
    "np.random.seed(7)\n",
    "\n",
    "MAX_GAIN = 200\n",
    "\n",
    "# Read and sanitize the data\n",
    "df = pd.read_excel(\"../data/UG_HH_NEW_continuous_no200.xls\")\n",
    "df = df.dropna()\n",
    "df = df.dropna()\n",
    "df = df[['time_spent_risk', 'cells', 'selfish', 'time_spent_prop', 'count_effort',\n",
    "         'Honesty_Humility','Extraversion', 'Agreeableness', 'min_offer']]\n",
    "\n",
    "MAX_ACCEPTABLE_MIN_OFFER = 150\n",
    "df = df[df['min_offer'] <= MAX_ACCEPTABLE_MIN_OFFER]\n",
    "\n",
    "\n",
    "#print(df[50:])\n",
    "\n",
    "# Show head and histograms\n",
    "display(df.head())\n",
    "df.hist()\n",
    "\n",
    "# Plot sample figure for min_offers\n",
    "plt.figure()\n",
    "\n",
    "#x = range(0, len(df['prop']))\n",
    "#x1 = df['min_offer']\n",
    "\n",
    "#plt.plot(x, x1)"
   ]
  },
  {
   "cell_type": "code",
   "execution_count": 2,
   "metadata": {},
   "outputs": [],
   "source": [
    "# sb.pairplot(df, x_vars=('prop','other_resp','other_prop'), y_vars='min_offer', height=7, aspect=0.7, kind='reg')\n",
    "# sb.pairplot(df, x_vars=('cells', 'selfish','count_effort'), y_vars='min_offer', height=7, aspect=0.7, kind='reg')\n",
    "# sb.pairplot(df, x_vars=('Honesty_Humility', 'Extraversion','Agreeableness'), y_vars='min_offer', height=7, aspect=0.7, kind='reg')\n",
    "# sb.pairplot(df, x_vars=('time_spent_prop', 'time_spent_risk'), y_vars='min_offer', height=7, aspect=0.7, kind='reg')"
   ]
  },
  {
   "cell_type": "code",
   "execution_count": 3,
   "metadata": {},
   "outputs": [],
   "source": [
    "#manual ablation\n",
    "#df = df.drop(columns=['cells','selfish','count_effort','Honesty_Humility','Extraversion','Agreeableness','time_spent_risk','time_spent_prop'])"
   ]
  },
  {
   "cell_type": "code",
   "execution_count": 4,
   "metadata": {
    "scrolled": true
   },
   "outputs": [],
   "source": [
    "from sklearn.linear_model import LinearRegression\n",
    "# Split into inputs and oututs\n",
    "x = df.iloc[:, :-1].values\n",
    "\n",
    "y = df.iloc[:, -1:].values\n",
    "NB_FEATURES = x.shape[1]\n",
    "NORMALISE_DATA = True\n",
    "\n",
    "\n",
    "x = df.values[:, :-1]\n",
    "y = df.values[:, -1:]\n",
    "\n",
    "if NORMALISE_DATA:\n",
    "    x_min = x.min(axis=0)\n",
    "    x_max = x.max(axis=0)\n",
    "    x = (x - x_min) / (x_max - x_min)\n",
    "    \n",
    "NB_FEATURES = x.shape[1]\n",
    "xTrain, xTest, yTrain, yTest = train_test_split(x, y, test_size = 1/3, random_state = 0)\n",
    "#print(xTrain)\n",
    "#print(yTrain)\n",
    "\n",
    "# regressor = LinearRegression(copy_X=True).fit(xTrain, yTrain)\n",
    "\n",
    "# print(\"Intercept:\", regressor.intercept_)\n",
    "# print(\"Coef:\", regressor.coef_)\n",
    "\n",
    "# yPredict = regressor.predict(xTest)\n",
    "# print(\"R2:\", r2_score(yTest, yPredict))\n",
    "\n",
    "# out_data = pd.DataFrame(data={'y_test': np.ravel(yTest), 'y_pred': np.ravel(yPredict)})\n",
    "# #print(out_data)\n",
    "\n",
    "# out_data.plot(figsize=(30,10))"
   ]
  },
  {
   "cell_type": "code",
   "execution_count": 5,
   "metadata": {},
   "outputs": [],
   "source": [
    "@np.vectorize\n",
    "def sigmoid(x):\n",
    "    return np.exp(x) / (np.exp(x) + 1)\n",
    "\n",
    "@np.vectorize\n",
    "def sigmoid1024(x):\n",
    "    base = 2000.0**2\n",
    "    return (base**x/(base**x + 1))\n",
    "\n",
    "@np.vectorize\n",
    "def sigmoid128(x):\n",
    "    return (128**x/(128**x + 1))\n",
    "\n",
    "# @np.vectorize\n",
    "# def loss(x):\n",
    "#     x = (x+10) / 40\n",
    "#     return (1 - (sigmoid1024(x) * np.cos(x/np.pi))) / 2\n",
    "    \n",
    "# @np.vectorize\n",
    "# def gain(x):\n",
    "#     return 2 - loss(x)\n",
    "\n",
    "# @np.vectorize\n",
    "def gain(x):\n",
    "    x = (x - 32) / 40\n",
    "    return (sigmoid1024(x) *  np.cos(x/np.pi))\n",
    "\n",
    "@np.vectorize\n",
    "def loss(x):\n",
    "    x_ = (x) / 40\n",
    "    x = (x + 0) / 40\n",
    "    return (1 - sigmoid1024(x) *  np.cos(x_/np.pi))\n",
    "    #return 1 - gain(x+24)\n",
    "\n",
    "def gain(x):\n",
    "    return 1 - loss(x)"
   ]
  },
  {
   "cell_type": "code",
   "execution_count": 6,
   "metadata": {},
   "outputs": [
    {
     "name": "stdout",
     "output_type": "stream",
     "text": [
      "Max value:  15.815815815815824 0.0\n"
     ]
    },
    {
     "data": {
      "text/plain": [
       "<matplotlib.axes._subplots.AxesSubplot at 0x7f724b7004e0>"
      ]
     },
     "execution_count": 6,
     "metadata": {},
     "output_type": "execute_result"
    },
    {
     "data": {
      "image/png": "[encoded data removed]",
      "text/plain": [
       "<Figure size 432x288 with 1 Axes>"
      ]
     },
     "metadata": {},
     "output_type": "display_data"
    }
   ],
   "source": [
    "x = np.linspace(-200, 200, 1000)\n",
    "y = gain(x)\n",
    "print(\"Max value: \", x[y.argmax()], gain(-200))\n",
    "\n",
    "df = pd.DataFrame({'x':x, 'y':y})\n",
    "df.plot.line(x='x', y='y')"
   ]
  },
  {
   "cell_type": "code",
   "execution_count": 7,
   "metadata": {
    "scrolled": true
   },
   "outputs": [
    {
     "name": "stdout",
     "output_type": "stream",
     "text": [
      "Min value:  15.815815815815824\n"
     ]
    },
    {
     "data": {
      "text/plain": [
       "<matplotlib.axes._subplots.AxesSubplot at 0x7f724960cba8>"
      ]
     },
     "execution_count": 7,
     "metadata": {},
     "output_type": "execute_result"
    },
    {
     "data": {
      "image/png": "[encoded data removed]",
      "text/plain": [
       "<Figure size 432x288 with 1 Axes>"
      ]
     },
     "metadata": {},
     "output_type": "display_data"
    }
   ],
   "source": [
    "y = loss(x)\n",
    "print(\"Min value: \", x[y.argmin()])\n",
    "\n",
    "df = pd.DataFrame({'x':x, 'y':y})\n",
    "df.plot.line(x='x', y='y')"
   ]
  },
  {
   "cell_type": "code",
   "execution_count": 8,
   "metadata": {},
   "outputs": [
    {
     "name": "stdout",
     "output_type": "stream",
     "text": [
      "ADD path: </home/franck/Desktop/MA-Thesis/code>\n",
      "['', '/home/franck/anaconda3/lib/python36.zip', '/home/franck/anaconda3/lib/python3.6', '/home/franck/anaconda3/lib/python3.6/lib-dynload', '/home/franck/anaconda3/lib/python3.6/site-packages', '/home/franck/anaconda3/lib/python3.6/site-packages/IPython/extensions', '/home/franck/.ipython', '/home/franck/Desktop/MA-Thesis/code']\n",
      "/home/franck/Desktop/MA-Thesis/code/notebooks/utils/data_augmentation.py\n"
     ]
    },
    {
     "name": "stderr",
     "output_type": "stream",
     "text": [
      "Using TensorFlow backend.\n"
     ]
    }
   ],
   "source": [
    "from utils.data_augmentation import DACombine"
   ]
  },
  {
   "cell_type": "code",
   "execution_count": 9,
   "metadata": {},
   "outputs": [],
   "source": [
    "from models.deep import keras_linear_regression, keras_model, loss_tf, gain_tf, KerasModel"
   ]
  },
  {
   "cell_type": "markdown",
   "metadata": {},
   "source": [
    "**Metrics**"
   ]
  },
  {
   "cell_type": "code",
   "execution_count": 10,
   "metadata": {},
   "outputs": [],
   "source": [
    "MAX_GAIN = 200.0\n",
    "\n",
    "def gain2(min_offer, predicted):\n",
    "    res = MAX_GAIN - predicted\n",
    "    res[predicted < min_offer] = 0\n",
    "    return res\n",
    "\n",
    "def gain_mean2(min_offer, predicted):\n",
    "    res = MAX_GAIN - predicted\n",
    "    res[predicted < min_offer] = 0\n",
    "    return res.mean()"
   ]
  },
  {
   "cell_type": "markdown",
   "metadata": {},
   "source": [
    "**Model: No data Augmentation**"
   ]
  },
  {
   "cell_type": "code",
   "execution_count": 11,
   "metadata": {
    "scrolled": true
   },
   "outputs": [
    {
     "data": {
      "image/png": "[encoded data removed]",
      "text/plain": [
       "<Figure size 2160x720 with 1 Axes>"
      ]
     },
     "metadata": {},
     "output_type": "display_data"
    },
    {
     "data": {
      "image/png": "[encoded data removed]",
      "text/plain": [
       "<Figure size 2160x720 with 1 Axes>"
      ]
     },
     "metadata": {},
     "output_type": "display_data"
    }
   ],
   "source": [
    "#sci-kit like training\n",
    "model = KerasModel(loss=loss_tf, metrics=[gain_tf], batch_size=60, epochs=100)\n",
    "da = DACombine()\n",
    "xTrain_a, yTrain_a = xTrain, yTrain\n",
    "split = int(xTrain.shape[1] * 0.75)\n",
    "xTrain_a, yTrain_a = xTrain[:split], yTrain[:split]\n",
    "xVal, yVal = xTrain[split:], yTrain[split:]\n",
    "#xTrain_a, yTrain_a = da.fit_predict(xTrain, yTrain, size=1024, distance=10)\n",
    "history = model.fit(xTrain_a.astype('float'), yTrain_a.astype('float'),  validation_data=(xVal, yVal), verbose=0)\n",
    "\n",
    "#print(history.history)\n",
    "\n",
    "loss_hist = pd.DataFrame(data={'loss': history.history['loss'], 'val_loss': history.history['val_loss']})\n",
    "loss_hist.plot(figsize=(30,10))\n",
    "\n",
    "acc_hist = pd.DataFrame(data={'acc': history.history['gain_tf'], 'val_acc': history.history['val_gain_tf']})\n",
    "acc_hist.plot(figsize=(30, 10))\n",
    "\n",
    "yPred = model.predict(xTest, batch_size=128)\n",
    "\n",
    "out_data = pd.DataFrame(data={'y_test': np.ravel(yTest), 'y_pred': np.ravel(yPred)})\n",
    "#stl = model.score(xTest, yTest, verbose=0)"
   ]
  },
  {
   "cell_type": "code",
   "execution_count": 15,
   "metadata": {},
   "outputs": [
    {
     "data": {
      "text/plain": [
       "array([148.16042, 135.54962, 165.64862, 167.54625, 147.04903, 168.37685,\n",
       "       142.08038, 154.70642, 155.76492, 169.46883, 155.8152 , 148.60387,\n",
       "       152.02356, 165.3408 , 158.4636 , 155.42601, 161.29056, 162.51196,\n",
       "       156.19257, 147.09496, 139.05994, 144.4901 , 151.54756, 139.51985,\n",
       "       129.79886, 171.19368, 159.66179, 137.05777, 139.30951, 138.60185,\n",
       "       154.94987, 161.84319, 156.61206, 161.98299, 166.14563, 165.37712,\n",
       "       146.28358, 143.42993, 163.36847, 150.14493, 138.56635, 123.53524,\n",
       "       155.35434, 176.29205, 153.74019, 138.68413, 150.77538, 150.10338,\n",
       "       139.20917, 175.67587, 136.43573, 141.49167, 133.89203, 149.4295 ,\n",
       "       167.61577, 156.65237, 163.96924, 176.62474, 182.13977, 165.98013],\n",
       "      dtype=float32)"
      ]
     },
     "execution_count": 15,
     "metadata": {},
     "output_type": "execute_result"
    }
   ],
   "source": []
  },
  {
   "cell_type": "code",
   "execution_count": 13,
   "metadata": {},
   "outputs": [
    {
     "name": "stdout",
     "output_type": "stream",
     "text": [
      "gain_mean:  0.0\n"
     ]
    },
    {
     "data": {
      "image/png": "[encoded data removed]",
      "text/plain": [
       "<Figure size 432x288 with 1 Axes>"
      ]
     },
     "metadata": {},
     "output_type": "display_data"
    }
   ],
   "source": [
    "yPred = model.predict(xTest)\n",
    "\n",
    "out_data = pd.DataFrame(data={'y_test': np.ravel(yTest), 'y_pred': np.ravel(yPred)})\n",
    "out_data.plot()\n",
    "\n",
    "yPred = model.predict(xTest)\n",
    "print(\"gain_mean: \", gain_mean2(yTest.ravel(), yPred.ravel()))"
   ]
  },
  {
   "cell_type": "markdown",
   "metadata": {},
   "source": [
    "**Model with data augmentation**"
   ]
  },
  {
   "cell_type": "code",
   "execution_count": 14,
   "metadata": {
    "scrolled": false
   },
   "outputs": [
    {
     "ename": "TypeError",
     "evalue": "keras_model() missing 1 required positional argument: 'nb_features'",
     "output_type": "error",
     "traceback": [
      "\u001b[0;31m---------------------------------------------------------------------------\u001b[0m",
      "\u001b[0;31mTypeError\u001b[0m                                 Traceback (most recent call last)",
      "\u001b[0;32m<ipython-input-14-9e2a05640840>\u001b[0m in \u001b[0;36m<module>\u001b[0;34m()\u001b[0m\n\u001b[1;32m      1\u001b[0m \u001b[0;31m#sci-kit like training\u001b[0m\u001b[0;34m\u001b[0m\u001b[0;34m\u001b[0m\u001b[0;34m\u001b[0m\u001b[0m\n\u001b[0;32m----> 2\u001b[0;31m \u001b[0mmodel\u001b[0m \u001b[0;34m=\u001b[0m \u001b[0mkeras_model\u001b[0m\u001b[0;34m(\u001b[0m\u001b[0mloss\u001b[0m\u001b[0;34m=\u001b[0m\u001b[0mloss_tf\u001b[0m\u001b[0;34m,\u001b[0m \u001b[0mmetrics\u001b[0m\u001b[0;34m=\u001b[0m\u001b[0;34m[\u001b[0m\u001b[0mgain_tf\u001b[0m\u001b[0;34m]\u001b[0m\u001b[0;34m)\u001b[0m\u001b[0;34m\u001b[0m\u001b[0;34m\u001b[0m\u001b[0m\n\u001b[0m\u001b[1;32m      3\u001b[0m \u001b[0mda\u001b[0m \u001b[0;34m=\u001b[0m \u001b[0mDACombine\u001b[0m\u001b[0;34m(\u001b[0m\u001b[0;34m)\u001b[0m\u001b[0;34m\u001b[0m\u001b[0;34m\u001b[0m\u001b[0m\n\u001b[1;32m      4\u001b[0m \u001b[0msplit\u001b[0m \u001b[0;34m=\u001b[0m \u001b[0mint\u001b[0m\u001b[0;34m(\u001b[0m\u001b[0mxTrain\u001b[0m\u001b[0;34m.\u001b[0m\u001b[0mshape\u001b[0m\u001b[0;34m[\u001b[0m\u001b[0;36m1\u001b[0m\u001b[0;34m]\u001b[0m \u001b[0;34m*\u001b[0m \u001b[0;36m0.75\u001b[0m\u001b[0;34m)\u001b[0m\u001b[0;34m\u001b[0m\u001b[0;34m\u001b[0m\u001b[0m\n\u001b[1;32m      5\u001b[0m \u001b[0mxTrain_a\u001b[0m\u001b[0;34m,\u001b[0m \u001b[0myTrain_a\u001b[0m \u001b[0;34m=\u001b[0m \u001b[0mxTrain\u001b[0m\u001b[0;34m[\u001b[0m\u001b[0;34m:\u001b[0m\u001b[0msplit\u001b[0m\u001b[0;34m]\u001b[0m\u001b[0;34m,\u001b[0m \u001b[0myTrain\u001b[0m\u001b[0;34m[\u001b[0m\u001b[0;34m:\u001b[0m\u001b[0msplit\u001b[0m\u001b[0;34m]\u001b[0m\u001b[0;34m\u001b[0m\u001b[0;34m\u001b[0m\u001b[0m\n",
      "\u001b[0;31mTypeError\u001b[0m: keras_model() missing 1 required positional argument: 'nb_features'"
     ]
    }
   ],
   "source": [
    "#sci-kit like training\n",
    "model = keras_model(loss=loss_tf, metrics=[gain_tf])\n",
    "da = DACombine()\n",
    "split = int(xTrain.shape[1] * 0.75)\n",
    "xTrain_a, yTrain_a = xTrain[:split], yTrain[:split]\n",
    "xVal, yVal = xTrain[split:], yTrain[split:]\n",
    "xTrain_a, yTrain_a = da.fit_predict(xTrain_a, yTrain_a, size=xTrain_a.shape[1]*16, distance=10, retarget=True, distribution=True, combine=True)\n",
    "history = model.fit(xTrain_a.astype('float'), yTrain_a.astype('float'), validation_data=(xVal, yVal), epochs=100, batch_size=64, verbose=0)\n",
    "loss_hist = pd.DataFrame(data={'loss': history.history['loss'], 'val_loss': history.history['val_loss']})\n",
    "loss_hist.plot(figsize=(30,10))\n",
    "\n",
    "acc_hist = pd.DataFrame(data={'acc': history.history['gain_tf'], 'val_acc': history.history['val_gain_tf']})\n",
    "acc_hist.plot(figsize=(30, 10))\n",
    "\n",
    "yPred = model.predict(xTest, batch_size=128)\n",
    "\n",
    "out_data = pd.DataFrame(data={'y_test': np.ravel(yTest), 'y_pred': np.ravel(yPred)})\n",
    "#stl = model.score(xTest, yTest, verbose=0)"
   ]
  },
  {
   "cell_type": "code",
   "execution_count": null,
   "metadata": {},
   "outputs": [],
   "source": [
    "yPred = model.predict(xTest)\n",
    "\n",
    "out_data = pd.DataFrame(data={'y_test': np.ravel(yTest), 'y_pred': np.ravel(yPred)})\n",
    "out_data.plot()\n",
    "\n",
    "yPred = model.predict(xTest)\n",
    "print(\"gain_mean: \", gain_mean2(yTest.ravel(), yPred.ravel()))"
   ]
  },
  {
   "cell_type": "markdown",
   "metadata": {},
   "source": [
    "** Model using _mse_ loss and data augmentation**"
   ]
  },
  {
   "cell_type": "code",
   "execution_count": null,
   "metadata": {
    "scrolled": true
   },
   "outputs": [],
   "source": [
    "#sci-kit like training\n",
    "model = keras_model(loss='mse', metrics=[gain_tf])\n",
    "da = DACombine()\n",
    "split = int(xTrain.shape[1] * 0.75)\n",
    "xTrain_a, yTrain_a = xTrain[:split], yTrain[:split]\n",
    "xVal, yVal = xTrain[split:], yTrain[split:]\n",
    "xTrain_a, yTrain_a = da.fit_predict(xTrain_a, yTrain_a, size=xTrain_a.shape[1]*16, distance=10, retarget=True, distribution=True, combine=True)\n",
    "history = model.fit(xTrain_a.astype('float'), yTrain_a.astype('float'), validation_data=(xVal, yVal), epochs=100, batch_size=64, verbose=0)\n",
    "loss_hist = pd.DataFrame(data={'loss': history.history['loss'], 'val_loss': history.history['val_loss']})\n",
    "loss_hist.plot(figsize=(30,10))\n",
    "\n",
    "acc_hist = pd.DataFrame(data={'acc': history.history['gain_tf'], 'val_acc': history.history['val_gain_tf']})\n",
    "acc_hist.plot(figsize=(30, 10))\n",
    "\n",
    "yPred = model.predict(xTest, batch_size=128)\n",
    "\n",
    "out_data = pd.DataFrame(data={'y_test': np.ravel(yTest), 'y_pred': np.ravel(yPred)})\n",
    "#stl = model.score(xTest, yTest, verbose=0)"
   ]
  },
  {
   "cell_type": "code",
   "execution_count": null,
   "metadata": {},
   "outputs": [],
   "source": [
    "yPred = model.predict(xTest)\n",
    "\n",
    "out_data = pd.DataFrame(data={'y_test': np.ravel(yTest), 'y_pred': np.ravel(yPred)})\n",
    "out_data.plot()\n",
    "\n",
    "yPred = model.predict(xTest)\n",
    "print(\"gain_mean: \", gain_mean2(yTest.ravel(), yPred.ravel()))"
   ]
  },
  {
   "cell_type": "code",
   "execution_count": null,
   "metadata": {},
   "outputs": [],
   "source": [
    "# from sklearn.svm import SVC, LinearSVC, LinearSVR\n",
    "\n",
    "# model = SVC(gamma='auto', kernel='rbf')\n",
    "# model = LinearSVC()\n",
    "# da = DACombine()\n",
    "# split = int(xTrain.shape[0] * 0.25)\n",
    "# #xTrain_a, yTrain_a = xTrain[:split], yTrain[:split]\n",
    "# xTrain_a, yTrain_a = xTrain.copy(), yTrain.ravel().copy()\n",
    "# #yTrain_a[yTrain_a < 75] = 50\n",
    "# #yTrain_a[yTrain_a >= 75] = 100\n",
    "# #xVal, yVal = xTrain[split:], yTrain[split:]\n",
    "# xTrain_a, yTrain_a = da.fit_predict(xTrain_a, yTrain_a, size=xTrain_a.shape[1]*16, distance=5, retarget=True, distribution=True, combine=True)\n",
    "\n",
    "# model.fit(xTrain_a, yTrain_a.ravel())\n",
    "\n",
    "# yPred = model.predict(xTest)\n",
    "# print(yPred - yTest.ravel())\n",
    "\n",
    "# #model.classes_\n",
    "# model.predict(xTrain_a)\n",
    "# print(\"Gain mean:\", gain_mean2(yTest.ravel(), yPred.ravel()))\n",
    "# print(\"mse: \", mse(yTest.ravel(), yPred))\n",
    "\n",
    "# print(yPred)"
   ]
  },
  {
   "cell_type": "code",
   "execution_count": null,
   "metadata": {},
   "outputs": [],
   "source": []
  },
  {
   "cell_type": "code",
   "execution_count": null,
   "metadata": {},
   "outputs": [],
   "source": [
    "from sklearn.svm import SVC, SVR, LinearSVR\n",
    "from sklearn.linear_model import LogisticRegression\n",
    "\n",
    "def ultimatum_score(y_true, y_pred):\n",
    "    res = MAX_GAIN - y_pred\n",
    "    res[y_pred < y_true] = 0\n",
    "    return res.mean()\n",
    "    \n",
    "\n",
    "class AcceptanceModel(object):\n",
    "    def __init__(self, base_model=None, max_gain=MAX_GAIN, step=5, zero_one=True, metric=None):\n",
    "        \"\"\"\n",
    "        :param base_model: a model with fit/predict functions (classification)\n",
    "        :param max_gain: (int) the maximum possible offer/gain\n",
    "        :param step: (int) band width for categorizing the possible values inteval\n",
    "        :zero_one: (bool) if True use the classes 0/1 else -1/1\n",
    "        :param metric: (function|callable) with two parameters (y_true, y_pred) returns the score of a prediction\n",
    "        \"\"\"\n",
    "        self.base_model = base_model\n",
    "        if base_model is None:\n",
    "            #self.base_model = LogisticRegression(penalty='l1', solver='liblinear')\n",
    "            self.base_model = LinearSVR()\n",
    "        self.max_gain = max_gain\n",
    "        self.zero_one = zero_one\n",
    "        if self.zero_one:\n",
    "            self.classes = [0, 1]\n",
    "        else:\n",
    "            self.classes = [-1, 1]\n",
    "        self.offers = np.arange(0, max_gain, step)\n",
    "        self.decision_line = 0\n",
    "        if metric is None:\n",
    "            metric = ultimatum_score\n",
    "        self.metric = metric\n",
    "        self._trained = False\n",
    "    \n",
    "    def _transform_train(self, x, y):\n",
    "        xNew = []\n",
    "        yNew = []\n",
    "        for idx in np.arange(0, x.shape[0]):\n",
    "            base = np.zeros((self.offers.shape[0], x.shape[1] + 1))\n",
    "            base[:, :-1] = x[idx]\n",
    "            base[:, -1] = self.offers / self.max_gain\n",
    "            xNew.extend(base)\n",
    "            base_y = (base[:, -1] >= (y[idx] / self.max_gain)).astype(int) #TODO #NOTE check\n",
    "            if self.zero_one:\n",
    "                base_y[base_y < 1] = -1\n",
    "            yNew.extend(base_y)\n",
    "        xNew = np.array(xNew)\n",
    "        yNew = np.array(yNew)\n",
    "        return xNew, yNew\n",
    "    \n",
    "    def _transform_predict(self, x):\n",
    "        xNew = []\n",
    "        for idx in np.arange(0, x.shape[0]):\n",
    "            base = np.zeros((self.offers.shape[0], x.shape[1] + 1))\n",
    "            base[:, :-1] = x[idx]\n",
    "            base[:, -1] = self.offers / self.max_gain\n",
    "            xNew.extend(base)\n",
    "        xNew = np.array(xNew)\n",
    "        return xNew        \n",
    "    \n",
    "    def fit(self, xTrain, yTrain, **kwargs):\n",
    "        xTrain_, yTrain_ = xTrain, yTrain\n",
    "        split = int(xTrain.shape[0] * 0.75)\n",
    "        xTrain_only, yTrain_only = xTrain[:split], yTrain[:split]\n",
    "        xVal_only, yVal_only = xTrain[split:], yTrain[split:].ravel()\n",
    "        \n",
    "        xTrain_only, yTrain_only = self._transform_train(xTrain_only, yTrain_only)\n",
    "        self.base_model.fit(xTrain_only, yTrain_only)\n",
    "        top_decision_line = None\n",
    "        top_score = float('-inf')\n",
    "        xVal_only_ext = self._transform_predict(xVal_only)\n",
    "        for decision_line in np.linspace(self.classes[0], self.classes[1]):\n",
    "            yPred = self._predict(self.base_model, xVal_only, decision_line)\n",
    "            score = self.metric(yVal_only, yPred)\n",
    "            if score > top_score:\n",
    "                top_score = score\n",
    "                top_decision_line = decision_line\n",
    "        self.decision_line = top_decision_line\n",
    "            \n",
    "        self._trained = True\n",
    "    \n",
    "    def _predict(self, model, xTest, decision_line):\n",
    "        xShape = xTest.shape\n",
    "        xTest = self._transform_predict(xTest)\n",
    "        \n",
    "        y_pred = model.predict(xTest)\n",
    "        res = []\n",
    "        for idx in np.arange(0, xShape[0]):\n",
    "            mask = np.arange(idx*self.offers.shape[0], (idx+1)*self.offers.shape[0])\n",
    "            group_y = y_pred[mask]\n",
    "            group_x = xTest[mask]\n",
    "            target = group_x[(group_y > decision_line).argmax()][-1]\n",
    "            res.append(target * self.max_gain)\n",
    "        return np.array(res)\n",
    "        \n",
    "    def predict(self, xTest, **kwargs):\n",
    "        return self._predict(self.base_model, xTest, self.decision_line)"
   ]
  },
  {
   "cell_type": "code",
   "execution_count": null,
   "metadata": {},
   "outputs": [],
   "source": [
    "from sklearn.ensemble.bagging import BaggingRegressor, BaggingClassifier, DecisionTreeClassifier, DecisionTreeRegressor\n",
    "from sklearn.neighbors import KNeighborsClassifier, RadiusNeighborsClassifier\n",
    "from sklearn.linear_model import PassiveAggressiveClassifier, SGDClassifier\n",
    "from sklearn.svm import NuSVC, LinearSVC, LinearSVR, SVR, NuSVR\n",
    "\n",
    "#LinearSVR, zero_one=True: 87\n",
    "#SVR, zero_one=True: 70\n",
    "\n",
    "svc = SVC(gamma='scale', class_weight='balanced')\n",
    "model = AcceptanceModel(LinearSVR(loss='l1', ), step=1, zero_one=True)\n",
    "xTrain_, yTrain_ = xTrain, yTrain\n",
    "#xTrain_, yTrain_ = da.fit_predict(xTrain, yTrain, distribution=True, distance=5, retarget=True, combine=True)\n",
    "model.fit(xTrain_, yTrain_)\n",
    "res = model.predict(xTest)\n",
    "gain_mean2(yTest.ravel(), res.ravel())"
   ]
  },
  {
   "cell_type": "code",
   "execution_count": null,
   "metadata": {},
   "outputs": [],
   "source": [
    "print(res)\n",
    "print(yTest.ravel())\n",
    "model.decision_line"
   ]
  },
  {
   "cell_type": "code",
   "execution_count": null,
   "metadata": {},
   "outputs": [],
   "source": [
    "m = LogisticRegression(penalty='l1', solver='saga', multi_class='ovr')\n",
    "m.fit(xTrain_, yTrain_.ravel())\n",
    "pr = m.predict(xTest)\n",
    "gain_mean2(yTest.ravel(), pr)"
   ]
  },
  {
   "cell_type": "code",
   "execution_count": null,
   "metadata": {},
   "outputs": [],
   "source": [
    "print(pr)\n",
    "print(yTest.ravel())"
   ]
  },
  {
   "cell_type": "code",
   "execution_count": null,
   "metadata": {},
   "outputs": [],
   "source": []
  }
 ],
 "metadata": {
  "kernelspec": {
   "display_name": "Python 3",
   "language": "python",
   "name": "python3"
  },
  "language_info": {
   "codemirror_mode": {
    "name": "ipython",
    "version": 3
   },
   "file_extension": ".py",
   "mimetype": "text/x-python",
   "name": "python",
   "nbconvert_exporter": "python",
   "pygments_lexer": "ipython3",
   "version": "3.6.7"
  }
 },
 "nbformat": 4,
 "nbformat_minor": 2
}
