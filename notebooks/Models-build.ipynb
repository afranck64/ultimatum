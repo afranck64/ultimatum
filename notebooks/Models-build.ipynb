{
 "cells": [
  {
   "cell_type": "markdown",
   "metadata": {},
   "source": [
    "## Data preparation and sanitization"
   ]
  },
  {
   "cell_type": "code",
   "execution_count": 19,
   "metadata": {},
   "outputs": [
    {
     "data": {
      "text/html": [
       "<div>\n",
       "<style scoped>\n",
       "    .dataframe tbody tr th:only-of-type {\n",
       "        vertical-align: middle;\n",
       "    }\n",
       "\n",
       "    .dataframe tbody tr th {\n",
       "        vertical-align: top;\n",
       "    }\n",
       "\n",
       "    .dataframe thead th {\n",
       "        text-align: right;\n",
       "    }\n",
       "</style>\n",
       "<table border=\"1\" class=\"dataframe\">\n",
       "  <thead>\n",
       "    <tr style=\"text-align: right;\">\n",
       "      <th></th>\n",
       "      <th>prop</th>\n",
       "      <th>other_resp</th>\n",
       "      <th>other_prop</th>\n",
       "      <th>time_spent_risk</th>\n",
       "      <th>cells</th>\n",
       "      <th>selfish</th>\n",
       "      <th>time_spent_prop</th>\n",
       "      <th>count_effort</th>\n",
       "      <th>Honesty_Humility</th>\n",
       "      <th>Extraversion</th>\n",
       "      <th>Agreeableness</th>\n",
       "      <th>min_offer</th>\n",
       "    </tr>\n",
       "  </thead>\n",
       "  <tbody>\n",
       "    <tr>\n",
       "      <th>0</th>\n",
       "      <td>50</td>\n",
       "      <td>50</td>\n",
       "      <td>50</td>\n",
       "      <td>43000</td>\n",
       "      <td>26</td>\n",
       "      <td>60</td>\n",
       "      <td>31000</td>\n",
       "      <td>20</td>\n",
       "      <td>4.2</td>\n",
       "      <td>3.0</td>\n",
       "      <td>2.8</td>\n",
       "      <td>50</td>\n",
       "    </tr>\n",
       "    <tr>\n",
       "      <th>1</th>\n",
       "      <td>50</td>\n",
       "      <td>20</td>\n",
       "      <td>20</td>\n",
       "      <td>12000</td>\n",
       "      <td>7</td>\n",
       "      <td>20</td>\n",
       "      <td>38000</td>\n",
       "      <td>20</td>\n",
       "      <td>1.9</td>\n",
       "      <td>4.4</td>\n",
       "      <td>2.9</td>\n",
       "      <td>50</td>\n",
       "    </tr>\n",
       "    <tr>\n",
       "      <th>2</th>\n",
       "      <td>120</td>\n",
       "      <td>50</td>\n",
       "      <td>80</td>\n",
       "      <td>88000</td>\n",
       "      <td>50</td>\n",
       "      <td>20</td>\n",
       "      <td>69000</td>\n",
       "      <td>12</td>\n",
       "      <td>3.3</td>\n",
       "      <td>3.8</td>\n",
       "      <td>3.4</td>\n",
       "      <td>80</td>\n",
       "    </tr>\n",
       "    <tr>\n",
       "      <th>3</th>\n",
       "      <td>50</td>\n",
       "      <td>50</td>\n",
       "      <td>50</td>\n",
       "      <td>24000</td>\n",
       "      <td>50</td>\n",
       "      <td>60</td>\n",
       "      <td>26000</td>\n",
       "      <td>14</td>\n",
       "      <td>3.6</td>\n",
       "      <td>3.8</td>\n",
       "      <td>2.6</td>\n",
       "      <td>50</td>\n",
       "    </tr>\n",
       "    <tr>\n",
       "      <th>4</th>\n",
       "      <td>100</td>\n",
       "      <td>50</td>\n",
       "      <td>50</td>\n",
       "      <td>137000</td>\n",
       "      <td>24</td>\n",
       "      <td>60</td>\n",
       "      <td>43000</td>\n",
       "      <td>4</td>\n",
       "      <td>3.6</td>\n",
       "      <td>2.5</td>\n",
       "      <td>2.7</td>\n",
       "      <td>100</td>\n",
       "    </tr>\n",
       "  </tbody>\n",
       "</table>\n",
       "</div>"
      ],
      "text/plain": [
       "   prop  other_resp  other_prop  time_spent_risk  cells  selfish  \\\n",
       "0    50          50          50            43000     26       60   \n",
       "1    50          20          20            12000      7       20   \n",
       "2   120          50          80            88000     50       20   \n",
       "3    50          50          50            24000     50       60   \n",
       "4   100          50          50           137000     24       60   \n",
       "\n",
       "   time_spent_prop  count_effort  Honesty_Humility  Extraversion  \\\n",
       "0            31000            20               4.2           3.0   \n",
       "1            38000            20               1.9           4.4   \n",
       "2            69000            12               3.3           3.8   \n",
       "3            26000            14               3.6           3.8   \n",
       "4            43000             4               3.6           2.5   \n",
       "\n",
       "   Agreeableness  min_offer  \n",
       "0            2.8         50  \n",
       "1            2.9         50  \n",
       "2            3.4         80  \n",
       "3            2.6         50  \n",
       "4            2.7        100  "
      ]
     },
     "metadata": {},
     "output_type": "display_data"
    },
    {
     "data": {
      "text/plain": [
       "[<matplotlib.lines.Line2D at 0x7fdd38029cc0>]"
      ]
     },
     "execution_count": 19,
     "metadata": {},
     "output_type": "execute_result"
    },
    {
     "data": {
      "image/png": "[encoded data removed]",
      "text/plain": [
       "<Figure size 432x288 with 12 Axes>"
      ]
     },
     "metadata": {},
     "output_type": "display_data"
    },
    {
     "data": {
      "image/png": "[encoded data removed]",
      "text/plain": [
       "<Figure size 432x288 with 1 Axes>"
      ]
     },
     "metadata": {},
     "output_type": "display_data"
    }
   ],
   "source": [
    "import pandas as pd\n",
    "%matplotlib inline\n",
    "import matplotlib.pyplot as plt\n",
    "import numpy as np\n",
    "from IPython.display import display\n",
    "from sklearn.model_selection import train_test_split\n",
    "from sklearn.metrics import r2_score\n",
    "import seaborn as sb\n",
    "\n",
    "# Read and sanitize the data\n",
    "df = pd.read_excel(\"../data/UG_HH_NEW_continuous_no200.xls\")\n",
    "df = df.dropna()\n",
    "\n",
    "#print(df[50:])\n",
    "\n",
    "# Show head and histograms\n",
    "display(df.head())\n",
    "df.hist()\n",
    "\n",
    "# Plot sample figure for min_offers\n",
    "plt.figure()\n",
    "\n",
    "x = range(0, len(df['prop']))\n",
    "x1 = df['min_offer']\n",
    "\n",
    "plt.plot(x, x1)"
   ]
  },
  {
   "cell_type": "markdown",
   "metadata": {},
   "source": [
    "## Linear regression (continuous dataset)"
   ]
  },
  {
   "cell_type": "code",
   "execution_count": 2,
   "metadata": {},
   "outputs": [
    {
     "name": "stdout",
     "output_type": "stream",
     "text": [
      "R2: -0.033486332886982995\n"
     ]
    },
    {
     "data": {
      "text/plain": [
       "<matplotlib.axes._subplots.AxesSubplot at 0x7fdd77de9080>"
      ]
     },
     "execution_count": 2,
     "metadata": {},
     "output_type": "execute_result"
    },
    {
     "data": {
      "image/png": "[encoded data removed]",
      "text/plain": [
       "<Figure size 432x288 with 1 Axes>"
      ]
     },
     "metadata": {},
     "output_type": "display_data"
    }
   ],
   "source": [
    "from sklearn.linear_model import LinearRegression\n",
    "\n",
    "# Split into inputs and oututs\n",
    "# NOTE: we skip the proposal, and responses (frist 3 values)\n",
    "x = df.iloc[:, 3:-1].values\n",
    "\n",
    "y = df.iloc[:, -1:].values\n",
    "\n",
    "NB_FEATURES = x.shape[1]\n",
    "\n",
    "xTrain, xTest, yTrain, yTest = train_test_split(x, y, test_size = 1/3, random_state = 0)\n",
    "\n",
    "regressor = LinearRegression(copy_X=True).fit(xTrain, yTrain)\n",
    "\n",
    "yPredict = regressor.predict(xTest)\n",
    "print(\"R2:\", r2_score(yTest, yPredict))\n",
    "\n",
    "out_data = pd.DataFrame(data={'y_test': np.ravel(yTest), 'y_pred': np.ravel(yPredict)})\n",
    "\n",
    "out_data.plot()"
   ]
  },
  {
   "cell_type": "code",
   "execution_count": 20,
   "metadata": {},
   "outputs": [],
   "source": [
    "#keras\n",
    "from keras.models import Sequential\n",
    "from keras.layers import Dense, Dropout\n",
    "from keras.layers import multiply\n",
    "from keras.wrappers.scikit_learn import KerasRegressor\n",
    "import keras.backend as K\n",
    "from sklearn.model_selection import cross_val_score\n",
    "from sklearn.model_selection import KFold\n",
    "from sklearn.preprocessing import StandardScaler\n",
    "from sklearn.pipeline import Pipeline\n",
    "import tensorflow as tf\n",
    "import sys\n",
    "\n",
    "def simple_model(loss=None, metrics=None):\n",
    "    \"\"\"\n",
    "    build a simple regression model\n",
    "    :param loss: (str|callable, default: mse)\n",
    "    \"\"\"\n",
    "    drop_rate = 0.0\n",
    "    if loss is None:\n",
    "        loss = \"mse\"\n",
    "    model = Sequential()\n",
    "    model.add(Dense(5, input_dim=NB_FEATURES, kernel_initializer='normal', activation='relu'))\n",
    "    model.add(Dense(5, activation='relu'))\n",
    "    model.add(Dropout(drop_rate))\n",
    "    model.add(Dense(5, activation='relu'))\n",
    "    model.add(Dense(5, activation='relu'))\n",
    "    model.add(Dropout(drop_rate))\n",
    "    model.add(Dense(5, activation='relu'))\n",
    "    model.add(Dense(5, activation='relu'))\n",
    "    model.add(Dropout(drop_rate))\n",
    "    model.add(Dense(5, activation='relu'))\n",
    "    model.add(Dense(1, kernel_initializer='normal'))\n",
    "    model.compile(loss=loss, optimizer='rmsprop', metrics=metrics)\n",
    "    return model"
   ]
  },
  {
   "cell_type": "markdown",
   "metadata": {},
   "source": [
    "**Accuracies**"
   ]
  },
  {
   "cell_type": "markdown",
   "metadata": {},
   "source": [
    "** Gain and Losses **"
   ]
  },
  {
   "cell_type": "code",
   "execution_count": 21,
   "metadata": {},
   "outputs": [],
   "source": [
    "loss_baseline = \"mse\"\n",
    "MAX_GAIN = 200.0\n",
    "\n",
    "\n",
    "def gain_tf(min_offer, predicted):\n",
    "    base = MAX_GAIN - predicted\n",
    "    less = tf.less(predicted, min_offer)\n",
    "    zero = tf.zeros_like(min_offer)\n",
    "    res = tf.where(less, zero, base)\n",
    "    res = tf.where(tf.less(res, 0), zero, res)\n",
    "    return res\n",
    "\n",
    "def gain_mean_tf(min_offer, predicted):\n",
    "    return K.mean(gain_tf(min_offer, predicted))\n",
    "\n",
    "def gain_ratio_tf(min_offer, predicted):\n",
    "    act_gain = gain_tf(min_offer, predicted)\n",
    "    max_gain = gain_tf(min_offer, min_offer)\n",
    "    return K.mean(act_gain/max_gain)\n",
    "\n",
    "\n",
    "def gain(min_offer, predicted):\n",
    "    \"\"\"arrays\"\"\"\n",
    "    predicted[predicted < 0] = 0\n",
    "    predicted[predicted > MAX_GAIN] = MAX_GAIN\n",
    "    res = MAX_GAIN - predicted\n",
    "    res[predicted < min_offer] = 0\n",
    "    return res\n",
    "\n",
    "def gain_mean(min_offer, predicted):\n",
    "    return gain(min_offer, predicted).mean()\n",
    "\n",
    "def gain_ratio(min_offer, predicted):\n",
    "    \"\"\"\n",
    "    :returns: The ratio of the maximal possible gain based on min_offer\n",
    "    \"\"\"\n",
    "    act_gain = gain(min_offer, predicted)\n",
    "    max_gain = gain(min_offer, min_offer)\n",
    "    return (act_gain/max_gain).mean()\n",
    "\n",
    "#Loss according to the first idea\n",
    "def loss(predicted, min_offer):\n",
    "    return (MAX_GAIN-min_offer)**2 if predicted < min_offer else 0.5*(predicted - min_offer)**2\n",
    "\n",
    "def loss_(min_offer, predicted):\n",
    "    #res = predicted.copy()\n",
    "    #ge = K.greater_equal(predicted, min_offer)\n",
    "    #sub = tf.math.where\n",
    "    return K.mean(K.square(tf.math.subtract(min_offer, predicted)))\n",
    "           \n",
    "def loss_gain(y_true, y_pred):\n",
    "    #y_true = K.print_tensor(y_true,message='y_true:')\n",
    "    #y_pred = K.print_tensor(y_pred,message='y_pred:')\n",
    "    ge = K.greater_equal(y_pred, y_true)\n",
    "    less = K.less(y_pred, y_true)\n",
    "    #ge = K.print_tensor(ge,message='ge:')\n",
    "    sub = tf.math.subtract(y_pred, y_true)\n",
    "    part1 = tf.where(ge, y_true, sub)\n",
    "    part2 = tf.where(less, y_true, tf.constant(MAX_GAIN))\n",
    "    re = tf.math.add(part1, part2)\n",
    "    #re = K.print_tensor(re,message='re:')\n",
    "    #return K.abs(re)\n",
    "    return K.square(re)\n",
    "\n",
    "def loss_gain(y_true, y_pred):\n",
    "    max_gain = tf.constant(MAX_GAIN)\n",
    "    res = tf.math.subtract(y_true, y_true)\n",
    "    res = tf.math.add(max_gain, res)\n",
    "    ge = K.greater_equal(y_pred, y_true)\n",
    "    less = K.less(y_pred, y_true)\n",
    "    sub = tf.math.subtract(max_gain, y_true)\n",
    "    res = tf.where(ge, res, sub)\n",
    "    return res**2\n",
    "    #return tf.math.exp(res)\n",
    "    #return tf.math.square(tf.math.abs(tf.math.subtract(y_true, y_pred)))\n",
    "\n",
    "def loss_gain(y_true, y_pred):\n",
    "    max_gain = tf.constant(MAX_GAIN)\n",
    "    res = tf.math.subtract(y_true, y_true)\n",
    "    res = tf.math.add(max_gain, res)\n",
    "    ge = K.greater_equal(y_pred, y_true)\n",
    "    less = K.less(y_pred, y_true)\n",
    "    sub = tf.math.subtract(max_gain, y_true)\n",
    "    res = tf.where(ge, res, sub)\n",
    "    return res**2\n",
    "\n",
    "def loss_gain_mse(y_true, y_pred):\n",
    "    return K.square(loss_gain(y_true, y_pred))\n",
    "\n",
    "def loss_gain_cont(y_true, y_pred):\n",
    "    left = (y_true - y_pred) ** 4\n",
    "    right = tf.math.abs(y_pred - y_true) ** 2\n",
    "    ge = K.greater_equal(y_pred, y_true)\n",
    "    res = tf.where(ge, right, left)\n",
    "    return res\n",
    "\n",
    "def loss_gain_sigmoid(y_true, y_pred):\n",
    "    diff = tf.math.abs(y_pred - y_true)\n",
    "    diff = tf.math.divide(diff, 50) #==> max possible value is now 4\n",
    "    diff_left = tf.math.pow(diff, 32)\n",
    "    diff_right = tf.math.pow(diff, 2)\n",
    "    ge = K.greater_equal(y_pred, y_true)\n",
    "    base = tf.where(ge, diff_right, diff_left)\n",
    "    return (base)/(base + 1)\n",
    "\n",
    "def loss_gain_simgoid(y_true, y_pred):\n",
    "    diff = tf.math.abs(y_pred - y_true)\n",
    "    diff\n",
    "    \n",
    "\n",
    "def loss_mse(y_true, y_pred):\n",
    "    return K.mean((y_true - y_pred) ** 2)\n",
    "\n",
    "def loss_mse_offset(y_true, y_pred):\n",
    "    offset = 1.4\n",
    "    return K.mean((y_true - (y_pred - offset)) ** 2)\n",
    "\n",
    "def loss_mean_pred(y_true, y_pred):\n",
    "    max_gain = tf.constant(MAX_GAIN)\n",
    "    return tf.math.abs(tf.math.subtract(max_gain, (y_pred)))\n"
   ]
  },
  {
   "cell_type": "code",
   "execution_count": 22,
   "metadata": {},
   "outputs": [
    {
     "name": "stdout",
     "output_type": "stream",
     "text": [
      "Results: 64.89 (29.17) MSE, Scalar test loss: 1643.33\n"
     ]
    },
    {
     "data": {
      "image/png": "[encoded data removed]",
      "text/plain": [
       "<Figure size 2160x720 with 1 Axes>"
      ]
     },
     "metadata": {},
     "output_type": "display_data"
    }
   ],
   "source": [
    "#sci-kit like training\n",
    "sm = simple_model(\"mse\") \n",
    "yTrainSteps = np.copy(yTrain)\n",
    "for i in range(10, 200, 10):\n",
    "    mask = (yTrainSteps > i) & (yTrainSteps <= (i+10))\n",
    "    yTrainSteps[mask] = i+10\n",
    "history = sm.fit(xTrain, yTrainSteps, validation_split=0.33, epochs=256, batch_size=64, verbose=0)\n",
    "loss_hist = pd.DataFrame(data={'loss': history.history['loss']})\n",
    "loss_hist.plot(figsize=(30,10))\n",
    "smPredict = sm.predict(xTest, batch_size=128)\n",
    "\n",
    "out_data = pd.DataFrame(data={'y_test': np.ravel(yTest), 'y_pred': np.ravel(smPredict)})\n",
    "stl = sm.evaluate(xTest, yTest, verbose=0)\n",
    "print(\"Results: %2.2f (%.2f) MSE, Scalar test loss: %.2f\" % (smPredict.mean(), smPredict.std(), stl))\n",
    "#out_data.plot(figsize=(30,10))"
   ]
  },
  {
   "cell_type": "code",
   "execution_count": 6,
   "metadata": {},
   "outputs": [
    {
     "data": {
      "text/plain": [
       "(119, 8)"
      ]
     },
     "execution_count": 6,
     "metadata": {},
     "output_type": "execute_result"
    }
   ],
   "source": [
    "xTrain.shape"
   ]
  },
  {
   "cell_type": "code",
   "execution_count": 7,
   "metadata": {},
   "outputs": [
    {
     "data": {
      "text/plain": [
       "23.846142"
      ]
     },
     "execution_count": 7,
     "metadata": {},
     "output_type": "execute_result"
    }
   ],
   "source": [
    "gain_mean(yTest, smPredict)"
   ]
  },
  {
   "cell_type": "code",
   "execution_count": 8,
   "metadata": {},
   "outputs": [],
   "source": [
    "from sklearn.model_selection import KFold\n",
    "import numpy as np\n",
    "\n",
    "def process_mlp(xTrain, yTrain, xTest, yTest, loss, metrics=None, validation_split=0.33, epochs=100, batch_size=8, verbose=0):\n",
    "    for i in range(10, 200, 10):\n",
    "        mask = (yTrain > i) & (yTrain < (i+10))\n",
    "        #yTrain[mask] = i+10+5\n",
    "    model = simple_model(loss, metrics)\n",
    "    history = model.fit(xTrain, yTrain, validation_split=validation_split, epochs=epochs, batch_size=batch_size, verbose=verbose)\n",
    "    yPredict = model.predict(xTest, batch_size=16)\n",
    "    gr = gain_ratio(yTest, yPredict)\n",
    "    return gr\n",
    "    \n",
    "def process_mlp_cv(X, y, loss, cv=5, metrics=None):\n",
    "    kf = KFold(n_splits=cv)\n",
    "    grs = []\n",
    "    for train_index, test_index in kf.split(X):\n",
    "        xTrain, yTrain = X[train_index], y[train_index]\n",
    "        xTest, yTest = X[test_index], y[test_index]\n",
    "        gr = process_mlp(xTrain, yTrain, xTest, yTest, loss, metrics, validation_split=1/4)\n",
    "        grs.append(gr)\n",
    "    if len(grs) > 0:\n",
    "        return np.mean(grs), np.std(grs)\n",
    "    return 0, 0\n",
    "        \n",
    "        \n",
    "    "
   ]
  },
  {
   "cell_type": "markdown",
   "metadata": {},
   "source": [
    "**Observation of the the \"accuracy\" *gain_ratio* **"
   ]
  },
  {
   "cell_type": "markdown",
   "metadata": {},
   "source": [
    "**Cross validation checking mse, mse+offset(poor), and loss_gain**"
   ]
  },
  {
   "cell_type": "code",
   "execution_count": 9,
   "metadata": {},
   "outputs": [],
   "source": [
    "#process_mlp_cv(x, y, loss_mse)"
   ]
  },
  {
   "cell_type": "code",
   "execution_count": 10,
   "metadata": {},
   "outputs": [],
   "source": [
    "#process_mlp_cv(x, y, loss_mse_offset)"
   ]
  },
  {
   "cell_type": "code",
   "execution_count": 11,
   "metadata": {},
   "outputs": [],
   "source": [
    "#process_mlp_cv(x, y, loss_gain_cont)"
   ]
  },
  {
   "cell_type": "code",
   "execution_count": 12,
   "metadata": {
    "scrolled": true
   },
   "outputs": [],
   "source": [
    "#process_mlp_cv(x, y, \"mse\")"
   ]
  },
  {
   "cell_type": "markdown",
   "metadata": {},
   "source": [
    "**Fixed value model**"
   ]
  },
  {
   "cell_type": "code",
   "execution_count": 13,
   "metadata": {},
   "outputs": [
    {
     "data": {
      "text/plain": [
       "36.98036503791809"
      ]
     },
     "execution_count": 13,
     "metadata": {},
     "output_type": "execute_result"
    }
   ],
   "source": [
    "abs(smPredict - yTest).mean()"
   ]
  },
  {
   "cell_type": "code",
   "execution_count": null,
   "metadata": {},
   "outputs": [],
   "source": []
  },
  {
   "cell_type": "code",
   "execution_count": 14,
   "metadata": {},
   "outputs": [],
   "source": [
    "yTrain_ = sm.predict(xTrain)"
   ]
  },
  {
   "cell_type": "code",
   "execution_count": 15,
   "metadata": {},
   "outputs": [
    {
     "data": {
      "text/plain": [
       "31.595435262728138"
      ]
     },
     "execution_count": 15,
     "metadata": {},
     "output_type": "execute_result"
    }
   ],
   "source": [
    "abs(yTrain_ - yTrain).mean()"
   ]
  },
  {
   "cell_type": "code",
   "execution_count": 16,
   "metadata": {},
   "outputs": [],
   "source": [
    "from sklearn.mixture import BayesianGaussianMixture"
   ]
  },
  {
   "cell_type": "code",
   "execution_count": 17,
   "metadata": {},
   "outputs": [
    {
     "data": {
      "text/plain": [
       "array([9, 0, 9, 7, 2, 5, 4, 5, 2, 5, 5, 5, 5, 2, 0, 9, 9, 0, 5, 2, 9, 0,\n",
       "       5, 2, 0, 0, 0, 9, 5, 3, 2, 0, 0, 0, 9, 2, 2, 0, 0, 4, 2, 3, 9, 0,\n",
       "       5, 5, 0, 0, 0, 9, 2, 0, 3, 0, 8, 0, 8, 9, 3, 0])"
      ]
     },
     "execution_count": 17,
     "metadata": {},
     "output_type": "execute_result"
    }
   ],
   "source": [
    "bayes = BayesianGaussianMixture(n_components=10)\n",
    "bayes.fit(xTrain, yTrain)\n",
    "bayes.predict(xTest)"
   ]
  },
  {
   "cell_type": "code",
   "execution_count": 18,
   "metadata": {},
   "outputs": [
    {
     "data": {
      "text/plain": [
       "-41.431479491481355"
      ]
     },
     "execution_count": 18,
     "metadata": {},
     "output_type": "execute_result"
    }
   ],
   "source": [
    "bayes.score(xTest, yTest)"
   ]
  },
  {
   "cell_type": "code",
   "execution_count": null,
   "metadata": {},
   "outputs": [],
   "source": []
  }
 ],
 "metadata": {
  "kernelspec": {
   "display_name": "Python 3",
   "language": "python",
   "name": "python3"
  },
  "language_info": {
   "codemirror_mode": {
    "name": "ipython",
    "version": 3
   },
   "file_extension": ".py",
   "mimetype": "text/x-python",
   "name": "python",
   "nbconvert_exporter": "python",
   "pygments_lexer": "ipython3",
   "version": "3.6.7"
  }
 },
 "nbformat": 4,
 "nbformat_minor": 2
}
