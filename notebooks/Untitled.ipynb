{
 "cells": [
  {
   "cell_type": "code",
   "execution_count": 4,
   "metadata": {},
   "outputs": [
    {
     "name": "stderr",
     "output_type": "stream",
     "text": [
      "/home/franck/anaconda3/envs/thesis/lib/python3.6/site-packages/sklearn/externals/six.py:31: DeprecationWarning: The module is deprecated in version 0.21 and will be removed in version 0.23 since we've dropped support for Python 2.7. Please rely on the official version of six (https://pypi.org/project/six/).\n",
      "  \"(https://pypi.org/project/six/).\", DeprecationWarning)\n"
     ]
    }
   ],
   "source": [
    "import os\n",
    "import sys\n",
    "module_path = os.path.abspath(os.path.join('..'))\n",
    "if module_path not in sys.path:\n",
    "    sys.path.append(module_path)\n",
    "\n",
    "import pandas as pd\n",
    "%matplotlib inline\n",
    "import matplotlib.pyplot as plt\n",
    "import numpy as np\n",
    "from IPython.display import display\n",
    "from sklearn.model_selection import train_test_split\n",
    "from sklearn.metrics import r2_score\n",
    "import seaborn as sb\n",
    "import imblearn\n",
    "\n",
    "\n",
    "df = pd.read_csv(\"../data/t00/data_t00.csv\")\n",
    "df_full = df.copy()\n",
    "drop_cols = [\"worker_id\", \"resp_worker_id\", \"prop_worker_id\", \"updated\", \"status\", \"job_id\", \"status\", \"timestamp\", \"rowid\", \"offer_dss\", \"offer\", \"offer_final\"]\n",
    "df = df[[col for col in df.columns if col not in drop_cols]]\n",
    "df = df.dropna()\n",
    "\n",
    "cols = [col for col in df.columns if col != \"min_offer\"] + [\"min_offer\"]"
   ]
  },
  {
   "cell_type": "code",
   "execution_count": 14,
   "metadata": {},
   "outputs": [],
   "source": [
    "# df_risk = pd.read_csv(\"../data/t00/export/result__risk.csv\")\n",
    "risk_aversion = 0 + (df[\"risk_q2\"] > df[\"risk_q1\"]) + (df[\"risk_q3\"] > df[\"risk_q1\"]) + (df[\"risk_q4\"] > df[\"risk_q3\"]) \n",
    "df[\"risk_aversion\"] = risk_aversion"
   ]
  },
  {
   "cell_type": "code",
   "execution_count": 15,
   "metadata": {},
   "outputs": [
    {
     "data": {
      "text/plain": [
       "cc_beta                          -0.047574\n",
       "cc_criterion                      0.137012\n",
       "cc_false_alarm_avg_click_delay   -0.010808\n",
       "cc_false_alarm_rate               0.031175\n",
       "cc_false_alarms                   0.031175\n",
       "cc_hit_avg_click_delay           -0.142619\n",
       "cc_hit_rate                      -0.181943\n",
       "cc_hits                          -0.181943\n",
       "cc_sensitivity                   -0.191991\n",
       "cpc_expected_value               -0.080356\n",
       "cpc_expected_value_max           -0.105406\n",
       "cpc_expected_value_min           -0.042665\n",
       "cpc_q1                           -0.058369\n",
       "cpc_q10                           0.169796\n",
       "cpc_q2                           -0.164347\n",
       "cpc_q3                           -0.035873\n",
       "cpc_q4                           -0.049450\n",
       "cpc_q5                            0.052344\n",
       "cpc_q6                            0.059273\n",
       "cpc_q7                           -0.146307\n",
       "cpc_q8                            0.042001\n",
       "cpc_q9                           -0.013383\n",
       "cpc_time_spent                   -0.090321\n",
       "exp_ultimatum_game_experience     0.043236\n",
       "min_offer                         1.000000\n",
       "prop_time_spent                  -0.098203\n",
       "ras_assertiveness                -0.076201\n",
       "ras_q1                           -0.032435\n",
       "ras_q10                           0.101442\n",
       "ras_q11                           0.048983\n",
       "                                    ...   \n",
       "ras_q18                           0.038558\n",
       "ras_q19                           0.171389\n",
       "ras_q2                            0.000293\n",
       "ras_q20                          -0.092199\n",
       "ras_q21                          -0.105735\n",
       "ras_q22                          -0.033095\n",
       "ras_q23                           0.007380\n",
       "ras_q24                           0.060530\n",
       "ras_q25                          -0.093308\n",
       "ras_q26                           0.034319\n",
       "ras_q27                           0.011032\n",
       "ras_q28                           0.046972\n",
       "ras_q29                          -0.025717\n",
       "ras_q3                           -0.067052\n",
       "ras_q30                           0.078538\n",
       "ras_q4                            0.070844\n",
       "ras_q5                            0.039695\n",
       "ras_q6                           -0.140683\n",
       "ras_q7                            0.001780\n",
       "ras_q8                           -0.060651\n",
       "ras_q9                            0.092209\n",
       "ras_time_spent                    0.056249\n",
       "resp_time_spent                   0.063173\n",
       "risk_expected_value               0.006000\n",
       "risk_q1                          -0.089078\n",
       "risk_q2                          -0.013490\n",
       "risk_q3                           0.019463\n",
       "risk_q4                           0.002450\n",
       "risk_time_spent                  -0.156566\n",
       "risk_aversion                     0.025861\n",
       "Name: min_offer, Length: 66, dtype: float64"
      ]
     },
     "execution_count": 15,
     "metadata": {},
     "output_type": "execute_result"
    }
   ],
   "source": [
    "df.corr()[\"min_offer\"]"
   ]
  },
  {
   "cell_type": "code",
   "execution_count": 28,
   "metadata": {},
   "outputs": [
    {
     "data": {
      "text/html": [
       "<div>\n",
       "<style scoped>\n",
       "    .dataframe tbody tr th:only-of-type {\n",
       "        vertical-align: middle;\n",
       "    }\n",
       "\n",
       "    .dataframe tbody tr th {\n",
       "        vertical-align: top;\n",
       "    }\n",
       "\n",
       "    .dataframe thead th {\n",
       "        text-align: right;\n",
       "    }\n",
       "</style>\n",
       "<table border=\"1\" class=\"dataframe\">\n",
       "  <thead>\n",
       "    <tr style=\"text-align: right;\">\n",
       "      <th></th>\n",
       "      <th>ras_low</th>\n",
       "      <th>ras_high</th>\n",
       "      <th>min_offer</th>\n",
       "    </tr>\n",
       "  </thead>\n",
       "  <tbody>\n",
       "    <tr>\n",
       "      <th>ras_low</th>\n",
       "      <td>1.000000</td>\n",
       "      <td>0.507429</td>\n",
       "      <td>-0.032480</td>\n",
       "    </tr>\n",
       "    <tr>\n",
       "      <th>ras_high</th>\n",
       "      <td>0.507429</td>\n",
       "      <td>1.000000</td>\n",
       "      <td>-0.019264</td>\n",
       "    </tr>\n",
       "    <tr>\n",
       "      <th>min_offer</th>\n",
       "      <td>-0.032480</td>\n",
       "      <td>-0.019264</td>\n",
       "      <td>1.000000</td>\n",
       "    </tr>\n",
       "  </tbody>\n",
       "</table>\n",
       "</div>"
      ],
      "text/plain": [
       "            ras_low  ras_high  min_offer\n",
       "ras_low    1.000000  0.507429  -0.032480\n",
       "ras_high   0.507429  1.000000  -0.019264\n",
       "min_offer -0.032480 -0.019264   1.000000"
      ]
     },
     "execution_count": 28,
     "metadata": {},
     "output_type": "execute_result"
    }
   ],
   "source": [
    "ras_cols = [f\"ras_q{i+1}\" for i in range(30)]\n",
    "ras_low = (df[ras_cols] == -3).sum(axis=1)\n",
    "ras_high = (df[ras_cols] == 3).sum(axis=1)\n",
    "# df[[\"risk_aversion\", \"min_offer\"]].corr()\n",
    "df[\"ras_low\"] = ras_low\n",
    "df[\"ras_high\"] = ras_high\n",
    "\n",
    "df[[\"ras_low\", \"ras_high\", \"min_offer\"]].corr()"
   ]
  },
  {
   "cell_type": "code",
   "execution_count": 33,
   "metadata": {},
   "outputs": [
    {
     "data": {
      "text/html": [
       "<div>\n",
       "<style scoped>\n",
       "    .dataframe tbody tr th:only-of-type {\n",
       "        vertical-align: middle;\n",
       "    }\n",
       "\n",
       "    .dataframe tbody tr th {\n",
       "        vertical-align: top;\n",
       "    }\n",
       "\n",
       "    .dataframe thead th {\n",
       "        text-align: right;\n",
       "    }\n",
       "</style>\n",
       "<table border=\"1\" class=\"dataframe\">\n",
       "  <thead>\n",
       "    <tr style=\"text-align: right;\">\n",
       "      <th></th>\n",
       "      <th>cpc_left</th>\n",
       "      <th>cpc_right</th>\n",
       "      <th>min_offer</th>\n",
       "    </tr>\n",
       "  </thead>\n",
       "  <tbody>\n",
       "    <tr>\n",
       "      <th>cpc_left</th>\n",
       "      <td>NaN</td>\n",
       "      <td>NaN</td>\n",
       "      <td>NaN</td>\n",
       "    </tr>\n",
       "    <tr>\n",
       "      <th>cpc_right</th>\n",
       "      <td>NaN</td>\n",
       "      <td>NaN</td>\n",
       "      <td>NaN</td>\n",
       "    </tr>\n",
       "    <tr>\n",
       "      <th>min_offer</th>\n",
       "      <td>NaN</td>\n",
       "      <td>NaN</td>\n",
       "      <td>1.0</td>\n",
       "    </tr>\n",
       "  </tbody>\n",
       "</table>\n",
       "</div>"
      ],
      "text/plain": [
       "           cpc_left  cpc_right  min_offer\n",
       "cpc_left        NaN        NaN        NaN\n",
       "cpc_right       NaN        NaN        NaN\n",
       "min_offer       NaN        NaN        1.0"
      ]
     },
     "execution_count": 33,
     "metadata": {},
     "output_type": "execute_result"
    }
   ],
   "source": [
    "cpc_cols = [f\"cpc_q{i+1}\" for i in range(10)]\n",
    "cpc_left = (df[cpc_cols]==df[cpc_cols].min(axis=1)).sum(axis=1)\n",
    "cpc_right = (df[cpc_cols]==df[cpc_cols].max(axis=1)).sum(axis=1)\n",
    "df[\"cpc_left\"] = cpc_left\n",
    "df[\"cpc_right\"] = cpc_right\n",
    "\n",
    "df[[\"cpc_left\", \"cpc_right\", \"min_offer\"]].corr()"
   ]
  },
  {
   "cell_type": "code",
   "execution_count": 500,
   "metadata": {},
   "outputs": [
    {
     "name": "stderr",
     "output_type": "stream",
     "text": [
      "/home/franck/anaconda3/envs/thesis/lib/python3.6/site-packages/sklearn/model_selection/_split.py:657: Warning: The least populated class in y has only 1 members, which is too few. The minimum number of members in any class cannot be less than n_splits=2.\n",
      "  % (min_groups, self.n_splits)), Warning)\n"
     ]
    },
    {
     "name": "stdout",
     "output_type": "stream",
     "text": [
      "[50]\n",
      "[50]\n"
     ]
    },
    {
     "data": {
      "text/plain": [
       "0.184206827877811"
      ]
     },
     "execution_count": 500,
     "metadata": {},
     "output_type": "execute_result"
    }
   ],
   "source": [
    "from sklearn.decomposition import PCA\n",
    "from sklearn.model_selection import cross_val_score\n",
    "from sklearn.ensemble import RandomForestClassifier\n",
    "from sklearn.linear_model import LogisticRegression, PassiveAggressiveClassifier, LinearRegression\n",
    "from sklearn.neural_network import MLPClassifier\n",
    "from sklearn.neighbors import KNeighborsClassifier\n",
    "from core.utils.preprocessing import df_to_xydf\n",
    "from core.models.metrics import avg_loss_ratio\n",
    "\n",
    "def my_scoring(model, X, y):\n",
    "    yPred = model.predict(X)\n",
    "    print(np.unique(yPred))\n",
    "    return avg_loss_ratio(y, yPred)\n",
    "\n",
    "df_features, df_target = df_to_xydf(df)\n",
    "y = df_target.values.ravel()\n",
    "clf = PCA(4)\n",
    "pca = clf.fit_transform(df_features)\n",
    "model = RandomForestClassifier(50)\n",
    "model = MLPClassifier(activation=\"logistic\", solver=\"sgd\", max_iter=1000)\n",
    "# model = LogisticRegression(solver=\"liblinear\", multi_class=\"auto\")\n",
    "# model = KNeighborsClassifier(26)\n",
    "# model.fit(pca, df_target.values.ravel())\n",
    "# model.predict(pca) == df_target.values.ravel()\n",
    "cross_val_score(model, pca, y, scoring=my_scoring, cv=2).mean()"
   ]
  },
  {
   "cell_type": "code",
   "execution_count": 541,
   "metadata": {},
   "outputs": [
    {
     "name": "stdout",
     "output_type": "stream",
     "text": [
      "[ 40  50  40  50  50  50  40  45  60 -35 100 -50  40  10   5  40 -50  40\n",
      "   0  40  40  45  50  50 -10  50  50 -50  45  25  50  40  40  20  35  50\n",
      " -50  40  45  50 -50  50   5  45  50  50  50  50   5   5  50  40   5  50\n",
      " -40  50  50  50  30  50  35  30  50  50  45  40   0  20 -50 100  40  40\n",
      " -20  35  50   5  50   5 -40  25  50  50  50  40  50 100   5  55  45  35\n",
      "  50  45  30 -50  50  15 -50   5  50  50  50  50  40]\n"
     ]
    },
    {
     "name": "stderr",
     "output_type": "stream",
     "text": [
      "/home/franck/anaconda3/envs/thesis/lib/python3.6/site-packages/sklearn/neighbors/lof.py:236: FutureWarning: default contamination parameter 0.1 will change in version 0.22 to \"auto\". This will change the predict method behavior.\n",
      "  FutureWarning)\n"
     ]
    }
   ],
   "source": [
    "from sklearn.svm import OneClassSVM\n",
    "from sklearn.neighbors import LocalOutlierFactor\n",
    "\n",
    "model = LocalOutlierFactor(novelty=True, leaf_size=10, algorithm=\"brute\")\n",
    "split = 60\n",
    "mask = y[:split] < 50\n",
    "X_all = df_features.values\n",
    "X = X_all[:split][mask]\n",
    "model.fit(X)\n",
    "yPred = model.predict(X_all)\n",
    "print(yPred*y)"
   ]
  },
  {
   "cell_type": "code",
   "execution_count": 546,
   "metadata": {},
   "outputs": [
    {
     "data": {
      "text/html": [
       "<div>\n",
       "<style scoped>\n",
       "    .dataframe tbody tr th:only-of-type {\n",
       "        vertical-align: middle;\n",
       "    }\n",
       "\n",
       "    .dataframe tbody tr th {\n",
       "        vertical-align: top;\n",
       "    }\n",
       "\n",
       "    .dataframe thead th {\n",
       "        text-align: right;\n",
       "    }\n",
       "</style>\n",
       "<table border=\"1\" class=\"dataframe\">\n",
       "  <thead>\n",
       "    <tr style=\"text-align: right;\">\n",
       "      <th></th>\n",
       "      <th>avg_loss</th>\n",
       "      <th>avg_loss_ratio</th>\n",
       "      <th>avg_win_loss</th>\n",
       "      <th>invariance</th>\n",
       "      <th>loss_sum</th>\n",
       "      <th>mse</th>\n",
       "      <th>rejection_ratio</th>\n",
       "    </tr>\n",
       "  </thead>\n",
       "  <tbody>\n",
       "    <tr>\n",
       "      <th>0</th>\n",
       "      <td>13.095238</td>\n",
       "      <td>0.241578</td>\n",
       "      <td>12.368421</td>\n",
       "      <td>1.0</td>\n",
       "      <td>275.0</td>\n",
       "      <td>417.857143</td>\n",
       "      <td>0.095238</td>\n",
       "    </tr>\n",
       "    <tr>\n",
       "      <th>1</th>\n",
       "      <td>7.380952</td>\n",
       "      <td>0.102680</td>\n",
       "      <td>7.380952</td>\n",
       "      <td>1.0</td>\n",
       "      <td>155.0</td>\n",
       "      <td>177.380952</td>\n",
       "      <td>0.000000</td>\n",
       "    </tr>\n",
       "    <tr>\n",
       "      <th>2</th>\n",
       "      <td>12.380952</td>\n",
       "      <td>0.148627</td>\n",
       "      <td>12.380952</td>\n",
       "      <td>1.0</td>\n",
       "      <td>260.0</td>\n",
       "      <td>445.238095</td>\n",
       "      <td>0.000000</td>\n",
       "    </tr>\n",
       "    <tr>\n",
       "      <th>3</th>\n",
       "      <td>14.250000</td>\n",
       "      <td>0.225952</td>\n",
       "      <td>15.000000</td>\n",
       "      <td>1.0</td>\n",
       "      <td>285.0</td>\n",
       "      <td>481.250000</td>\n",
       "      <td>0.050000</td>\n",
       "    </tr>\n",
       "    <tr>\n",
       "      <th>4</th>\n",
       "      <td>11.750000</td>\n",
       "      <td>0.219538</td>\n",
       "      <td>10.555556</td>\n",
       "      <td>1.0</td>\n",
       "      <td>235.0</td>\n",
       "      <td>408.750000</td>\n",
       "      <td>0.100000</td>\n",
       "    </tr>\n",
       "  </tbody>\n",
       "</table>\n",
       "</div>"
      ],
      "text/plain": [
       "    avg_loss  avg_loss_ratio  avg_win_loss  invariance  loss_sum         mse  \\\n",
       "0  13.095238        0.241578     12.368421         1.0     275.0  417.857143   \n",
       "1   7.380952        0.102680      7.380952         1.0     155.0  177.380952   \n",
       "2  12.380952        0.148627     12.380952         1.0     260.0  445.238095   \n",
       "3  14.250000        0.225952     15.000000         1.0     285.0  481.250000   \n",
       "4  11.750000        0.219538     10.555556         1.0     235.0  408.750000   \n",
       "\n",
       "   rejection_ratio  \n",
       "0         0.095238  \n",
       "1         0.000000  \n",
       "2         0.000000  \n",
       "3         0.050000  \n",
       "4         0.100000  "
      ]
     },
     "execution_count": 546,
     "metadata": {},
     "output_type": "execute_result"
    }
   ],
   "source": [
    "from core.models import ClusterExtModel, ClusterModel\n",
    "from core.utils.selection import ffs, process_benchmark_cv\n",
    "\n",
    "model = ClusterExtModel()\n",
    "\n",
    "# ffs(model, df, early_stop=0)\n",
    "process_benchmark_cv(model, X_all, y)"
   ]
  },
  {
   "cell_type": "code",
   "execution_count": 557,
   "metadata": {},
   "outputs": [
    {
     "data": {
      "text/plain": [
       "matrix([[0., 0., 0., ..., 0., 1., 1.],\n",
       "        [0., 0., 0., ..., 0., 1., 1.],\n",
       "        [0., 0., 0., ..., 0., 1., 1.],\n",
       "        ...,\n",
       "        [0., 0., 0., ..., 0., 1., 1.],\n",
       "        [0., 1., 0., ..., 0., 1., 1.],\n",
       "        [0., 0., 0., ..., 0., 1., 1.]])"
      ]
     },
     "execution_count": 557,
     "metadata": {},
     "output_type": "execute_result"
    }
   ],
   "source": [
    "from sklearn.preprocessing import LabelBinarizer, OrdinalEncoder, PolynomialFeatures, OneHotEncoder\n",
    "\n",
    "\n",
    "x_ext = (OneHotEncoder(categories=\"auto\").fit_transform(X_all)).todense()\n",
    "x_ext"
   ]
  },
  {
   "cell_type": "code",
   "execution_count": 581,
   "metadata": {},
   "outputs": [
    {
     "name": "stderr",
     "output_type": "stream",
     "text": [
      "/home/franck/anaconda3/envs/thesis/lib/python3.6/site-packages/sklearn/linear_model/logistic.py:432: FutureWarning: Default solver will be changed to 'lbfgs' in 0.22. Specify a solver to silence this warning.\n",
      "  FutureWarning)\n",
      "/home/franck/anaconda3/envs/thesis/lib/python3.6/site-packages/sklearn/linear_model/logistic.py:469: FutureWarning: Default multi_class will be changed to 'auto' in 0.22. Specify the multi_class option to silence this warning.\n",
      "  \"this warning.\", FutureWarning)\n",
      "/home/franck/anaconda3/envs/thesis/lib/python3.6/site-packages/sklearn/linear_model/logistic.py:432: FutureWarning: Default solver will be changed to 'lbfgs' in 0.22. Specify a solver to silence this warning.\n",
      "  FutureWarning)\n",
      "/home/franck/anaconda3/envs/thesis/lib/python3.6/site-packages/sklearn/linear_model/logistic.py:469: FutureWarning: Default multi_class will be changed to 'auto' in 0.22. Specify the multi_class option to silence this warning.\n",
      "  \"this warning.\", FutureWarning)\n",
      "/home/franck/anaconda3/envs/thesis/lib/python3.6/site-packages/sklearn/linear_model/logistic.py:432: FutureWarning: Default solver will be changed to 'lbfgs' in 0.22. Specify a solver to silence this warning.\n",
      "  FutureWarning)\n",
      "/home/franck/anaconda3/envs/thesis/lib/python3.6/site-packages/sklearn/linear_model/logistic.py:469: FutureWarning: Default multi_class will be changed to 'auto' in 0.22. Specify the multi_class option to silence this warning.\n",
      "  \"this warning.\", FutureWarning)\n",
      "/home/franck/anaconda3/envs/thesis/lib/python3.6/site-packages/sklearn/linear_model/logistic.py:432: FutureWarning: Default solver will be changed to 'lbfgs' in 0.22. Specify a solver to silence this warning.\n",
      "  FutureWarning)\n",
      "/home/franck/anaconda3/envs/thesis/lib/python3.6/site-packages/sklearn/linear_model/logistic.py:469: FutureWarning: Default multi_class will be changed to 'auto' in 0.22. Specify the multi_class option to silence this warning.\n",
      "  \"this warning.\", FutureWarning)\n",
      "/home/franck/anaconda3/envs/thesis/lib/python3.6/site-packages/sklearn/linear_model/logistic.py:432: FutureWarning: Default solver will be changed to 'lbfgs' in 0.22. Specify a solver to silence this warning.\n",
      "  FutureWarning)\n",
      "/home/franck/anaconda3/envs/thesis/lib/python3.6/site-packages/sklearn/linear_model/logistic.py:469: FutureWarning: Default multi_class will be changed to 'auto' in 0.22. Specify the multi_class option to silence this warning.\n",
      "  \"this warning.\", FutureWarning)\n"
     ]
    },
    {
     "data": {
      "text/html": [
       "<div>\n",
       "<style scoped>\n",
       "    .dataframe tbody tr th:only-of-type {\n",
       "        vertical-align: middle;\n",
       "    }\n",
       "\n",
       "    .dataframe tbody tr th {\n",
       "        vertical-align: top;\n",
       "    }\n",
       "\n",
       "    .dataframe thead th {\n",
       "        text-align: right;\n",
       "    }\n",
       "</style>\n",
       "<table border=\"1\" class=\"dataframe\">\n",
       "  <thead>\n",
       "    <tr style=\"text-align: right;\">\n",
       "      <th></th>\n",
       "      <th>avg_loss</th>\n",
       "      <th>avg_loss_ratio</th>\n",
       "      <th>avg_win_loss</th>\n",
       "      <th>invariance</th>\n",
       "      <th>loss_sum</th>\n",
       "      <th>mse</th>\n",
       "      <th>rejection_ratio</th>\n",
       "    </tr>\n",
       "  </thead>\n",
       "  <tbody>\n",
       "    <tr>\n",
       "      <th>0</th>\n",
       "      <td>11.190476</td>\n",
       "      <td>0.218576</td>\n",
       "      <td>10.263158</td>\n",
       "      <td>0.335390</td>\n",
       "      <td>235</td>\n",
       "      <td>298.809524</td>\n",
       "      <td>0.095238</td>\n",
       "    </tr>\n",
       "    <tr>\n",
       "      <th>1</th>\n",
       "      <td>11.666667</td>\n",
       "      <td>0.185652</td>\n",
       "      <td>7.368421</td>\n",
       "      <td>0.348355</td>\n",
       "      <td>245</td>\n",
       "      <td>434.523810</td>\n",
       "      <td>0.095238</td>\n",
       "    </tr>\n",
       "    <tr>\n",
       "      <th>2</th>\n",
       "      <td>19.523810</td>\n",
       "      <td>0.291485</td>\n",
       "      <td>14.444444</td>\n",
       "      <td>0.348355</td>\n",
       "      <td>410</td>\n",
       "      <td>802.380952</td>\n",
       "      <td>0.142857</td>\n",
       "    </tr>\n",
       "    <tr>\n",
       "      <th>3</th>\n",
       "      <td>18.750000</td>\n",
       "      <td>0.319286</td>\n",
       "      <td>16.176471</td>\n",
       "      <td>0.239941</td>\n",
       "      <td>375</td>\n",
       "      <td>711.250000</td>\n",
       "      <td>0.150000</td>\n",
       "    </tr>\n",
       "    <tr>\n",
       "      <th>4</th>\n",
       "      <td>21.250000</td>\n",
       "      <td>0.411205</td>\n",
       "      <td>12.857143</td>\n",
       "      <td>0.238605</td>\n",
       "      <td>425</td>\n",
       "      <td>903.750000</td>\n",
       "      <td>0.300000</td>\n",
       "    </tr>\n",
       "  </tbody>\n",
       "</table>\n",
       "</div>"
      ],
      "text/plain": [
       "    avg_loss  avg_loss_ratio  avg_win_loss  invariance  loss_sum         mse  \\\n",
       "0  11.190476        0.218576     10.263158    0.335390       235  298.809524   \n",
       "1  11.666667        0.185652      7.368421    0.348355       245  434.523810   \n",
       "2  19.523810        0.291485     14.444444    0.348355       410  802.380952   \n",
       "3  18.750000        0.319286     16.176471    0.239941       375  711.250000   \n",
       "4  21.250000        0.411205     12.857143    0.238605       425  903.750000   \n",
       "\n",
       "   rejection_ratio  \n",
       "0         0.095238  \n",
       "1         0.095238  \n",
       "2         0.142857  \n",
       "3         0.150000  \n",
       "4         0.300000  "
      ]
     },
     "execution_count": 581,
     "metadata": {},
     "output_type": "execute_result"
    }
   ],
   "source": [
    "from sklearn.model_selection import cross_val_score\n",
    "from sklearn.ensemble import RandomForestClassifier, BaggingClassifier\n",
    "from sklearn.linear_model import LogisticRegression\n",
    "\n",
    "model = LogisticRegression()\n",
    "process_benchmark_cv(model, x_ext, y)"
   ]
  },
  {
   "cell_type": "code",
   "execution_count": 582,
   "metadata": {},
   "outputs": [
    {
     "data": {
      "text/plain": [
       "20.0"
      ]
     },
     "execution_count": 582,
     "metadata": {},
     "output_type": "execute_result"
    }
   ],
   "source": [
    ".10 * 200"
   ]
  }
 ],
 "metadata": {
  "kernelspec": {
   "display_name": "Python 3",
   "language": "python",
   "name": "python3"
  },
  "language_info": {
   "codemirror_mode": {
    "name": "ipython",
    "version": 3
   },
   "file_extension": ".py",
   "mimetype": "text/x-python",
   "name": "python",
   "nbconvert_exporter": "python",
   "pygments_lexer": "ipython3",
   "version": "3.6.8"
  }
 },
 "nbformat": 4,
 "nbformat_minor": 2
}
