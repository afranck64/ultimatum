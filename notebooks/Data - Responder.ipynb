{
 "cells": [
  {
   "cell_type": "markdown",
   "metadata": {},
   "source": [
    "# Treatment T11"
   ]
  },
  {
   "cell_type": "code",
   "execution_count": 1,
   "metadata": {},
   "outputs": [
    {
     "name": "stderr",
     "output_type": "stream",
     "text": [
      "/home/franck/anaconda3/envs/thesis/lib/python3.6/site-packages/sklearn/externals/six.py:31: DeprecationWarning: The module is deprecated in version 0.21 and will be removed in version 0.23 since we've dropped support for Python 2.7. Please rely on the official version of six (https://pypi.org/project/six/).\n",
      "  \"(https://pypi.org/project/six/).\", DeprecationWarning)\n"
     ]
    }
   ],
   "source": [
    "import os\n",
    "import sys\n",
    "module_path = os.path.abspath(os.path.join('..'))\n",
    "if module_path not in sys.path:\n",
    "    sys.path.append(module_path)\n",
    "\n",
    "import pandas as pd\n",
    "%matplotlib inline\n",
    "import matplotlib.pyplot as plt\n",
    "import numpy as np\n",
    "from IPython.display import display\n",
    "from sklearn.model_selection import train_test_split\n",
    "from sklearn.metrics import r2_score\n",
    "import seaborn as sns\n",
    "import imblearn\n",
    "\n",
    "\n",
    "TREATMENT = \"txx.resp\"\n",
    "\n",
    "export_folder = f\"../data/output/diagrams/{TREATMENT}\"\n",
    "os.makedirs(export_folder, exist_ok=True)\n",
    "\n",
    "dfs = {}\n",
    "dfs_full = {}\n",
    "\n",
    "result_df = pd.DataFrame(index=range(105))\n",
    "stats = pd.DataFrame(index=[\"min_offer\", \"min_offer_final\"])\n",
    "\n",
    "TREATMENTS = {\"t00\", \"t10a\", \"t11a\", \"t12\", \"t13\", \"t20\"}\n",
    "\n",
    "for treatment in TREATMENTS:\n",
    "\n",
    "    # Read and sanitize the data\n",
    "    df = pd.read_csv(f\"../data/{treatment}/export/result__{treatment}_resp.csv\")\n",
    "    df_full = df.copy()\n",
    "    # drop_cols = [\"worker_id\", \"resp_worker_id\", \"prop_worker_id\", \"updated\", \"status\", \"job_id\", \"status\", \"timestamp\", \"rowid\", \"offer_dss\", \"offer\", \"offer_final\", \"completion_code\"]\n",
    "    drop_cols = [\"worker_id\", \"resp_worker_id\", \"prop_worker_id\", \"updated\", \"status\", \"job_id\", \"status\", \"timestamp\", \"rowid\", \"offer_dss\", \"offer\", \"offer_final\", \"completion_code\", \"prop_time_spent\"]\n",
    "    df = df[[col for col in df.columns if col not in drop_cols]]\n",
    "    if \"min_offer_final\" not in df_full:\n",
    "        df_full[\"min_offer_final\"] = df_full[\"min_offer\"]\n",
    "    \n",
    "    dfs[treatment] = df\n",
    "    dfs_full[treatment] = df_full\n",
    "    result_df[treatment+\".\"+\"min_offer\"] = df_full[\"min_offer\"]\n",
    "    result_df[treatment+\".\"+\"min_offer_final\"] = df_full[\"min_offer_final\"]\n",
    "    stats[treatment] = [df_full[\"min_offer\"].mean(), df_full[\"min_offer_final\"].mean()]\n",
    "    \n",
    "\n",
    "cols = [col for col in df.columns if col != \"min_offer\"] + [\"min_offer\"]\n"
   ]
  },
  {
   "cell_type": "code",
   "execution_count": 2,
   "metadata": {},
   "outputs": [
    {
     "data": {
      "text/html": [
       "<div>\n",
       "<style scoped>\n",
       "    .dataframe tbody tr th:only-of-type {\n",
       "        vertical-align: middle;\n",
       "    }\n",
       "\n",
       "    .dataframe tbody tr th {\n",
       "        vertical-align: top;\n",
       "    }\n",
       "\n",
       "    .dataframe thead th {\n",
       "        text-align: right;\n",
       "    }\n",
       "</style>\n",
       "<table border=\"1\" class=\"dataframe\">\n",
       "  <thead>\n",
       "    <tr style=\"text-align: right;\">\n",
       "      <th></th>\n",
       "      <th>t13.min_offer</th>\n",
       "      <th>t13.min_offer_final</th>\n",
       "      <th>t00.min_offer</th>\n",
       "      <th>t00.min_offer_final</th>\n",
       "      <th>t11a.min_offer</th>\n",
       "      <th>t11a.min_offer_final</th>\n",
       "      <th>t20.min_offer</th>\n",
       "      <th>t20.min_offer_final</th>\n",
       "      <th>t12.min_offer</th>\n",
       "      <th>t12.min_offer_final</th>\n",
       "      <th>t10a.min_offer</th>\n",
       "      <th>t10a.min_offer_final</th>\n",
       "    </tr>\n",
       "  </thead>\n",
       "  <tbody>\n",
       "    <tr>\n",
       "      <th>count</th>\n",
       "      <td>105.000000</td>\n",
       "      <td>105.000000</td>\n",
       "      <td>105.000000</td>\n",
       "      <td>105.000000</td>\n",
       "      <td>105.000000</td>\n",
       "      <td>105.000000</td>\n",
       "      <td>105.000000</td>\n",
       "      <td>105.000000</td>\n",
       "      <td>105.000000</td>\n",
       "      <td>105.000000</td>\n",
       "      <td>105.000000</td>\n",
       "      <td>105.000000</td>\n",
       "    </tr>\n",
       "    <tr>\n",
       "      <th>mean</th>\n",
       "      <td>38.904762</td>\n",
       "      <td>41.095238</td>\n",
       "      <td>40.333333</td>\n",
       "      <td>40.333333</td>\n",
       "      <td>39.952381</td>\n",
       "      <td>39.952381</td>\n",
       "      <td>41.333333</td>\n",
       "      <td>41.333333</td>\n",
       "      <td>41.380952</td>\n",
       "      <td>43.809524</td>\n",
       "      <td>41.285714</td>\n",
       "      <td>41.285714</td>\n",
       "    </tr>\n",
       "    <tr>\n",
       "      <th>std</th>\n",
       "      <td>15.222405</td>\n",
       "      <td>16.495643</td>\n",
       "      <td>18.775837</td>\n",
       "      <td>18.775837</td>\n",
       "      <td>21.241460</td>\n",
       "      <td>21.241460</td>\n",
       "      <td>22.884184</td>\n",
       "      <td>22.884184</td>\n",
       "      <td>20.887695</td>\n",
       "      <td>21.128315</td>\n",
       "      <td>19.673153</td>\n",
       "      <td>19.673153</td>\n",
       "    </tr>\n",
       "    <tr>\n",
       "      <th>min</th>\n",
       "      <td>0.000000</td>\n",
       "      <td>0.000000</td>\n",
       "      <td>0.000000</td>\n",
       "      <td>0.000000</td>\n",
       "      <td>0.000000</td>\n",
       "      <td>0.000000</td>\n",
       "      <td>0.000000</td>\n",
       "      <td>0.000000</td>\n",
       "      <td>0.000000</td>\n",
       "      <td>0.000000</td>\n",
       "      <td>0.000000</td>\n",
       "      <td>0.000000</td>\n",
       "    </tr>\n",
       "    <tr>\n",
       "      <th>25%</th>\n",
       "      <td>30.000000</td>\n",
       "      <td>30.000000</td>\n",
       "      <td>35.000000</td>\n",
       "      <td>35.000000</td>\n",
       "      <td>25.000000</td>\n",
       "      <td>25.000000</td>\n",
       "      <td>25.000000</td>\n",
       "      <td>25.000000</td>\n",
       "      <td>30.000000</td>\n",
       "      <td>30.000000</td>\n",
       "      <td>30.000000</td>\n",
       "      <td>30.000000</td>\n",
       "    </tr>\n",
       "    <tr>\n",
       "      <th>50%</th>\n",
       "      <td>45.000000</td>\n",
       "      <td>45.000000</td>\n",
       "      <td>45.000000</td>\n",
       "      <td>45.000000</td>\n",
       "      <td>40.000000</td>\n",
       "      <td>40.000000</td>\n",
       "      <td>45.000000</td>\n",
       "      <td>45.000000</td>\n",
       "      <td>40.000000</td>\n",
       "      <td>40.000000</td>\n",
       "      <td>40.000000</td>\n",
       "      <td>40.000000</td>\n",
       "    </tr>\n",
       "    <tr>\n",
       "      <th>75%</th>\n",
       "      <td>50.000000</td>\n",
       "      <td>50.000000</td>\n",
       "      <td>50.000000</td>\n",
       "      <td>50.000000</td>\n",
       "      <td>50.000000</td>\n",
       "      <td>50.000000</td>\n",
       "      <td>50.000000</td>\n",
       "      <td>50.000000</td>\n",
       "      <td>50.000000</td>\n",
       "      <td>50.000000</td>\n",
       "      <td>50.000000</td>\n",
       "      <td>50.000000</td>\n",
       "    </tr>\n",
       "    <tr>\n",
       "      <th>max</th>\n",
       "      <td>85.000000</td>\n",
       "      <td>85.000000</td>\n",
       "      <td>100.000000</td>\n",
       "      <td>100.000000</td>\n",
       "      <td>100.000000</td>\n",
       "      <td>100.000000</td>\n",
       "      <td>100.000000</td>\n",
       "      <td>100.000000</td>\n",
       "      <td>100.000000</td>\n",
       "      <td>100.000000</td>\n",
       "      <td>100.000000</td>\n",
       "      <td>100.000000</td>\n",
       "    </tr>\n",
       "  </tbody>\n",
       "</table>\n",
       "</div>"
      ],
      "text/plain": [
       "       t13.min_offer  t13.min_offer_final  t00.min_offer  t00.min_offer_final  \\\n",
       "count     105.000000           105.000000     105.000000           105.000000   \n",
       "mean       38.904762            41.095238      40.333333            40.333333   \n",
       "std        15.222405            16.495643      18.775837            18.775837   \n",
       "min         0.000000             0.000000       0.000000             0.000000   \n",
       "25%        30.000000            30.000000      35.000000            35.000000   \n",
       "50%        45.000000            45.000000      45.000000            45.000000   \n",
       "75%        50.000000            50.000000      50.000000            50.000000   \n",
       "max        85.000000            85.000000     100.000000           100.000000   \n",
       "\n",
       "       t11a.min_offer  t11a.min_offer_final  t20.min_offer  \\\n",
       "count      105.000000            105.000000     105.000000   \n",
       "mean        39.952381             39.952381      41.333333   \n",
       "std         21.241460             21.241460      22.884184   \n",
       "min          0.000000              0.000000       0.000000   \n",
       "25%         25.000000             25.000000      25.000000   \n",
       "50%         40.000000             40.000000      45.000000   \n",
       "75%         50.000000             50.000000      50.000000   \n",
       "max        100.000000            100.000000     100.000000   \n",
       "\n",
       "       t20.min_offer_final  t12.min_offer  t12.min_offer_final  \\\n",
       "count           105.000000     105.000000           105.000000   \n",
       "mean             41.333333      41.380952            43.809524   \n",
       "std              22.884184      20.887695            21.128315   \n",
       "min               0.000000       0.000000             0.000000   \n",
       "25%              25.000000      30.000000            30.000000   \n",
       "50%              45.000000      40.000000            40.000000   \n",
       "75%              50.000000      50.000000            50.000000   \n",
       "max             100.000000     100.000000           100.000000   \n",
       "\n",
       "       t10a.min_offer  t10a.min_offer_final  \n",
       "count      105.000000            105.000000  \n",
       "mean        41.285714             41.285714  \n",
       "std         19.673153             19.673153  \n",
       "min          0.000000              0.000000  \n",
       "25%         30.000000             30.000000  \n",
       "50%         40.000000             40.000000  \n",
       "75%         50.000000             50.000000  \n",
       "max        100.000000            100.000000  "
      ]
     },
     "execution_count": 2,
     "metadata": {},
     "output_type": "execute_result"
    }
   ],
   "source": [
    "result_df.describe()"
   ]
  },
  {
   "cell_type": "code",
   "execution_count": 3,
   "metadata": {},
   "outputs": [
    {
     "data": {
      "text/plain": [
       "<matplotlib.axes._subplots.AxesSubplot at 0x7fc97c4bacf8>"
      ]
     },
     "execution_count": 3,
     "metadata": {},
     "output_type": "execute_result"
    },
    {
     "data": {
      "image/png": "[encoded data removed]",
      "text/plain": [
       "<Figure size 432x288 with 1 Axes>"
      ]
     },
     "metadata": {
      "needs_background": "light"
     },
     "output_type": "display_data"
    }
   ],
   "source": [
    "#sns.set()\n",
    "stats.T.plot.bar()"
   ]
  },
  {
   "cell_type": "code",
   "execution_count": 4,
   "metadata": {},
   "outputs": [
    {
     "data": {
      "text/plain": [
       "<matplotlib.axes._subplots.AxesSubplot at 0x7fc909e42048>"
      ]
     },
     "execution_count": 4,
     "metadata": {},
     "output_type": "execute_result"
    },
    {
     "data": {
      "image/png": "[encoded data removed]",
      "text/plain": [
       "<Figure size 432x288 with 1 Axes>"
      ]
     },
     "metadata": {
      "needs_background": "light"
     },
     "output_type": "display_data"
    }
   ],
   "source": [
    "import seaborn as sns\n",
    "\n",
    "result_df.columns\n",
    "\n",
    "sns.barplot(data=result_df)"
   ]
  },
  {
   "cell_type": "markdown",
   "metadata": {},
   "source": [
    "**Correlation to the target value**"
   ]
  },
  {
   "cell_type": "markdown",
   "metadata": {},
   "source": [
    "**Responder's min_offer / Proposer's over and final_offer distribution**"
   ]
  },
  {
   "cell_type": "code",
   "execution_count": 5,
   "metadata": {
    "scrolled": true
   },
   "outputs": [
    {
     "name": "stdout",
     "output_type": "stream",
     "text": [
      "../data/output/diagrams/txx.resp\n"
     ]
    },
    {
     "data": {
      "image/png": "[encoded data removed]",
      "text/plain": [
       "<Figure size 720x504 with 6 Axes>"
      ]
     },
     "metadata": {
      "needs_background": "light"
     },
     "output_type": "display_data"
    },
    {
     "data": {
      "text/plain": [
       "<Figure size 360x288 with 0 Axes>"
      ]
     },
     "metadata": {},
     "output_type": "display_data"
    },
    {
     "data": {
      "text/plain": [
       "<Figure size 360x288 with 0 Axes>"
      ]
     },
     "metadata": {},
     "output_type": "display_data"
    },
    {
     "data": {
      "text/plain": [
       "<Figure size 360x288 with 0 Axes>"
      ]
     },
     "metadata": {},
     "output_type": "display_data"
    },
    {
     "data": {
      "text/plain": [
       "<Figure size 360x288 with 0 Axes>"
      ]
     },
     "metadata": {},
     "output_type": "display_data"
    },
    {
     "data": {
      "text/plain": [
       "<Figure size 360x288 with 0 Axes>"
      ]
     },
     "metadata": {},
     "output_type": "display_data"
    },
    {
     "data": {
      "text/plain": [
       "<Figure size 360x288 with 0 Axes>"
      ]
     },
     "metadata": {},
     "output_type": "display_data"
    }
   ],
   "source": [
    "\n",
    "bins = list(range(0, 105, 5))\n",
    "\n",
    "idx = 0\n",
    "\n",
    "f, axes = plt.subplots(2, 3, figsize=(10, 7))\n",
    "\n",
    "for treatment in sorted(TREATMENTS):\n",
    "    df = dfs_full[treatment]\n",
    "    fig = plt.figure(figsize=(5, 4))\n",
    "    ax = sns.distplot(df[\"min_offer\"], hist=True, kde=False, bins=bins, ax=axes[idx//3, idx%3],  axlabel=treatment.upper(), label=\"Responder\")\n",
    "    _ = ax.legend()\n",
    "    if treatment.upper() not in {\"T00\", \"T10A\", \"T11A\", \"T20A\", \"T20\"}:\n",
    "        ax = sns.distplot(df[\"min_offer_final\"], hist=True, kde=False, bins=bins, ax=axes[idx//3, idx%3],  axlabel=treatment.upper(), label=\"Responder + DSS info\")\n",
    "    _ = ax.legend(loc=\"best\")\n",
    "    \n",
    "    idx += 1\n",
    "_ = plt.tight_layout()\n",
    "\n",
    "\n",
    "f.savefig(os.path.join(export_folder, \"min_offers.pdf\"), bbox_inches='tight')\n",
    "\n",
    "print(export_folder)"
   ]
  },
  {
   "cell_type": "code",
   "execution_count": null,
   "metadata": {},
   "outputs": [],
   "source": []
  },
  {
   "cell_type": "code",
   "execution_count": 6,
   "metadata": {},
   "outputs": [],
   "source": [
    "# bins = list(range(-100, 105, 5))\n",
    "\n",
    "# plt.figure(figsize=(8,4))\n",
    "# offer_min_offer_diff = df_full[\"offer\"] - df_full[\"min_offer\"]\n",
    "# ax = sns.distplot(offer_min_offer_diff, hist=True, kde=False, axlabel=\"offer - minimum offer\", bins=bins, label=\"Proposer\")\n",
    "# _ = ax.set_ylabel(\"Frequefncy\")\n",
    "\n",
    "\n",
    "# offer_min_offer_diff = df_full[\"offer_final\"] - df_full[\"min_offer\"]\n",
    "# ax = sns.distplot(offer_min_offer_diff, hist=True, kde=False, axlabel=\"offer - minimum offer\", bins=bins, label=\"Proposer + DSS\", ax=ax)\n",
    "# plt.legend()\n",
    "# plt.tight_layout()\n",
    "# ax.figure.savefig(os.path.join(export_folder, \"offer-min_offer.pdf\"))"
   ]
  },
  {
   "cell_type": "code",
   "execution_count": 7,
   "metadata": {},
   "outputs": [],
   "source": [
    "from core.models.metrics import cross_compute, avg_gain_ratio, gain_mean, rejection_ratio, loss_sum, MAX_GAIN\n",
    "\n",
    "def get_infos(min_offer, offer, metrics=None, do_cross_compute=False):\n",
    "    if metrics is None:\n",
    "        metrics = [avg_gain_ratio, gain_mean, rejection_ratio, loss_sum]\n",
    "    #df = pd.DataFrame()\n",
    "    infos = dict()\n",
    "    for idx, metric in enumerate(metrics):\n",
    "        if do_cross_compute:\n",
    "            infos[metric.__name__] = cross_compute(min_offer, offer, metric)\n",
    "        else:\n",
    "            infos[metric.__name__] = metric(min_offer, offer)\n",
    "\n",
    "    return infos"
   ]
  },
  {
   "cell_type": "markdown",
   "metadata": {},
   "source": [
    "**Proposer's performance**"
   ]
  },
  {
   "cell_type": "code",
   "execution_count": 8,
   "metadata": {
    "scrolled": true
   },
   "outputs": [],
   "source": [
    "# df_infos = pd.DataFrame()\n",
    "# #Human (fixed-matching) performance t00\n",
    "# df_infos = df_infos.append(get_infos(df_full['min_offer'], df_full['offer']), ignore_index=True)\n",
    "# #Human (cross-matched) average performance t00\n",
    "# df_infos = df_infos.append(get_infos(df_full['min_offer'], df_full['offer'], do_cross_compute=True), ignore_index=True)\n",
    "# #Human + DSS (fixed-matching) performance t00\n",
    "# df_infos = df_infos.append(get_infos(df_full['min_offer'], df_full['offer_final']), ignore_index=True)\n",
    "# #Human + DSS(cross-matched) average performance t00\n",
    "# df_infos = df_infos.append(get_infos(df_full['min_offer'], df_full['offer_final'], do_cross_compute=True), ignore_index=True)\n",
    "# #Top-model (fixed 50% prediction) average performance t00\n",
    "# fixed_offer = MAX_GAIN // 2\n",
    "# df_infos = df_infos.append(get_infos(df_full['min_offer'], [fixed_offer], do_cross_compute=True), ignore_index=True)\n",
    "\n",
    "# df_infos.index = [\"Proposer\", \"Proposer (cross matched)\", \"Proposer + DSS\", \"Proposer + DSS (cross matched)\", \"AI-System\"]\n",
    "\n",
    "# df_infos = df_infos.loc[[\"Proposer\", \"Proposer + DSS\", \"AI-System\"]]\n",
    "# df_infos\n"
   ]
  },
  {
   "cell_type": "code",
   "execution_count": 15,
   "metadata": {},
   "outputs": [
    {
     "data": {
      "image/png": "[encoded data removed]",
      "text/plain": [
       "<Figure size 360x216 with 1 Axes>"
      ]
     },
     "metadata": {
      "needs_background": "light"
     },
     "output_type": "display_data"
    }
   ],
   "source": [
    "np.histogram(df[\"min_offer\"] - df[\"min_offer_final\"])\n",
    "\n",
    "plt.figure(figsize=(5,3))\n",
    "tmp = pd.DataFrame()\n",
    "tmp[\"t12#min_offer\"] = result_df[\"t12.min_offer\"] - result_df[\"t12.min_offer_final\"]\n",
    "tmp[\"t13#min_offer\"] = result_df[\"t13.min_offer\"] - result_df[\"t13.min_offer_final\"]\n",
    "\n",
    "\n",
    "bins = np.arange(-100, 100, 5)\n",
    "ax = sns.distplot(tmp[\"t12#min_offer\"], hist=True, kde=False, axlabel=\"Responder minimum offer\", bins=bins, label=\"T12\")\n",
    "ax = sns.distplot(tmp[\"t13#min_offer\"], hist=True, kde=False, axlabel=\"min_offer - min_offer_dss\", bins=bins, label=\"T13\")\n",
    "ax.legend(loc='best')\n",
    "_ = ax.set_ylabel(\"Frequency\")\n",
    "\n",
    "ax.set_yscale('log')\n",
    "plt.tight_layout()\n",
    "\n",
    "\n",
    "ax.figure.savefig(os.path.join(export_folder, \"t12vst13diff.pdf\"))"
   ]
  },
  {
   "cell_type": "code",
   "execution_count": 10,
   "metadata": {},
   "outputs": [
    {
     "data": {
      "text/html": [
       "<div>\n",
       "<style scoped>\n",
       "    .dataframe tbody tr th:only-of-type {\n",
       "        vertical-align: middle;\n",
       "    }\n",
       "\n",
       "    .dataframe tbody tr th {\n",
       "        vertical-align: top;\n",
       "    }\n",
       "\n",
       "    .dataframe thead th {\n",
       "        text-align: right;\n",
       "    }\n",
       "</style>\n",
       "<table border=\"1\" class=\"dataframe\">\n",
       "  <thead>\n",
       "    <tr style=\"text-align: right;\">\n",
       "      <th></th>\n",
       "      <th>t12#min_offer</th>\n",
       "      <th>t13#min_offer</th>\n",
       "    </tr>\n",
       "  </thead>\n",
       "  <tbody>\n",
       "    <tr>\n",
       "      <th>count</th>\n",
       "      <td>105.000000</td>\n",
       "      <td>105.000000</td>\n",
       "    </tr>\n",
       "    <tr>\n",
       "      <th>mean</th>\n",
       "      <td>-2.428571</td>\n",
       "      <td>-2.190476</td>\n",
       "    </tr>\n",
       "    <tr>\n",
       "      <th>std</th>\n",
       "      <td>22.254151</td>\n",
       "      <td>9.630775</td>\n",
       "    </tr>\n",
       "    <tr>\n",
       "      <th>min</th>\n",
       "      <td>-95.000000</td>\n",
       "      <td>-65.000000</td>\n",
       "    </tr>\n",
       "    <tr>\n",
       "      <th>25%</th>\n",
       "      <td>-5.000000</td>\n",
       "      <td>0.000000</td>\n",
       "    </tr>\n",
       "    <tr>\n",
       "      <th>50%</th>\n",
       "      <td>0.000000</td>\n",
       "      <td>0.000000</td>\n",
       "    </tr>\n",
       "    <tr>\n",
       "      <th>75%</th>\n",
       "      <td>0.000000</td>\n",
       "      <td>0.000000</td>\n",
       "    </tr>\n",
       "    <tr>\n",
       "      <th>max</th>\n",
       "      <td>85.000000</td>\n",
       "      <td>15.000000</td>\n",
       "    </tr>\n",
       "  </tbody>\n",
       "</table>\n",
       "</div>"
      ],
      "text/plain": [
       "       t12#min_offer  t13#min_offer\n",
       "count     105.000000     105.000000\n",
       "mean       -2.428571      -2.190476\n",
       "std        22.254151       9.630775\n",
       "min       -95.000000     -65.000000\n",
       "25%        -5.000000       0.000000\n",
       "50%         0.000000       0.000000\n",
       "75%         0.000000       0.000000\n",
       "max        85.000000      15.000000"
      ]
     },
     "execution_count": 10,
     "metadata": {},
     "output_type": "execute_result"
    }
   ],
   "source": [
    "tmp.describe()"
   ]
  }
 ],
 "metadata": {
  "kernelspec": {
   "display_name": "Python 3",
   "language": "python",
   "name": "python3"
  },
  "language_info": {
   "codemirror_mode": {
    "name": "ipython",
    "version": 3
   },
   "file_extension": ".py",
   "mimetype": "text/x-python",
   "name": "python",
   "nbconvert_exporter": "python",
   "pygments_lexer": "ipython3",
   "version": "3.6.8"
  }
 },
 "nbformat": 4,
 "nbformat_minor": 2
}
