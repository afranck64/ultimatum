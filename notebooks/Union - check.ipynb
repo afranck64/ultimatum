{
 "cells": [
  {
   "cell_type": "code",
   "execution_count": null,
   "metadata": {},
   "outputs": [],
   "source": []
  },
  {
   "cell_type": "markdown",
   "metadata": {},
   "source": [
    "## Data preparation and sanitization"
   ]
  },
  {
   "cell_type": "code",
   "execution_count": 1,
   "metadata": {},
   "outputs": [
    {
     "name": "stderr",
     "output_type": "stream",
     "text": [
      "/home/franck/anaconda3/envs/thesis/lib/python3.6/site-packages/pandas/core/frame.py:6692: FutureWarning: Sorting because non-concatenation axis is not aligned. A future version\n",
      "of pandas will change to not sort by default.\n",
      "\n",
      "To accept the future behavior, pass 'sort=False'.\n",
      "\n",
      "To retain the current behavior and silence the warning, pass 'sort=True'.\n",
      "\n",
      "  sort=sort)\n"
     ]
    }
   ],
   "source": [
    "import os\n",
    "import sys\n",
    "module_path = os.path.abspath(os.path.join('..'))\n",
    "if module_path not in sys.path:\n",
    "    sys.path.append(module_path)\n",
    "\n",
    "import pandas as pd\n",
    "%matplotlib inline\n",
    "import matplotlib.pyplot as plt\n",
    "import numpy as np\n",
    "from IPython.display import display\n",
    "from sklearn.model_selection import train_test_split\n",
    "from sklearn.metrics import r2_score\n",
    "import seaborn as sb\n",
    "\n",
    "from core.utils.preprocessing import df_to_xy\n",
    "\n",
    "\n",
    "# Read and sanitize the data\n",
    "drop_cols = [\"worker_id\", \"resp_worker_id\", \"prop_worker_id\", \"updated\", \"status\", \"job_id\", \"status\", \"timestamp\", \"rowid\", \"offer_dss\", \"offer\", \"offer_final\", \"completion_code\", 'Unnamed: 0']\n",
    "TREATMENTS = [\"t00\", \"t10\", \"t11\"]\n",
    "df = None\n",
    "df_full = None\n",
    "for treatment in TREATMENTS:\n",
    "    df_tmp = pd.read_csv(f\"../data/{treatment}/export/result__{treatment}_prop.csv\")\n",
    "    if \"offer_final\" not in df_tmp.columns:\n",
    "        df_tmp[\"offer_final\"] = df_tmp[\"offer\"]\n",
    "    df_full_tmp = df_tmp.copy()\n",
    "    df_tmp = df_tmp[[col for col in df_tmp.columns if col not in drop_cols]]\n",
    "    df_tmp = df_tmp.dropna()\n",
    "    if df is None:\n",
    "        df = df_tmp\n",
    "        df_full = df_full_tmp\n",
    "    else:\n",
    "        cols = df.columns\n",
    "        for col in cols:\n",
    "            if col not in df_tmp:\n",
    "                df_tmp[col] = None\n",
    "        cols_full = df_full.columns\n",
    "        for col in cols_full:\n",
    "            if col not in df_full_tmp.columns:\n",
    "                df_full[col] = None\n",
    "        df = df.append(df_tmp[cols], ignore_index=True)\n",
    "        df_full = df_full.append(df_full_tmp[cols], ignore_index=True)\n",
    "\n",
    "\n",
    "df_full = df.copy()\n",
    "drop_cols = [\"worker_id\", \"resp_worker_id\", \"prop_worker_id\", \"updated\", \"status\", \"job_id\", \"status\", \"timestamp\", \"rowid\", \"offer_dss\", \"offer\", \"offer_final\"]\n",
    "df = df[[col for col in df.columns if col not in drop_cols]]\n",
    "df = df.dropna()\n",
    "\n",
    "\n",
    "x, y = df_to_xy(df, fuse_risk=False, centered=True, min_target=0, max_target=100, normalize=False)"
   ]
  },
  {
   "cell_type": "markdown",
   "metadata": {},
   "source": [
    "## Linear regression (continuous dataset)"
   ]
  },
  {
   "cell_type": "markdown",
   "metadata": {},
   "source": [
    "#### Benchmark"
   ]
  },
  {
   "cell_type": "code",
   "execution_count": 2,
   "metadata": {},
   "outputs": [
    {
     "name": "stderr",
     "output_type": "stream",
     "text": [
      "Using TensorFlow backend.\n"
     ]
    }
   ],
   "source": [
    "from core.utils.benchmark import process_benchmarks, process_benchmark_cv, process_model\n",
    "from core.models.deep import KerasModel, loss_tf, gain_tf\n",
    "from core.models import EMModel, RandomModel\n",
    "from core.models import ConservativeModel\n",
    "from sklearn.linear_model import LinearRegression, LogisticRegression\n",
    "from core.models import RandomModel\n",
    "from sklearn.neural_network import MLPClassifier"
   ]
  },
  {
   "cell_type": "markdown",
   "metadata": {},
   "source": [
    "**Keras Model**"
   ]
  },
  {
   "cell_type": "code",
   "execution_count": 3,
   "metadata": {
    "scrolled": true
   },
   "outputs": [],
   "source": [
    "from core.models.deep import KerasModel, loss_tf, gain_tf"
   ]
  },
  {
   "cell_type": "markdown",
   "metadata": {},
   "source": [
    "**Featureless model (fixed value)**"
   ]
  },
  {
   "cell_type": "code",
   "execution_count": 4,
   "metadata": {},
   "outputs": [],
   "source": [
    "from core.models import EMModel, RandomModel"
   ]
  },
  {
   "cell_type": "markdown",
   "metadata": {},
   "source": [
    "**Random Forest**"
   ]
  },
  {
   "cell_type": "code",
   "execution_count": 5,
   "metadata": {},
   "outputs": [],
   "source": [
    "from sklearn.neural_network import MLPClassifier"
   ]
  },
  {
   "cell_type": "markdown",
   "metadata": {},
   "source": [
    "**Acceptance model**"
   ]
  },
  {
   "cell_type": "markdown",
   "metadata": {},
   "source": [
    "**Baseline models**"
   ]
  },
  {
   "cell_type": "code",
   "execution_count": 6,
   "metadata": {},
   "outputs": [
    {
     "data": {
      "text/html": [
       "<div>\n",
       "<style scoped>\n",
       "    .dataframe tbody tr th:only-of-type {\n",
       "        vertical-align: middle;\n",
       "    }\n",
       "\n",
       "    .dataframe tbody tr th {\n",
       "        vertical-align: top;\n",
       "    }\n",
       "\n",
       "    .dataframe thead th {\n",
       "        text-align: right;\n",
       "    }\n",
       "</style>\n",
       "<table border=\"1\" class=\"dataframe\">\n",
       "  <thead>\n",
       "    <tr style=\"text-align: right;\">\n",
       "      <th></th>\n",
       "      <th>avg_loss</th>\n",
       "      <th>avg_loss_ratio</th>\n",
       "      <th>avg_win_loss</th>\n",
       "      <th>invariance</th>\n",
       "      <th>loss_sum</th>\n",
       "      <th>mse</th>\n",
       "      <th>rejection_ratio</th>\n",
       "    </tr>\n",
       "  </thead>\n",
       "  <tbody>\n",
       "    <tr>\n",
       "      <th>em</th>\n",
       "      <td>12.616891</td>\n",
       "      <td>0.213763</td>\n",
       "      <td>12.569830</td>\n",
       "      <td>1.000000</td>\n",
       "      <td>734.000000</td>\n",
       "      <td>386.690532</td>\n",
       "      <td>0.061952</td>\n",
       "    </tr>\n",
       "    <tr>\n",
       "      <th>svc</th>\n",
       "      <td>12.616891</td>\n",
       "      <td>0.213763</td>\n",
       "      <td>12.569830</td>\n",
       "      <td>1.000000</td>\n",
       "      <td>734.000000</td>\n",
       "      <td>386.690532</td>\n",
       "      <td>0.061952</td>\n",
       "    </tr>\n",
       "    <tr>\n",
       "      <th>rf</th>\n",
       "      <td>17.406780</td>\n",
       "      <td>0.316238</td>\n",
       "      <td>12.900283</td>\n",
       "      <td>0.258168</td>\n",
       "      <td>1013.000000</td>\n",
       "      <td>643.661601</td>\n",
       "      <td>0.178726</td>\n",
       "    </tr>\n",
       "    <tr>\n",
       "      <th>human</th>\n",
       "      <td>29.429742</td>\n",
       "      <td>0.536312</td>\n",
       "      <td>13.762239</td>\n",
       "      <td>1.000000</td>\n",
       "      <td>8564.054983</td>\n",
       "      <td>1456.463670</td>\n",
       "      <td>0.404743</td>\n",
       "    </tr>\n",
       "    <tr>\n",
       "      <th>random</th>\n",
       "      <td>33.335422</td>\n",
       "      <td>0.601662</td>\n",
       "      <td>23.783108</td>\n",
       "      <td>0.188078</td>\n",
       "      <td>1939.417172</td>\n",
       "      <td>1565.636400</td>\n",
       "      <td>0.395383</td>\n",
       "    </tr>\n",
       "    <tr>\n",
       "      <th>svr</th>\n",
       "      <td>31.790482</td>\n",
       "      <td>0.609591</td>\n",
       "      <td>16.725190</td>\n",
       "      <td>0.998516</td>\n",
       "      <td>1850.533838</td>\n",
       "      <td>1419.456736</td>\n",
       "      <td>0.508416</td>\n",
       "    </tr>\n",
       "    <tr>\n",
       "      <th>linear_regressor</th>\n",
       "      <td>34.799768</td>\n",
       "      <td>0.637513</td>\n",
       "      <td>15.884061</td>\n",
       "      <td>0.217200</td>\n",
       "      <td>2025.725300</td>\n",
       "      <td>1740.664261</td>\n",
       "      <td>0.542840</td>\n",
       "    </tr>\n",
       "    <tr>\n",
       "      <th>conservative</th>\n",
       "      <td>54.691409</td>\n",
       "      <td>0.914008</td>\n",
       "      <td>56.671536</td>\n",
       "      <td>1.000000</td>\n",
       "      <td>3183.000000</td>\n",
       "      <td>3336.472823</td>\n",
       "      <td>0.034424</td>\n",
       "    </tr>\n",
       "  </tbody>\n",
       "</table>\n",
       "</div>"
      ],
      "text/plain": [
       "                   avg_loss  avg_loss_ratio  avg_win_loss  invariance  \\\n",
       "em                12.616891        0.213763     12.569830    1.000000   \n",
       "svc               12.616891        0.213763     12.569830    1.000000   \n",
       "rf                17.406780        0.316238     12.900283    0.258168   \n",
       "human             29.429742        0.536312     13.762239    1.000000   \n",
       "random            33.335422        0.601662     23.783108    0.188078   \n",
       "svr               31.790482        0.609591     16.725190    0.998516   \n",
       "linear_regressor  34.799768        0.637513     15.884061    0.217200   \n",
       "conservative      54.691409        0.914008     56.671536    1.000000   \n",
       "\n",
       "                     loss_sum          mse  rejection_ratio  \n",
       "em                 734.000000   386.690532         0.061952  \n",
       "svc                734.000000   386.690532         0.061952  \n",
       "rf                1013.000000   643.661601         0.178726  \n",
       "human             8564.054983  1456.463670         0.404743  \n",
       "random            1939.417172  1565.636400         0.395383  \n",
       "svr               1850.533838  1419.456736         0.508416  \n",
       "linear_regressor  2025.725300  1740.664261         0.542840  \n",
       "conservative      3183.000000  3336.472823         0.034424  "
      ]
     },
     "execution_count": 6,
     "metadata": {},
     "output_type": "execute_result"
    }
   ],
   "source": [
    "from sklearn.svm import SVC, SVR\n",
    "from sklearn.svm import SVC, SVR\n",
    "from sklearn.neural_network import MLPClassifier\n",
    "from sklearn.ensemble import RandomForestClassifier\n",
    "from core.utils.benchmark import benchmark_functions\n",
    "from core.models.metrics import cross_compute\n",
    "\n",
    "benchmark_models = {\n",
    "    \"random\": RandomModel(),\n",
    "    \"conservative\": ConservativeModel(),\n",
    "    \"em\": EMModel(),\n",
    "    \"svc\": SVC(gamma='auto'),\n",
    "    \"svr\": SVR(gamma='auto'),\n",
    "    \"linear_regressor\": LinearRegression(copy_X=False),\n",
    "    \"rf\": RandomForestClassifier(n_estimators=32),\n",
    "#     \"linear_regressor_mse\": keras_linear_regression(loss=\"mse\"),\n",
    "}\n",
    "results = process_benchmarks(benchmark_models, x, y.ravel(), augment_data=[None])\n",
    "\n",
    "results_mean = {key: item.mean() for key, item in results.items()}\n",
    "results_mean[\"human\"] = {f.__name__:cross_compute(df.min_offer, df_full['min_offer'], f) for f in benchmark_functions}\n",
    "results_std = {key: item.std() for key, item in results.items()}\n",
    "results_df = pd.DataFrame(results_mean).T\n",
    "results_df.sort_values(\"avg_loss_ratio\", inplace=True)\n",
    "results_df"
   ]
  }
 ],
 "metadata": {
  "kernelspec": {
   "display_name": "Python 3",
   "language": "python",
   "name": "python3"
  },
  "language_info": {
   "codemirror_mode": {
    "name": "ipython",
    "version": 3
   },
   "file_extension": ".py",
   "mimetype": "text/x-python",
   "name": "python",
   "nbconvert_exporter": "python",
   "pygments_lexer": "ipython3",
   "version": "3.6.8"
  }
 },
 "nbformat": 4,
 "nbformat_minor": 2
}
