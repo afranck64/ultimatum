{
 "cells": [
  {
   "cell_type": "markdown",
   "metadata": {},
   "source": [
    "## Treatment T10 Preparation"
   ]
  },
  {
   "cell_type": "code",
   "execution_count": 1,
   "metadata": {},
   "outputs": [
    {
     "data": {
      "text/plain": [
       "prop                   200.0\n",
       "other_resp             200.0\n",
       "other_prop             200.0\n",
       "time_spent_risk     152000.0\n",
       "cells                   50.0\n",
       "selfish                 60.0\n",
       "time_spent_prop     269000.0\n",
       "count_effort            20.0\n",
       "Honesty_Humility         5.0\n",
       "Extraversion             5.0\n",
       "Agreeableness            5.0\n",
       "min_offer              200.0\n",
       "dtype: float64"
      ]
     },
     "execution_count": 1,
     "metadata": {},
     "output_type": "execute_result"
    }
   ],
   "source": [
    "import os\n",
    "import sys\n",
    "module_path = os.path.abspath(os.path.join('..'))\n",
    "if module_path not in sys.path:\n",
    "    sys.path.append(module_path)\n",
    "import pandas as pd\n",
    "%matplotlib inline\n",
    "import matplotlib.pyplot as plt\n",
    "import numpy as np\n",
    "from IPython.display import display\n",
    "from sklearn.model_selection import train_test_split\n",
    "from sklearn.metrics import r2_score\n",
    "import seaborn as sb\n",
    "\n",
    "np.random.seed = 0\n",
    "\n",
    "#df = pd.read_excel(\"../data/HH_SURVEY1/UG_HH_NEW_continuous_no200_train.xls\")\n",
    "\n",
    "df = pd.read_excel(\"../data/t00/data.xls\")\n",
    "df_full = df.copy()\n",
    "#Drop 'protected' features\n",
    "drop_cols = ['prop', 'other_prop', 'other_resp']\n",
    "df = df[[col for col in df.columns if col not in drop_cols]]\n",
    "\n",
    "## comment/uncomment for shuffling\n",
    "#df = df.sample(frac=1.0)\n",
    "TEST_SIZE = 50\n",
    "# df_test = df.head(TEST_SIZE)\n",
    "# df_train = df.tail(df.shape[0] - TEST_SIZE)\n",
    "df_base = df.copy()\n",
    "\n",
    "df_train = df.head(df.shape[0] - TEST_SIZE)\n",
    "df_test = df.tail(TEST_SIZE)\n",
    "\n",
    "\n",
    "df_full = pd.read_excel(\"../data/t00/data.xls\")\n",
    "df_min = df_full.min()\n",
    "df_max = df_full.max()\n",
    "df_max[\"Honesty_Humility\"] = 5.0\n",
    "df_max[\"Extraversion\"] = 5.0\n",
    "df_max[\"Agreeableness\"] = 5.0\n",
    "df_max[\"cells\"] = 50\n",
    "df_max[\"selfish\"] = 60\n",
    "df_max[\"min_offer\"] = 200\n",
    "df_max[\"prop\"] = 200\n",
    "df_max[\"other_resp\"] = 200\n",
    "df_max[\"other_prop\"] = 200\n",
    "\n",
    "\n",
    "df.head()\n",
    "df_max"
   ]
  },
  {
   "cell_type": "markdown",
   "metadata": {},
   "source": [
    "## Determine significant features"
   ]
  },
  {
   "cell_type": "markdown",
   "metadata": {},
   "source": [
    "**Feature importance permutation**"
   ]
  },
  {
   "cell_type": "code",
   "execution_count": 2,
   "metadata": {},
   "outputs": [],
   "source": [
    "from core.utils.preprocessing import df_to_xy, df_to_xydf\n",
    "from core.models import AcceptanceModel\n",
    "from core.utils.benchmark import process_model, process_benchmark_cv\n",
    "# from mlxtend.evaluate import feature_importance_permutation"
   ]
  },
  {
   "cell_type": "code",
   "execution_count": 3,
   "metadata": {
    "scrolled": true
   },
   "outputs": [],
   "source": [
    "# from utils.preprocessing import df_to_xy, df_to_xydf\n",
    "\n",
    "# NB_REPETITIONS = 5\n",
    "\n",
    "# imp_vals = None\n",
    "# imp_all = None\n",
    "# for _ in range(NB_REPETITIONS):\n",
    "#     df_x, df_y = df_to_xydf(df_train.sample(frac=1.0), fuse_risk=True)\n",
    "#     model = AcceptanceModel()\n",
    "#     split = int(0.6 * df_x.shape[0])\n",
    "#     model.fit(df_x.values[:split], df_y.values.ravel()[:split])\n",
    "\n",
    "#     step_imp_vals, step_imp_all = feature_importance_permutation(\n",
    "#         predict_method=model.predict, \n",
    "#         X=df_x.values[split:],\n",
    "#         y=df_y.values.ravel()[split:],\n",
    "#         metric='accuracy',\n",
    "#         num_rounds=3,\n",
    "#         seed=None)\n",
    "#     if imp_vals is None:\n",
    "#         imp_vals = step_imp_vals\n",
    "#         imp_all = step_imp_all\n",
    "#     else:\n",
    "#         imp_vals += step_imp_vals\n",
    "#         imp_all += step_imp_all\n",
    "\n",
    "\n",
    "# imp_all /= NB_REPETITIONS\n",
    "# imp_vals /= NB_REPETITIONS\n",
    "# std = np.std(imp_all, axis=1)\n",
    "# indices = np.argsort(imp_vals)[::-1]\n",
    "\n",
    "\n",
    "# plt.figure(figsize=(15, 8))\n",
    "# plt.title(\"Feature importance via permutation importance\")\n",
    "# plt.bar(df_x.columns[indices], imp_vals[indices],\n",
    "#         yerr=std[indices],)\n",
    "# plt.show()"
   ]
  },
  {
   "cell_type": "code",
   "execution_count": null,
   "metadata": {},
   "outputs": [],
   "source": []
  },
  {
   "cell_type": "code",
   "execution_count": 4,
   "metadata": {
    "scrolled": true
   },
   "outputs": [],
   "source": [
    "# res = {}\n",
    "# features = list(df) + ['risk']\n",
    "# if 'min_offer' in features:\n",
    "#     features.remove('min_offer')\n",
    "# for col in features:\n",
    "#     df_train = df_train.sample(frac=1.0)\n",
    "#     if col == 'risk':    \n",
    "#         x, y = df_to_xy(df_base, select_columns=[col], fuse_risk=True, df_min=df_min, df_max=df_max)\n",
    "#         col = 'risk*'\n",
    "#     else:\n",
    "#         x, y = df_to_xy(df_base, select_columns=[col], df_min=df_min, df_max=df_max)\n",
    "#     model = AcceptanceModel()\n",
    "#     item_res = process_benchmark_cv(model, X=x, y=y)\n",
    "#     res[col] = item_res.mean()\n",
    "\n",
    "# res_single_df = pd.DataFrame(res).T\n",
    "# res_single_df.sort_values(by=['avg_loss_ratio'], inplace=True)\n",
    "# res_single_df"
   ]
  },
  {
   "cell_type": "code",
   "execution_count": 5,
   "metadata": {
    "scrolled": true
   },
   "outputs": [],
   "source": [
    "# from itertools import combinations\n",
    "\n",
    "\n",
    "# features = list(df_train) + [\"risk\"]\n",
    "# if 'min_offer' in features:\n",
    "#     features.remove('min_offer')\n",
    "\n",
    "# res = {}\n",
    "# for cols in combinations(features, 2):\n",
    "#     df_train = df_train.sample(frac=1.0)\n",
    "#     #index should be a list\n",
    "#     cols = list(cols)\n",
    "#     if cols[0]==cols[1]: continue\n",
    "#     if \"risk\" in cols and (\"time_spent_risk\" in cols or \"cells\" in cols): continue\n",
    "#     if \"risk\" in cols:\n",
    "#         x, y = df_to_xy(df_base, centered=False, fuse_risk=True, select_columns=cols, df_min=df_min, df_max=df_max)\n",
    "#     else:\n",
    "#         x, y = df_to_xy(df_base, centered=False, select_columns=cols, df_min=df_min, df_max=df_max)\n",
    "#     model = AcceptanceModel()\n",
    "#     item_res = process_benchmark_cv(model, X=x, y=y)\n",
    "#     res[\":\".join(cols)] = item_res.mean()\n",
    "\n",
    "# res_duo_df = pd.DataFrame(res).T\n",
    "# res_duo_df.sort_values(by=['avg_loss_ratio'], inplace=True)\n",
    "# res_duo_df.head(10)"
   ]
  },
  {
   "cell_type": "code",
   "execution_count": 6,
   "metadata": {
    "scrolled": true
   },
   "outputs": [],
   "source": [
    "# from itertools import combinations\n",
    "\n",
    "#res_trio_df = res_duo_df\n",
    "\n",
    "# features = list(df_train)\n",
    "# if 'min_offer' in features:\n",
    "#     features.remove('min_offer')\n",
    "\n",
    "# res = {}\n",
    "# for cols in combinations(features, 3):\n",
    "#     df_train = df_train.sample(frac=1.0)\n",
    "#     #index should be a list\n",
    "#     cols = list(cols)\n",
    "#     if cols[0]==cols[1]: continue\n",
    "#     x, y = df_to_xy(df_base, centered=False, select_columns=cols, df_min=df_min, df_max=df_max)\n",
    "#     model = AcceptanceModel()\n",
    "#     item_res = process_benchmark_cv(model, X=x, y=y, cv=3)\n",
    "#     res[\":\".join(cols)] = item_res.mean()\n",
    "\n",
    "# res_trio_df = pd.DataFrame(res).T\n",
    "# res_trio_df.sort_values(by=['avg_loss_ratio'], inplace=True)\n",
    "# res_trio_df.head(10)"
   ]
  },
  {
   "cell_type": "code",
   "execution_count": 7,
   "metadata": {},
   "outputs": [],
   "source": [
    "# from itertools import combinations\n",
    "\n",
    "\n",
    "# features = list(df)\n",
    "# if 'min_offer' in features:\n",
    "#     features.remove('min_offer')\n",
    "\n",
    "# res = {}\n",
    "# for cols in combinations(features, 4):\n",
    "#     #index should be a list\n",
    "#     cols = list(cols)\n",
    "#     if cols[0]==cols[1]: continue\n",
    "#     x, y = df_to_xy(df, centered=False, select_columns=cols, df_min=df_min, df_max=df_max)\n",
    "#     model = AcceptanceModel()\n",
    "#     item_res = process_benchmark_cv(model, X=x, y=y)\n",
    "#     res[\":\".join(cols)] = item_res.mean()\n",
    "\n",
    "# res_quad_df = pd.DataFrame(res).T\n",
    "# res_quad_df.sort_values(by=['avg_loss_ratio'], inplace=True)\n",
    "# res_quad_df.head(10)"
   ]
  },
  {
   "cell_type": "markdown",
   "metadata": {},
   "source": [
    "## Train model with top features"
   ]
  },
  {
   "cell_type": "code",
   "execution_count": 8,
   "metadata": {},
   "outputs": [],
   "source": [
    "#top_columns = ['time_spent_prop', 'count_effort']\n",
    "\n",
    "#top_columns = ['time_spent_prop', 'count_effort', 'selfish', 'Honesty_Humility']\n",
    "\n",
    "top_columns = ['selfish', 'cells', 'count_effort', 'Honesty_Humility']\n",
    "#top_columns = [\"risk\", \"time_spent_prop\"]\n",
    "epsilon = 0.01\n",
    "# if res_duo_df.avg_loss_ratio[0] - epsilon < res_trio_df.avg_loss_ratio[0]:\n",
    "#     top_columns = res_duo_df.index[0].split(':')\n",
    "# else:\n",
    "#     top_columns = res_trio_df.index[0].split(':')\n",
    "# # if res_single_df.avg_loss_ratio[0] - epsilon < res_duo_df.avg_loss_ratio[0] and \\\n",
    "# #         res_single_df.avg_loss_ratio[0] - epsilon < res_trio_df.avg_loss_ratio[0]:\n",
    "# #     top_columns = [res_single_df.index[0]]\n",
    "\n",
    "if \"risk\" in top_columns:\n",
    "    x, y = df_to_xy(df_train, centered=False, fuse_risk=True, select_columns=top_columns, min_target=5, max_target=190, df_min=df_min, df_max=df_max)\n",
    "else:\n",
    "    x, y = df_to_xy(df_train, centered=False, select_columns=top_columns, min_target=5, max_target=190, df_min=df_min, df_max=df_max)\n"
   ]
  },
  {
   "cell_type": "code",
   "execution_count": 9,
   "metadata": {},
   "outputs": [],
   "source": [
    "split = int(x.shape[0] * 0.8)\n",
    "xTrain, yTrain = x[:split], y[:split]\n",
    "xTest, yTest = x[split:], y[split:]\n"
   ]
  },
  {
   "cell_type": "code",
   "execution_count": 10,
   "metadata": {},
   "outputs": [],
   "source": [
    "model = AcceptanceModel(step=5, zero_one=False)"
   ]
  },
  {
   "cell_type": "code",
   "execution_count": 11,
   "metadata": {},
   "outputs": [
    {
     "name": "stdout",
     "output_type": "stream",
     "text": [
      "Train AVG loss ratio:  0.27316667500817604\n",
      "Val Mean gain:  89.6819526627219\n",
      "Val AVG loss ratio:  0.2477196992530195\n"
     ]
    },
    {
     "name": "stderr",
     "output_type": "stream",
     "text": [
      "/home/franck/anaconda3/lib/python3.7/site-packages/sklearn/utils/validation.py:761: DataConversionWarning: A column-vector y was passed when a 1d array was expected. Please change the shape of y to (n_samples, ), for example using ravel().\n",
      "  y = column_or_1d(y, warn=True)\n"
     ]
    }
   ],
   "source": [
    "from core.models.metrics import gain_mean, avg_loss_ratio\n",
    "\n",
    "model.fit(xTrain, yTrain)\n",
    "yPred = model.predict(xTest)\n",
    "\n",
    "print(\"Train AVG loss ratio: \", avg_loss_ratio(yTrain, model.predict(xTrain)))\n",
    "\n",
    "print(\"Val Mean gain: \", gain_mean(yTest, yPred))\n",
    "print(\"Val AVG loss ratio: \", avg_loss_ratio(yTest, yPred))"
   ]
  },
  {
   "cell_type": "code",
   "execution_count": 12,
   "metadata": {},
   "outputs": [
    {
     "name": "stdout",
     "output_type": "stream",
     "text": [
      "Unique values:  [  5  10  25  50  55  75  80  90  95 100 150]\n",
      "Unique predicted values:  [100. 105. 110.]\n"
     ]
    }
   ],
   "source": [
    "print(\"Unique values: \", np.unique(yTest))\n",
    "print(\"Unique predicted values: \", np.unique(yPred))"
   ]
  },
  {
   "cell_type": "code",
   "execution_count": null,
   "metadata": {},
   "outputs": [],
   "source": []
  },
  {
   "cell_type": "markdown",
   "metadata": {},
   "source": [
    "\n",
    "\n",
    "## Generate data for the survey"
   ]
  },
  {
   "cell_type": "code",
   "execution_count": 13,
   "metadata": {},
   "outputs": [
    {
     "name": "stderr",
     "output_type": "stream",
     "text": [
      "/home/franck/anaconda3/lib/python3.7/site-packages/sklearn/utils/validation.py:761: DataConversionWarning: A column-vector y was passed when a 1d array was expected. Please change the shape of y to (n_samples, ), for example using ravel().\n",
      "  y = column_or_1d(y, warn=True)\n",
      "/home/franck/anaconda3/lib/python3.7/site-packages/sklearn/utils/validation.py:761: DataConversionWarning: A column-vector y was passed when a 1d array was expected. Please change the shape of y to (n_samples, ), for example using ravel().\n",
      "  y = column_or_1d(y, warn=True)\n",
      "/home/franck/anaconda3/lib/python3.7/site-packages/sklearn/utils/validation.py:761: DataConversionWarning: A column-vector y was passed when a 1d array was expected. Please change the shape of y to (n_samples, ), for example using ravel().\n",
      "  y = column_or_1d(y, warn=True)\n",
      "/home/franck/anaconda3/lib/python3.7/site-packages/sklearn/utils/validation.py:761: DataConversionWarning: A column-vector y was passed when a 1d array was expected. Please change the shape of y to (n_samples, ), for example using ravel().\n",
      "  y = column_or_1d(y, warn=True)\n",
      "/home/franck/anaconda3/lib/python3.7/site-packages/sklearn/utils/validation.py:761: DataConversionWarning: A column-vector y was passed when a 1d array was expected. Please change the shape of y to (n_samples, ), for example using ravel().\n",
      "  y = column_or_1d(y, warn=True)\n",
      "/home/franck/anaconda3/lib/python3.7/site-packages/sklearn/utils/validation.py:761: DataConversionWarning: A column-vector y was passed when a 1d array was expected. Please change the shape of y to (n_samples, ), for example using ravel().\n",
      "  y = column_or_1d(y, warn=True)\n",
      "/home/franck/anaconda3/lib/python3.7/site-packages/sklearn/utils/validation.py:761: DataConversionWarning: A column-vector y was passed when a 1d array was expected. Please change the shape of y to (n_samples, ), for example using ravel().\n",
      "  y = column_or_1d(y, warn=True)\n",
      "/home/franck/anaconda3/lib/python3.7/site-packages/sklearn/utils/validation.py:761: DataConversionWarning: A column-vector y was passed when a 1d array was expected. Please change the shape of y to (n_samples, ), for example using ravel().\n",
      "  y = column_or_1d(y, warn=True)\n",
      "/home/franck/anaconda3/lib/python3.7/site-packages/sklearn/utils/validation.py:761: DataConversionWarning: A column-vector y was passed when a 1d array was expected. Please change the shape of y to (n_samples, ), for example using ravel().\n",
      "  y = column_or_1d(y, warn=True)\n",
      "/home/franck/anaconda3/lib/python3.7/site-packages/sklearn/utils/validation.py:761: DataConversionWarning: A column-vector y was passed when a 1d array was expected. Please change the shape of y to (n_samples, ), for example using ravel().\n",
      "  y = column_or_1d(y, warn=True)\n"
     ]
    },
    {
     "name": "stdout",
     "output_type": "stream",
     "text": [
      "top acc: 0.7373267567599268\n"
     ]
    }
   ],
   "source": [
    "from sklearn.ensemble import BaggingRegressor, BaggingClassifier\n",
    "\n",
    "\n",
    "top_model = AcceptanceModel.get_trained_model(xTrain, yTrain)\n",
    "\n",
    "top_loss_ratio = avg_loss_ratio(yTrain, top_model.predict(xTrain))\n",
    "\n",
    "print(\"top acc:\", 1 - top_loss_ratio,)   # \"Val acc: \", avg_loss_ratio(yTest, top_model.predict(xTest)))\n"
   ]
  },
  {
   "cell_type": "code",
   "execution_count": 14,
   "metadata": {
    "scrolled": true
   },
   "outputs": [
    {
     "data": {
      "text/html": [
       "<div>\n",
       "<style scoped>\n",
       "    .dataframe tbody tr th:only-of-type {\n",
       "        vertical-align: middle;\n",
       "    }\n",
       "\n",
       "    .dataframe tbody tr th {\n",
       "        vertical-align: top;\n",
       "    }\n",
       "\n",
       "    .dataframe thead th {\n",
       "        text-align: right;\n",
       "    }\n",
       "</style>\n",
       "<table border=\"1\" class=\"dataframe\">\n",
       "  <thead>\n",
       "    <tr style=\"text-align: right;\">\n",
       "      <th></th>\n",
       "      <th>selfish</th>\n",
       "      <th>cells</th>\n",
       "      <th>count_effort</th>\n",
       "      <th>Honesty_Humility</th>\n",
       "      <th>ai_offer</th>\n",
       "      <th>min_offer</th>\n",
       "    </tr>\n",
       "  </thead>\n",
       "  <tbody>\n",
       "    <tr>\n",
       "      <th>0</th>\n",
       "      <td>25</td>\n",
       "      <td>49</td>\n",
       "      <td>11</td>\n",
       "      <td>2.8</td>\n",
       "      <td>105</td>\n",
       "      <td>100</td>\n",
       "    </tr>\n",
       "    <tr>\n",
       "      <th>1</th>\n",
       "      <td>30</td>\n",
       "      <td>28</td>\n",
       "      <td>13</td>\n",
       "      <td>3.4</td>\n",
       "      <td>100</td>\n",
       "      <td>120</td>\n",
       "    </tr>\n",
       "    <tr>\n",
       "      <th>2</th>\n",
       "      <td>30</td>\n",
       "      <td>4</td>\n",
       "      <td>5</td>\n",
       "      <td>4.0</td>\n",
       "      <td>105</td>\n",
       "      <td>100</td>\n",
       "    </tr>\n",
       "    <tr>\n",
       "      <th>3</th>\n",
       "      <td>15</td>\n",
       "      <td>20</td>\n",
       "      <td>20</td>\n",
       "      <td>4.0</td>\n",
       "      <td>100</td>\n",
       "      <td>90</td>\n",
       "    </tr>\n",
       "    <tr>\n",
       "      <th>4</th>\n",
       "      <td>15</td>\n",
       "      <td>18</td>\n",
       "      <td>16</td>\n",
       "      <td>3.8</td>\n",
       "      <td>100</td>\n",
       "      <td>100</td>\n",
       "    </tr>\n",
       "  </tbody>\n",
       "</table>\n",
       "</div>"
      ],
      "text/plain": [
       "   selfish  cells  count_effort  Honesty_Humility  ai_offer  min_offer\n",
       "0       25     49            11               2.8       105        100\n",
       "1       30     28            13               3.4       100        120\n",
       "2       30      4             5               4.0       105        100\n",
       "3       15     20            20               4.0       100         90\n",
       "4       15     18            16               3.8       100        100"
      ]
     },
     "execution_count": 14,
     "metadata": {},
     "output_type": "execute_result"
    }
   ],
   "source": [
    "# Read and sanitize the data\n",
    "df_train = df.head(df.shape[0] - 100)\n",
    "#df_test = df.tail(100)\n",
    "df_test = pd.read_excel(\"../data/HH_SURVEY1/UG_HH_NEW_continuous_no200_test.xls\")\n",
    "\n",
    "if \"risk\" in top_columns:\n",
    "    df_features, df_y = df_to_xydf(df_test, centered=False, fuse_risk=True, select_columns=top_columns, df_min=df_min, df_max=df_max)\n",
    "else:\n",
    "    df_features, df_y = df_to_xydf(df_test, centered=False, select_columns=top_columns, df_min=df_min, df_max=df_max)\n",
    "predictions = top_model.predict(df_features.values).astype(int)\n",
    "\n",
    "df_final = df_test[top_columns].copy()\n",
    "#RESCALE FEATURES\n",
    "df_final['ai_offer'] = predictions.ravel()\n",
    "df_final['min_offer'] = df_y['min_offer']\n",
    "df_final.head()"
   ]
  },
  {
   "cell_type": "markdown",
   "metadata": {},
   "source": [
    "**Save the model and model infos**"
   ]
  },
  {
   "cell_type": "code",
   "execution_count": 15,
   "metadata": {},
   "outputs": [
    {
     "data": {
      "text/plain": [
       "array([105, 100,  95, 110])"
      ]
     },
     "execution_count": 15,
     "metadata": {},
     "output_type": "execute_result"
    }
   ],
   "source": [
    "df_final['ai_offer'].unique()"
   ]
  },
  {
   "cell_type": "code",
   "execution_count": 16,
   "metadata": {},
   "outputs": [
    {
     "name": "stdout",
     "output_type": "stream",
     "text": [
      "Test/ai - mean gain:  90.15\n",
      "Test/ai - avg loss ratio:  0.24745536730688233\n"
     ]
    }
   ],
   "source": [
    "print(\"Test/ai - mean gain: \", gain_mean(df_final['min_offer'], df_final['ai_offer']))\n",
    "print(\"Test/ai - avg loss ratio: \", avg_loss_ratio(df_final['min_offer'], df_final['ai_offer']))"
   ]
  },
  {
   "cell_type": "code",
   "execution_count": 17,
   "metadata": {},
   "outputs": [
    {
     "name": "stdout",
     "output_type": "stream",
     "text": [
      "Saved new data\n"
     ]
    }
   ],
   "source": [
    "import json\n",
    "from sklearn.externals import joblib\n",
    "import os\n",
    "from core.utils.explanation import get_pdf, get_bins\n",
    "\n",
    "test_gain_mean = gain_mean(df_final['min_offer'], df_final['ai_offer'])\n",
    "test_avg_loss_ratio = avg_loss_ratio(df_final['min_offer'], df_final['ai_offer'])\n",
    "infos_filename = \"../data/t10/model.json\"\n",
    "model_filename = \"../data/t10/model.pkl\"\n",
    "pdf, bins_pdf = get_pdf(yTrain)\n",
    "err = top_model.predict(xTrain) - yTrain\n",
    "train_err_pdf, bins_train_err_pdf = np.histogram(err, bins=get_bins(is_symmetric=True, is_histogram=True), density=True)\n",
    "\n",
    "infos = {\n",
    "    \"test_gain_mean\": test_gain_mean,\n",
    "    \"test_avg_loss_ratio\": test_avg_loss_ratio,\n",
    "    \"val_gain_mean\": gain_mean(yTest, yPred),\n",
    "    \"val_avg_loss_ratio\": avg_loss_ratio(yTest, yPred),\n",
    "    \"top_columns\": list(top_columns),\n",
    "    \"pdf\": pdf.tolist(),\n",
    "    \"acc\": 1 - avg_loss_ratio(yTest, yPred),\n",
    "    \"bins_pdf\": bins_pdf.tolist(),\n",
    "    \"train_err_pdf\": train_err_pdf.tolist(),\n",
    "    \"bins_train_err_pdf\": bins_train_err_pdf.tolist()\n",
    "}\n",
    "\n",
    "save_actual = False\n",
    "old_infos = {}\n",
    "if os.path.exists(infos_filename):\n",
    "    with open(infos_filename) as inp_f:\n",
    "        old_infos = json.load(inp_f)\n",
    "        \n",
    "if old_infos:\n",
    "    if infos[\"test_avg_loss_ratio\"] < old_infos[\"test_avg_loss_ratio\"]:\n",
    "        save_actual = True\n",
    "else:\n",
    "    save_actual = True\n",
    "\n",
    "\n",
    "if save_actual:\n",
    "    with open(infos_filename, \"w\") as out_f:\n",
    "        json.dump(infos, out_f, indent=4)\n",
    "    df_final.to_excel(\"../data/t10/test_PRED.xls\", index=False)\n",
    "    joblib.dump(value=model, filename=model_filename)\n",
    "    df_train.to_excel(\"../data/t10/train.xls\")\n",
    "    df_test.to_excel(\"../data/t10/test.xls\")\n",
    "    print(\"Saved new data\")\n",
    "else:\n",
    "    print(\"Kept old data\")\n",
    "        "
   ]
  },
  {
   "cell_type": "code",
   "execution_count": 18,
   "metadata": {},
   "outputs": [],
   "source": [
    "\n",
    "# ai_offer = 110\n",
    "# offer = 95\n",
    "\n",
    "# delta = ai_offer - offer\n",
    "\n",
    "# @np.vectorize\n",
    "# def sigmoid1024(x):\n",
    "#     base = 2000.0**2\n",
    "#     return (base**x/(base**x + 1))\n",
    "\n",
    "# @np.vectorize\n",
    "# def loss(x):\n",
    "#     offset = +5\n",
    "#     x1 = (x + offset) / 16.0\n",
    "#     x2 = (x) / 40.0\n",
    "#     return (1 - sigmoid1024(x1) *  np.cos(x2/np.pi))\n",
    "\n",
    "# def gain(x):\n",
    "#     return 1 - loss(x)"
   ]
  },
  {
   "cell_type": "code",
   "execution_count": 19,
   "metadata": {
    "scrolled": true
   },
   "outputs": [
    {
     "data": {
      "image/png": "[encoded data removed]",
      "text/plain": [
       "<Figure size 432x288 with 1 Axes>"
      ]
     },
     "metadata": {
      "needs_background": "light"
     },
     "output_type": "display_data"
    }
   ],
   "source": [
    "dy = top_model.predict(xTrain) - yTrain.ravel()\n",
    "vals, bins = np.histogram(dy, bins=get_bins(is_symmetric=True, is_histogram=True), density=True)\n",
    "\n",
    "\n",
    "_ = plt.hist(dy, density=True, bins=bins)"
   ]
  },
  {
   "cell_type": "code",
   "execution_count": 20,
   "metadata": {},
   "outputs": [
    {
     "data": {
      "text/plain": [
       "[<matplotlib.lines.Line2D at 0x7f382afe0748>]"
      ]
     },
     "execution_count": 20,
     "metadata": {},
     "output_type": "execute_result"
    },
    {
     "data": {
      "image/png": "[encoded data removed]",
      "text/plain": [
       "<Figure size 432x288 with 1 Axes>"
      ]
     },
     "metadata": {
      "needs_background": "light"
     },
     "output_type": "display_data"
    }
   ],
   "source": [
    "nvals = vals/vals.max() * (1 - 0.22)\n",
    "\n",
    "plt.plot(nvals, )"
   ]
  },
  {
   "cell_type": "code",
   "execution_count": 21,
   "metadata": {},
   "outputs": [
    {
     "name": "stdout",
     "output_type": "stream",
     "text": [
      "[0.         0.         0.         0.         0.         0.\n",
      " 0.         0.         0.         0.         0.         0.\n",
      " 0.         0.         0.         0.         0.         0.\n",
      " 0.         0.         0.         0.         0.         0.\n",
      " 0.05263158 0.         0.         0.         0.         0.\n",
      " 0.10526316 0.         0.05263158 0.         0.         0.10526316\n",
      " 0.05263158 0.         0.05263158 0.05263158 0.89473684 1.\n",
      " 0.26315789 0.31578947 0.26315789 0.47368421 0.10526316 0.05263158\n",
      " 0.05263158 0.10526316 0.68421053 0.15789474 0.15789474 0.\n",
      " 0.05263158 0.05263158 0.         0.10526316 0.10526316 0.05263158\n",
      " 0.05263158 0.         0.         0.         0.         0.\n",
      " 0.         0.         0.         0.         0.         0.\n",
      " 0.         0.         0.         0.         0.         0.\n",
      " 0.         0.         0.        ]\n"
     ]
    },
    {
     "data": {
      "text/plain": [
       "(17, 19)"
      ]
     },
     "execution_count": 21,
     "metadata": {},
     "output_type": "execute_result"
    },
    {
     "data": {
      "image/png": "[encoded data removed]",
      "text/plain": [
       "<Figure size 432x288 with 1 Axes>"
      ]
     },
     "metadata": {
      "needs_background": "light"
     },
     "output_type": "display_data"
    }
   ],
   "source": [
    "dy = top_model.predict(xTrain) - yTrain.ravel()\n",
    "vals, bins = np.histogram(dy, bins=get_bins(is_symmetric=True, is_histogram=True), density=False)\n",
    "\n",
    "print(vals / vals.max())\n",
    "\n",
    "_ = plt.hist(dy, density=True, bins=bins)\n",
    "(dy==0).sum(), vals.max()"
   ]
  },
  {
   "cell_type": "code",
   "execution_count": 22,
   "metadata": {},
   "outputs": [
    {
     "data": {
      "text/plain": [
       "(81,)"
      ]
     },
     "execution_count": 22,
     "metadata": {},
     "output_type": "execute_result"
    }
   ],
   "source": [
    "vals.shape"
   ]
  }
 ],
 "metadata": {
  "kernelspec": {
   "display_name": "Python 3",
   "language": "python",
   "name": "python3"
  },
  "language_info": {
   "codemirror_mode": {
    "name": "ipython",
    "version": 3
   },
   "file_extension": ".py",
   "mimetype": "text/x-python",
   "name": "python",
   "nbconvert_exporter": "python",
   "pygments_lexer": "ipython3",
   "version": "3.7.3"
  }
 },
 "nbformat": 4,
 "nbformat_minor": 2
}
