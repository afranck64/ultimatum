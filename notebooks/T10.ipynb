{
 "cells": [
  {
   "cell_type": "markdown",
   "metadata": {},
   "source": [
    "## Features reduction"
   ]
  },
  {
   "cell_type": "code",
   "execution_count": 90,
   "metadata": {},
   "outputs": [
    {
     "data": {
      "text/plain": [
       "prop                   200.0\n",
       "other_resp             200.0\n",
       "other_prop             200.0\n",
       "time_spent_risk     152000.0\n",
       "cells                   50.0\n",
       "selfish                 60.0\n",
       "time_spent_prop     269000.0\n",
       "count_effort            20.0\n",
       "Honesty_Humility         5.0\n",
       "Extraversion             5.0\n",
       "Agreeableness            5.0\n",
       "min_offer              200.0\n",
       "dtype: float64"
      ]
     },
     "execution_count": 90,
     "metadata": {},
     "output_type": "execute_result"
    }
   ],
   "source": [
    "import pandas as pd\n",
    "%matplotlib inline\n",
    "import matplotlib.pyplot as plt\n",
    "import numpy as np\n",
    "from IPython.display import display\n",
    "from sklearn.model_selection import train_test_split\n",
    "from sklearn.metrics import r2_score\n",
    "import seaborn as sb\n",
    "\n",
    "np.random.seed = 0\n",
    "\n",
    "#df = pd.read_excel(\"../data/HH_SURVEY1/UG_HH_NEW_continuous_no200_train.xls\")\n",
    "\n",
    "df = pd.read_excel(\"../data/t00/data.xls\")\n",
    "df_full = df.copy()\n",
    "#Drop 'protected' features\n",
    "drop_cols = ['prop', 'other_prop', 'other_resp']\n",
    "df = df[[col for col in df.columns if col not in drop_cols]]\n",
    "\n",
    "## comment/uncomment for shuffling\n",
    "#df = df.sample(frac=1.0)\n",
    "TEST_SIZE = 100\n",
    "# df_test = df.head(TEST_SIZE)\n",
    "# df_train = df.tail(df.shape[0] - TEST_SIZE)\n",
    "df_base = df.copy()\n",
    "\n",
    "df_train = df.head(df.shape[0] - TEST_SIZE)\n",
    "df_test = df.tail(TEST_SIZE)\n",
    "df_train.to_excel(\"../data/t10/train.xls\")\n",
    "df_test.to_excel(\"../data/t10/test.xls\")\n",
    "\n",
    "\n",
    "df_full = pd.read_excel(\"../data/t00/data.xls\")\n",
    "df_min = df_full.min()\n",
    "df_max = df_full.max()\n",
    "df_max[\"Honesty_Humility\"] = 5.0\n",
    "df_max[\"Extraversion\"] = 5.0\n",
    "df_max[\"Agreeableness\"] = 5.0\n",
    "df_max[\"cells\"] = 50\n",
    "df_max[\"selfish\"] = 60\n",
    "df_max[\"min_offer\"] = 200\n",
    "df_max[\"prop\"] = 200\n",
    "df_max[\"other_resp\"] = 200\n",
    "df_max[\"other_prop\"] = 200\n",
    "\n",
    "\n",
    "df.head()\n",
    "df_max"
   ]
  },
  {
   "cell_type": "markdown",
   "metadata": {},
   "source": [
    "## Determine significant features"
   ]
  },
  {
   "cell_type": "markdown",
   "metadata": {},
   "source": [
    "**Feature importance permutation**"
   ]
  },
  {
   "cell_type": "code",
   "execution_count": 91,
   "metadata": {},
   "outputs": [],
   "source": [
    "from notebooks.utils.preprocessing import df_to_xy, df_to_xydf\n",
    "from notebooks.models import AcceptanceModel\n",
    "from notebooks.utils.benchmark import process_model, process_benchmark_cv\n",
    "from mlxtend.evaluate import feature_importance_permutation"
   ]
  },
  {
   "cell_type": "code",
   "execution_count": 92,
   "metadata": {
    "scrolled": true
   },
   "outputs": [],
   "source": [
    "# from utils.preprocessing import df_to_xy, df_to_xydf\n",
    "\n",
    "# NB_REPETITIONS = 5\n",
    "\n",
    "# imp_vals = None\n",
    "# imp_all = None\n",
    "# for _ in range(NB_REPETITIONS):\n",
    "#     df_x, df_y = df_to_xydf(df_train.sample(frac=1.0), fuse_risk=True)\n",
    "#     model = AcceptanceModel()\n",
    "#     split = int(0.6 * df_x.shape[0])\n",
    "#     model.fit(df_x.values[:split], df_y.values.ravel()[:split])\n",
    "\n",
    "#     step_imp_vals, step_imp_all = feature_importance_permutation(\n",
    "#         predict_method=model.predict, \n",
    "#         X=df_x.values[split:],\n",
    "#         y=df_y.values.ravel()[split:],\n",
    "#         metric='accuracy',\n",
    "#         num_rounds=3,\n",
    "#         seed=None)\n",
    "#     if imp_vals is None:\n",
    "#         imp_vals = step_imp_vals\n",
    "#         imp_all = step_imp_all\n",
    "#     else:\n",
    "#         imp_vals += step_imp_vals\n",
    "#         imp_all += step_imp_all\n",
    "\n",
    "\n",
    "# imp_all /= NB_REPETITIONS\n",
    "# imp_vals /= NB_REPETITIONS\n",
    "# std = np.std(imp_all, axis=1)\n",
    "# indices = np.argsort(imp_vals)[::-1]\n",
    "\n",
    "\n",
    "# plt.figure(figsize=(15, 8))\n",
    "# plt.title(\"Feature importance via permutation importance\")\n",
    "# plt.bar(df_x.columns[indices], imp_vals[indices],\n",
    "#         yerr=std[indices],)\n",
    "# plt.show()"
   ]
  },
  {
   "cell_type": "code",
   "execution_count": null,
   "metadata": {},
   "outputs": [],
   "source": []
  },
  {
   "cell_type": "code",
   "execution_count": 93,
   "metadata": {
    "scrolled": true
   },
   "outputs": [],
   "source": [
    "# res = {}\n",
    "# features = list(df) + ['risk']\n",
    "# if 'min_offer' in features:\n",
    "#     features.remove('min_offer')\n",
    "# for col in features:\n",
    "#     df_train = df_train.sample(frac=1.0)\n",
    "#     if col == 'risk':    \n",
    "#         x, y = df_to_xy(df_base, select_columns=[col], fuse_risk=True, df_min=df_min, df_max=df_max)\n",
    "#         col = 'risk*'\n",
    "#     else:\n",
    "#         x, y = df_to_xy(df_base, select_columns=[col], df_min=df_min, df_max=df_max)\n",
    "#     model = AcceptanceModel()\n",
    "#     item_res = process_benchmark_cv(model, X=x, y=y)\n",
    "#     res[col] = item_res.mean()\n",
    "\n",
    "# res_single_df = pd.DataFrame(res).T\n",
    "# res_single_df.sort_values(by=['avg_loss_ratio'], inplace=True)\n",
    "# res_single_df"
   ]
  },
  {
   "cell_type": "code",
   "execution_count": 94,
   "metadata": {
    "scrolled": true
   },
   "outputs": [],
   "source": [
    "# from itertools import combinations\n",
    "\n",
    "\n",
    "# features = list(df_train) + [\"risk\"]\n",
    "# if 'min_offer' in features:\n",
    "#     features.remove('min_offer')\n",
    "\n",
    "# res = {}\n",
    "# for cols in combinations(features, 2):\n",
    "#     df_train = df_train.sample(frac=1.0)\n",
    "#     #index should be a list\n",
    "#     cols = list(cols)\n",
    "#     if cols[0]==cols[1]: continue\n",
    "#     if \"risk\" in cols and (\"time_spent_risk\" in cols or \"cells\" in cols): continue\n",
    "#     if \"risk\" in cols:\n",
    "#         x, y = df_to_xy(df_base, centered=False, fuse_risk=True, select_columns=cols, df_min=df_min, df_max=df_max)\n",
    "#     else:\n",
    "#         x, y = df_to_xy(df_base, centered=False, select_columns=cols, df_min=df_min, df_max=df_max)\n",
    "#     model = AcceptanceModel()\n",
    "#     item_res = process_benchmark_cv(model, X=x, y=y)\n",
    "#     res[\":\".join(cols)] = item_res.mean()\n",
    "\n",
    "# res_duo_df = pd.DataFrame(res).T\n",
    "# res_duo_df.sort_values(by=['avg_loss_ratio'], inplace=True)\n",
    "# res_duo_df.head(10)"
   ]
  },
  {
   "cell_type": "code",
   "execution_count": 95,
   "metadata": {
    "scrolled": true
   },
   "outputs": [],
   "source": [
    "# from itertools import combinations\n",
    "\n",
    "#res_trio_df = res_duo_df\n",
    "\n",
    "# features = list(df_train)\n",
    "# if 'min_offer' in features:\n",
    "#     features.remove('min_offer')\n",
    "\n",
    "# res = {}\n",
    "# for cols in combinations(features, 3):\n",
    "#     df_train = df_train.sample(frac=1.0)\n",
    "#     #index should be a list\n",
    "#     cols = list(cols)\n",
    "#     if cols[0]==cols[1]: continue\n",
    "#     x, y = df_to_xy(df_base, centered=False, select_columns=cols, df_min=df_min, df_max=df_max)\n",
    "#     model = AcceptanceModel()\n",
    "#     item_res = process_benchmark_cv(model, X=x, y=y, cv=3)\n",
    "#     res[\":\".join(cols)] = item_res.mean()\n",
    "\n",
    "# res_trio_df = pd.DataFrame(res).T\n",
    "# res_trio_df.sort_values(by=['avg_loss_ratio'], inplace=True)\n",
    "# res_trio_df.head(10)"
   ]
  },
  {
   "cell_type": "code",
   "execution_count": 96,
   "metadata": {},
   "outputs": [],
   "source": [
    "# from itertools import combinations\n",
    "\n",
    "\n",
    "# features = list(df)\n",
    "# if 'min_offer' in features:\n",
    "#     features.remove('min_offer')\n",
    "\n",
    "# res = {}\n",
    "# for cols in combinations(features, 4):\n",
    "#     #index should be a list\n",
    "#     cols = list(cols)\n",
    "#     if cols[0]==cols[1]: continue\n",
    "#     x, y = df_to_xy(df, centered=False, select_columns=cols, df_min=df_min, df_max=df_max)\n",
    "#     model = AcceptanceModel()\n",
    "#     item_res = process_benchmark_cv(model, X=x, y=y)\n",
    "#     res[\":\".join(cols)] = item_res.mean()\n",
    "\n",
    "# res_quad_df = pd.DataFrame(res).T\n",
    "# res_quad_df.sort_values(by=['avg_loss_ratio'], inplace=True)\n",
    "# res_quad_df.head(10)"
   ]
  },
  {
   "cell_type": "markdown",
   "metadata": {},
   "source": [
    "## Train model with top features"
   ]
  },
  {
   "cell_type": "code",
   "execution_count": 97,
   "metadata": {},
   "outputs": [
    {
     "name": "stdout",
     "output_type": "stream",
     "text": [
      "     selfish     cells  count_effort  Honesty_Humility\n",
      "0   1.000000  0.510204          1.00          0.741935\n",
      "1   0.333333  0.122449          1.00          0.000000\n",
      "2   0.333333  1.000000          0.60          0.451613\n",
      "3   1.000000  1.000000          0.70          0.548387\n",
      "4   1.000000  0.469388          0.20          0.548387\n",
      "5   0.333333  0.306122          0.55          0.709677\n",
      "6   0.666667  0.795918          0.70          0.838710\n",
      "7   0.500000  0.224490          0.75          0.290323\n",
      "8   0.000000  0.734694          0.75          0.548387\n",
      "9   0.416667  1.000000          0.85          0.290323\n",
      "10  0.666667  0.183673          0.60          0.580645\n",
      "11  0.333333  0.387755          0.80          0.612903\n",
      "12  0.666667  0.612245          0.45          0.258065\n",
      "13  0.750000  1.000000          0.70          0.580645\n",
      "14  1.000000  0.387755          1.00          0.354839\n",
      "15  0.000000  0.387755          0.90          0.645161\n",
      "16  0.333333  1.000000          0.40          0.580645\n",
      "17  1.000000  0.224490          0.45          0.709677\n",
      "18  0.000000  0.979592          0.85          0.709677\n",
      "19  0.166667  0.163265          1.00          0.290323\n",
      "20  0.500000  0.326531          0.50          0.774194\n",
      "21  0.500000  0.387755          0.95          0.483871\n",
      "22  0.500000  0.755102          1.00          0.290323\n",
      "23  0.666667  0.163265          0.60          0.419355\n",
      "24  0.750000  0.183673          0.45          0.483871\n",
      "25  1.000000  1.000000          1.00          0.645161\n",
      "26  0.500000  0.387755          1.00          0.516129\n",
      "27  0.000000  0.387755          0.95          0.387097\n",
      "28  0.500000  1.000000          0.55          0.451613\n",
      "29  1.000000  0.346939          0.85          0.645161\n",
      "..       ...       ...           ...               ...\n",
      "49  1.000000  0.244898          0.50          0.354839\n",
      "50  0.833333  0.551020          1.00          0.741935\n",
      "51  0.500000  0.632653          1.00          0.290323\n",
      "52  0.750000  0.795918          0.05          0.548387\n",
      "53  0.750000  1.000000          1.00          0.580645\n",
      "54  1.000000  0.387755          0.50          0.870968\n",
      "55  0.416667  0.489796          0.85          0.903226\n",
      "56  0.583333  0.428571          0.45          0.548387\n",
      "57  0.500000  0.693878          0.70          0.645161\n",
      "58  0.250000  1.000000          0.60          0.838710\n",
      "59  0.833333  1.000000          0.40          0.322581\n",
      "60  0.333333  0.224490          0.60          0.354839\n",
      "61  0.000000  0.469388          0.95          0.387097\n",
      "62  0.333333  0.469388          0.55          0.354839\n",
      "63  0.500000  0.979592          0.50          0.580645\n",
      "64  0.000000  0.979592          0.25          0.612903\n",
      "65  0.500000  0.387755          0.85          0.741935\n",
      "66  0.000000  0.183673          0.80          0.516129\n",
      "67  0.750000  0.489796          1.00          0.290323\n",
      "68  0.333333  0.387755          0.40          0.612903\n",
      "69  0.750000  0.204082          0.30          0.387097\n",
      "70  0.750000  1.000000          1.00          0.000000\n",
      "71  0.750000  0.795918          0.40          0.677419\n",
      "72  0.000000  1.000000          0.70          0.709677\n",
      "73  0.000000  1.000000          0.55          0.193548\n",
      "74  0.500000  0.142857          0.90          0.709677\n",
      "75  0.500000  0.979592          0.75          0.225806\n",
      "76  0.750000  0.183673          0.40          0.451613\n",
      "77  0.500000  0.183673          0.70          0.580645\n",
      "78  0.666667  0.612245          1.00          0.516129\n",
      "\n",
      "[79 rows x 4 columns]     min_offer\n",
      "0          50\n",
      "1          50\n",
      "2          80\n",
      "3          50\n",
      "4         100\n",
      "5         100\n",
      "6         100\n",
      "7         100\n",
      "8          90\n",
      "9          40\n",
      "10        100\n",
      "11        105\n",
      "12        100\n",
      "13         20\n",
      "14          5\n",
      "15         80\n",
      "16        100\n",
      "17         50\n",
      "18        100\n",
      "19         15\n",
      "20        100\n",
      "21         75\n",
      "22        100\n",
      "23         80\n",
      "24        100\n",
      "25        150\n",
      "26         75\n",
      "27        100\n",
      "28         90\n",
      "29         50\n",
      "..        ...\n",
      "49         50\n",
      "50         40\n",
      "51        100\n",
      "52         95\n",
      "53         75\n",
      "54         50\n",
      "55         95\n",
      "56        100\n",
      "57        100\n",
      "58        100\n",
      "59        150\n",
      "60        100\n",
      "61         70\n",
      "62         50\n",
      "63         90\n",
      "64        100\n",
      "65        100\n",
      "66         85\n",
      "67         80\n",
      "68        100\n",
      "69         30\n",
      "70         80\n",
      "71        100\n",
      "72        100\n",
      "73         80\n",
      "74         90\n",
      "75         80\n",
      "76        100\n",
      "77         50\n",
      "78         50\n",
      "\n",
      "[79 rows x 1 columns]\n"
     ]
    }
   ],
   "source": [
    "#top_columns = ['time_spent_prop', 'count_effort']\n",
    "\n",
    "#top_columns = ['time_spent_prop', 'count_effort', 'selfish', 'Honesty_Humility']\n",
    "\n",
    "top_columns = ['selfish', 'cells', 'count_effort', 'Honesty_Humility']\n",
    "#top_columns = [\"risk\", \"time_spent_prop\"]\n",
    "epsilon = 0.01\n",
    "# if res_duo_df.avg_loss_ratio[0] - epsilon < res_trio_df.avg_loss_ratio[0]:\n",
    "#     top_columns = res_duo_df.index[0].split(':')\n",
    "# else:\n",
    "#     top_columns = res_trio_df.index[0].split(':')\n",
    "# # if res_single_df.avg_loss_ratio[0] - epsilon < res_duo_df.avg_loss_ratio[0] and \\\n",
    "# #         res_single_df.avg_loss_ratio[0] - epsilon < res_trio_df.avg_loss_ratio[0]:\n",
    "# #     top_columns = [res_single_df.index[0]]\n",
    "\n",
    "if \"risk\" in top_columns:\n",
    "    x, y = df_to_xy(df_train, centered=False, fuse_risk=True, select_columns=top_columns, min_target=5, max_target=190, df_min=df_min, df_max=df_max)\n",
    "else:\n",
    "    x, y = df_to_xy(df_train, centered=False, select_columns=top_columns, min_target=5, max_target=190, df_min=df_min, df_max=df_max)\n"
   ]
  },
  {
   "cell_type": "code",
   "execution_count": 98,
   "metadata": {},
   "outputs": [],
   "source": [
    "split = int(x.shape[0] * 0.8)\n",
    "xTrain, yTrain = x[:split], y[:split]\n",
    "xTest, yTest = x[split:], y[split:]\n"
   ]
  },
  {
   "cell_type": "code",
   "execution_count": 99,
   "metadata": {},
   "outputs": [],
   "source": [
    "model = AcceptanceModel(step=5, zero_one=False)"
   ]
  },
  {
   "cell_type": "code",
   "execution_count": 100,
   "metadata": {},
   "outputs": [
    {
     "name": "stdout",
     "output_type": "stream",
     "text": [
      "Train AVG loss ratio:  0.26710413549982726\n",
      "Val Mean gain:  93.125\n",
      "Val AVG loss ratio:  0.18849425763388372\n"
     ]
    }
   ],
   "source": [
    "from models.metrics import gain_mean, avg_loss_ratio\n",
    "\n",
    "model.fit(xTrain, yTrain)\n",
    "yPred = model.predict(xTest)\n",
    "\n",
    "print(\"Train AVG loss ratio: \", avg_loss_ratio(yTrain, model.predict(xTrain)))\n",
    "\n",
    "print(\"Val Mean gain: \", gain_mean(yTest, yPred))\n",
    "print(\"Val AVG loss ratio: \", avg_loss_ratio(yTest, yPred))"
   ]
  },
  {
   "cell_type": "code",
   "execution_count": 101,
   "metadata": {},
   "outputs": [
    {
     "name": "stdout",
     "output_type": "stream",
     "text": [
      "Unique values:  [ 30  50  80  85  90 100]\n",
      "Unique predicted values:  [100. 105. 110. 115.]\n"
     ]
    }
   ],
   "source": [
    "print(\"Unique values: \", np.unique(yTest))\n",
    "print(\"Unique predicted values: \", np.unique(yPred))"
   ]
  },
  {
   "cell_type": "code",
   "execution_count": null,
   "metadata": {},
   "outputs": [],
   "source": []
  },
  {
   "cell_type": "markdown",
   "metadata": {},
   "source": [
    "\n",
    "\n",
    "## Generate data for the survey"
   ]
  },
  {
   "cell_type": "code",
   "execution_count": 102,
   "metadata": {},
   "outputs": [
    {
     "name": "stdout",
     "output_type": "stream",
     "text": [
      "top acc: 0.7405344902442806\n"
     ]
    }
   ],
   "source": [
    "from sklearn.ensemble import BaggingRegressor, BaggingClassifier\n",
    "\n",
    "\n",
    "top_model = AcceptanceModel.get_trained_model(xTrain, yTrain)\n",
    "\n",
    "top_loss_ratio = avg_loss_ratio(yTrain, top_model.predict(xTrain))\n",
    "\n",
    "print(\"top acc:\", 1 - top_loss_ratio,)   # \"Val acc: \", avg_loss_ratio(yTest, top_model.predict(xTest)))\n"
   ]
  },
  {
   "cell_type": "code",
   "execution_count": 103,
   "metadata": {
    "scrolled": true
   },
   "outputs": [
    {
     "name": "stdout",
     "output_type": "stream",
     "text": [
      "     selfish     cells  count_effort  Honesty_Humility\n",
      "0   0.416667  0.979592          0.55          0.290323\n",
      "1   0.500000  0.551020          0.65          0.483871\n",
      "2   0.500000  0.061224          0.25          0.677419\n",
      "3   0.250000  0.387755          1.00          0.677419\n",
      "4   0.250000  0.346939          0.80          0.612903\n",
      "5   0.333333  0.326531          0.50          0.806452\n",
      "6   1.000000  0.224490          0.55          0.419355\n",
      "7   0.666667  0.387755          0.50          0.548387\n",
      "8   0.500000  1.000000          0.70          0.677419\n",
      "9   0.500000  0.183673          0.45          0.322581\n",
      "10  0.666667  0.183673          0.80          0.225806\n",
      "11  0.666667  1.000000          1.00          0.645161\n",
      "12  0.250000  0.285714          1.00          0.645161\n",
      "13  0.000000  0.326531          0.70          0.483871\n",
      "14  0.750000  1.000000          0.75          0.225806\n",
      "15  0.666667  1.000000          0.75          0.322581\n",
      "16  0.833333  0.469388          0.75          0.677419\n",
      "17  0.000000  0.979592          0.60          0.806452\n",
      "18  0.000000  0.204082          0.10          0.548387\n",
      "19  0.666667  0.673469          0.05          0.516129\n",
      "20  0.500000  1.000000          0.60          0.645161\n",
      "21  0.250000  0.897959          0.85          0.387097\n",
      "22  1.000000  0.755102          0.40          0.516129\n",
      "23  0.750000  1.000000          0.75          0.387097\n",
      "24  0.416667  1.000000          0.25          0.387097\n",
      "25  1.000000  0.918367          0.30          0.612903\n",
      "26  0.666667  0.428571          0.45          0.516129\n",
      "27  0.000000  0.591837          0.75          0.709677\n",
      "28  0.750000  0.836735          1.00          0.516129\n",
      "29  0.750000  1.000000          0.30          0.387097\n",
      "..       ...       ...           ...               ...\n",
      "70  0.250000  0.061224          0.70          0.193548\n",
      "71  0.166667  1.000000          0.60          0.516129\n",
      "72  1.000000  0.183673          0.75          0.516129\n",
      "73  0.333333  0.387755          0.50          0.645161\n",
      "74  0.500000  0.306122          0.10          0.677419\n",
      "75  0.750000  0.591837          0.65          0.387097\n",
      "76  0.500000  0.061224          0.50          0.645161\n",
      "77  0.416667  0.224490          0.55          0.419355\n",
      "78  0.500000  0.387755          1.00          0.258065\n",
      "79  0.333333  0.795918          0.45          0.967742\n",
      "80  0.500000  0.183673          1.00          0.419355\n",
      "81  0.500000  0.224490          0.60          0.419355\n",
      "82  0.500000  0.387755          0.60          0.483871\n",
      "83  0.500000  0.346939          0.85          0.548387\n",
      "84  0.250000  1.000000          0.40          0.612903\n",
      "85  0.000000  0.306122          0.85          0.903226\n",
      "86  1.000000  0.081633          0.40          0.419355\n",
      "87  1.000000  0.795918          0.55          0.677419\n",
      "88  1.000000  0.387755          0.95          0.258065\n",
      "89  0.000000  0.183673          0.95          0.677419\n",
      "90  0.000000  0.632653          1.00          0.580645\n",
      "91  0.666667  0.183673          0.40          0.451613\n",
      "92  1.000000  1.000000          1.00          0.580645\n",
      "93  0.000000  0.387755          0.90          0.580645\n",
      "94  0.500000  0.204082          0.90          0.483871\n",
      "95  0.666667  0.469388          1.00          0.451613\n",
      "96  0.250000  0.142857          0.85          0.741935\n",
      "97  1.000000  0.306122          0.95          0.483871\n",
      "98  0.166667  0.489796          0.35          0.903226\n",
      "99  0.750000  0.489796          0.60          0.612903\n",
      "\n",
      "[100 rows x 4 columns]     min_offer\n",
      "0         100\n",
      "1         120\n",
      "2         100\n",
      "3          90\n",
      "4         100\n",
      "5          80\n",
      "6         100\n",
      "7          80\n",
      "8         100\n",
      "9         100\n",
      "10         90\n",
      "11         25\n",
      "12        125\n",
      "13         50\n",
      "14         50\n",
      "15         10\n",
      "16        100\n",
      "17        195\n",
      "18         10\n",
      "19         60\n",
      "20        100\n",
      "21         50\n",
      "22         80\n",
      "23        110\n",
      "24         25\n",
      "25         50\n",
      "26         90\n",
      "27        100\n",
      "28         80\n",
      "29         75\n",
      "..        ...\n",
      "70         10\n",
      "71         80\n",
      "72        100\n",
      "73         75\n",
      "74         50\n",
      "75        100\n",
      "76         90\n",
      "77         35\n",
      "78         50\n",
      "79         75\n",
      "80         50\n",
      "81         80\n",
      "82         50\n",
      "83         90\n",
      "84         75\n",
      "85        100\n",
      "86         85\n",
      "87         60\n",
      "88         75\n",
      "89        100\n",
      "90         90\n",
      "91         85\n",
      "92         50\n",
      "93        105\n",
      "94        100\n",
      "95         50\n",
      "96         75\n",
      "97         50\n",
      "98        100\n",
      "99         85\n",
      "\n",
      "[100 rows x 1 columns]\n"
     ]
    },
    {
     "data": {
      "text/html": [
       "<div>\n",
       "<style scoped>\n",
       "    .dataframe tbody tr th:only-of-type {\n",
       "        vertical-align: middle;\n",
       "    }\n",
       "\n",
       "    .dataframe tbody tr th {\n",
       "        vertical-align: top;\n",
       "    }\n",
       "\n",
       "    .dataframe thead th {\n",
       "        text-align: right;\n",
       "    }\n",
       "</style>\n",
       "<table border=\"1\" class=\"dataframe\">\n",
       "  <thead>\n",
       "    <tr style=\"text-align: right;\">\n",
       "      <th></th>\n",
       "      <th>selfish</th>\n",
       "      <th>cells</th>\n",
       "      <th>count_effort</th>\n",
       "      <th>Honesty_Humility</th>\n",
       "      <th>ai_offer</th>\n",
       "      <th>min_offer</th>\n",
       "    </tr>\n",
       "  </thead>\n",
       "  <tbody>\n",
       "    <tr>\n",
       "      <th>0</th>\n",
       "      <td>25</td>\n",
       "      <td>49</td>\n",
       "      <td>11</td>\n",
       "      <td>2.8</td>\n",
       "      <td>110</td>\n",
       "      <td>100</td>\n",
       "    </tr>\n",
       "    <tr>\n",
       "      <th>1</th>\n",
       "      <td>30</td>\n",
       "      <td>28</td>\n",
       "      <td>13</td>\n",
       "      <td>3.4</td>\n",
       "      <td>105</td>\n",
       "      <td>120</td>\n",
       "    </tr>\n",
       "    <tr>\n",
       "      <th>2</th>\n",
       "      <td>30</td>\n",
       "      <td>4</td>\n",
       "      <td>5</td>\n",
       "      <td>4.0</td>\n",
       "      <td>105</td>\n",
       "      <td>100</td>\n",
       "    </tr>\n",
       "    <tr>\n",
       "      <th>3</th>\n",
       "      <td>15</td>\n",
       "      <td>20</td>\n",
       "      <td>20</td>\n",
       "      <td>4.0</td>\n",
       "      <td>100</td>\n",
       "      <td>90</td>\n",
       "    </tr>\n",
       "    <tr>\n",
       "      <th>4</th>\n",
       "      <td>15</td>\n",
       "      <td>18</td>\n",
       "      <td>16</td>\n",
       "      <td>3.8</td>\n",
       "      <td>100</td>\n",
       "      <td>100</td>\n",
       "    </tr>\n",
       "  </tbody>\n",
       "</table>\n",
       "</div>"
      ],
      "text/plain": [
       "   selfish  cells  count_effort  Honesty_Humility  ai_offer  min_offer\n",
       "0       25     49            11               2.8       110        100\n",
       "1       30     28            13               3.4       105        120\n",
       "2       30      4             5               4.0       105        100\n",
       "3       15     20            20               4.0       100         90\n",
       "4       15     18            16               3.8       100        100"
      ]
     },
     "execution_count": 103,
     "metadata": {},
     "output_type": "execute_result"
    }
   ],
   "source": [
    "# Read and sanitize the data\n",
    "df_train = df.head(df.shape[0] - 100)\n",
    "#df_test = df.tail(100)\n",
    "df_test = pd.read_excel(\"../data/HH_SURVEY1/UG_HH_NEW_continuous_no200_test.xls\")\n",
    "\n",
    "if \"risk\" in top_columns:\n",
    "    df_features, df_y = df_to_xydf(df_test, centered=False, fuse_risk=True, select_columns=top_columns, df_min=df_min, df_max=df_max)\n",
    "else:\n",
    "    df_features, df_y = df_to_xydf(df_test, centered=False, select_columns=top_columns, df_min=df_min, df_max=df_max)\n",
    "predictions = top_model.predict(df_features.values).astype(int)\n",
    "\n",
    "df_final = df_test[top_columns].copy()\n",
    "#RESCALE FEATURES\n",
    "df_final['ai_offer'] = predictions.ravel()\n",
    "df_final['min_offer'] = df_y['min_offer']\n",
    "df_final.head()"
   ]
  },
  {
   "cell_type": "markdown",
   "metadata": {},
   "source": [
    "**Save the model and model infos**"
   ]
  },
  {
   "cell_type": "code",
   "execution_count": 104,
   "metadata": {},
   "outputs": [
    {
     "data": {
      "text/plain": [
       "array([110, 105, 100,  95])"
      ]
     },
     "execution_count": 104,
     "metadata": {},
     "output_type": "execute_result"
    }
   ],
   "source": [
    "df_final['ai_offer'].unique()"
   ]
  },
  {
   "cell_type": "code",
   "execution_count": 105,
   "metadata": {},
   "outputs": [
    {
     "name": "stdout",
     "output_type": "stream",
     "text": [
      "Test/ai - mean gain:  89.35\n",
      "Test/ai - avg loss ratio:  0.2515748921923574\n"
     ]
    }
   ],
   "source": [
    "print(\"Test/ai - mean gain: \", gain_mean(df_final['min_offer'], df_final['ai_offer']))\n",
    "print(\"Test/ai - avg loss ratio: \", avg_loss_ratio(df_final['min_offer'], df_final['ai_offer']))"
   ]
  },
  {
   "cell_type": "code",
   "execution_count": 106,
   "metadata": {},
   "outputs": [
    {
     "name": "stdout",
     "output_type": "stream",
     "text": [
      "Saved new data\n"
     ]
    }
   ],
   "source": [
    "import json\n",
    "from sklearn.externals import joblib\n",
    "import os\n",
    "from utils.explanation import get_pdf\n",
    "\n",
    "test_gain_mean = gain_mean(df_final['min_offer'], df_final['ai_offer'])\n",
    "test_avg_loss_ratio = avg_loss_ratio(df_final['min_offer'], df_final['ai_offer'])\n",
    "infos_filename = \"../data/t10/model.json\"\n",
    "model_filename = \"../data/t10/model.pkl\"\n",
    "pdf, bins_pdf = get_pdf(yTrain)\n",
    "err = top_model.predict(xTrain) - yTrain\n",
    "train_err_pdf, bins_train_err_pdf = np.histogram(err, bins=np.arange(-200, 200, 5), density=True)\n",
    "\n",
    "infos = {\n",
    "    \"test_gain_mean\": test_gain_mean,\n",
    "    \"test_avg_loss_ratio\": test_avg_loss_ratio,\n",
    "    \"val_gain_mean\": gain_mean(yTest, yPred),\n",
    "    \"val_avg_loss_ratio\": avg_loss_ratio(yTest, yPred),\n",
    "    \"top_columns\": list(top_columns),\n",
    "    \"pdf\": pdf.tolist(),\n",
    "    \"acc\": 1 - avg_loss_ratio(yTest, yPred),\n",
    "    \"bins_pdf\": bins_pdf.tolist(),\n",
    "    \"train_err_pdf\": train_err_pdf.tolist(),\n",
    "    \"bins_train_err_pdf\": bins_train_err_pdf.tolist()\n",
    "}\n",
    "\n",
    "save_actual = False\n",
    "old_infos = {}\n",
    "if os.path.exists(infos_filename):\n",
    "    with open(infos_filename) as inp_f:\n",
    "        old_infos = json.load(inp_f)\n",
    "        \n",
    "if old_infos:\n",
    "    if infos[\"test_avg_loss_ratio\"] < old_infos[\"test_avg_loss_ratio\"]:\n",
    "        save_actual = True\n",
    "else:\n",
    "    save_actual = True\n",
    "\n",
    "\n",
    "if save_actual:\n",
    "    with open(infos_filename, \"w\") as out_f:\n",
    "        json.dump(infos, out_f, indent=4)\n",
    "    df_final.to_excel(\"../data/t10/test_PRED.xls\", index=False)\n",
    "    joblib.dump(value=model, filename=model_filename)\n",
    "    print(\"Saved new data\")\n",
    "else:\n",
    "    print(\"Kept old data\")\n",
    "        "
   ]
  },
  {
   "cell_type": "code",
   "execution_count": 107,
   "metadata": {},
   "outputs": [],
   "source": [
    "\n",
    "ai_offer = 110\n",
    "offer = 95\n",
    "\n",
    "delta = ai_offer - offer\n",
    "\n",
    "@np.vectorize\n",
    "def sigmoid1024(x):\n",
    "    base = 2000.0**2\n",
    "    return (base**x/(base**x + 1))\n",
    "\n",
    "@np.vectorize\n",
    "def loss(x):\n",
    "    offset = +5\n",
    "    x1 = (x + offset) / 16.0\n",
    "    x2 = (x) / 40.0\n",
    "    return (1 - sigmoid1024(x1) *  np.cos(x2/np.pi))\n",
    "\n",
    "def gain(x):\n",
    "    return 1 - loss(x)"
   ]
  },
  {
   "cell_type": "code",
   "execution_count": 108,
   "metadata": {},
   "outputs": [
    {
     "data": {
      "text/plain": [
       "<function __main__.gain(x)>"
      ]
     },
     "execution_count": 108,
     "metadata": {},
     "output_type": "execute_result"
    }
   ],
   "source": [
    "gain"
   ]
  },
  {
   "cell_type": "code",
   "execution_count": 109,
   "metadata": {},
   "outputs": [
    {
     "data": {
      "image/png": "[encoded data removed]",
      "text/plain": [
       "<Figure size 432x288 with 1 Axes>"
      ]
     },
     "metadata": {
      "needs_background": "light"
     },
     "output_type": "display_data"
    }
   ],
   "source": [
    "dy = top_model.predict(xTrain) - yTrain.ravel()\n",
    "#plt.plot(dy)\n",
    "vals, bins = np.histogram(dy, bins=np.arange(-200, 200, 5), density=True)\n",
    "\n",
    "\n",
    "_ = plt.hist(dy, density=True, bins=bins)"
   ]
  },
  {
   "cell_type": "code",
   "execution_count": 110,
   "metadata": {},
   "outputs": [
    {
     "data": {
      "text/plain": [
       "[<matplotlib.lines.Line2D at 0x7f57cfd01518>]"
      ]
     },
     "execution_count": 110,
     "metadata": {},
     "output_type": "execute_result"
    },
    {
     "data": {
      "image/png": "[encoded data removed]",
      "text/plain": [
       "<Figure size 432x288 with 1 Axes>"
      ]
     },
     "metadata": {
      "needs_background": "light"
     },
     "output_type": "display_data"
    }
   ],
   "source": [
    "nvals = vals/vals.max() * (1 - 0.22)\n",
    "\n",
    "plt.plot(nvals, )"
   ]
  },
  {
   "cell_type": "code",
   "execution_count": 111,
   "metadata": {},
   "outputs": [
    {
     "data": {
      "text/plain": [
       "0.06381502890173411"
      ]
     },
     "execution_count": 111,
     "metadata": {},
     "output_type": "execute_result"
    }
   ],
   "source": [
    "ai_offer = 100\n",
    "offer = 50\n",
    "\n",
    "err = ai_offer - offer\n",
    "\n",
    "idx = int((err + 200)/5)\n",
    "\n",
    "n_train_err_pdf = train_err_pdf / train_err_pdf.max()\n",
    "\n",
    "n_train_err_pdf[30] * 0.92"
   ]
  }
 ],
 "metadata": {
  "kernelspec": {
   "display_name": "Python 3",
   "language": "python",
   "name": "python3"
  },
  "language_info": {
   "codemirror_mode": {
    "name": "ipython",
    "version": 3
   },
   "file_extension": ".py",
   "mimetype": "text/x-python",
   "name": "python",
   "nbconvert_exporter": "python",
   "pygments_lexer": "ipython3",
   "version": "3.6.0"
  }
 },
 "nbformat": 4,
 "nbformat_minor": 2
}
