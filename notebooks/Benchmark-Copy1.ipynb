{
 "cells": [
  {
   "cell_type": "code",
   "execution_count": null,
   "metadata": {},
   "outputs": [],
   "source": []
  },
  {
   "cell_type": "markdown",
   "metadata": {},
   "source": [
    "## Data preparation and sanitization"
   ]
  },
  {
   "cell_type": "code",
   "execution_count": 1,
   "metadata": {},
   "outputs": [],
   "source": [
    "import os\n",
    "import sys\n",
    "module_path = os.path.abspath(os.path.join('..'))\n",
    "if module_path not in sys.path:\n",
    "    sys.path.append(module_path)\n",
    "\n",
    "import pandas as pd\n",
    "%matplotlib inline\n",
    "import matplotlib.pyplot as plt\n",
    "import numpy as np\n",
    "from IPython.display import display\n",
    "from sklearn.model_selection import train_test_split\n",
    "from sklearn.metrics import r2_score\n",
    "import seaborn as sb\n",
    "\n",
    "from core.utils.preprocessing import df_to_xy\n",
    "\n",
    "RND_SEED = 6\n",
    "np.random.seed = RND_SEED\n",
    "\n",
    "TREATMENT = \"t00\"\n",
    "\n",
    "# Read and sanitize the data\n",
    "df = pd.read_csv(f\"../data/{TREATMENT}/export/result__{TREATMENT}_prop.csv\")\n",
    "df_full = df.copy()\n",
    "drop_cols = [\"worker_id\", \"resp_worker_id\", \"prop_worker_id\", \"updated\", \"status\", \"job_id\", \"status\", \"timestamp\", \"rowid\", \"offer_dss\", \"offer\", \"offer_final\", \"completion_code\"]\n",
    "df = df[[col for col in df.columns if col not in drop_cols]]\n",
    "df = df.dropna()\n",
    "\n",
    "\n",
    "x, y = df_to_xy(df, fuse_risk=False, centered=False)"
   ]
  },
  {
   "cell_type": "code",
   "execution_count": null,
   "metadata": {},
   "outputs": [],
   "source": []
  },
  {
   "cell_type": "markdown",
   "metadata": {},
   "source": [
    "## Linear regression (continuous dataset)"
   ]
  },
  {
   "cell_type": "markdown",
   "metadata": {},
   "source": [
    "**Accuracy / Loss - For model comparison**"
   ]
  },
  {
   "cell_type": "code",
   "execution_count": 2,
   "metadata": {},
   "outputs": [],
   "source": [
    "from core.models.metrics import MAX_GAIN\n"
   ]
  },
  {
   "cell_type": "markdown",
   "metadata": {},
   "source": [
    "#### Benchmark"
   ]
  },
  {
   "cell_type": "code",
   "execution_count": 3,
   "metadata": {},
   "outputs": [],
   "source": [
    "from core.utils.benchmark import process_benchmarks, process_benchmark_cv, process_model\n"
   ]
  },
  {
   "cell_type": "markdown",
   "metadata": {},
   "source": [
    "**Keras Model**"
   ]
  },
  {
   "cell_type": "code",
   "execution_count": 4,
   "metadata": {},
   "outputs": [
    {
     "name": "stderr",
     "output_type": "stream",
     "text": [
      "Using TensorFlow backend.\n"
     ]
    }
   ],
   "source": [
    "from core.models.deep import KerasModel, loss_tf, gain_tf"
   ]
  },
  {
   "cell_type": "code",
   "execution_count": 5,
   "metadata": {},
   "outputs": [],
   "source": [
    "import os, sys\n"
   ]
  },
  {
   "cell_type": "markdown",
   "metadata": {},
   "source": [
    "**Featureless model**"
   ]
  },
  {
   "cell_type": "code",
   "execution_count": 7,
   "metadata": {},
   "outputs": [],
   "source": [
    "from core.models import EMModel, RandomModel"
   ]
  },
  {
   "cell_type": "markdown",
   "metadata": {},
   "source": [
    "**Convervative model**"
   ]
  },
  {
   "cell_type": "code",
   "execution_count": 8,
   "metadata": {},
   "outputs": [],
   "source": [
    "from core.models import ConservativeModel"
   ]
  },
  {
   "cell_type": "markdown",
   "metadata": {},
   "source": [
    "**Linear/Logistic regression**"
   ]
  },
  {
   "cell_type": "code",
   "execution_count": 9,
   "metadata": {
    "scrolled": false
   },
   "outputs": [],
   "source": [
    "from sklearn.linear_model import LinearRegression, LogisticRegression"
   ]
  },
  {
   "cell_type": "markdown",
   "metadata": {},
   "source": [
    "**Random**"
   ]
  },
  {
   "cell_type": "markdown",
   "metadata": {},
   "source": [
    "**Random Forest**"
   ]
  },
  {
   "cell_type": "code",
   "execution_count": 11,
   "metadata": {},
   "outputs": [],
   "source": [
    "from sklearn.ensemble.forest import RandomForestClassifier, RandomForestRegressor"
   ]
  },
  {
   "cell_type": "markdown",
   "metadata": {},
   "source": [
    "**Clustering**"
   ]
  },
  {
   "cell_type": "code",
   "execution_count": 12,
   "metadata": {},
   "outputs": [],
   "source": [
    "from core.models import ClusterModel, ClusterExtModel"
   ]
  },
  {
   "cell_type": "code",
   "execution_count": 13,
   "metadata": {},
   "outputs": [],
   "source": [
    "from sklearn.neural_network import MLPClassifier"
   ]
  },
  {
   "cell_type": "markdown",
   "metadata": {},
   "source": [
    "** Acceptance model **"
   ]
  },
  {
   "cell_type": "code",
   "execution_count": 14,
   "metadata": {},
   "outputs": [],
   "source": [
    "from core.models import AcceptanceModel"
   ]
  },
  {
   "cell_type": "markdown",
   "metadata": {},
   "source": [
    "** Data augmentation **"
   ]
  },
  {
   "cell_type": "code",
   "execution_count": 15,
   "metadata": {},
   "outputs": [],
   "source": [
    "from core.utils.data_augmentation import DACombine"
   ]
  },
  {
   "cell_type": "markdown",
   "metadata": {},
   "source": [
    "**Baseline models**"
   ]
  },
  {
   "cell_type": "code",
   "execution_count": 16,
   "metadata": {},
   "outputs": [
    {
     "data": {
      "text/html": [
       "<div>\n",
       "<style scoped>\n",
       "    .dataframe tbody tr th:only-of-type {\n",
       "        vertical-align: middle;\n",
       "    }\n",
       "\n",
       "    .dataframe tbody tr th {\n",
       "        vertical-align: top;\n",
       "    }\n",
       "\n",
       "    .dataframe thead th {\n",
       "        text-align: right;\n",
       "    }\n",
       "</style>\n",
       "<table border=\"1\" class=\"dataframe\">\n",
       "  <thead>\n",
       "    <tr style=\"text-align: right;\">\n",
       "      <th></th>\n",
       "      <th>avg_loss</th>\n",
       "      <th>avg_loss_ratio</th>\n",
       "      <th>avg_win_loss</th>\n",
       "      <th>invariance</th>\n",
       "      <th>loss_sum</th>\n",
       "      <th>mse</th>\n",
       "      <th>rejection_ratio</th>\n",
       "    </tr>\n",
       "  </thead>\n",
       "  <tbody>\n",
       "    <tr>\n",
       "      <th>em</th>\n",
       "      <td>11.771429</td>\n",
       "      <td>0.187675</td>\n",
       "      <td>11.537176</td>\n",
       "      <td>1.000000</td>\n",
       "      <td>242.000000</td>\n",
       "      <td>386.095238</td>\n",
       "      <td>0.049048</td>\n",
       "    </tr>\n",
       "    <tr>\n",
       "      <th>svc</th>\n",
       "      <td>11.771429</td>\n",
       "      <td>0.187675</td>\n",
       "      <td>11.537176</td>\n",
       "      <td>1.000000</td>\n",
       "      <td>242.000000</td>\n",
       "      <td>386.095238</td>\n",
       "      <td>0.049048</td>\n",
       "    </tr>\n",
       "    <tr>\n",
       "      <th>random</th>\n",
       "      <td>32.911212</td>\n",
       "      <td>0.613098</td>\n",
       "      <td>19.251166</td>\n",
       "      <td>0.195018</td>\n",
       "      <td>677.595947</td>\n",
       "      <td>1483.780237</td>\n",
       "      <td>0.467143</td>\n",
       "    </tr>\n",
       "    <tr>\n",
       "      <th>linear_regressor</th>\n",
       "      <td>42.320793</td>\n",
       "      <td>0.739311</td>\n",
       "      <td>34.335815</td>\n",
       "      <td>0.152042</td>\n",
       "      <td>871.976648</td>\n",
       "      <td>2250.104788</td>\n",
       "      <td>0.457143</td>\n",
       "    </tr>\n",
       "    <tr>\n",
       "      <th>conservative</th>\n",
       "      <td>54.466667</td>\n",
       "      <td>0.916466</td>\n",
       "      <td>56.149749</td>\n",
       "      <td>1.000000</td>\n",
       "      <td>1122.000000</td>\n",
       "      <td>3288.595238</td>\n",
       "      <td>0.029524</td>\n",
       "    </tr>\n",
       "  </tbody>\n",
       "</table>\n",
       "</div>"
      ],
      "text/plain": [
       "                   avg_loss  avg_loss_ratio  avg_win_loss  invariance  \\\n",
       "em                11.771429        0.187675     11.537176    1.000000   \n",
       "svc               11.771429        0.187675     11.537176    1.000000   \n",
       "random            32.911212        0.613098     19.251166    0.195018   \n",
       "linear_regressor  42.320793        0.739311     34.335815    0.152042   \n",
       "conservative      54.466667        0.916466     56.149749    1.000000   \n",
       "\n",
       "                     loss_sum          mse  rejection_ratio  \n",
       "em                 242.000000   386.095238         0.049048  \n",
       "svc                242.000000   386.095238         0.049048  \n",
       "random             677.595947  1483.780237         0.467143  \n",
       "linear_regressor   871.976648  2250.104788         0.457143  \n",
       "conservative      1122.000000  3288.595238         0.029524  "
      ]
     },
     "execution_count": 16,
     "metadata": {},
     "output_type": "execute_result"
    }
   ],
   "source": [
    "from sklearn.svm import SVC\n",
    "\n",
    "benchmark_models = {\n",
    "    #Featureless:\n",
    "    \"random\": RandomModel(MAX_GAIN),\n",
    "    \"conservative\": ConservativeModel(MAX_GAIN),\n",
    "    \"em\": EMModel(MAX_GAIN),\n",
    "    \"svc\": SVC(gamma='auto'),\n",
    "    \"linear_regressor\": LinearRegression(copy_X=False),\n",
    "#     \"linear_regressor_mse\": keras_linear_regression(loss=\"mse\"),\n",
    "}\n",
    "\n",
    "results = dict()\n",
    "# for key, model in benchmark_models.items():\n",
    "#     results[key] = process_benchmark_cv(model, x, y.ravel())\n",
    "#     results[key+\"_da\"] = process_benchmark_cv(model, x, y.ravel(), augment_data=2)\n",
    "#results = {key: process_benchmark_cv(model, x, y.ravel()) for key, model in benchmark_models.items()}\n",
    "results = process_benchmarks(benchmark_models, x, y.ravel(), augment_data=[None])\n",
    "\n",
    "results_mean = {key: item.mean() for key, item in results.items()}\n",
    "results_std = {key: item.std() for key, item in results.items()}\n",
    "results_df = pd.DataFrame(results_mean).T\n",
    "results_df.sort_values(\"avg_loss_ratio\", inplace=True)\n",
    "results_df"
   ]
  },
  {
   "cell_type": "code",
   "execution_count": 17,
   "metadata": {},
   "outputs": [
    {
     "data": {
      "text/plain": [
       "<matplotlib.axes._subplots.AxesSubplot at 0x7f20022f1208>"
      ]
     },
     "execution_count": 17,
     "metadata": {},
     "output_type": "execute_result"
    },
    {
     "data": {
      "image/png": "[encoded data removed]",
      "text/plain": [
       "<Figure size 1080x360 with 1 Axes>"
      ]
     },
     "metadata": {
      "needs_background": "light"
     },
     "output_type": "display_data"
    }
   ],
   "source": [
    "df_results_mean = pd.DataFrame(results_mean)\n",
    "df_results_std = pd.DataFrame(results_std)\n",
    "df_results_mean.plot.bar(logy=True, figsize=(15, 5))"
   ]
  },
  {
   "cell_type": "markdown",
   "metadata": {},
   "source": [
    "**Clustering based models**"
   ]
  },
  {
   "cell_type": "code",
   "execution_count": 18,
   "metadata": {},
   "outputs": [
    {
     "data": {
      "text/html": [
       "<div>\n",
       "<style scoped>\n",
       "    .dataframe tbody tr th:only-of-type {\n",
       "        vertical-align: middle;\n",
       "    }\n",
       "\n",
       "    .dataframe tbody tr th {\n",
       "        vertical-align: top;\n",
       "    }\n",
       "\n",
       "    .dataframe thead th {\n",
       "        text-align: right;\n",
       "    }\n",
       "</style>\n",
       "<table border=\"1\" class=\"dataframe\">\n",
       "  <thead>\n",
       "    <tr style=\"text-align: right;\">\n",
       "      <th></th>\n",
       "      <th>avg_loss</th>\n",
       "      <th>avg_loss_ratio</th>\n",
       "      <th>avg_win_loss</th>\n",
       "      <th>invariance</th>\n",
       "      <th>loss_sum</th>\n",
       "      <th>mse</th>\n",
       "      <th>rejection_ratio</th>\n",
       "    </tr>\n",
       "  </thead>\n",
       "  <tbody>\n",
       "    <tr>\n",
       "      <th>meanshift_ext</th>\n",
       "      <td>11.802381</td>\n",
       "      <td>0.187098</td>\n",
       "      <td>11.585213</td>\n",
       "      <td>1.000000</td>\n",
       "      <td>242.0</td>\n",
       "      <td>387.226190</td>\n",
       "      <td>0.048095</td>\n",
       "    </tr>\n",
       "    <tr>\n",
       "      <th>affinity_ext</th>\n",
       "      <td>13.042857</td>\n",
       "      <td>0.209049</td>\n",
       "      <td>12.544737</td>\n",
       "      <td>0.639074</td>\n",
       "      <td>268.0</td>\n",
       "      <td>441.095238</td>\n",
       "      <td>0.057619</td>\n",
       "    </tr>\n",
       "    <tr>\n",
       "      <th>meanshift</th>\n",
       "      <td>19.702381</td>\n",
       "      <td>0.319851</td>\n",
       "      <td>19.940476</td>\n",
       "      <td>1.000000</td>\n",
       "      <td>404.4</td>\n",
       "      <td>636.397619</td>\n",
       "      <td>0.038095</td>\n",
       "    </tr>\n",
       "    <tr>\n",
       "      <th>affinity</th>\n",
       "      <td>23.803810</td>\n",
       "      <td>0.412772</td>\n",
       "      <td>18.995816</td>\n",
       "      <td>0.282162</td>\n",
       "      <td>491.4</td>\n",
       "      <td>984.514286</td>\n",
       "      <td>0.210952</td>\n",
       "    </tr>\n",
       "  </tbody>\n",
       "</table>\n",
       "</div>"
      ],
      "text/plain": [
       "                avg_loss  avg_loss_ratio  avg_win_loss  invariance  loss_sum  \\\n",
       "meanshift_ext  11.802381        0.187098     11.585213    1.000000     242.0   \n",
       "affinity_ext   13.042857        0.209049     12.544737    0.639074     268.0   \n",
       "meanshift      19.702381        0.319851     19.940476    1.000000     404.4   \n",
       "affinity       23.803810        0.412772     18.995816    0.282162     491.4   \n",
       "\n",
       "                      mse  rejection_ratio  \n",
       "meanshift_ext  387.226190         0.048095  \n",
       "affinity_ext   441.095238         0.057619  \n",
       "meanshift      636.397619         0.038095  \n",
       "affinity       984.514286         0.210952  "
      ]
     },
     "execution_count": 18,
     "metadata": {},
     "output_type": "execute_result"
    }
   ],
   "source": [
    "benchmark_models = {\n",
    "#     #Cluster-based\n",
    "    \"affinity\": ClusterModel(base_model=\"affinity\"),\n",
    "#     \"bayes\": ClusterModel(base_model=\"bayes\", n_components=8),\n",
    "#     \"birch\": ClusterModel(base_model=\"birch\"),\n",
    "#     \"kmeans\": ClusterModel(base_model=\"kmeans\", n_clusters=16),\n",
    "    \"meanshift\": ClusterModel(base_model=\"meanshift\", cluster_all=True),\n",
    "    \"affinity_ext\": ClusterExtModel(base_model=\"affinity\"),\n",
    "#     \"bayes_ext\": ClusterExtModel(base_model=\"bayes\", n_components=8),\n",
    "#     \"birch_ext\": ClusterExtModel(base_model=\"birch\"),\n",
    "#     \"kmeans_ext\": ClusterModel(base_model=\"kmeans\", n_clusters=16),\n",
    "    \"meanshift_ext\": ClusterExtModel(base_model=\"meanshift\", cluster_all=True),\n",
    "}\n",
    "\n",
    "# results = {key: process_benchmark_cv(model, x, y.ravel(), ) for key, model in benchmark_models.items()}\n",
    "results = process_benchmarks(benchmark_models, x, y.ravel(), augment_data=[None], shuffle=True)\n",
    "\n",
    "results_mean = {key: item.mean() for key, item in results.items()}\n",
    "results_std = {key: item.std() for key, item in results.items()}\n",
    "results_df = pd.DataFrame(results_mean).T\n",
    "results_df.sort_values(\"avg_loss_ratio\", inplace=True)\n",
    "results_df"
   ]
  },
  {
   "cell_type": "code",
   "execution_count": 19,
   "metadata": {},
   "outputs": [
    {
     "data": {
      "text/html": [
       "<div>\n",
       "<style scoped>\n",
       "    .dataframe tbody tr th:only-of-type {\n",
       "        vertical-align: middle;\n",
       "    }\n",
       "\n",
       "    .dataframe tbody tr th {\n",
       "        vertical-align: top;\n",
       "    }\n",
       "\n",
       "    .dataframe thead th {\n",
       "        text-align: right;\n",
       "    }\n",
       "</style>\n",
       "<table border=\"1\" class=\"dataframe\">\n",
       "  <thead>\n",
       "    <tr style=\"text-align: right;\">\n",
       "      <th></th>\n",
       "      <th>avg_loss</th>\n",
       "      <th>avg_loss_ratio</th>\n",
       "      <th>avg_win_loss</th>\n",
       "      <th>invariance</th>\n",
       "      <th>loss_sum</th>\n",
       "      <th>mse</th>\n",
       "      <th>rejection_ratio</th>\n",
       "    </tr>\n",
       "  </thead>\n",
       "  <tbody>\n",
       "    <tr>\n",
       "      <th>affinity</th>\n",
       "      <td>8.532688</td>\n",
       "      <td>0.145904</td>\n",
       "      <td>3.717548</td>\n",
       "      <td>0.059061</td>\n",
       "      <td>181.491873</td>\n",
       "      <td>413.585348</td>\n",
       "      <td>0.158629</td>\n",
       "    </tr>\n",
       "    <tr>\n",
       "      <th>meanshift</th>\n",
       "      <td>5.349545</td>\n",
       "      <td>0.031181</td>\n",
       "      <td>4.836909</td>\n",
       "      <td>0.000000</td>\n",
       "      <td>102.441691</td>\n",
       "      <td>293.451550</td>\n",
       "      <td>0.062088</td>\n",
       "    </tr>\n",
       "    <tr>\n",
       "      <th>affinity_ext</th>\n",
       "      <td>4.606763</td>\n",
       "      <td>0.081225</td>\n",
       "      <td>4.614780</td>\n",
       "      <td>0.336278</td>\n",
       "      <td>90.318880</td>\n",
       "      <td>208.848405</td>\n",
       "      <td>0.052066</td>\n",
       "    </tr>\n",
       "    <tr>\n",
       "      <th>meanshift_ext</th>\n",
       "      <td>5.057336</td>\n",
       "      <td>0.075938</td>\n",
       "      <td>4.575046</td>\n",
       "      <td>0.000000</td>\n",
       "      <td>98.526646</td>\n",
       "      <td>228.580689</td>\n",
       "      <td>0.058331</td>\n",
       "    </tr>\n",
       "  </tbody>\n",
       "</table>\n",
       "</div>"
      ],
      "text/plain": [
       "               avg_loss  avg_loss_ratio  avg_win_loss  invariance    loss_sum  \\\n",
       "affinity       8.532688        0.145904      3.717548    0.059061  181.491873   \n",
       "meanshift      5.349545        0.031181      4.836909    0.000000  102.441691   \n",
       "affinity_ext   4.606763        0.081225      4.614780    0.336278   90.318880   \n",
       "meanshift_ext  5.057336        0.075938      4.575046    0.000000   98.526646   \n",
       "\n",
       "                      mse  rejection_ratio  \n",
       "affinity       413.585348         0.158629  \n",
       "meanshift      293.451550         0.062088  \n",
       "affinity_ext   208.848405         0.052066  \n",
       "meanshift_ext  228.580689         0.058331  "
      ]
     },
     "execution_count": 19,
     "metadata": {},
     "output_type": "execute_result"
    }
   ],
   "source": [
    "pd.DataFrame(results_std).T"
   ]
  },
  {
   "cell_type": "code",
   "execution_count": 20,
   "metadata": {},
   "outputs": [
    {
     "data": {
      "text/plain": [
       "<matplotlib.axes._subplots.AxesSubplot at 0x7f200201ec50>"
      ]
     },
     "execution_count": 20,
     "metadata": {},
     "output_type": "execute_result"
    },
    {
     "data": {
      "image/png": "[encoded data removed]",
      "text/plain": [
       "<Figure size 1080x360 with 1 Axes>"
      ]
     },
     "metadata": {
      "needs_background": "light"
     },
     "output_type": "display_data"
    }
   ],
   "source": [
    "df_results_mean = pd.DataFrame(results_mean)\n",
    "df_results_std = pd.DataFrame(results_std)\n",
    "df_results_mean.plot.bar(logy=True, figsize=(15, 5))"
   ]
  },
  {
   "cell_type": "markdown",
   "metadata": {},
   "source": [
    "**Other models**"
   ]
  },
  {
   "cell_type": "code",
   "execution_count": 21,
   "metadata": {},
   "outputs": [],
   "source": [
    "# benchmark_models = {\n",
    "#     'em': EMModel(),\n",
    "#     # Regression\n",
    "#     #\"random_forest_regr\": RandomForestRegressor(min_samples_leaf=5),\n",
    "#     'logistic_regression': LogisticRegression(penalty='l1', solver='liblinear', multi_class='auto'),\n",
    "#     \"nn\": KerasModel(no_hidden_layer=True),\n",
    "# #     \"nn_regression\": KerasModel(batch_size=30, epochs=200),\n",
    "#     'acceptance_model': AcceptanceModel(),   #step=10, zero_one=True),\n",
    "#     # Classification\n",
    "#     \"random_forest\": RandomForestClassifier(min_samples_leaf=5),#max_depth=3, random_state=0, n_estimators=10),\n",
    "# }\n",
    "\n",
    "# results = dict()\n",
    "\n",
    "# results = process_benchmarks(benchmark_models, x, y.ravel(), augment_data=[None, 2])\n",
    "\n",
    "# results_mean = {key: item.mean() for key, item in results.items()}\n",
    "# results_std = {key: item.std() for key, item in results.items()}\n",
    "# results_df = pd.DataFrame(results_mean).T\n",
    "# results_df.sort_values(\"avg_loss_ratio\", inplace=True)\n",
    "# results_df"
   ]
  },
  {
   "cell_type": "code",
   "execution_count": 22,
   "metadata": {},
   "outputs": [
    {
     "data": {
      "text/plain": [
       "<matplotlib.axes._subplots.AxesSubplot at 0x7f1ffffd5c50>"
      ]
     },
     "execution_count": 22,
     "metadata": {},
     "output_type": "execute_result"
    },
    {
     "data": {
      "image/png": "[encoded data removed]",
      "text/plain": [
       "<Figure size 1080x360 with 1 Axes>"
      ]
     },
     "metadata": {
      "needs_background": "light"
     },
     "output_type": "display_data"
    }
   ],
   "source": [
    "df_results_mean = pd.DataFrame(results_mean)\n",
    "df_results_std = pd.DataFrame(results_std)\n",
    "df_results_mean.plot.bar(logy=True, figsize=(15, 5))"
   ]
  },
  {
   "cell_type": "markdown",
   "metadata": {},
   "source": [
    "**TOP MODELS**"
   ]
  },
  {
   "cell_type": "code",
   "execution_count": 23,
   "metadata": {},
   "outputs": [],
   "source": [
    "# from sklearn.svm import SVR\n",
    "# benchmark_models = {\n",
    "#     'em': EMModel(),\n",
    "#     'logistic_regression': LogisticRegression(penalty='l1', solver='liblinear', multi_class='auto'),\n",
    "#     'svc': SVC(gamma='auto'),\n",
    "#     'acceptance_model': AcceptanceModel(step=10, zero_one=True),\n",
    "#     'acceptance_model_svr': AcceptanceModel(SVR(gamma='auto', kernel='poly', degree=1), step=10, zero_one=True),\n",
    "    \n",
    "#     # Classification\n",
    "#     #\"random_forest\": RandomForestClassifier(min_samples_leaf=5),#max_depth=3, random_state=0, n_estimators=10),\n",
    "# }\n",
    "\n",
    "# results = dict()\n",
    "\n",
    "# results = process_benchmarks(benchmark_models, x, y.ravel(), augment_data=None)\n",
    "\n",
    "# results_mean = {key: item.mean() for key, item in results.items()}\n",
    "# results_std = {key: item.std() for key, item in results.items()}\n",
    "# results_df = pd.DataFrame(results_mean).T\n",
    "# results_df.sort_values(\"avg_loss_ratio\", inplace=True)\n",
    "# results_df"
   ]
  },
  {
   "cell_type": "code",
   "execution_count": 24,
   "metadata": {},
   "outputs": [
    {
     "data": {
      "text/plain": [
       "<matplotlib.axes._subplots.AxesSubplot at 0x7f1fff8f26a0>"
      ]
     },
     "execution_count": 24,
     "metadata": {},
     "output_type": "execute_result"
    },
    {
     "data": {
      "image/png": "[encoded data removed]",
      "text/plain": [
       "<Figure size 1080x360 with 1 Axes>"
      ]
     },
     "metadata": {
      "needs_background": "light"
     },
     "output_type": "display_data"
    }
   ],
   "source": [
    "df_results_mean = pd.DataFrame(results_mean)\n",
    "df_results_std = pd.DataFrame(results_std)\n",
    "df_results_mean.plot.bar(logy=True, figsize=(15, 5))"
   ]
  },
  {
   "cell_type": "code",
   "execution_count": 25,
   "metadata": {},
   "outputs": [],
   "source": [
    "# from sklearn.svm import SVR\n",
    "# benchmark_models = {\n",
    "#     'mlp': MLPClassifier(\n",
    "#         hidden_layer_sizes=(1024,), max_iter=1024, solver='sgd',\n",
    "#         learning_rate='adaptive',\n",
    "#         activation='relu',\n",
    "#     ),\n",
    "#     'log_reg': LogisticRegression(multi_class='auto', solver='lbfgs'),\n",
    "# }\n",
    "\n",
    "# results = dict()\n",
    "\n",
    "# results = process_benchmarks(benchmark_models, x, y.ravel(), augment_data=None)\n",
    "\n",
    "# results_mean = {key: item.mean() for key, item in results.items()}\n",
    "# results_std = {key: item.std() for key, item in results.items()}\n",
    "# results_df = pd.DataFrame(results_mean).T\n",
    "# results_df.sort_values(\"avg_loss_ratio\", inplace=True)\n",
    "# results_df"
   ]
  },
  {
   "cell_type": "code",
   "execution_count": null,
   "metadata": {},
   "outputs": [],
   "source": []
  },
  {
   "cell_type": "code",
   "execution_count": 26,
   "metadata": {},
   "outputs": [
    {
     "name": "stdout",
     "output_type": "stream",
     "text": [
      "[50.]\n",
      "acc:  0.8171524267127579\n",
      "[50.]\n",
      "val_acc:  0.8007252531544029\n"
     ]
    }
   ],
   "source": [
    "from core.models.metrics import avg_gain_ratio\n",
    "clf = ClusterExtModel(base_model=\"meanshift\")\n",
    "xTrain, xTest, yTrain, yTest = train_test_split(x, y)\n",
    "clf.fit(xTrain, yTrain)\n",
    "\n",
    "# clf = EMModel()\n",
    "xTrain, xTest, yTrain, yTest = train_test_split(x, y)\n",
    "clf.fit(xTrain, yTrain)\n",
    "\n",
    "yPred = clf.predict(xTrain)\n",
    "\n",
    "print(np.unique(yPred))\n",
    "\n",
    "print(\"acc: \", avg_gain_ratio(yTrain, yPred))\n",
    "yPred = clf.predict(xTest)\n",
    "print(np.unique(yPred))\n",
    "print(\"val_acc: \", avg_gain_ratio(yTest, yPred))"
   ]
  },
  {
   "cell_type": "code",
   "execution_count": 27,
   "metadata": {},
   "outputs": [
    {
     "name": "stdout",
     "output_type": "stream",
     "text": [
      "WARNING:tensorflow:From /home/franck/anaconda3/envs/thesis/lib/python3.6/site-packages/tensorflow/python/framework/op_def_library.py:263: colocate_with (from tensorflow.python.framework.ops) is deprecated and will be removed in a future version.\n",
      "Instructions for updating:\n",
      "Colocations handled automatically by placer.\n",
      "WARNING:tensorflow:From /home/franck/anaconda3/envs/thesis/lib/python3.6/site-packages/tensorflow/python/ops/math_ops.py:3066: to_int32 (from tensorflow.python.ops.math_ops) is deprecated and will be removed in a future version.\n",
      "Instructions for updating:\n",
      "Use tf.cast instead.\n"
     ]
    },
    {
     "name": "stderr",
     "output_type": "stream",
     "text": [
      "/home/franck/anaconda3/envs/thesis/lib/python3.6/site-packages/sklearn/utils/validation.py:724: DataConversionWarning: A column-vector y was passed when a 1d array was expected. Please change the shape of y to (n_samples, ), for example using ravel().\n",
      "  y = column_or_1d(y, warn=True)\n",
      "/home/franck/anaconda3/envs/thesis/lib/python3.6/site-packages/sklearn/ensemble/forest.py:245: FutureWarning: The default value of n_estimators will change from 10 in version 0.20 to 100 in 0.22.\n",
      "  \"10 in version 0.20 to 100 in 0.22.\", FutureWarning)\n",
      "/home/franck/anaconda3/envs/thesis/lib/python3.6/site-packages/sklearn/utils/validation.py:724: DataConversionWarning: A column-vector y was passed when a 1d array was expected. Please change the shape of y to (n_samples, ), for example using ravel().\n",
      "  y = column_or_1d(y, warn=True)\n",
      "/home/franck/anaconda3/envs/thesis/lib/python3.6/site-packages/sklearn/ensemble/forest.py:245: FutureWarning: The default value of n_estimators will change from 10 in version 0.20 to 100 in 0.22.\n",
      "  \"10 in version 0.20 to 100 in 0.22.\", FutureWarning)\n",
      "/home/franck/anaconda3/envs/thesis/lib/python3.6/site-packages/sklearn/utils/validation.py:724: DataConversionWarning: A column-vector y was passed when a 1d array was expected. Please change the shape of y to (n_samples, ), for example using ravel().\n",
      "  y = column_or_1d(y, warn=True)\n",
      "/home/franck/anaconda3/envs/thesis/lib/python3.6/site-packages/sklearn/ensemble/forest.py:245: FutureWarning: The default value of n_estimators will change from 10 in version 0.20 to 100 in 0.22.\n",
      "  \"10 in version 0.20 to 100 in 0.22.\", FutureWarning)\n",
      "/home/franck/anaconda3/envs/thesis/lib/python3.6/site-packages/sklearn/utils/validation.py:724: DataConversionWarning: A column-vector y was passed when a 1d array was expected. Please change the shape of y to (n_samples, ), for example using ravel().\n",
      "  y = column_or_1d(y, warn=True)\n",
      "/home/franck/anaconda3/envs/thesis/lib/python3.6/site-packages/sklearn/ensemble/forest.py:245: FutureWarning: The default value of n_estimators will change from 10 in version 0.20 to 100 in 0.22.\n",
      "  \"10 in version 0.20 to 100 in 0.22.\", FutureWarning)\n",
      "/home/franck/anaconda3/envs/thesis/lib/python3.6/site-packages/sklearn/utils/validation.py:724: DataConversionWarning: A column-vector y was passed when a 1d array was expected. Please change the shape of y to (n_samples, ), for example using ravel().\n",
      "  y = column_or_1d(y, warn=True)\n",
      "/home/franck/anaconda3/envs/thesis/lib/python3.6/site-packages/sklearn/ensemble/forest.py:245: FutureWarning: The default value of n_estimators will change from 10 in version 0.20 to 100 in 0.22.\n",
      "  \"10 in version 0.20 to 100 in 0.22.\", FutureWarning)\n"
     ]
    },
    {
     "data": {
      "text/html": [
       "<div>\n",
       "<style scoped>\n",
       "    .dataframe tbody tr th:only-of-type {\n",
       "        vertical-align: middle;\n",
       "    }\n",
       "\n",
       "    .dataframe tbody tr th {\n",
       "        vertical-align: top;\n",
       "    }\n",
       "\n",
       "    .dataframe thead th {\n",
       "        text-align: right;\n",
       "    }\n",
       "</style>\n",
       "<table border=\"1\" class=\"dataframe\">\n",
       "  <thead>\n",
       "    <tr style=\"text-align: right;\">\n",
       "      <th></th>\n",
       "      <th>avg_loss</th>\n",
       "      <th>avg_loss_ratio</th>\n",
       "      <th>avg_win_loss</th>\n",
       "      <th>invariance</th>\n",
       "      <th>loss_sum</th>\n",
       "      <th>mse</th>\n",
       "      <th>rejection_ratio</th>\n",
       "    </tr>\n",
       "  </thead>\n",
       "  <tbody>\n",
       "    <tr>\n",
       "      <th>em</th>\n",
       "      <td>11.771429</td>\n",
       "      <td>0.187675</td>\n",
       "      <td>11.537176</td>\n",
       "      <td>1.000000</td>\n",
       "      <td>242.000000</td>\n",
       "      <td>386.095238</td>\n",
       "      <td>0.049048</td>\n",
       "    </tr>\n",
       "    <tr>\n",
       "      <th>svc</th>\n",
       "      <td>11.771429</td>\n",
       "      <td>0.187675</td>\n",
       "      <td>11.537176</td>\n",
       "      <td>1.000000</td>\n",
       "      <td>242.000000</td>\n",
       "      <td>386.095238</td>\n",
       "      <td>0.049048</td>\n",
       "    </tr>\n",
       "    <tr>\n",
       "      <th>cluster-meanshift</th>\n",
       "      <td>11.771429</td>\n",
       "      <td>0.187675</td>\n",
       "      <td>11.537176</td>\n",
       "      <td>1.000000</td>\n",
       "      <td>242.000000</td>\n",
       "      <td>386.095238</td>\n",
       "      <td>0.049048</td>\n",
       "    </tr>\n",
       "    <tr>\n",
       "      <th>random_forest</th>\n",
       "      <td>14.404762</td>\n",
       "      <td>0.242525</td>\n",
       "      <td>11.871596</td>\n",
       "      <td>0.495441</td>\n",
       "      <td>296.000000</td>\n",
       "      <td>515.904762</td>\n",
       "      <td>0.107619</td>\n",
       "    </tr>\n",
       "    <tr>\n",
       "      <th>random</th>\n",
       "      <td>36.349643</td>\n",
       "      <td>0.659751</td>\n",
       "      <td>22.425838</td>\n",
       "      <td>0.192168</td>\n",
       "      <td>747.912511</td>\n",
       "      <td>1761.290669</td>\n",
       "      <td>0.506190</td>\n",
       "    </tr>\n",
       "    <tr>\n",
       "      <th>acceptance_model</th>\n",
       "      <td>38.166667</td>\n",
       "      <td>0.706664</td>\n",
       "      <td>16.913781</td>\n",
       "      <td>0.231395</td>\n",
       "      <td>787.000000</td>\n",
       "      <td>1921.880952</td>\n",
       "      <td>0.640476</td>\n",
       "    </tr>\n",
       "    <tr>\n",
       "      <th>linear_regressor</th>\n",
       "      <td>42.320793</td>\n",
       "      <td>0.739311</td>\n",
       "      <td>34.335815</td>\n",
       "      <td>0.152042</td>\n",
       "      <td>871.976648</td>\n",
       "      <td>2250.104788</td>\n",
       "      <td>0.457143</td>\n",
       "    </tr>\n",
       "    <tr>\n",
       "      <th>conservative</th>\n",
       "      <td>54.466667</td>\n",
       "      <td>0.916466</td>\n",
       "      <td>56.149749</td>\n",
       "      <td>1.000000</td>\n",
       "      <td>1122.000000</td>\n",
       "      <td>3288.595238</td>\n",
       "      <td>0.029524</td>\n",
       "    </tr>\n",
       "    <tr>\n",
       "      <th>nn</th>\n",
       "      <td>70.657806</td>\n",
       "      <td>2.762896</td>\n",
       "      <td>71.288667</td>\n",
       "      <td>0.135331</td>\n",
       "      <td>1458.395067</td>\n",
       "      <td>7297.358836</td>\n",
       "      <td>0.009524</td>\n",
       "    </tr>\n",
       "  </tbody>\n",
       "</table>\n",
       "</div>"
      ],
      "text/plain": [
       "                    avg_loss  avg_loss_ratio  avg_win_loss  invariance  \\\n",
       "em                 11.771429        0.187675     11.537176    1.000000   \n",
       "svc                11.771429        0.187675     11.537176    1.000000   \n",
       "cluster-meanshift  11.771429        0.187675     11.537176    1.000000   \n",
       "random_forest      14.404762        0.242525     11.871596    0.495441   \n",
       "random             36.349643        0.659751     22.425838    0.192168   \n",
       "acceptance_model   38.166667        0.706664     16.913781    0.231395   \n",
       "linear_regressor   42.320793        0.739311     34.335815    0.152042   \n",
       "conservative       54.466667        0.916466     56.149749    1.000000   \n",
       "nn                 70.657806        2.762896     71.288667    0.135331   \n",
       "\n",
       "                      loss_sum          mse  rejection_ratio  \n",
       "em                  242.000000   386.095238         0.049048  \n",
       "svc                 242.000000   386.095238         0.049048  \n",
       "cluster-meanshift   242.000000   386.095238         0.049048  \n",
       "random_forest       296.000000   515.904762         0.107619  \n",
       "random              747.912511  1761.290669         0.506190  \n",
       "acceptance_model    787.000000  1921.880952         0.640476  \n",
       "linear_regressor    871.976648  2250.104788         0.457143  \n",
       "conservative       1122.000000  3288.595238         0.029524  \n",
       "nn                 1458.395067  7297.358836         0.009524  "
      ]
     },
     "execution_count": 27,
     "metadata": {},
     "output_type": "execute_result"
    }
   ],
   "source": [
    "benchmark_models = {\n",
    "    #Featureless:\n",
    "    \"random\": RandomModel(MAX_GAIN),\n",
    "    \"conservative\": ConservativeModel(MAX_GAIN),\n",
    "    \"em\": EMModel(MAX_GAIN),\n",
    "    \"svc\": SVC(gamma='auto'),\n",
    "    \"cluster-meanshift\": ClusterExtModel(base_model=\"meanshift\"),\n",
    "    \"linear_regressor\": LinearRegression(copy_X=False),\n",
    "    \"nn\": KerasModel(no_hidden_layer=False, epochs=500),\n",
    "#     \"nn_regression\": KerasModel(batch_size=30, epochs=200),\n",
    "    'acceptance_model': AcceptanceModel(SVC(gamma='auto')),   #step=10, zero_one=True),\n",
    "    # Classification\n",
    "    \"random_forest\": RandomForestClassifier(min_samples_leaf=5),#max_depth=3, random_state=0, n_estimators=10),\n",
    "}\n",
    "\n",
    "results = dict()\n",
    "\n",
    "results = process_benchmarks(benchmark_models, x, y.ravel(), augment_data=[None])\n",
    "\n",
    "results_mean = {key: item.mean() for key, item in results.items()}\n",
    "results_std = {key: item.std() for key, item in results.items()}\n",
    "results_df = pd.DataFrame(results_mean).T\n",
    "results_df.sort_values(\"avg_loss_ratio\", inplace=True)\n",
    "results_df"
   ]
  },
  {
   "cell_type": "code",
   "execution_count": 28,
   "metadata": {},
   "outputs": [
    {
     "name": "stdout",
     "output_type": "stream",
     "text": [
      "\\begin{tabular}{lrrrrr}\n",
      "\\toprule\n",
      "{} &  avg\\_loss &  avg\\_loss\\_ratio &  avg\\_win\\_loss &  invariance &  rejection\\_ratio \\\\\n",
      "\\midrule\n",
      "em                &     11.77 &            0.19 &         11.54 &        1.00 &             0.05 \\\\\n",
      "svc               &     11.77 &            0.19 &         11.54 &        1.00 &             0.05 \\\\\n",
      "cluster-meanshift &     11.77 &            0.19 &         11.54 &        1.00 &             0.05 \\\\\n",
      "random\\_forest     &     14.40 &            0.24 &         11.87 &        0.50 &             0.11 \\\\\n",
      "random            &     36.35 &            0.66 &         22.43 &        0.19 &             0.51 \\\\\n",
      "acceptance\\_model  &     38.17 &            0.71 &         16.91 &        0.23 &             0.64 \\\\\n",
      "linear\\_regressor  &     42.32 &            0.74 &         34.34 &        0.15 &             0.46 \\\\\n",
      "conservative      &     54.47 &            0.92 &         56.15 &        1.00 &             0.03 \\\\\n",
      "nn                &     70.66 &            2.76 &         71.29 &        0.14 &             0.01 \\\\\n",
      "\\bottomrule\n",
      "\\end{tabular}\n",
      "\n"
     ]
    }
   ],
   "source": [
    "results_df = results_df[[col for col in results_df.columns if col not in [\"loss_sum\", \"mse\"]]]\n",
    "\n",
    "print(results_df.to_latex(float_format=\"%.2f\"))"
   ]
  },
  {
   "cell_type": "code",
   "execution_count": null,
   "metadata": {},
   "outputs": [],
   "source": []
  }
 ],
 "metadata": {
  "kernelspec": {
   "display_name": "Python 3",
   "language": "python",
   "name": "python3"
  },
  "language_info": {
   "codemirror_mode": {
    "name": "ipython",
    "version": 3
   },
   "file_extension": ".py",
   "mimetype": "text/x-python",
   "name": "python",
   "nbconvert_exporter": "python",
   "pygments_lexer": "ipython3",
   "version": "3.6.8"
  }
 },
 "nbformat": 4,
 "nbformat_minor": 2
}
