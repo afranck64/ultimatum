{
 "cells": [
  {
   "cell_type": "markdown",
   "metadata": {},
   "source": [
    "## Features reduction"
   ]
  },
  {
   "cell_type": "code",
   "execution_count": 1,
   "metadata": {},
   "outputs": [
    {
     "name": "stderr",
     "output_type": "stream",
     "text": [
      "/home/franck/anaconda3/envs/thesis/lib/python3.6/site-packages/sklearn/externals/six.py:31: DeprecationWarning: The module is deprecated in version 0.21 and will be removed in version 0.23 since we've dropped support for Python 2.7. Please rely on the official version of six (https://pypi.org/project/six/).\n",
      "  \"(https://pypi.org/project/six/).\", DeprecationWarning)\n"
     ]
    }
   ],
   "source": [
    "import os\n",
    "import sys\n",
    "module_path = os.path.abspath(os.path.join('..'))\n",
    "if module_path not in sys.path:\n",
    "    sys.path.append(module_path)\n",
    "\n",
    "import pandas as pd\n",
    "%matplotlib inline\n",
    "import matplotlib.pyplot as plt\n",
    "import numpy as np\n",
    "from IPython.display import display\n",
    "from sklearn.model_selection import train_test_split\n",
    "from sklearn.metrics import r2_score\n",
    "import seaborn as sb\n",
    "import imblearn\n",
    "\n",
    "from core.utils.preprocessing import df_to_xydf, df_to_xy\n",
    "\n",
    "# Read and sanitize the data\n",
    "df = pd.read_csv(\"../data/t00/data_t00.csv\")\n",
    "df_full = df.copy()\n",
    "drop_cols = [\"worker_id\", \"resp_worker_id\", \"prop_worker_id\", \"updated\", \"status\", \"job_id\", \"status\", \"timestamp\", \"rowid\", \"offer_dss\", \"offer\", \"offer_final\"]\n",
    "df = df[[col for col in df.columns if col not in drop_cols]]\n",
    "df = df.dropna()\n",
    "\n",
    "cols = [col for col in df.columns if col != \"min_offer\"] + [\"min_offer\"]\n"
   ]
  },
  {
   "cell_type": "markdown",
   "metadata": {},
   "source": [
    "## Determine significant features"
   ]
  },
  {
   "cell_type": "markdown",
   "metadata": {},
   "source": [
    "**Feature importance permutation**"
   ]
  },
  {
   "cell_type": "code",
   "execution_count": 2,
   "metadata": {},
   "outputs": [],
   "source": [
    "from core.utils.preprocessing import df_to_xy, df_to_xydf\n",
    "from core.models import AcceptanceModel\n",
    "from core.utils.benchmark import process_model, process_benchmark_cv\n",
    "from mlxtend.evaluate import feature_importance_permutation"
   ]
  },
  {
   "cell_type": "markdown",
   "metadata": {},
   "source": [
    "## Train model with top features"
   ]
  },
  {
   "cell_type": "code",
   "execution_count": 3,
   "metadata": {},
   "outputs": [
    {
     "name": "stdout",
     "output_type": "stream",
     "text": [
      "(['cpc_q2'], 0.18823433631342437)\n"
     ]
    }
   ],
   "source": [
    "from core.models import AcceptanceModel, EMModel\n",
    "from sklearn.neighbors import KNeighborsClassifier, RadiusNeighborsClassifier\n",
    "from sklearn.ensemble import BaggingClassifier\n",
    "from core.utils.selection import ffs\n",
    "\n",
    "model = BaggingClassifier()\n",
    "tmp = ffs(model, df, cv=3)\n",
    "print(tmp)"
   ]
  },
  {
   "cell_type": "code",
   "execution_count": 4,
   "metadata": {},
   "outputs": [],
   "source": [
    "X, y = df_to_xy(df, select_columns=['cpc_q7', 'ras_q21', 'ras_q5'])\n",
    "X, y = df_to_xy(df, select_columns=['cpc_expected_value', 'ras_q3'])"
   ]
  },
  {
   "cell_type": "code",
   "execution_count": 5,
   "metadata": {},
   "outputs": [
    {
     "name": "stderr",
     "output_type": "stream",
     "text": [
      "/home/franck/anaconda3/envs/thesis/lib/python3.6/site-packages/sklearn/ensemble/bagging.py:623: DataConversionWarning: A column-vector y was passed when a 1d array was expected. Please change the shape of y to (n_samples, ), for example using ravel().\n",
      "  y = column_or_1d(y, warn=True)\n"
     ]
    },
    {
     "data": {
      "text/plain": [
       "array([  0,   5,  10,  20,  25,  30,  35,  40,  45,  50,  55,  60, 100])"
      ]
     },
     "execution_count": 5,
     "metadata": {},
     "output_type": "execute_result"
    }
   ],
   "source": [
    "model.fit(X, y)\n",
    "np.unique(model.predict(X))"
   ]
  },
  {
   "cell_type": "code",
   "execution_count": 6,
   "metadata": {},
   "outputs": [
    {
     "data": {
      "text/plain": [
       "50     41\n",
       "40     20\n",
       "45      8\n",
       "5       8\n",
       "35      5\n",
       "30      4\n",
       "100     3\n",
       "20      3\n",
       "25      2\n",
       "10      2\n",
       "0       2\n",
       "60      1\n",
       "55      1\n",
       "Name: min_offer, dtype: int64"
      ]
     },
     "execution_count": 6,
     "metadata": {},
     "output_type": "execute_result"
    }
   ],
   "source": [
    "df.min_offer.value_counts()"
   ]
  },
  {
   "cell_type": "code",
   "execution_count": 7,
   "metadata": {},
   "outputs": [],
   "source": [
    "from sklearn.linear_model import LogisticRegression, PassiveAggressiveClassifier, PassiveAggressiveRegressor, SGDClassifier\n",
    "from sklearn.ensemble import BaggingClassifier, RandomForestClassifier\n",
    "from core.models import AcceptanceModel, ClusterModel, ClusterExtModel\n",
    "from core.utils.selection import ffs\n",
    "from core.utils.selection import select_corr_columns\n",
    "\n",
    "selected_columns = select_corr_columns(df)\n",
    "selected_columns = None\n",
    "model = ClusterExtModel()\n",
    "# model = EMModel()\n",
    "\n",
    "# tmp = ffs(model, df, selected_columns=selected_columns, cv=3)\n",
    "# tmp"
   ]
  },
  {
   "cell_type": "code",
   "execution_count": 8,
   "metadata": {},
   "outputs": [
    {
     "name": "stdout",
     "output_type": "stream",
     "text": [
      "UNIQUE:  [40 50]\n",
      "0.22762533227006912\n"
     ]
    },
    {
     "data": {
      "text/html": [
       "<div>\n",
       "<style scoped>\n",
       "    .dataframe tbody tr th:only-of-type {\n",
       "        vertical-align: middle;\n",
       "    }\n",
       "\n",
       "    .dataframe tbody tr th {\n",
       "        vertical-align: top;\n",
       "    }\n",
       "\n",
       "    .dataframe thead th {\n",
       "        text-align: right;\n",
       "    }\n",
       "</style>\n",
       "<table border=\"1\" class=\"dataframe\">\n",
       "  <thead>\n",
       "    <tr style=\"text-align: right;\">\n",
       "      <th></th>\n",
       "      <th>avg_loss</th>\n",
       "      <th>avg_loss_ratio</th>\n",
       "      <th>avg_win_loss</th>\n",
       "      <th>invariance</th>\n",
       "      <th>loss_sum</th>\n",
       "      <th>mse</th>\n",
       "      <th>rejection_ratio</th>\n",
       "    </tr>\n",
       "  </thead>\n",
       "  <tbody>\n",
       "    <tr>\n",
       "      <th>0</th>\n",
       "      <td>13.25</td>\n",
       "      <td>0.245324</td>\n",
       "      <td>12.500000</td>\n",
       "      <td>1.000000</td>\n",
       "      <td>265</td>\n",
       "      <td>433.75</td>\n",
       "      <td>0.1</td>\n",
       "    </tr>\n",
       "    <tr>\n",
       "      <th>1</th>\n",
       "      <td>12.50</td>\n",
       "      <td>0.199364</td>\n",
       "      <td>8.055556</td>\n",
       "      <td>0.346065</td>\n",
       "      <td>250</td>\n",
       "      <td>455.00</td>\n",
       "      <td>0.1</td>\n",
       "    </tr>\n",
       "    <tr>\n",
       "      <th>2</th>\n",
       "      <td>10.00</td>\n",
       "      <td>0.115231</td>\n",
       "      <td>10.000000</td>\n",
       "      <td>0.366025</td>\n",
       "      <td>200</td>\n",
       "      <td>377.50</td>\n",
       "      <td>0.0</td>\n",
       "    </tr>\n",
       "    <tr>\n",
       "      <th>3</th>\n",
       "      <td>14.50</td>\n",
       "      <td>0.251902</td>\n",
       "      <td>13.333333</td>\n",
       "      <td>0.346065</td>\n",
       "      <td>290</td>\n",
       "      <td>500.00</td>\n",
       "      <td>0.1</td>\n",
       "    </tr>\n",
       "    <tr>\n",
       "      <th>4</th>\n",
       "      <td>16.75</td>\n",
       "      <td>0.326306</td>\n",
       "      <td>11.875000</td>\n",
       "      <td>0.324581</td>\n",
       "      <td>335</td>\n",
       "      <td>593.75</td>\n",
       "      <td>0.2</td>\n",
       "    </tr>\n",
       "  </tbody>\n",
       "</table>\n",
       "</div>"
      ],
      "text/plain": [
       "   avg_loss  avg_loss_ratio  avg_win_loss  invariance  loss_sum     mse  \\\n",
       "0     13.25        0.245324     12.500000    1.000000       265  433.75   \n",
       "1     12.50        0.199364      8.055556    0.346065       250  455.00   \n",
       "2     10.00        0.115231     10.000000    0.366025       200  377.50   \n",
       "3     14.50        0.251902     13.333333    0.346065       290  500.00   \n",
       "4     16.75        0.326306     11.875000    0.324581       335  593.75   \n",
       "\n",
       "   rejection_ratio  \n",
       "0              0.1  \n",
       "1              0.1  \n",
       "2              0.0  \n",
       "3              0.1  \n",
       "4              0.2  "
      ]
     },
     "execution_count": 8,
     "metadata": {},
     "output_type": "execute_result"
    }
   ],
   "source": [
    "from core.utils.benchmark import process_benchmark_cv\n",
    "# model_svc = SVC(gamma=\"auto\")\n",
    "model_svc = LogisticRegression(multi_class=\"auto\", solver=\"lbfgs\")\n",
    "# model_svc = EMModel()\n",
    "# model_svc = AcceptanceModel()\n",
    "# linear’, ‘poly’, ‘rbf’, ‘sigmoid’\n",
    "X, y = df_to_xy(df, select_columns=['cpc_expected_value', 'ras_q3'], centered=True, normalize=True)\n",
    "# X, y = df_to_xy(df, select_columns=['cpc_q7', 'ras_q21', 'ras_q3'])\n",
    "X, y = df_to_xy(df, select_columns=['cpc_q7', 'cc_beta', 'ras_q8', 'ras_q21', 'cpc_expected_value_max'], centered=False, normalize=True)\n",
    "y = y.ravel()\n",
    "model_svc.fit(X, y)\n",
    "print(\"UNIQUE: \", np.unique(model_svc.predict(X)))\n",
    "res = process_benchmark_cv(model_svc, X, y)\n",
    "print(res.avg_loss_ratio.mean())\n",
    "res"
   ]
  },
  {
   "cell_type": "code",
   "execution_count": 9,
   "metadata": {},
   "outputs": [
    {
     "name": "stdout",
     "output_type": "stream",
     "text": [
      "0.19027338597075433\n"
     ]
    },
    {
     "data": {
      "text/html": [
       "<div>\n",
       "<style scoped>\n",
       "    .dataframe tbody tr th:only-of-type {\n",
       "        vertical-align: middle;\n",
       "    }\n",
       "\n",
       "    .dataframe tbody tr th {\n",
       "        vertical-align: top;\n",
       "    }\n",
       "\n",
       "    .dataframe thead th {\n",
       "        text-align: right;\n",
       "    }\n",
       "</style>\n",
       "<table border=\"1\" class=\"dataframe\">\n",
       "  <thead>\n",
       "    <tr style=\"text-align: right;\">\n",
       "      <th></th>\n",
       "      <th>avg_loss</th>\n",
       "      <th>avg_loss_ratio</th>\n",
       "      <th>avg_win_loss</th>\n",
       "      <th>invariance</th>\n",
       "      <th>loss_sum</th>\n",
       "      <th>mse</th>\n",
       "      <th>rejection_ratio</th>\n",
       "    </tr>\n",
       "  </thead>\n",
       "  <tbody>\n",
       "    <tr>\n",
       "      <th>0</th>\n",
       "      <td>10.75</td>\n",
       "      <td>0.206801</td>\n",
       "      <td>9.444444</td>\n",
       "      <td>1.000000</td>\n",
       "      <td>215.0</td>\n",
       "      <td>383.75</td>\n",
       "      <td>0.10</td>\n",
       "    </tr>\n",
       "    <tr>\n",
       "      <th>1</th>\n",
       "      <td>10.50</td>\n",
       "      <td>0.145041</td>\n",
       "      <td>10.500000</td>\n",
       "      <td>1.000000</td>\n",
       "      <td>210.0</td>\n",
       "      <td>267.50</td>\n",
       "      <td>0.00</td>\n",
       "    </tr>\n",
       "    <tr>\n",
       "      <th>2</th>\n",
       "      <td>13.25</td>\n",
       "      <td>0.264495</td>\n",
       "      <td>14.722222</td>\n",
       "      <td>1.000000</td>\n",
       "      <td>265.0</td>\n",
       "      <td>446.25</td>\n",
       "      <td>0.10</td>\n",
       "    </tr>\n",
       "    <tr>\n",
       "      <th>3</th>\n",
       "      <td>9.50</td>\n",
       "      <td>0.152050</td>\n",
       "      <td>7.894737</td>\n",
       "      <td>1.000000</td>\n",
       "      <td>190.0</td>\n",
       "      <td>275.00</td>\n",
       "      <td>0.05</td>\n",
       "    </tr>\n",
       "    <tr>\n",
       "      <th>4</th>\n",
       "      <td>14.50</td>\n",
       "      <td>0.182981</td>\n",
       "      <td>14.500000</td>\n",
       "      <td>0.403829</td>\n",
       "      <td>290.0</td>\n",
       "      <td>477.50</td>\n",
       "      <td>0.00</td>\n",
       "    </tr>\n",
       "  </tbody>\n",
       "</table>\n",
       "</div>"
      ],
      "text/plain": [
       "   avg_loss  avg_loss_ratio  avg_win_loss  invariance  loss_sum     mse  \\\n",
       "0     10.75        0.206801      9.444444    1.000000     215.0  383.75   \n",
       "1     10.50        0.145041     10.500000    1.000000     210.0  267.50   \n",
       "2     13.25        0.264495     14.722222    1.000000     265.0  446.25   \n",
       "3      9.50        0.152050      7.894737    1.000000     190.0  275.00   \n",
       "4     14.50        0.182981     14.500000    0.403829     290.0  477.50   \n",
       "\n",
       "   rejection_ratio  \n",
       "0             0.10  \n",
       "1             0.00  \n",
       "2             0.10  \n",
       "3             0.05  \n",
       "4             0.00  "
      ]
     },
     "execution_count": 9,
     "metadata": {},
     "output_type": "execute_result"
    }
   ],
   "source": [
    "from sklearn.cluster import KMeans, MeanShift\n",
    "from core.models import ClusterExtModel\n",
    "from core.models.metrics import avg_loss_ratio\n",
    "from core.utils.benchmark import process_benchmark_cv\n",
    "\n",
    "\n",
    "\n",
    "X, y = df_to_xy(df.sample(frac=1.0))\n",
    "# clf.fit(X)\n",
    "# clf.cluster_centers_\n",
    "\n",
    "clf = MeanShift(2.9)\n",
    "model = ClusterExtModel(base_model=clf)\n",
    "# model.fit(X, y)\n",
    "# avg_loss_ratio(y, model.predict(X))\n",
    "\n",
    "res = process_benchmark_cv(model, X, y)\n",
    "print(res.avg_loss_ratio.mean())\n",
    "res"
   ]
  },
  {
   "cell_type": "code",
   "execution_count": 10,
   "metadata": {},
   "outputs": [
    {
     "data": {
      "text/plain": [
       "array([  62.47192597, -106.0618868 ,   51.62753472,   34.22202852])"
      ]
     },
     "execution_count": 10,
     "metadata": {},
     "output_type": "execute_result"
    }
   ],
   "source": [
    "f = np.polyfit(X[:, 0], y.ravel(), 3)\n",
    "f"
   ]
  },
  {
   "cell_type": "code",
   "execution_count": 11,
   "metadata": {},
   "outputs": [],
   "source": [
    "from sklearn.linear_model import LogisticRegression, SGDClassifier, PassiveAggressiveClassifier\n",
    "from sklearn.naive_bayes import GaussianNB\n",
    "from sklearn.svm import LinearSVC\n",
    "from sklearn.ensemble import RandomForestClassifier, VotingClassifier\n",
    "clf1 = LinearSVC()\n",
    "clf2 = RandomForestClassifier(n_estimators=50, random_state=1)\n",
    "clf3 = PassiveAggressiveClassifier()\n",
    "eclf1 = VotingClassifier(estimators=[('lr', clf1), ('rf', clf2), ('gnb', clf3)], voting='hard')\n",
    "\n",
    "\n",
    "X, y = df_to_xy(df.sample(frac=1.0))\n",
    "y = y.ravel()\n",
    "# res = process_benchmark_cv(clf1, X, y)\n",
    "# print(res.avg_loss_ratio.mean())\n",
    "# res\n",
    "# tmp = ffs(model, df, cv=3)\n",
    "# tmp"
   ]
  },
  {
   "cell_type": "code",
   "execution_count": 97,
   "metadata": {},
   "outputs": [
    {
     "name": "stdout",
     "output_type": "stream",
     "text": [
      "0.1882733859707544\n"
     ]
    },
    {
     "data": {
      "text/html": [
       "<div>\n",
       "<style scoped>\n",
       "    .dataframe tbody tr th:only-of-type {\n",
       "        vertical-align: middle;\n",
       "    }\n",
       "\n",
       "    .dataframe tbody tr th {\n",
       "        vertical-align: top;\n",
       "    }\n",
       "\n",
       "    .dataframe thead th {\n",
       "        text-align: right;\n",
       "    }\n",
       "</style>\n",
       "<table border=\"1\" class=\"dataframe\">\n",
       "  <thead>\n",
       "    <tr style=\"text-align: right;\">\n",
       "      <th></th>\n",
       "      <th>avg_loss</th>\n",
       "      <th>avg_loss_ratio</th>\n",
       "      <th>avg_win_loss</th>\n",
       "      <th>invariance</th>\n",
       "      <th>loss_sum</th>\n",
       "      <th>mse</th>\n",
       "      <th>rejection_ratio</th>\n",
       "    </tr>\n",
       "  </thead>\n",
       "  <tbody>\n",
       "    <tr>\n",
       "      <th>0</th>\n",
       "      <td>15.50</td>\n",
       "      <td>0.213422</td>\n",
       "      <td>13.947368</td>\n",
       "      <td>1.0</td>\n",
       "      <td>310</td>\n",
       "      <td>560.00</td>\n",
       "      <td>0.05</td>\n",
       "    </tr>\n",
       "    <tr>\n",
       "      <th>1</th>\n",
       "      <td>11.50</td>\n",
       "      <td>0.151697</td>\n",
       "      <td>11.500000</td>\n",
       "      <td>1.0</td>\n",
       "      <td>230</td>\n",
       "      <td>327.50</td>\n",
       "      <td>0.00</td>\n",
       "    </tr>\n",
       "    <tr>\n",
       "      <th>2</th>\n",
       "      <td>11.25</td>\n",
       "      <td>0.267026</td>\n",
       "      <td>10.882353</td>\n",
       "      <td>1.0</td>\n",
       "      <td>225</td>\n",
       "      <td>383.75</td>\n",
       "      <td>0.15</td>\n",
       "    </tr>\n",
       "    <tr>\n",
       "      <th>3</th>\n",
       "      <td>9.75</td>\n",
       "      <td>0.177019</td>\n",
       "      <td>10.263158</td>\n",
       "      <td>1.0</td>\n",
       "      <td>195</td>\n",
       "      <td>283.75</td>\n",
       "      <td>0.05</td>\n",
       "    </tr>\n",
       "    <tr>\n",
       "      <th>4</th>\n",
       "      <td>10.00</td>\n",
       "      <td>0.132202</td>\n",
       "      <td>10.000000</td>\n",
       "      <td>1.0</td>\n",
       "      <td>200</td>\n",
       "      <td>290.00</td>\n",
       "      <td>0.00</td>\n",
       "    </tr>\n",
       "  </tbody>\n",
       "</table>\n",
       "</div>"
      ],
      "text/plain": [
       "   avg_loss  avg_loss_ratio  avg_win_loss  invariance  loss_sum     mse  \\\n",
       "0     15.50        0.213422     13.947368         1.0       310  560.00   \n",
       "1     11.50        0.151697     11.500000         1.0       230  327.50   \n",
       "2     11.25        0.267026     10.882353         1.0       225  383.75   \n",
       "3      9.75        0.177019     10.263158         1.0       195  283.75   \n",
       "4     10.00        0.132202     10.000000         1.0       200  290.00   \n",
       "\n",
       "   rejection_ratio  \n",
       "0             0.05  \n",
       "1             0.00  \n",
       "2             0.15  \n",
       "3             0.05  \n",
       "4             0.00  "
      ]
     },
     "execution_count": 97,
     "metadata": {},
     "output_type": "execute_result"
    }
   ],
   "source": [
    "from core.models.split import SplitModel\n",
    "from core.models import ClusterModel, ClusterExtModel\n",
    "from sklearn.linear_model import LogisticRegression, PassiveAggressiveRegressor, PassiveAggressiveClassifier\n",
    "from sklearn.ensemble import BaggingRegressor, RandomForestRegressor\n",
    "from sklearn.neighbors import KNeighborsRegressor, KNeighborsClassifier\n",
    "from sklearn.svm import LinearSVR, LinearSVC, SVC, SVR\n",
    "\n",
    "# base_model = LogisticRegression(solver=\"lbfgs\")\n",
    "base_model = SVR(gamma=\"auto\")\n",
    "base_model = BaggingRegressor(n_estimators=1)\n",
    "base_model = PassiveAggressiveClassifier()\n",
    "\n",
    "clf = SplitModel(base_model=base_model)\n",
    "X, y = df_to_xy(df.sample(frac=1.0))\n",
    "y = y.ravel()\n",
    "res = process_benchmark_cv(clf, X, y)\n",
    "print(res.avg_loss_ratio.mean())\n",
    "res"
   ]
  },
  {
   "cell_type": "code",
   "execution_count": 98,
   "metadata": {},
   "outputs": [
    {
     "data": {
      "text/plain": [
       "array([50])"
      ]
     },
     "execution_count": 98,
     "metadata": {},
     "output_type": "execute_result"
    }
   ],
   "source": [
    "clf.fit(X, y)\n",
    "np.unique(clf.predict(X))"
   ]
  },
  {
   "cell_type": "code",
   "execution_count": null,
   "metadata": {},
   "outputs": [],
   "source": []
  }
 ],
 "metadata": {
  "kernelspec": {
   "display_name": "Python 3",
   "language": "python",
   "name": "python3"
  },
  "language_info": {
   "codemirror_mode": {
    "name": "ipython",
    "version": 3
   },
   "file_extension": ".py",
   "mimetype": "text/x-python",
   "name": "python",
   "nbconvert_exporter": "python",
   "pygments_lexer": "ipython3",
   "version": "3.6.8"
  }
 },
 "nbformat": 4,
 "nbformat_minor": 2
}
