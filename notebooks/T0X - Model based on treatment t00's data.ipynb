{
 "cells": [
  {
   "cell_type": "markdown",
   "metadata": {},
   "source": [
    "## Treatment T10 Preparation"
   ]
  },
  {
   "cell_type": "code",
   "execution_count": 1,
   "metadata": {},
   "outputs": [
    {
     "data": {
      "text/html": [
       "<div>\n",
       "<style scoped>\n",
       "    .dataframe tbody tr th:only-of-type {\n",
       "        vertical-align: middle;\n",
       "    }\n",
       "\n",
       "    .dataframe tbody tr th {\n",
       "        vertical-align: top;\n",
       "    }\n",
       "\n",
       "    .dataframe thead th {\n",
       "        text-align: right;\n",
       "    }\n",
       "</style>\n",
       "<table border=\"1\" class=\"dataframe\">\n",
       "  <thead>\n",
       "    <tr style=\"text-align: right;\">\n",
       "      <th></th>\n",
       "      <th>cc_beta</th>\n",
       "      <th>cc_criterion</th>\n",
       "      <th>cc_false_alarm_avg_click_delay</th>\n",
       "      <th>cc_false_alarm_rate</th>\n",
       "      <th>cc_false_alarms</th>\n",
       "      <th>cc_hit_avg_click_delay</th>\n",
       "      <th>cc_hit_rate</th>\n",
       "      <th>cc_hits</th>\n",
       "      <th>cc_sensitivity</th>\n",
       "      <th>cpc_expected_value</th>\n",
       "      <th>...</th>\n",
       "      <th>ras_q9</th>\n",
       "      <th>ras_time_spent</th>\n",
       "      <th>resp_time_spent</th>\n",
       "      <th>risk_expected_value</th>\n",
       "      <th>risk_q1</th>\n",
       "      <th>risk_q2</th>\n",
       "      <th>risk_q3</th>\n",
       "      <th>risk_q4</th>\n",
       "      <th>risk_time_spent</th>\n",
       "      <th>min_offer</th>\n",
       "    </tr>\n",
       "  </thead>\n",
       "  <tbody>\n",
       "    <tr>\n",
       "      <th>0</th>\n",
       "      <td>0.786247</td>\n",
       "      <td>-0.146466</td>\n",
       "      <td>271.0</td>\n",
       "      <td>0.25</td>\n",
       "      <td>1</td>\n",
       "      <td>290.00</td>\n",
       "      <td>0.833333</td>\n",
       "      <td>5</td>\n",
       "      <td>1.641911</td>\n",
       "      <td>9.5323</td>\n",
       "      <td>...</td>\n",
       "      <td>-1</td>\n",
       "      <td>115</td>\n",
       "      <td>11</td>\n",
       "      <td>3.0125</td>\n",
       "      <td>1.05</td>\n",
       "      <td>1.50</td>\n",
       "      <td>3.50</td>\n",
       "      <td>6.00</td>\n",
       "      <td>52</td>\n",
       "      <td>40</td>\n",
       "    </tr>\n",
       "    <tr>\n",
       "      <th>1</th>\n",
       "      <td>0.744767</td>\n",
       "      <td>1.266672</td>\n",
       "      <td>0.0</td>\n",
       "      <td>0.00</td>\n",
       "      <td>0</td>\n",
       "      <td>0.00</td>\n",
       "      <td>0.000000</td>\n",
       "      <td>0</td>\n",
       "      <td>-0.232645</td>\n",
       "      <td>9.5323</td>\n",
       "      <td>...</td>\n",
       "      <td>-2</td>\n",
       "      <td>227</td>\n",
       "      <td>12</td>\n",
       "      <td>1.8200</td>\n",
       "      <td>1.04</td>\n",
       "      <td>1.20</td>\n",
       "      <td>2.00</td>\n",
       "      <td>3.04</td>\n",
       "      <td>62</td>\n",
       "      <td>50</td>\n",
       "    </tr>\n",
       "    <tr>\n",
       "      <th>2</th>\n",
       "      <td>1.766303</td>\n",
       "      <td>0.359811</td>\n",
       "      <td>0.0</td>\n",
       "      <td>0.00</td>\n",
       "      <td>0</td>\n",
       "      <td>362.75</td>\n",
       "      <td>0.666667</td>\n",
       "      <td>4</td>\n",
       "      <td>1.581077</td>\n",
       "      <td>10.6715</td>\n",
       "      <td>...</td>\n",
       "      <td>2</td>\n",
       "      <td>95</td>\n",
       "      <td>21</td>\n",
       "      <td>1.8200</td>\n",
       "      <td>1.04</td>\n",
       "      <td>1.20</td>\n",
       "      <td>2.00</td>\n",
       "      <td>3.04</td>\n",
       "      <td>39</td>\n",
       "      <td>40</td>\n",
       "    </tr>\n",
       "    <tr>\n",
       "      <th>3</th>\n",
       "      <td>0.626283</td>\n",
       "      <td>-0.483711</td>\n",
       "      <td>205.0</td>\n",
       "      <td>0.50</td>\n",
       "      <td>2</td>\n",
       "      <td>232.00</td>\n",
       "      <td>0.833333</td>\n",
       "      <td>5</td>\n",
       "      <td>0.967422</td>\n",
       "      <td>10.2117</td>\n",
       "      <td>...</td>\n",
       "      <td>2</td>\n",
       "      <td>153</td>\n",
       "      <td>8</td>\n",
       "      <td>4.6450</td>\n",
       "      <td>1.09</td>\n",
       "      <td>1.99</td>\n",
       "      <td>5.50</td>\n",
       "      <td>10.00</td>\n",
       "      <td>101</td>\n",
       "      <td>50</td>\n",
       "    </tr>\n",
       "    <tr>\n",
       "      <th>4</th>\n",
       "      <td>1.766303</td>\n",
       "      <td>0.790538</td>\n",
       "      <td>0.0</td>\n",
       "      <td>0.00</td>\n",
       "      <td>0</td>\n",
       "      <td>420.00</td>\n",
       "      <td>0.333333</td>\n",
       "      <td>2</td>\n",
       "      <td>0.719622</td>\n",
       "      <td>8.6673</td>\n",
       "      <td>...</td>\n",
       "      <td>3</td>\n",
       "      <td>107</td>\n",
       "      <td>9</td>\n",
       "      <td>2.0350</td>\n",
       "      <td>1.02</td>\n",
       "      <td>1.60</td>\n",
       "      <td>1.53</td>\n",
       "      <td>3.99</td>\n",
       "      <td>18</td>\n",
       "      <td>50</td>\n",
       "    </tr>\n",
       "  </tbody>\n",
       "</table>\n",
       "<p>5 rows × 64 columns</p>\n",
       "</div>"
      ],
      "text/plain": [
       "    cc_beta  cc_criterion  cc_false_alarm_avg_click_delay  \\\n",
       "0  0.786247     -0.146466                           271.0   \n",
       "1  0.744767      1.266672                             0.0   \n",
       "2  1.766303      0.359811                             0.0   \n",
       "3  0.626283     -0.483711                           205.0   \n",
       "4  1.766303      0.790538                             0.0   \n",
       "\n",
       "   cc_false_alarm_rate  cc_false_alarms  cc_hit_avg_click_delay  cc_hit_rate  \\\n",
       "0                 0.25                1                  290.00     0.833333   \n",
       "1                 0.00                0                    0.00     0.000000   \n",
       "2                 0.00                0                  362.75     0.666667   \n",
       "3                 0.50                2                  232.00     0.833333   \n",
       "4                 0.00                0                  420.00     0.333333   \n",
       "\n",
       "   cc_hits  cc_sensitivity  cpc_expected_value  ...  ras_q9  ras_time_spent  \\\n",
       "0        5        1.641911              9.5323  ...      -1             115   \n",
       "1        0       -0.232645              9.5323  ...      -2             227   \n",
       "2        4        1.581077             10.6715  ...       2              95   \n",
       "3        5        0.967422             10.2117  ...       2             153   \n",
       "4        2        0.719622              8.6673  ...       3             107   \n",
       "\n",
       "   resp_time_spent  risk_expected_value  risk_q1  risk_q2  risk_q3  risk_q4  \\\n",
       "0               11               3.0125     1.05     1.50     3.50     6.00   \n",
       "1               12               1.8200     1.04     1.20     2.00     3.04   \n",
       "2               21               1.8200     1.04     1.20     2.00     3.04   \n",
       "3                8               4.6450     1.09     1.99     5.50    10.00   \n",
       "4                9               2.0350     1.02     1.60     1.53     3.99   \n",
       "\n",
       "   risk_time_spent  min_offer  \n",
       "0               52         40  \n",
       "1               62         50  \n",
       "2               39         40  \n",
       "3              101         50  \n",
       "4               18         50  \n",
       "\n",
       "[5 rows x 64 columns]"
      ]
     },
     "execution_count": 1,
     "metadata": {},
     "output_type": "execute_result"
    }
   ],
   "source": [
    "import os\n",
    "import sys\n",
    "module_path = os.path.abspath(os.path.join('..'))\n",
    "if module_path not in sys.path:\n",
    "    sys.path.append(module_path)\n",
    "import pandas as pd\n",
    "%matplotlib inline\n",
    "import matplotlib.pyplot as plt\n",
    "import numpy as np\n",
    "from IPython.display import display\n",
    "from sklearn.model_selection import train_test_split\n",
    "from sklearn.metrics import r2_score\n",
    "import seaborn as sb\n",
    "\n",
    "RND_SEED = 6\n",
    "np.random.seed = RND_SEED\n",
    "\n",
    "# DATA_FILE = \"../data/t00/data_gen.csv\"\n",
    "\n",
    "TREATMENT = \"t00\"\n",
    "\n",
    "# Read and sanitize the data\n",
    "df = pd.read_csv(f\"../data/{TREATMENT}/data_{TREATMENT}.csv\")\n",
    "df_full = df.copy()\n",
    "drop_cols = [\"worker_id\", \"resp_worker_id\", \"prop_worker_id\", \"updated\", \"status\", \"job_id\", \"status\",\n",
    "             \"timestamp\", \"rowid\", \"offer_dss\", \"offer\", \"offer_final\", \"completion_code\", \"prop_time_spent\", \"worker_bonus\"]\n",
    "df = df[[col for col in df.columns if col not in drop_cols]]\n",
    "df = df.dropna()\n",
    "\n",
    "cols = [col for col in df.columns if col != \"min_offer\"] + [\"min_offer\"]\n",
    "df = df[cols]\n",
    "\n",
    "## comment/uncomment for shuffling\n",
    "#df = df.sample(frac=1.0)\n",
    "TEST_SIZE = 50\n",
    "df_base = df.copy()\n",
    "\n",
    "df_train = df.head(df.shape[0] - TEST_SIZE)\n",
    "df_test = df.tail(TEST_SIZE)\n",
    "\n",
    "\n",
    "# df_full = pd.read_csv(DATA_FILE)\n",
    "df_min = df_full.min()\n",
    "df_max = df_full.max()\n",
    "df.head()\n",
    "# print(df_min)\n",
    "# print(df_max)"
   ]
  },
  {
   "cell_type": "code",
   "execution_count": 2,
   "metadata": {},
   "outputs": [
    {
     "data": {
      "text/plain": [
       "{'min_offer'}"
      ]
     },
     "execution_count": 2,
     "metadata": {},
     "output_type": "execute_result"
    }
   ],
   "source": [
    "set(df.columns) - set(['cc_beta', 'cc_criterion', 'cc_false_alarm_avg_click_delay', 'cc_false_alarm_rate', 'cc_false_alarms', 'cc_hit_avg_click_delay', 'cc_hit_rate', 'cc_hits', 'cc_sensitivity', 'cpc_expected_value', 'cpc_expected_value_max', 'cpc_expected_value_min', 'cpc_q1', 'cpc_q10', 'cpc_q2', 'cpc_q3', 'cpc_q4', 'cpc_q5', 'cpc_q6', 'cpc_q7', 'cpc_q8', 'cpc_q9', 'cpc_time_spent', 'exp_ultimatum_game_experience', 'ras_assertiveness', 'ras_q1', 'ras_q10', 'ras_q11', 'ras_q12', 'ras_q13', 'ras_q14', 'ras_q15', 'ras_q16', 'ras_q17', 'ras_q18', 'ras_q19', 'ras_q2', 'ras_q20', 'ras_q21', 'ras_q22', 'ras_q23', 'ras_q24', 'ras_q25', 'ras_q26', 'ras_q27', 'ras_q28', 'ras_q29', 'ras_q3', 'ras_q30', 'ras_q4', 'ras_q5', 'ras_q6', 'ras_q7', 'ras_q8', 'ras_q9', 'ras_time_spent', 'risk_expected_value', 'risk_q1', 'risk_q2', 'risk_q3', 'risk_q4', 'risk_time_spent', 'resp_time_spent'])"
   ]
  },
  {
   "cell_type": "markdown",
   "metadata": {},
   "source": [
    "## Determine significant features"
   ]
  },
  {
   "cell_type": "markdown",
   "metadata": {},
   "source": [
    "**Feature importance permutation**"
   ]
  },
  {
   "cell_type": "code",
   "execution_count": 3,
   "metadata": {},
   "outputs": [],
   "source": [
    "from core.utils.preprocessing import df_to_xy, df_to_xydf\n",
    "from core.models import AcceptanceModel, ClusterExtModel\n",
    "from core.models.metrics import MAX_GAIN\n",
    "from core.utils.benchmark import process_model, process_benchmark_cv\n",
    "from mlxtend.evaluate import feature_importance_permutation"
   ]
  },
  {
   "cell_type": "code",
   "execution_count": 4,
   "metadata": {
    "scrolled": true
   },
   "outputs": [],
   "source": [
    "# from sklearn.svm import SVR\n",
    "\n",
    "# from core.models import AcceptanceModel\n",
    "# from core.utils.preprocessing import df_to_xy, df_to_xydf\n",
    "# from core.models.metrics import avg_gain_ratio\n",
    "\n",
    "# NB_REPETITIONS = 5\n",
    "\n",
    "# imp_vals = None\n",
    "# imp_all = None\n",
    "# for _ in range(NB_REPETITIONS):\n",
    "#     df_x, df_y = df_to_xydf(df_train.sample(frac=1.0, random_state=RND_SEED), fuse_risk=True)\n",
    "#     #model = ClusterExtModel(base_model=\"affinity\")\n",
    "#     model = AcceptanceModel(SVR(gamma='auto', kernel='poly', degree=2), step=10, zero_one=False)\n",
    "#     split = int(0.6 * df_x.shape[0])\n",
    "#     model.fit(df_x.values[:split], df_y.values.ravel()[:split])\n",
    "\n",
    "#     step_imp_vals, step_imp_all = feature_importance_permutation(\n",
    "#         predict_method=model.predict, \n",
    "#         X=df_x.values[split:],\n",
    "#         y=df_y.values.ravel()[split:],\n",
    "#         metric=avg_gain_ratio,\n",
    "#         num_rounds=3,\n",
    "#         seed=None)\n",
    "#     if imp_vals is None:\n",
    "#         imp_vals = step_imp_vals\n",
    "#         imp_all = step_imp_all\n",
    "#     else:\n",
    "#         imp_vals += step_imp_vals\n",
    "#         imp_all += step_imp_all\n",
    "\n",
    "\n",
    "# imp_all /= NB_REPETITIONS\n",
    "# imp_vals /= NB_REPETITIONS\n",
    "# std = np.std(imp_all, axis=1)\n",
    "# indices = np.argsort(imp_vals)[::-1]\n",
    "\n",
    "\n",
    "# plt.figure(figsize=(15, 8))\n",
    "# plt.title(\"Feature importance via permutation importance\")\n",
    "# plt.bar(df_x.columns[indices], imp_vals[indices],\n",
    "#         yerr=std[indices],)\n",
    "# plt.show()"
   ]
  },
  {
   "cell_type": "markdown",
   "metadata": {},
   "source": [
    "\n",
    "\n",
    "## Generate data for the survey"
   ]
  },
  {
   "cell_type": "markdown",
   "metadata": {},
   "source": [
    "**Save the model and model infos**"
   ]
  },
  {
   "cell_type": "code",
   "execution_count": 5,
   "metadata": {},
   "outputs": [],
   "source": [
    "from core.utils.pipeline import train_and_save\n",
    "# cols = []\n",
    "# results = []\n",
    "# for col in cols:\n",
    "#     model = ClusterExtModel(base_model=\"affinity\")\n",
    "#     tm, infos = train_and_save(\"../data/t00\", \"../data/t00\", model=model, shuffle=True, random_state=RND_SEED, top_columns=[col])\n",
    "#     results.append(infos)\n",
    "#     infos['col'] = col\n",
    "    \n",
    "# result_df = pd.DataFrame(data=results)\n",
    "# # result_df.index = result_df['col'].values\n",
    "# # result_df = result_df[['acc', 'val_acc', 'unique_preds']]\n",
    "\n",
    "# result_df\n"
   ]
  },
  {
   "cell_type": "code",
   "execution_count": 6,
   "metadata": {},
   "outputs": [],
   "source": [
    "# model = ClusterExtModel(base_model=\"meanshift\")\n",
    "# top_model, infos = train_and_save(\"../data/t00\", \"../data/t00\", model=model, shuffle=True, random_state=RND_SEED, top_columns=['risk', 'count_effort', 'Honesty_Humility', 'selfish'])\n",
    "# print(\"acc:\", infos[\"acc\"], \"val_acc:\", infos[\"val_acc\"], \"unique_values:\", (infos[\"unique_preds\"]))\n",
    "# top_model.base_model.cluster_centers_\n",
    "# top_model.predict(top_model.base_model.cluster_centers_)"
   ]
  },
  {
   "cell_type": "code",
   "execution_count": 7,
   "metadata": {
    "scrolled": true
   },
   "outputs": [
    {
     "name": "stdout",
     "output_type": "stream",
     "text": [
      "acc: 0.8256180053669696 val_acc: 0.7642584024162971 unique_values: [50.0]\n"
     ]
    }
   ],
   "source": [
    "from sklearn.svm import SVR, LinearSVR\n",
    "from core.models import AcceptanceModel, EMModel\n",
    "model = EMModel()\n",
    "\n",
    "top_model, infos = train_and_save(\"../data/t00\", \"../data/t00\", model=model, shuffle=True, random_state=RND_SEED, top_columns=[], data_dir_filename=f\"data_{TREATMENT}.csv\", drop_columns=drop_cols)\n",
    "print(\"acc:\", infos[\"acc\"], \"val_acc:\", infos[\"val_acc\"], \"unique_values:\", (infos[\"unique_preds\"]))"
   ]
  },
  {
   "cell_type": "code",
   "execution_count": 8,
   "metadata": {},
   "outputs": [
    {
     "data": {
      "text/plain": [
       "<matplotlib.axes._subplots.AxesSubplot at 0x7f66c6fd7da0>"
      ]
     },
     "execution_count": 8,
     "metadata": {},
     "output_type": "execute_result"
    },
    {
     "data": {
      "image/png": "[encoded data removed]",
      "text/plain": [
       "<Figure size 432x288 with 1 Axes>"
      ]
     },
     "metadata": {
      "needs_background": "light"
     },
     "output_type": "display_data"
    }
   ],
   "source": [
    "from core.utils.explanation import get_acceptance_probability\n",
    "offers = list(range(0, MAX_GAIN+5, 5))\n",
    "m = np.zeros((len(offers)))\n",
    "for idx, offer in enumerate(offers):\n",
    "    m[idx] = get_acceptance_probability(0, offer, infos[\"acc\"], infos[\"train_err_pdf\"], experiment_mode=True, train_pdf=infos[\"pdf\"])\n",
    "\n",
    "p_accepted = m\n",
    "df = pd.DataFrame(data={\"offer\": offers, \"p_best_offer\": p_accepted})\n",
    "df.plot(x=\"offer\", y=\"p_best_offer\")\n"
   ]
  },
  {
   "cell_type": "code",
   "execution_count": 9,
   "metadata": {},
   "outputs": [
    {
     "data": {
      "text/plain": [
       "<matplotlib.axes._subplots.AxesSubplot at 0x7f66c6eacb00>"
      ]
     },
     "execution_count": 9,
     "metadata": {},
     "output_type": "execute_result"
    },
    {
     "data": {
      "image/png": "[encoded data removed]",
      "text/plain": [
       "<Figure size 432x288 with 1 Axes>"
      ]
     },
     "metadata": {
      "needs_background": "light"
     },
     "output_type": "display_data"
    }
   ],
   "source": [
    "from core.utils.explanation import get_acceptance_probability\n",
    "offers = list(range(0, MAX_GAIN+5, 5))\n",
    "p_accepted_0 = np.zeros((len(offers)))\n",
    "p_accepted_1 = np.zeros((len(offers)))\n",
    "p_accepted_05 = np.zeros((len(offers)))\n",
    "for idx, offer in enumerate(offers):\n",
    "    p_accepted_0[idx] = get_acceptance_probability(50, offer, 0, infos[\"train_err_pdf\"], experiment_mode=True, train_pdf=infos[\"pdf\"])\n",
    "    p_accepted_1[idx] = get_acceptance_probability(50, offer, 1, infos[\"train_err_pdf\"], experiment_mode=True, train_pdf=infos[\"pdf\"])\n",
    "    p_accepted_05[idx] = get_acceptance_probability(50, offer, 0.5, infos[\"train_err_pdf\"], experiment_mode=True, train_pdf=infos[\"pdf\"])\n",
    "\n",
    "lbl0 = \"p: ai_offer=50, acc=0\"\n",
    "lbl1 = \"p: ai_offer=50, acc=1\"\n",
    "lbl05 = \"p: ai_offer=50, acc=0.5\"\n",
    "df = pd.DataFrame(data={\"offer\": offers, lbl0: p_accepted_0, lbl1: p_accepted_1, lbl05: p_accepted_05})\n",
    "df.plot(x=\"offer\", y=[lbl0, lbl05, lbl1])\n"
   ]
  },
  {
   "cell_type": "code",
   "execution_count": 10,
   "metadata": {},
   "outputs": [],
   "source": [
    "from core.utils.explanation import get_best_offer_probability\n",
    "m = np.zeros((len(offers), len(offers)))\n",
    "for idx_ai, ai_offer in enumerate(offers):\n",
    "    for idx, offer in enumerate(offers):\n",
    "        m[idx_ai][idx] = get_best_offer_probability(ai_offer, offer, infos[\"acc\"], infos[\"train_err_pdf\"], experiment_mode=True)"
   ]
  },
  {
   "cell_type": "code",
   "execution_count": 11,
   "metadata": {},
   "outputs": [
    {
     "data": {
      "text/plain": [
       "<matplotlib.axes._subplots.AxesSubplot at 0x7f66c6a39400>"
      ]
     },
     "execution_count": 11,
     "metadata": {},
     "output_type": "execute_result"
    },
    {
     "data": {
      "image/png": "[encoded data removed]",
      "text/plain": [
       "<Figure size 432x288 with 1 Axes>"
      ]
     },
     "metadata": {
      "needs_background": "light"
     },
     "output_type": "display_data"
    }
   ],
   "source": [
    "p_best_offer = np.convolve(infos[\"train_err_pdf\"], [0.02, 0.03, 0.04, 0.9, 0.005, 0.003, 0.002], \"same\")\n",
    "p_best_offer *= infos[\"acc\"] / p_best_offer.max()\n",
    "df = pd.DataFrame(data={\"offer-ai_offer\": infos[\"bins_train_err_pdf\"][:-1], \"p_best_offer\": p_best_offer})\n",
    "df.plot(x=\"offer-ai_offer\", y=\"p_best_offer\")\n"
   ]
  },
  {
   "cell_type": "code",
   "execution_count": 12,
   "metadata": {},
   "outputs": [
    {
     "data": {
      "text/plain": [
       "<matplotlib.axes._subplots.AxesSubplot at 0x7f66c699cc50>"
      ]
     },
     "execution_count": 12,
     "metadata": {},
     "output_type": "execute_result"
    },
    {
     "data": {
      "image/png": "[encoded data removed]",
      "text/plain": [
       "<Figure size 432x288 with 1 Axes>"
      ]
     },
     "metadata": {
      "needs_background": "light"
     },
     "output_type": "display_data"
    }
   ],
   "source": [
    "# p_best_offer = np.convolve(infos[\"train_err_pdf\"], [0.02, 0.03, 0.04, 0.9, 0.005, 0.003, 0.002])\n",
    "p_best_offer_raw = np.array(infos[\"train_err_pdf\"])\n",
    "p_best_offer_raw *= (infos[\"acc\"] * 1.0) / p_best_offer_raw.max()\n",
    "df = pd.DataFrame(data={\"offer-ai_offer\": infos[\"bins_train_err_pdf\"][:-1], \"p_best_offer\": p_best_offer - p_best_offer_raw})\n",
    "df.plot(x=\"offer-ai_offer\", y=\"p_best_offer\")"
   ]
  },
  {
   "cell_type": "code",
   "execution_count": 13,
   "metadata": {},
   "outputs": [
    {
     "data": {
      "text/plain": [
       "<matplotlib.axes._subplots.AxesSubplot at 0x7f66c698bb38>"
      ]
     },
     "execution_count": 13,
     "metadata": {},
     "output_type": "execute_result"
    },
    {
     "data": {
      "image/png": "[encoded data removed]",
      "text/plain": [
       "<Figure size 432x288 with 1 Axes>"
      ]
     },
     "metadata": {
      "needs_background": "light"
     },
     "output_type": "display_data"
    }
   ],
   "source": [
    "p_best_offer_raw = np.array(infos[\"train_err_pdf\"])\n",
    "p_best_offer_raw *= (infos[\"acc\"] * 1.0) / p_best_offer_raw.max()\n",
    "p = np.cumsum(p_best_offer - p_best_offer_raw)\n",
    "p /= p.max()\n",
    "df = pd.DataFrame(data={\"offer-ai_offer\": infos[\"bins_train_err_pdf\"][:-1], \"p_best_offer\": p})\n",
    "df.plot(x=\"offer-ai_offer\", y=\"p_best_offer\")"
   ]
  },
  {
   "cell_type": "code",
   "execution_count": 14,
   "metadata": {},
   "outputs": [
    {
     "data": {
      "text/plain": [
       "array([0.        , 0.        , 0.        , 0.        , 0.        ,\n",
       "       0.        , 0.        , 0.        , 0.        , 0.        ,\n",
       "       0.04856577, 0.        , 0.        , 0.        , 0.        ,\n",
       "       0.        , 0.        , 0.        , 0.        , 0.02428288,\n",
       "       0.82561801, 0.19426306, 0.412809  , 0.07284865, 0.07284865,\n",
       "       0.02428288, 0.04856577, 0.02428288, 0.04856577, 0.16998018,\n",
       "       0.02428288, 0.        , 0.        , 0.        , 0.        ,\n",
       "       0.        , 0.        , 0.        , 0.        , 0.        ,\n",
       "       0.        ])"
      ]
     },
     "execution_count": 14,
     "metadata": {},
     "output_type": "execute_result"
    }
   ],
   "source": [
    "p_best_offer_raw"
   ]
  },
  {
   "cell_type": "code",
   "execution_count": 15,
   "metadata": {},
   "outputs": [
    {
     "data": {
      "text/plain": [
       "dict_keys(['test_gain_mean', 'test_avg_loss_ratio', 'val_gain_main', 'val_avg_loss_ratio', 'top_columns', 'pdf', 'bins_pdf', 'acc', 'val_acc', 'rel_acc_std', 'train_err_pdf', 'bins_train_err_pdf', 'unique_preds', 'df_min', 'df_max'])"
      ]
     },
     "execution_count": 15,
     "metadata": {},
     "output_type": "execute_result"
    }
   ],
   "source": [
    "infos.keys()"
   ]
  },
  {
   "cell_type": "code",
   "execution_count": 16,
   "metadata": {},
   "outputs": [
    {
     "data": {
      "text/plain": [
       "array([0.        , 0.        , 0.        , 0.        , 0.        ,\n",
       "       0.        , 0.        , 0.        , 0.        , 0.        ,\n",
       "       0.04742329, 0.04742329, 0.04742329, 0.04742329, 0.04742329,\n",
       "       0.04742329, 0.04742329, 0.04742329, 0.04742329, 0.0703174 ,\n",
       "       0.64104654, 0.7384693 , 0.91850377, 0.94716415, 0.97502595,\n",
       "       0.98414334, 1.00213247, 1.01100711, 1.02852357, 1.08752218,\n",
       "       1.09567343, 1.09567343, 1.09567343, 1.09567343, 1.09567343,\n",
       "       1.09567343, 1.09567343, 1.09567343, 1.09567343, 1.09567343,\n",
       "       1.09567343])"
      ]
     },
     "execution_count": 16,
     "metadata": {},
     "output_type": "execute_result"
    }
   ],
   "source": [
    "np.log(1 + np.cumsum(p_best_offer_raw))"
   ]
  },
  {
   "cell_type": "code",
   "execution_count": null,
   "metadata": {},
   "outputs": [],
   "source": []
  }
 ],
 "metadata": {
  "kernelspec": {
   "display_name": "Python 3",
   "language": "python",
   "name": "python3"
  },
  "language_info": {
   "codemirror_mode": {
    "name": "ipython",
    "version": 3
   },
   "file_extension": ".py",
   "mimetype": "text/x-python",
   "name": "python",
   "nbconvert_exporter": "python",
   "pygments_lexer": "ipython3",
   "version": "3.6.8"
  }
 },
 "nbformat": 4,
 "nbformat_minor": 2
}
