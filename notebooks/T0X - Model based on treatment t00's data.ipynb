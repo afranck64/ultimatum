{
 "cells": [
  {
   "cell_type": "markdown",
   "metadata": {},
   "source": [
    "## Treatment T10 Preparation"
   ]
  },
  {
   "cell_type": "code",
   "execution_count": 1,
   "metadata": {},
   "outputs": [
    {
     "data": {
      "text/html": [
       "<div>\n",
       "<style scoped>\n",
       "    .dataframe tbody tr th:only-of-type {\n",
       "        vertical-align: middle;\n",
       "    }\n",
       "\n",
       "    .dataframe tbody tr th {\n",
       "        vertical-align: top;\n",
       "    }\n",
       "\n",
       "    .dataframe thead th {\n",
       "        text-align: right;\n",
       "    }\n",
       "</style>\n",
       "<table border=\"1\" class=\"dataframe\">\n",
       "  <thead>\n",
       "    <tr style=\"text-align: right;\">\n",
       "      <th></th>\n",
       "      <th>cc_beta</th>\n",
       "      <th>cc_criterion</th>\n",
       "      <th>cc_false_alarm_avg_click_delay</th>\n",
       "      <th>cc_false_alarm_rate</th>\n",
       "      <th>cc_false_alarms</th>\n",
       "      <th>cc_hit_avg_click_delay</th>\n",
       "      <th>cc_hit_rate</th>\n",
       "      <th>cc_hits</th>\n",
       "      <th>cc_sensitivity</th>\n",
       "      <th>cpc_expected_value</th>\n",
       "      <th>...</th>\n",
       "      <th>ras_q8</th>\n",
       "      <th>ras_q9</th>\n",
       "      <th>ras_time_spent</th>\n",
       "      <th>resp_time_spent</th>\n",
       "      <th>risk_expected_value</th>\n",
       "      <th>risk_q1</th>\n",
       "      <th>risk_q2</th>\n",
       "      <th>risk_q3</th>\n",
       "      <th>risk_q4</th>\n",
       "      <th>risk_time_spent</th>\n",
       "    </tr>\n",
       "  </thead>\n",
       "  <tbody>\n",
       "    <tr>\n",
       "      <th>0</th>\n",
       "      <td>1.000000</td>\n",
       "      <td>0.000000</td>\n",
       "      <td>815.5</td>\n",
       "      <td>0.4</td>\n",
       "      <td>2</td>\n",
       "      <td>597.333333</td>\n",
       "      <td>0.6</td>\n",
       "      <td>6</td>\n",
       "      <td>0.506694</td>\n",
       "      <td>8.8273</td>\n",
       "      <td>...</td>\n",
       "      <td>-2</td>\n",
       "      <td>-3</td>\n",
       "      <td>0</td>\n",
       "      <td>0</td>\n",
       "      <td>1.5950</td>\n",
       "      <td>1.02</td>\n",
       "      <td>1.38</td>\n",
       "      <td>2.00</td>\n",
       "      <td>1.98</td>\n",
       "      <td>0</td>\n",
       "    </tr>\n",
       "    <tr>\n",
       "      <th>1</th>\n",
       "      <td>1.379982</td>\n",
       "      <td>0.547484</td>\n",
       "      <td>195.0</td>\n",
       "      <td>0.2</td>\n",
       "      <td>1</td>\n",
       "      <td>249.750000</td>\n",
       "      <td>0.4</td>\n",
       "      <td>4</td>\n",
       "      <td>0.588274</td>\n",
       "      <td>10.5286</td>\n",
       "      <td>...</td>\n",
       "      <td>3</td>\n",
       "      <td>1</td>\n",
       "      <td>0</td>\n",
       "      <td>0</td>\n",
       "      <td>1.9100</td>\n",
       "      <td>1.04</td>\n",
       "      <td>1.08</td>\n",
       "      <td>1.53</td>\n",
       "      <td>3.99</td>\n",
       "      <td>0</td>\n",
       "    </tr>\n",
       "    <tr>\n",
       "      <th>2</th>\n",
       "      <td>1.424988</td>\n",
       "      <td>-0.420811</td>\n",
       "      <td>638.5</td>\n",
       "      <td>0.8</td>\n",
       "      <td>4</td>\n",
       "      <td>550.600000</td>\n",
       "      <td>0.5</td>\n",
       "      <td>5</td>\n",
       "      <td>-0.841621</td>\n",
       "      <td>8.1712</td>\n",
       "      <td>...</td>\n",
       "      <td>-2</td>\n",
       "      <td>1</td>\n",
       "      <td>0</td>\n",
       "      <td>0</td>\n",
       "      <td>1.7350</td>\n",
       "      <td>0.99</td>\n",
       "      <td>1.38</td>\n",
       "      <td>1.53</td>\n",
       "      <td>3.04</td>\n",
       "      <td>0</td>\n",
       "    </tr>\n",
       "    <tr>\n",
       "      <th>3</th>\n",
       "      <td>0.899959</td>\n",
       "      <td>0.388874</td>\n",
       "      <td>565.0</td>\n",
       "      <td>0.4</td>\n",
       "      <td>2</td>\n",
       "      <td>164.333333</td>\n",
       "      <td>0.3</td>\n",
       "      <td>3</td>\n",
       "      <td>-0.271053</td>\n",
       "      <td>10.4661</td>\n",
       "      <td>...</td>\n",
       "      <td>3</td>\n",
       "      <td>-2</td>\n",
       "      <td>0</td>\n",
       "      <td>0</td>\n",
       "      <td>2.4350</td>\n",
       "      <td>1.04</td>\n",
       "      <td>1.20</td>\n",
       "      <td>2.52</td>\n",
       "      <td>4.98</td>\n",
       "      <td>0</td>\n",
       "    </tr>\n",
       "    <tr>\n",
       "      <th>4</th>\n",
       "      <td>1.379982</td>\n",
       "      <td>0.547484</td>\n",
       "      <td>860.0</td>\n",
       "      <td>0.2</td>\n",
       "      <td>1</td>\n",
       "      <td>396.750000</td>\n",
       "      <td>0.4</td>\n",
       "      <td>4</td>\n",
       "      <td>0.588274</td>\n",
       "      <td>7.2946</td>\n",
       "      <td>...</td>\n",
       "      <td>1</td>\n",
       "      <td>-2</td>\n",
       "      <td>0</td>\n",
       "      <td>0</td>\n",
       "      <td>1.5825</td>\n",
       "      <td>1.02</td>\n",
       "      <td>1.33</td>\n",
       "      <td>2.00</td>\n",
       "      <td>1.98</td>\n",
       "      <td>0</td>\n",
       "    </tr>\n",
       "  </tbody>\n",
       "</table>\n",
       "<p>5 rows × 64 columns</p>\n",
       "</div>"
      ],
      "text/plain": [
       "    cc_beta  cc_criterion  cc_false_alarm_avg_click_delay  \\\n",
       "0  1.000000      0.000000                           815.5   \n",
       "1  1.379982      0.547484                           195.0   \n",
       "2  1.424988     -0.420811                           638.5   \n",
       "3  0.899959      0.388874                           565.0   \n",
       "4  1.379982      0.547484                           860.0   \n",
       "\n",
       "   cc_false_alarm_rate  cc_false_alarms  cc_hit_avg_click_delay  cc_hit_rate  \\\n",
       "0                  0.4                2              597.333333          0.6   \n",
       "1                  0.2                1              249.750000          0.4   \n",
       "2                  0.8                4              550.600000          0.5   \n",
       "3                  0.4                2              164.333333          0.3   \n",
       "4                  0.2                1              396.750000          0.4   \n",
       "\n",
       "   cc_hits  cc_sensitivity  cpc_expected_value  ...  ras_q8  ras_q9  \\\n",
       "0        6        0.506694              8.8273  ...      -2      -3   \n",
       "1        4        0.588274             10.5286  ...       3       1   \n",
       "2        5       -0.841621              8.1712  ...      -2       1   \n",
       "3        3       -0.271053             10.4661  ...       3      -2   \n",
       "4        4        0.588274              7.2946  ...       1      -2   \n",
       "\n",
       "   ras_time_spent  resp_time_spent  risk_expected_value  risk_q1  risk_q2  \\\n",
       "0               0                0               1.5950     1.02     1.38   \n",
       "1               0                0               1.9100     1.04     1.08   \n",
       "2               0                0               1.7350     0.99     1.38   \n",
       "3               0                0               2.4350     1.04     1.20   \n",
       "4               0                0               1.5825     1.02     1.33   \n",
       "\n",
       "   risk_q3  risk_q4  risk_time_spent  \n",
       "0     2.00     1.98                0  \n",
       "1     1.53     3.99                0  \n",
       "2     1.53     3.04                0  \n",
       "3     2.52     4.98                0  \n",
       "4     2.00     1.98                0  \n",
       "\n",
       "[5 rows x 64 columns]"
      ]
     },
     "execution_count": 1,
     "metadata": {},
     "output_type": "execute_result"
    }
   ],
   "source": [
    "import os\n",
    "import sys\n",
    "module_path = os.path.abspath(os.path.join('..'))\n",
    "if module_path not in sys.path:\n",
    "    sys.path.append(module_path)\n",
    "import pandas as pd\n",
    "%matplotlib inline\n",
    "import matplotlib.pyplot as plt\n",
    "import numpy as np\n",
    "from IPython.display import display\n",
    "from sklearn.model_selection import train_test_split\n",
    "from sklearn.metrics import r2_score\n",
    "import seaborn as sb\n",
    "\n",
    "RND_SEED = 6\n",
    "np.random.seed = RND_SEED\n",
    "\n",
    "DATA_FILE = \"../data/t00/data_gen.csv\"\n",
    "\n",
    "df = pd.read_csv(DATA_FILE)\n",
    "df_full = df.copy()\n",
    "#Drop 'protected' features\n",
    "drop_cols = ['job_id', 'worker_id', 'status', 'updated', 'resp_worker_id', 'time_start', 'time_stop',\n",
    "             'timestamp', 'model_type', 'prop_worker_id', 'offer_final', 'offer_dss']\n",
    "df = df[[col for col in df.columns if col not in drop_cols]]\n",
    "\n",
    "## comment/uncomment for shuffling\n",
    "#df = df.sample(frac=1.0)\n",
    "TEST_SIZE = 50\n",
    "df_base = df.copy()\n",
    "\n",
    "df_train = df.head(df.shape[0] - TEST_SIZE)\n",
    "df_test = df.tail(TEST_SIZE)\n",
    "\n",
    "\n",
    "df_full = pd.read_csv(DATA_FILE)\n",
    "df_min = df_full.min()\n",
    "df_max = df_full.max()\n",
    "df.head()\n",
    "# print(df_min)\n",
    "# print(df_max)"
   ]
  },
  {
   "cell_type": "code",
   "execution_count": 2,
   "metadata": {},
   "outputs": [
    {
     "data": {
      "text/plain": [
       "{'min_offer'}"
      ]
     },
     "execution_count": 2,
     "metadata": {},
     "output_type": "execute_result"
    }
   ],
   "source": [
    "set(df.columns) - set(['cc_beta', 'cc_criterion', 'cc_false_alarm_avg_click_delay', 'cc_false_alarm_rate', 'cc_false_alarms', 'cc_hit_avg_click_delay', 'cc_hit_rate', 'cc_hits', 'cc_sensitivity', 'cpc_expected_value', 'cpc_expected_value_max', 'cpc_expected_value_min', 'cpc_q1', 'cpc_q10', 'cpc_q2', 'cpc_q3', 'cpc_q4', 'cpc_q5', 'cpc_q6', 'cpc_q7', 'cpc_q8', 'cpc_q9', 'cpc_time_spent', 'exp_ultimatum_game_experience', 'ras_assertiveness', 'ras_q1', 'ras_q10', 'ras_q11', 'ras_q12', 'ras_q13', 'ras_q14', 'ras_q15', 'ras_q16', 'ras_q17', 'ras_q18', 'ras_q19', 'ras_q2', 'ras_q20', 'ras_q21', 'ras_q22', 'ras_q23', 'ras_q24', 'ras_q25', 'ras_q26', 'ras_q27', 'ras_q28', 'ras_q29', 'ras_q3', 'ras_q30', 'ras_q4', 'ras_q5', 'ras_q6', 'ras_q7', 'ras_q8', 'ras_q9', 'ras_time_spent', 'risk_expected_value', 'risk_q1', 'risk_q2', 'risk_q3', 'risk_q4', 'risk_time_spent', 'resp_time_spent'])"
   ]
  },
  {
   "cell_type": "markdown",
   "metadata": {},
   "source": [
    "## Determine significant features"
   ]
  },
  {
   "cell_type": "markdown",
   "metadata": {},
   "source": [
    "**Feature importance permutation**"
   ]
  },
  {
   "cell_type": "code",
   "execution_count": 3,
   "metadata": {},
   "outputs": [],
   "source": [
    "from core.utils.preprocessing import df_to_xy, df_to_xydf\n",
    "from core.models import AcceptanceModel, ClusterExtModel\n",
    "from core.models.metrics import MAX_GAIN\n",
    "from core.utils.benchmark import process_model, process_benchmark_cv\n",
    "from mlxtend.evaluate import feature_importance_permutation"
   ]
  },
  {
   "cell_type": "code",
   "execution_count": 4,
   "metadata": {
    "scrolled": true
   },
   "outputs": [],
   "source": [
    "# from sklearn.svm import SVR\n",
    "\n",
    "# from core.models import AcceptanceModel\n",
    "# from core.utils.preprocessing import df_to_xy, df_to_xydf\n",
    "# from core.models.metrics import avg_gain_ratio\n",
    "\n",
    "# NB_REPETITIONS = 5\n",
    "\n",
    "# imp_vals = None\n",
    "# imp_all = None\n",
    "# for _ in range(NB_REPETITIONS):\n",
    "#     df_x, df_y = df_to_xydf(df_train.sample(frac=1.0, random_state=RND_SEED), fuse_risk=True)\n",
    "#     #model = ClusterExtModel(base_model=\"affinity\")\n",
    "#     model = AcceptanceModel(SVR(gamma='auto', kernel='poly', degree=2), step=10, zero_one=False)\n",
    "#     split = int(0.6 * df_x.shape[0])\n",
    "#     model.fit(df_x.values[:split], df_y.values.ravel()[:split])\n",
    "\n",
    "#     step_imp_vals, step_imp_all = feature_importance_permutation(\n",
    "#         predict_method=model.predict, \n",
    "#         X=df_x.values[split:],\n",
    "#         y=df_y.values.ravel()[split:],\n",
    "#         metric=avg_gain_ratio,\n",
    "#         num_rounds=3,\n",
    "#         seed=None)\n",
    "#     if imp_vals is None:\n",
    "#         imp_vals = step_imp_vals\n",
    "#         imp_all = step_imp_all\n",
    "#     else:\n",
    "#         imp_vals += step_imp_vals\n",
    "#         imp_all += step_imp_all\n",
    "\n",
    "\n",
    "# imp_all /= NB_REPETITIONS\n",
    "# imp_vals /= NB_REPETITIONS\n",
    "# std = np.std(imp_all, axis=1)\n",
    "# indices = np.argsort(imp_vals)[::-1]\n",
    "\n",
    "\n",
    "# plt.figure(figsize=(15, 8))\n",
    "# plt.title(\"Feature importance via permutation importance\")\n",
    "# plt.bar(df_x.columns[indices], imp_vals[indices],\n",
    "#         yerr=std[indices],)\n",
    "# plt.show()"
   ]
  },
  {
   "cell_type": "markdown",
   "metadata": {},
   "source": [
    "\n",
    "\n",
    "## Generate data for the survey"
   ]
  },
  {
   "cell_type": "markdown",
   "metadata": {},
   "source": [
    "**Save the model and model infos**"
   ]
  },
  {
   "cell_type": "code",
   "execution_count": 5,
   "metadata": {},
   "outputs": [],
   "source": [
    "from core.utils.pipeline import train_and_save\n",
    "# cols = []\n",
    "# results = []\n",
    "# for col in cols:\n",
    "#     model = ClusterExtModel(base_model=\"affinity\")\n",
    "#     tm, infos = train_and_save(\"../data/t00\", \"../data/t00\", model=model, shuffle=True, random_state=RND_SEED, top_columns=[col])\n",
    "#     results.append(infos)\n",
    "#     infos['col'] = col\n",
    "    \n",
    "# result_df = pd.DataFrame(data=results)\n",
    "# # result_df.index = result_df['col'].values\n",
    "# # result_df = result_df[['acc', 'val_acc', 'unique_preds']]\n",
    "\n",
    "# result_df\n"
   ]
  },
  {
   "cell_type": "code",
   "execution_count": 6,
   "metadata": {},
   "outputs": [],
   "source": [
    "# model = ClusterExtModel(base_model=\"meanshift\")\n",
    "# top_model, infos = train_and_save(\"../data/t00\", \"../data/t00\", model=model, shuffle=True, random_state=RND_SEED, top_columns=['risk', 'count_effort', 'Honesty_Humility', 'selfish'])\n",
    "# print(\"acc:\", infos[\"acc\"], \"val_acc:\", infos[\"val_acc\"], \"unique_values:\", (infos[\"unique_preds\"]))\n",
    "# top_model.base_model.cluster_centers_\n",
    "# top_model.predict(top_model.base_model.cluster_centers_)"
   ]
  },
  {
   "cell_type": "code",
   "execution_count": 7,
   "metadata": {
    "scrolled": true
   },
   "outputs": [
    {
     "name": "stdout",
     "output_type": "stream",
     "text": [
      "acc: 0.7937731275559784 val_acc: 0.7565228631018105 unique_values: [50.0]\n"
     ]
    }
   ],
   "source": [
    "from sklearn.svm import SVR, LinearSVR\n",
    "from core.models import AcceptanceModel, EMModel\n",
    "model = AcceptanceModel(step=5, zero_one=False)\n",
    "model = EMModel()\n",
    "\n",
    "top_model, infos = train_and_save(\"../data/t00\", \"../data/t00\", model=model, shuffle=True, random_state=RND_SEED, top_columns=None, data_dir_filename=\"data_gen.csv\", drop_columns=drop_cols)\n",
    "print(\"acc:\", infos[\"acc\"], \"val_acc:\", infos[\"val_acc\"], \"unique_values:\", (infos[\"unique_preds\"]))"
   ]
  },
  {
   "cell_type": "code",
   "execution_count": 8,
   "metadata": {},
   "outputs": [
    {
     "data": {
      "text/plain": [
       "<matplotlib.axes._subplots.AxesSubplot at 0x7f4422f2d4a8>"
      ]
     },
     "execution_count": 8,
     "metadata": {},
     "output_type": "execute_result"
    },
    {
     "data": {
      "image/png": "[encoded data removed]",
      "text/plain": [
       "<Figure size 432x288 with 1 Axes>"
      ]
     },
     "metadata": {
      "needs_background": "light"
     },
     "output_type": "display_data"
    }
   ],
   "source": [
    "from core.utils.explanation import get_acceptance_probability\n",
    "offers = list(range(0, MAX_GAIN+5, 5))\n",
    "m = np.zeros((len(offers)))\n",
    "for idx, offer in enumerate(offers):\n",
    "    m[idx] = get_acceptance_probability(0, offer, infos[\"acc\"], infos[\"train_err_pdf\"], experiment_mode=True, train_pdf=infos[\"pdf\"])\n",
    "\n",
    "p_accepted = m\n",
    "df = pd.DataFrame(data={\"offer\": offers, \"p_best_offer\": p_accepted})\n",
    "df.plot(x=\"offer\", y=\"p_best_offer\")\n"
   ]
  },
  {
   "cell_type": "code",
   "execution_count": 34,
   "metadata": {},
   "outputs": [
    {
     "data": {
      "text/plain": [
       "<matplotlib.axes._subplots.AxesSubplot at 0x7f4421877390>"
      ]
     },
     "execution_count": 34,
     "metadata": {},
     "output_type": "execute_result"
    },
    {
     "data": {
      "image/png": "[encoded data removed]",
      "text/plain": [
       "<Figure size 432x288 with 1 Axes>"
      ]
     },
     "metadata": {
      "needs_background": "light"
     },
     "output_type": "display_data"
    }
   ],
   "source": [
    "from core.utils.explanation import get_acceptance_probability\n",
    "offers = list(range(0, MAX_GAIN+5, 5))\n",
    "p_accepted_0 = np.zeros((len(offers)))\n",
    "p_accepted_1 = np.zeros((len(offers)))\n",
    "p_accepted_05 = np.zeros((len(offers)))\n",
    "for idx, offer in enumerate(offers):\n",
    "    p_accepted_0[idx] = get_acceptance_probability(50, offer, 0, infos[\"train_err_pdf\"], experiment_mode=True, train_pdf=infos[\"pdf\"])\n",
    "    p_accepted_1[idx] = get_acceptance_probability(50, offer, 1, infos[\"train_err_pdf\"], experiment_mode=True, train_pdf=infos[\"pdf\"])\n",
    "    p_accepted_05[idx] = get_acceptance_probability(50, offer, 0.5, infos[\"train_err_pdf\"], experiment_mode=True, train_pdf=infos[\"pdf\"])\n",
    "\n",
    "lbl0 = \"p: ai_offer=50, acc=0\"\n",
    "lbl1 = \"p: ai_offer=50, acc=1\"\n",
    "lbl05 = \"p: ai_offer=50, acc=0.5\"\n",
    "df = pd.DataFrame(data={\"offer\": offers, lbl0: p_accepted_0, lbl1: p_accepted_1, lbl05: p_accepted_05})\n",
    "df.plot(x=\"offer\", y=[lbl0, lbl05, lbl1])\n"
   ]
  },
  {
   "cell_type": "code",
   "execution_count": 9,
   "metadata": {},
   "outputs": [],
   "source": [
    "from core.utils.explanation import get_best_offer_probability\n",
    "m = np.zeros((len(offers), len(offers)))\n",
    "for idx_ai, ai_offer in enumerate(offers):\n",
    "    for idx, offer in enumerate(offers):\n",
    "        m[idx_ai][idx] = get_best_offer_probability(ai_offer, offer, infos[\"acc\"], infos[\"train_err_pdf\"], experiment_mode=True)"
   ]
  },
  {
   "cell_type": "code",
   "execution_count": 10,
   "metadata": {},
   "outputs": [
    {
     "data": {
      "text/plain": [
       "<matplotlib.axes._subplots.AxesSubplot at 0x7f4422f2dc88>"
      ]
     },
     "execution_count": 10,
     "metadata": {},
     "output_type": "execute_result"
    },
    {
     "data": {
      "image/png": "[encoded data removed]",
      "text/plain": [
       "<Figure size 432x288 with 1 Axes>"
      ]
     },
     "metadata": {
      "needs_background": "light"
     },
     "output_type": "display_data"
    }
   ],
   "source": [
    "p_best_offer = np.convolve(infos[\"train_err_pdf\"], [0.02, 0.03, 0.04, 0.9, 0.005, 0.003, 0.002], \"same\")\n",
    "p_best_offer *= infos[\"acc\"] / p_best_offer.max()\n",
    "df = pd.DataFrame(data={\"offer-ai_offer\": infos[\"bins_train_err_pdf\"][:-1], \"p_best_offer\": p_best_offer})\n",
    "df.plot(x=\"offer-ai_offer\", y=\"p_best_offer\")\n"
   ]
  },
  {
   "cell_type": "code",
   "execution_count": 11,
   "metadata": {},
   "outputs": [
    {
     "data": {
      "text/plain": [
       "<matplotlib.axes._subplots.AxesSubplot at 0x7f4422986a20>"
      ]
     },
     "execution_count": 11,
     "metadata": {},
     "output_type": "execute_result"
    },
    {
     "data": {
      "image/png": "[encoded data removed]",
      "text/plain": [
       "<Figure size 432x288 with 1 Axes>"
      ]
     },
     "metadata": {
      "needs_background": "light"
     },
     "output_type": "display_data"
    }
   ],
   "source": [
    "# p_best_offer = np.convolve(infos[\"train_err_pdf\"], [0.02, 0.03, 0.04, 0.9, 0.005, 0.003, 0.002])\n",
    "p_best_offer_raw = np.array(infos[\"train_err_pdf\"])\n",
    "p_best_offer_raw *= (infos[\"acc\"] * 1.0) / p_best_offer_raw.max()\n",
    "df = pd.DataFrame(data={\"offer-ai_offer\": infos[\"bins_train_err_pdf\"][:-1], \"p_best_offer\": p_best_offer - p_best_offer_raw})\n",
    "df.plot(x=\"offer-ai_offer\", y=\"p_best_offer\")"
   ]
  },
  {
   "cell_type": "code",
   "execution_count": 12,
   "metadata": {},
   "outputs": [
    {
     "data": {
      "text/plain": [
       "<matplotlib.axes._subplots.AxesSubplot at 0x7f4422925400>"
      ]
     },
     "execution_count": 12,
     "metadata": {},
     "output_type": "execute_result"
    },
    {
     "data": {
      "image/png": "[encoded data removed]",
      "text/plain": [
       "<Figure size 432x288 with 1 Axes>"
      ]
     },
     "metadata": {
      "needs_background": "light"
     },
     "output_type": "display_data"
    }
   ],
   "source": [
    "p_best_offer_raw = np.array(infos[\"train_err_pdf\"])\n",
    "p_best_offer_raw *= (infos[\"acc\"] * 1.0) / p_best_offer_raw.max()\n",
    "p = np.cumsum(p_best_offer - p_best_offer_raw)\n",
    "p /= p.max()\n",
    "df = pd.DataFrame(data={\"offer-ai_offer\": infos[\"bins_train_err_pdf\"][:-1], \"p_best_offer\": p})\n",
    "df.plot(x=\"offer-ai_offer\", y=\"p_best_offer\")"
   ]
  },
  {
   "cell_type": "code",
   "execution_count": 13,
   "metadata": {},
   "outputs": [
    {
     "data": {
      "text/plain": [
       "array([0.        , 0.        , 0.        , 0.        , 0.        ,\n",
       "       0.        , 0.        , 0.        , 0.        , 0.        ,\n",
       "       0.00667036, 0.        , 0.        , 0.        , 0.        ,\n",
       "       0.02668145, 0.        , 0.04002217, 0.02001109, 0.02668145,\n",
       "       0.79377313, 0.1600887 , 0.44024392, 0.0533629 , 0.03335181,\n",
       "       0.34685885, 0.02668145, 0.06003326, 0.00667036, 0.07337399,\n",
       "       0.02001109, 0.        , 0.        , 0.        , 0.        ,\n",
       "       0.        , 0.        , 0.        , 0.        , 0.        ,\n",
       "       0.        ])"
      ]
     },
     "execution_count": 13,
     "metadata": {},
     "output_type": "execute_result"
    }
   ],
   "source": [
    "p_best_offer_raw"
   ]
  },
  {
   "cell_type": "code",
   "execution_count": 14,
   "metadata": {},
   "outputs": [
    {
     "data": {
      "text/plain": [
       "dict_keys(['test_gain_mean', 'test_avg_loss_ratio', 'val_gain_main', 'val_avg_loss_ratio', 'top_columns', 'pdf', 'bins_pdf', 'acc', 'val_acc', 'rel_acc_std', 'train_err_pdf', 'bins_train_err_pdf', 'unique_preds', 'df_min', 'df_max'])"
      ]
     },
     "execution_count": 14,
     "metadata": {},
     "output_type": "execute_result"
    }
   ],
   "source": [
    "infos.keys()"
   ]
  },
  {
   "cell_type": "code",
   "execution_count": 15,
   "metadata": {},
   "outputs": [
    {
     "data": {
      "text/plain": [
       "array([0.        , 0.        , 0.        , 0.        , 0.        ,\n",
       "       0.        , 0.        , 0.        , 0.        , 0.        ,\n",
       "       0.00664821, 0.00664821, 0.00664821, 0.00664821, 0.00664821,\n",
       "       0.03280771, 0.03280771, 0.07080695, 0.08927846, 0.11338808,\n",
       "       0.64911151, 0.72944456, 0.92194363, 0.94294636, 0.95585253,\n",
       "       1.08104075, 1.09005151, 1.11003366, 1.11222945, 1.13607019,\n",
       "       1.14247477, 1.14247477, 1.14247477, 1.14247477, 1.14247477,\n",
       "       1.14247477, 1.14247477, 1.14247477, 1.14247477, 1.14247477,\n",
       "       1.14247477])"
      ]
     },
     "execution_count": 15,
     "metadata": {},
     "output_type": "execute_result"
    }
   ],
   "source": [
    "np.log(1 + np.cumsum(p_best_offer_raw))"
   ]
  },
  {
   "cell_type": "code",
   "execution_count": null,
   "metadata": {},
   "outputs": [],
   "source": []
  }
 ],
 "metadata": {
  "kernelspec": {
   "display_name": "Python 3",
   "language": "python",
   "name": "python3"
  },
  "language_info": {
   "codemirror_mode": {
    "name": "ipython",
    "version": 3
   },
   "file_extension": ".py",
   "mimetype": "text/x-python",
   "name": "python",
   "nbconvert_exporter": "python",
   "pygments_lexer": "ipython3",
   "version": "3.6.8"
  }
 },
 "nbformat": 4,
 "nbformat_minor": 2
}
