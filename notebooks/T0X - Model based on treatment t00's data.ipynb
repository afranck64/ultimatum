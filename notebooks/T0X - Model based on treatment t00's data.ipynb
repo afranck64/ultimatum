{
 "cells": [
  {
   "cell_type": "markdown",
   "metadata": {},
   "source": [
    "## Treatment T10 Preparation"
   ]
  },
  {
   "cell_type": "code",
   "execution_count": 1,
   "metadata": {},
   "outputs": [
    {
     "data": {
      "text/plain": [
       "prop                   200.0\n",
       "other_resp             200.0\n",
       "other_prop             200.0\n",
       "time_spent_risk     152000.0\n",
       "cells                   50.0\n",
       "selfish                 60.0\n",
       "time_spent_prop     269000.0\n",
       "count_effort            20.0\n",
       "Honesty_Humility         5.0\n",
       "Extraversion             5.0\n",
       "Agreeableness            5.0\n",
       "min_offer              200.0\n",
       "dtype: float64"
      ]
     },
     "execution_count": 1,
     "metadata": {},
     "output_type": "execute_result"
    }
   ],
   "source": [
    "import os\n",
    "import sys\n",
    "module_path = os.path.abspath(os.path.join('..'))\n",
    "if module_path not in sys.path:\n",
    "    sys.path.append(module_path)\n",
    "import pandas as pd\n",
    "%matplotlib inline\n",
    "import matplotlib.pyplot as plt\n",
    "import numpy as np\n",
    "from IPython.display import display\n",
    "from sklearn.model_selection import train_test_split\n",
    "from sklearn.metrics import r2_score\n",
    "import seaborn as sb\n",
    "\n",
    "RND_SEED = 6\n",
    "np.random.seed = RND_SEED\n",
    "\n",
    "\n",
    "df = pd.read_excel(\"../data/t00/data.xls\")\n",
    "df_full = df.copy()\n",
    "#Drop 'protected' features\n",
    "drop_cols = ['prop', 'other_prop', 'other_resp']\n",
    "df = df[[col for col in df.columns if col not in drop_cols]]\n",
    "\n",
    "## comment/uncomment for shuffling\n",
    "#df = df.sample(frac=1.0)\n",
    "TEST_SIZE = 50\n",
    "df_base = df.copy()\n",
    "\n",
    "df_train = df.head(df.shape[0] - TEST_SIZE)\n",
    "df_test = df.tail(TEST_SIZE)\n",
    "\n",
    "\n",
    "df_full = pd.read_excel(\"../data/t00/data.xls\")\n",
    "df_min = df_full.min()\n",
    "df_min.values[:] = 0\n",
    "df_max = df_full.max()\n",
    "df_max[\"Honesty_Humility\"] = 5.0\n",
    "df_max[\"Extraversion\"] = 5.0\n",
    "df_max[\"Agreeableness\"] = 5.0\n",
    "df_max[\"cells\"] = 50\n",
    "df_max[\"selfish\"] = 60\n",
    "df_max[\"min_offer\"] = 200\n",
    "df_max[\"prop\"] = 200\n",
    "df_max[\"other_resp\"] = 200\n",
    "df_max[\"other_prop\"] = 200\n",
    "df_max[\"count_effort\"] = 20\n",
    "\n",
    "\n",
    "df.head()\n",
    "df_max"
   ]
  },
  {
   "cell_type": "markdown",
   "metadata": {},
   "source": [
    "## Determine significant features"
   ]
  },
  {
   "cell_type": "markdown",
   "metadata": {},
   "source": [
    "**Feature importance permutation**"
   ]
  },
  {
   "cell_type": "code",
   "execution_count": 2,
   "metadata": {},
   "outputs": [],
   "source": [
    "from core.utils.preprocessing import df_to_xy, df_to_xydf\n",
    "from core.models import AcceptanceModel, ClusterExtModel\n",
    "from core.utils.benchmark import process_model, process_benchmark_cv\n",
    "from mlxtend.evaluate import feature_importance_permutation"
   ]
  },
  {
   "cell_type": "code",
   "execution_count": 3,
   "metadata": {
    "scrolled": true
   },
   "outputs": [
    {
     "name": "stderr",
     "output_type": "stream",
     "text": [
      "/home/franck/anaconda3/envs/thesis/lib/python3.6/site-packages/sklearn/utils/validation.py:724: DataConversionWarning: A column-vector y was passed when a 1d array was expected. Please change the shape of y to (n_samples, ), for example using ravel().\n",
      "  y = column_or_1d(y, warn=True)\n",
      "/home/franck/anaconda3/envs/thesis/lib/python3.6/site-packages/sklearn/utils/validation.py:724: DataConversionWarning: A column-vector y was passed when a 1d array was expected. Please change the shape of y to (n_samples, ), for example using ravel().\n",
      "  y = column_or_1d(y, warn=True)\n",
      "/home/franck/anaconda3/envs/thesis/lib/python3.6/site-packages/sklearn/utils/validation.py:724: DataConversionWarning: A column-vector y was passed when a 1d array was expected. Please change the shape of y to (n_samples, ), for example using ravel().\n",
      "  y = column_or_1d(y, warn=True)\n",
      "/home/franck/anaconda3/envs/thesis/lib/python3.6/site-packages/sklearn/utils/validation.py:724: DataConversionWarning: A column-vector y was passed when a 1d array was expected. Please change the shape of y to (n_samples, ), for example using ravel().\n",
      "  y = column_or_1d(y, warn=True)\n",
      "/home/franck/anaconda3/envs/thesis/lib/python3.6/site-packages/sklearn/utils/validation.py:724: DataConversionWarning: A column-vector y was passed when a 1d array was expected. Please change the shape of y to (n_samples, ), for example using ravel().\n",
      "  y = column_or_1d(y, warn=True)\n"
     ]
    },
    {
     "data": {
      "image/png": "[encoded data removed]",
      "text/plain": [
       "<Figure size 1080x576 with 1 Axes>"
      ]
     },
     "metadata": {
      "needs_background": "light"
     },
     "output_type": "display_data"
    }
   ],
   "source": [
    "from sklearn.svm import SVR\n",
    "\n",
    "from core.models import AcceptanceModel\n",
    "from core.utils.preprocessing import df_to_xy, df_to_xydf\n",
    "from core.models.metrics import avg_gain_ratio\n",
    "\n",
    "NB_REPETITIONS = 5\n",
    "\n",
    "imp_vals = None\n",
    "imp_all = None\n",
    "for _ in range(NB_REPETITIONS):\n",
    "    df_x, df_y = df_to_xydf(df_train.sample(frac=1.0, random_state=RND_SEED), fuse_risk=True)\n",
    "    #model = ClusterExtModel(base_model=\"affinity\")\n",
    "    model = AcceptanceModel(SVR(gamma='auto', kernel='poly', degree=2), step=10, zero_one=False)\n",
    "    split = int(0.6 * df_x.shape[0])\n",
    "    model.fit(df_x.values[:split], df_y.values.ravel()[:split])\n",
    "\n",
    "    step_imp_vals, step_imp_all = feature_importance_permutation(\n",
    "        predict_method=model.predict, \n",
    "        X=df_x.values[split:],\n",
    "        y=df_y.values.ravel()[split:],\n",
    "        metric=avg_gain_ratio,\n",
    "        num_rounds=3,\n",
    "        seed=None)\n",
    "    if imp_vals is None:\n",
    "        imp_vals = step_imp_vals\n",
    "        imp_all = step_imp_all\n",
    "    else:\n",
    "        imp_vals += step_imp_vals\n",
    "        imp_all += step_imp_all\n",
    "\n",
    "\n",
    "imp_all /= NB_REPETITIONS\n",
    "imp_vals /= NB_REPETITIONS\n",
    "std = np.std(imp_all, axis=1)\n",
    "indices = np.argsort(imp_vals)[::-1]\n",
    "\n",
    "\n",
    "plt.figure(figsize=(15, 8))\n",
    "plt.title(\"Feature importance via permutation importance\")\n",
    "plt.bar(df_x.columns[indices], imp_vals[indices],\n",
    "        yerr=std[indices],)\n",
    "plt.show()"
   ]
  },
  {
   "cell_type": "markdown",
   "metadata": {},
   "source": [
    "\n",
    "\n",
    "## Generate data for the survey"
   ]
  },
  {
   "cell_type": "markdown",
   "metadata": {},
   "source": [
    "**Save the model and model infos**"
   ]
  },
  {
   "cell_type": "code",
   "execution_count": 4,
   "metadata": {},
   "outputs": [
    {
     "data": {
      "text/html": [
       "<div>\n",
       "<style scoped>\n",
       "    .dataframe tbody tr th:only-of-type {\n",
       "        vertical-align: middle;\n",
       "    }\n",
       "\n",
       "    .dataframe tbody tr th {\n",
       "        vertical-align: top;\n",
       "    }\n",
       "\n",
       "    .dataframe thead th {\n",
       "        text-align: right;\n",
       "    }\n",
       "</style>\n",
       "<table border=\"1\" class=\"dataframe\">\n",
       "  <thead>\n",
       "    <tr style=\"text-align: right;\">\n",
       "      <th></th>\n",
       "      <th>acc</th>\n",
       "      <th>val_acc</th>\n",
       "      <th>unique_preds</th>\n",
       "    </tr>\n",
       "  </thead>\n",
       "  <tbody>\n",
       "    <tr>\n",
       "      <th>time_spent_risk</th>\n",
       "      <td>0.758158</td>\n",
       "      <td>0.708473</td>\n",
       "      <td>[10.0, 50.0, 60.0, 100.0, 105.0, 195.0]</td>\n",
       "    </tr>\n",
       "    <tr>\n",
       "      <th>cells</th>\n",
       "      <td>0.682553</td>\n",
       "      <td>0.777761</td>\n",
       "      <td>[100.0]</td>\n",
       "    </tr>\n",
       "    <tr>\n",
       "      <th>selfish</th>\n",
       "      <td>0.598733</td>\n",
       "      <td>0.412029</td>\n",
       "      <td>[10.0, 50.0, 100.0]</td>\n",
       "    </tr>\n",
       "    <tr>\n",
       "      <th>risk</th>\n",
       "      <td>0.771674</td>\n",
       "      <td>0.777761</td>\n",
       "      <td>[100.0, 110.0]</td>\n",
       "    </tr>\n",
       "    <tr>\n",
       "      <th>count_effort</th>\n",
       "      <td>0.618409</td>\n",
       "      <td>0.538114</td>\n",
       "      <td>[15.0, 50.0, 85.0, 90.0, 100.0]</td>\n",
       "    </tr>\n",
       "    <tr>\n",
       "      <th>Honesty_Humility</th>\n",
       "      <td>0.778577</td>\n",
       "      <td>0.745077</td>\n",
       "      <td>[80.0, 95.0, 100.0, 105.0]</td>\n",
       "    </tr>\n",
       "    <tr>\n",
       "      <th>Extraversion</th>\n",
       "      <td>0.707559</td>\n",
       "      <td>0.753904</td>\n",
       "      <td>[80.0, 100.0]</td>\n",
       "    </tr>\n",
       "    <tr>\n",
       "      <th>Agreeableness</th>\n",
       "      <td>0.754321</td>\n",
       "      <td>0.728196</td>\n",
       "      <td>[80.0, 95.0, 100.0, 105.0]</td>\n",
       "    </tr>\n",
       "  </tbody>\n",
       "</table>\n",
       "</div>"
      ],
      "text/plain": [
       "                       acc   val_acc                             unique_preds\n",
       "time_spent_risk   0.758158  0.708473  [10.0, 50.0, 60.0, 100.0, 105.0, 195.0]\n",
       "cells             0.682553  0.777761                                  [100.0]\n",
       "selfish           0.598733  0.412029                      [10.0, 50.0, 100.0]\n",
       "risk              0.771674  0.777761                           [100.0, 110.0]\n",
       "count_effort      0.618409  0.538114          [15.0, 50.0, 85.0, 90.0, 100.0]\n",
       "Honesty_Humility  0.778577  0.745077               [80.0, 95.0, 100.0, 105.0]\n",
       "Extraversion      0.707559  0.753904                            [80.0, 100.0]\n",
       "Agreeableness     0.754321  0.728196               [80.0, 95.0, 100.0, 105.0]"
      ]
     },
     "execution_count": 4,
     "metadata": {},
     "output_type": "execute_result"
    }
   ],
   "source": [
    "from core.utils.pipeline import train_and_save\n",
    "cols = ['time_spent_risk', 'cells', 'selfish', 'risk',\n",
    "            'count_effort', 'Honesty_Humility', 'Extraversion', 'Agreeableness'\n",
    "        ]\n",
    "results = []\n",
    "for col in cols:\n",
    "    model = ClusterExtModel(base_model=\"affinity\")\n",
    "    tm, infos = train_and_save(\"../data/t00\", \"../data/t00\", model=model, shuffle=True, random_state=RND_SEED, top_columns=[col])\n",
    "    results.append(infos)\n",
    "    infos['col'] = col\n",
    "    \n",
    "result_df = pd.DataFrame(data=results)\n",
    "result_df.index = result_df['col'].values\n",
    "result_df = result_df[['acc', 'val_acc', 'unique_preds']]\n",
    "\n",
    "result_df\n"
   ]
  },
  {
   "cell_type": "code",
   "execution_count": 5,
   "metadata": {},
   "outputs": [],
   "source": [
    "# model = ClusterExtModel(base_model=\"meanshift\")\n",
    "# top_model, infos = train_and_save(\"../data/t00\", \"../data/t00\", model=model, shuffle=True, random_state=RND_SEED, top_columns=['risk', 'count_effort', 'Honesty_Humility', 'selfish'])\n",
    "# print(\"acc:\", infos[\"acc\"], \"val_acc:\", infos[\"val_acc\"], \"unique_values:\", (infos[\"unique_preds\"]))\n",
    "# top_model.base_model.cluster_centers_\n",
    "# top_model.predict(top_model.base_model.cluster_centers_)"
   ]
  },
  {
   "cell_type": "code",
   "execution_count": 6,
   "metadata": {},
   "outputs": [
    {
     "name": "stdout",
     "output_type": "stream",
     "text": [
      "acc: 0.7831113918896897 val_acc: 0.7777611679785593 unique_values: [100.0]\n"
     ]
    }
   ],
   "source": [
    "from sklearn.svm import SVR\n",
    "from core.models import AcceptanceModel, EMModel\n",
    "model = AcceptanceModel(SVR(gamma='auto', kernel='poly', degree=2), step=1, zero_one=False)\n",
    "model = EMModel()\n",
    "\n",
    "top_model, infos = train_and_save(\"../data/t00\", \"../data/t00\", model=model, shuffle=True, random_state=RND_SEED, top_columns=['risk', 'count_effort', 'Honesty_Humility', 'selfish'])\n",
    "print(\"acc:\", infos[\"acc\"], \"val_acc:\", infos[\"val_acc\"], \"unique_values:\", (infos[\"unique_preds\"]))"
   ]
  },
  {
   "cell_type": "code",
   "execution_count": 7,
   "metadata": {},
   "outputs": [
    {
     "data": {
      "text/plain": [
       "<matplotlib.axes._subplots.AxesSubplot at 0x7f7e2f7ee3c8>"
      ]
     },
     "execution_count": 7,
     "metadata": {},
     "output_type": "execute_result"
    },
    {
     "data": {
      "image/png": "[encoded data removed]",
      "text/plain": [
       "<Figure size 432x288 with 1 Axes>"
      ]
     },
     "metadata": {
      "needs_background": "light"
     },
     "output_type": "display_data"
    }
   ],
   "source": [
    "from core.utils.explanation import get_acceptance_probability\n",
    "offers = np.arange(0, 205, 5)\n",
    "p_accepted = [get_acceptance_probability(offer, infos[\"pdf\"]) for offer in offers]\n",
    "pd.DataFrame(data={\"offer\": offers, \"p_accepted\": p_accepted}).plot(x=\"offer\", y=\"p_accepted\")"
   ]
  },
  {
   "cell_type": "code",
   "execution_count": 8,
   "metadata": {},
   "outputs": [],
   "source": [
    "from core.utils.explanation import get_best_offer_probability\n",
    "m = np.zeros((len(offers), len(offers)))\n",
    "for idx_ai, ai_offer in enumerate(offers):\n",
    "    for idx, offer in enumerate(offers):\n",
    "        m[idx_ai][idx] = get_best_offer_probability(ai_offer, offer, infos[\"acc\"], infos[\"train_err_pdf\"])"
   ]
  },
  {
   "cell_type": "code",
   "execution_count": 9,
   "metadata": {},
   "outputs": [
    {
     "data": {
      "text/plain": [
       "<matplotlib.axes._subplots.AxesSubplot at 0x7f7e2f7aa5c0>"
      ]
     },
     "execution_count": 9,
     "metadata": {},
     "output_type": "execute_result"
    },
    {
     "data": {
      "image/png": "[encoded data removed]",
      "text/plain": [
       "<Figure size 432x288 with 1 Axes>"
      ]
     },
     "metadata": {
      "needs_background": "light"
     },
     "output_type": "display_data"
    }
   ],
   "source": [
    "p_best_offer = np.convolve(infos[\"train_err_pdf\"], [0.02, 0.03, 0.04, 0.9, 0.005, 0.003, 0.002], \"same\")\n",
    "p_best_offer *= infos[\"acc\"] / p_best_offer.max()\n",
    "df = pd.DataFrame(data={\"offer-ai_offer\": infos[\"bins_train_err_pdf\"][:-1], \"p_best_offer\": p_best_offer})\n",
    "df.plot(x=\"offer-ai_offer\", y=\"p_best_offer\")\n"
   ]
  },
  {
   "cell_type": "code",
   "execution_count": 10,
   "metadata": {},
   "outputs": [
    {
     "data": {
      "text/plain": [
       "<matplotlib.axes._subplots.AxesSubplot at 0x7f7e2f708b70>"
      ]
     },
     "execution_count": 10,
     "metadata": {},
     "output_type": "execute_result"
    },
    {
     "data": {
      "image/png": "[encoded data removed]",
      "text/plain": [
       "<Figure size 432x288 with 1 Axes>"
      ]
     },
     "metadata": {
      "needs_background": "light"
     },
     "output_type": "display_data"
    }
   ],
   "source": [
    "# p_best_offer = np.convolve(infos[\"train_err_pdf\"], [0.02, 0.03, 0.04, 0.9, 0.005, 0.003, 0.002])\n",
    "p_best_offer_raw = np.array(infos[\"train_err_pdf\"])\n",
    "p_best_offer_raw *= (infos[\"acc\"] * 1.0) / p_best_offer_raw.max()\n",
    "df = pd.DataFrame(data={\"offer-ai_offer\": infos[\"bins_train_err_pdf\"][:-1], \"p_best_offer\": p_best_offer - p_best_offer_raw})\n",
    "df.plot(x=\"offer-ai_offer\", y=\"p_best_offer\")"
   ]
  },
  {
   "cell_type": "code",
   "execution_count": null,
   "metadata": {},
   "outputs": [],
   "source": []
  }
 ],
 "metadata": {
  "kernelspec": {
   "display_name": "Python 3",
   "language": "python",
   "name": "python3"
  },
  "language_info": {
   "codemirror_mode": {
    "name": "ipython",
    "version": 3
   },
   "file_extension": ".py",
   "mimetype": "text/x-python",
   "name": "python",
   "nbconvert_exporter": "python",
   "pygments_lexer": "ipython3",
   "version": "3.6.8"
  }
 },
 "nbformat": 4,
 "nbformat_minor": 2
}
