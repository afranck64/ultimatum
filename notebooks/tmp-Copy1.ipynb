{
 "cells": [
  {
   "cell_type": "code",
   "execution_count": 5,
   "metadata": {},
   "outputs": [],
   "source": [
    "import os\n",
    "import sys\n",
    "module_path = os.path.abspath(os.path.join('..'))\n",
    "if module_path not in sys.path:\n",
    "    sys.path.append(module_path)\n",
    "    \n",
    "import pandas as pd\n",
    "%matplotlib inline\n",
    "import matplotlib.pyplot as plt\n",
    "import numpy as np\n",
    "from IPython.display import display\n",
    "from sklearn.model_selection import train_test_split\n",
    "from sklearn.metrics import r2_score\n",
    "import seaborn as sb\n",
    "import imblearn\n",
    "\n",
    "# Read and sanitize the data\n",
    "df = pd.read_csv(\"../data/t00/data_t00.csv\")\n",
    "df_full = df.copy()\n",
    "drop_cols = [\"worker_id\", \"resp_worker_id\", \"prop_worker_id\", \"updated\", \"status\", \"job_id\", \"status\", \"timestamp\", \"rowid\", \"offer_dss\", \"offer\", \"offer_final\"]\n",
    "df = df[[col for col in df.columns if col not in drop_cols]]\n",
    "df = df.dropna()\n",
    "\n",
    "cols = [col for col in df.columns if col != \"min_offer\"] + [\"min_offer\"]"
   ]
  },
  {
   "cell_type": "code",
   "execution_count": 6,
   "metadata": {},
   "outputs": [],
   "source": [
    "from core.utils.preprocessing import df_to_xydf, df_to_xy"
   ]
  },
  {
   "cell_type": "code",
   "execution_count": 83,
   "metadata": {},
   "outputs": [
    {
     "name": "stdout",
     "output_type": "stream",
     "text": [
      "(77, 64) (77,)\n"
     ]
    },
    {
     "data": {
      "text/plain": [
       "MultinomialNB(alpha=1.0, class_prior=None, fit_prior=True)"
      ]
     },
     "execution_count": 83,
     "metadata": {},
     "output_type": "execute_result"
    }
   ],
   "source": [
    "from sklearn.linear_model import LogisticRegression, LinearRegression\n",
    "from sklearn.ensemble import RandomForestClassifier, BaggingClassifier, BaggingRegressor\n",
    "from sklearn.naive_bayes import GaussianNB, MultinomialNB\n",
    "from sklearn.neural_network import MLPClassifier\n",
    "from core.models import AcceptanceModel\n",
    "\n",
    "x, y = df_to_xy(df)\n",
    "y = y.ravel()\n",
    "\n",
    "split = int(x.shape[0] * 0.75)\n",
    "xTrain = x[:split]\n",
    "yTrain = y[:split]\n",
    "xTest = x[split:]\n",
    "yTest = y[split:]\n",
    "model = MultinomialNB()\n",
    "# model = MLPClassifier((200, 200, 200), max_iter=1000, learning_rate=\"invscaling\", batch_size=16, solver=\"lbfgs\")\n",
    "\n",
    "print(xTrain.shape, yTrain.shape)\n",
    "model.fit(xTrain, yTrain)"
   ]
  },
  {
   "cell_type": "code",
   "execution_count": 84,
   "metadata": {},
   "outputs": [
    {
     "data": {
      "text/plain": [
       "array([50, 50, 40, 50, 50, 40, 40, 50, 50, 50, 50, 50, 50, 50, 50, 50, 50,\n",
       "       40, 50, 20, 50, 50, 50, 50, 50, 40])"
      ]
     },
     "execution_count": 84,
     "metadata": {},
     "output_type": "execute_result"
    }
   ],
   "source": [
    "yPred = model.predict(xTest)\n",
    "yPred"
   ]
  },
  {
   "cell_type": "code",
   "execution_count": 85,
   "metadata": {},
   "outputs": [
    {
     "data": {
      "text/plain": [
       "array([  5,  40,  25,  50,  50,  50,  40,  50, 100,   5,  55,  45,  35,\n",
       "        50,  45,  30,  50,  50,  15,  50,   5,  50,  50,  50,  50,  40])"
      ]
     },
     "execution_count": 85,
     "metadata": {},
     "output_type": "execute_result"
    }
   ],
   "source": [
    "yTest"
   ]
  },
  {
   "cell_type": "code",
   "execution_count": 86,
   "metadata": {},
   "outputs": [
    {
     "name": "stdout",
     "output_type": "stream",
     "text": [
      "loss ratio:  0.3037609885549871\n"
     ]
    },
    {
     "data": {
      "text/plain": [
       "41.53846153846154"
      ]
     },
     "execution_count": 86,
     "metadata": {},
     "output_type": "execute_result"
    }
   ],
   "source": [
    "from core.models.metrics import gain_mean, avg_loss_ratio\n",
    "print(\"loss ratio: \", avg_loss_ratio(yTest, yPred))\n",
    "gain_mean(yTest, yPred)"
   ]
  },
  {
   "cell_type": "code",
   "execution_count": 87,
   "metadata": {},
   "outputs": [],
   "source": [
    "import numpy as np\n",
    "import pandas as pd\n",
    "from core.models.metrics import loss\n",
    "\n",
    "@np.vectorize\n",
    "def sigmoid1024(x):\n",
    "    base = 2000.0**2\n",
    "    return (base**x/(base**x + 1))\n",
    "\n",
    "@np.vectorize\n",
    "def loss_derivable(x, offset=1,  div1=8, div2=20):\n",
    "    x1 = (x + offset) / div1\n",
    "    x2 = (x) / div2\n",
    "    return (1 - sigmoid1024(x1) *  np.cos(x2/np.pi))\n",
    "\n",
    "def gain_derivable(x):\n",
    "    return 1 - loss(x)"
   ]
  },
  {
   "cell_type": "code",
   "execution_count": 72,
   "metadata": {},
   "outputs": [
    {
     "data": {
      "text/plain": [
       "<matplotlib.axes._subplots.AxesSubplot at 0x7f4eef5d8b38>"
      ]
     },
     "execution_count": 72,
     "metadata": {},
     "output_type": "execute_result"
    },
    {
     "data": {
      "image/png": "[encoded data removed]",
      "text/plain": [
       "<Figure size 432x288 with 1 Axes>"
      ]
     },
     "metadata": {
      "needs_background": "light"
     },
     "output_type": "display_data"
    }
   ],
   "source": [
    "x = np.arange(-100, 101, 1)\n",
    "y_derivable = loss_derivable(x)\n",
    "\n",
    "out_df = pd.DataFrame({'e':x, 'loss_derivable':y_derivable})\n",
    "out_df.plot.line(x='e', y='loss_derivable')"
   ]
  },
  {
   "cell_type": "code",
   "execution_count": 73,
   "metadata": {},
   "outputs": [
    {
     "data": {
      "text/plain": [
       "<matplotlib.axes._subplots.AxesSubplot at 0x7f4eef0fcef0>"
      ]
     },
     "execution_count": 73,
     "metadata": {},
     "output_type": "execute_result"
    },
    {
     "data": {
      "image/png": "[encoded data removed]",
      "text/plain": [
       "<Figure size 432x288 with 1 Axes>"
      ]
     },
     "metadata": {
      "needs_background": "light"
     },
     "output_type": "display_data"
    }
   ],
   "source": [
    "x = np.arange(-100, 101, 1)\n",
    "y = loss(0, x) / 100\n",
    "\n",
    "out_df = pd.DataFrame({'e':x, 'loss':y})\n",
    "out_df.plot.line(x='e', y='loss')"
   ]
  },
  {
   "cell_type": "code",
   "execution_count": 44,
   "metadata": {},
   "outputs": [
    {
     "data": {
      "text/plain": [
       "<matplotlib.axes._subplots.AxesSubplot at 0x7f904aa312e8>"
      ]
     },
     "execution_count": 44,
     "metadata": {},
     "output_type": "execute_result"
    },
    {
     "data": {
      "image/png": "[encoded data removed]",
      "text/plain": [
       "<Figure size 432x288 with 1 Axes>"
      ]
     },
     "metadata": {
      "needs_background": "light"
     },
     "output_type": "display_data"
    }
   ],
   "source": [
    "tmp_df = pd.DataFrame({'e':x, 'y': y - y_derivable})\n",
    "tmp_df.plot.line(x='e', y='y')"
   ]
  },
  {
   "cell_type": "code",
   "execution_count": 51,
   "metadata": {},
   "outputs": [
    {
     "name": "stderr",
     "output_type": "stream",
     "text": [
      "/home/franck/anaconda3/envs/thesis/lib/python3.6/site-packages/ipykernel_launcher.py:1: RankWarning: Polyfit may be poorly conditioned\n",
      "  \"\"\"Entry point for launching an IPython kernel.\n"
     ]
    },
    {
     "data": {
      "text/plain": [
       "<matplotlib.axes._subplots.AxesSubplot at 0x7f904baf3898>"
      ]
     },
     "execution_count": 51,
     "metadata": {},
     "output_type": "execute_result"
    },
    {
     "data": {
      "image/png": "[encoded data removed]",
      "text/plain": [
       "<Figure size 432x288 with 1 Axes>"
      ]
     },
     "metadata": {
      "needs_background": "light"
     },
     "output_type": "display_data"
    }
   ],
   "source": [
    "degs = np.polyfit(x, y, deg=150)\n",
    "loss_poly = np.poly1d(degs)\n",
    "y_poly = loss_poly(x)\n",
    "tmp2_df = pd.DataFrame({'e':x, 'loss_poly': y_poly})\n",
    "tmp2_df.plot.line(x='e', y='loss_poly')"
   ]
  },
  {
   "cell_type": "code",
   "execution_count": null,
   "metadata": {},
   "outputs": [],
   "source": []
  }
 ],
 "metadata": {
  "kernelspec": {
   "display_name": "Python 3",
   "language": "python",
   "name": "python3"
  },
  "language_info": {
   "codemirror_mode": {
    "name": "ipython",
    "version": 3
   },
   "file_extension": ".py",
   "mimetype": "text/x-python",
   "name": "python",
   "nbconvert_exporter": "python",
   "pygments_lexer": "ipython3",
   "version": "3.6.8"
  }
 },
 "nbformat": 4,
 "nbformat_minor": 2
}
