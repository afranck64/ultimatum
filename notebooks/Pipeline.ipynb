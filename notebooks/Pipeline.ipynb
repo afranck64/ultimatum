{
 "cells": [
  {
   "cell_type": "code",
   "execution_count": null,
   "metadata": {},
   "outputs": [],
   "source": []
  },
  {
   "cell_type": "markdown",
   "metadata": {},
   "source": [
    "## Data preparation and sanitization"
   ]
  },
  {
   "cell_type": "code",
   "execution_count": 1,
   "metadata": {},
   "outputs": [],
   "source": [
    "import os\n",
    "import sys\n",
    "module_path = os.path.abspath(os.path.join('..'))\n",
    "if module_path not in sys.path:\n",
    "    sys.path.append(module_path)\n",
    "\n",
    "import pandas as pd\n",
    "%matplotlib inline\n",
    "import matplotlib.pyplot as plt\n",
    "import numpy as np\n",
    "from IPython.display import display\n",
    "from sklearn.model_selection import train_test_split\n",
    "from sklearn.metrics import r2_score\n",
    "import seaborn as sb\n",
    "\n",
    "from core.utils.preprocessing import df_to_xy\n",
    "\n",
    "# Read and sanitize the data\n",
    "df = pd.read_excel(\"../data/t00/UG_HH_NEW_continuous_no200.xls\")\n",
    "#df = pd.read_excel(\"./UG_HH_NEW_categorical_no200.xls\")\n",
    "df = df.dropna()\n",
    "\n",
    "\n",
    "x, y = df_to_xy(df, fuse_risk=True, centered=False, min_target=5, max_target=190)"
   ]
  },
  {
   "cell_type": "code",
   "execution_count": null,
   "metadata": {},
   "outputs": [],
   "source": []
  },
  {
   "cell_type": "markdown",
   "metadata": {},
   "source": [
    "## Linear regression (continuous dataset)"
   ]
  },
  {
   "cell_type": "markdown",
   "metadata": {},
   "source": [
    "**Accuracy / Loss - For model comparison**"
   ]
  },
  {
   "cell_type": "code",
   "execution_count": 2,
   "metadata": {},
   "outputs": [],
   "source": [
    "MAX_GAIN = 200\n"
   ]
  },
  {
   "cell_type": "markdown",
   "metadata": {},
   "source": [
    "#### Benchmark"
   ]
  },
  {
   "cell_type": "code",
   "execution_count": 3,
   "metadata": {},
   "outputs": [],
   "source": [
    "from core.utils.benchmark import process_benchmarks, process_benchmark_cv, process_model\n"
   ]
  },
  {
   "cell_type": "markdown",
   "metadata": {},
   "source": [
    "**Keras Model**"
   ]
  },
  {
   "cell_type": "code",
   "execution_count": 4,
   "metadata": {},
   "outputs": [
    {
     "name": "stderr",
     "output_type": "stream",
     "text": [
      "Using TensorFlow backend.\n"
     ]
    }
   ],
   "source": [
    "from core.models.deep import KerasModel, loss_tf, gain_tf"
   ]
  },
  {
   "cell_type": "code",
   "execution_count": 5,
   "metadata": {},
   "outputs": [],
   "source": [
    "import os, sys\n"
   ]
  },
  {
   "cell_type": "code",
   "execution_count": 6,
   "metadata": {},
   "outputs": [],
   "source": [
    "# #sci-kit like training\n",
    "# sm = keras_model(\"mse\") \n",
    "# history = sm.fit(xTrain, yTrain, validation_split=0.33, epochs=100, batch_size=64, verbose=0)\n",
    "# loss_hist = pd.DataFrame(data={'loss': history.history['loss']})\n",
    "# loss_hist.plot(figsize=(30,10))\n",
    "# smPredict = sm.predict(xTest, batch_size=128)\n",
    "\n",
    "# out_data = pd.DataFrame(data={'y_test': np.ravel(yTest), 'y_pred': np.ravel(smPredict)})\n",
    "# stl = sm.evaluate(xTest, yTest, verbose=0)\n",
    "# print(\"Results: %2.2f (%.2f) MSE, Scalar test loss: %.2f\" % (smPredict.mean(), smPredict.std(), stl))\n",
    "# #out_data.plot(figsize=(30,10))"
   ]
  },
  {
   "cell_type": "markdown",
   "metadata": {},
   "source": [
    "**Featureless model (fixed value)**"
   ]
  },
  {
   "cell_type": "code",
   "execution_count": 7,
   "metadata": {},
   "outputs": [],
   "source": [
    "from core.models import FeaturelessModel"
   ]
  },
  {
   "cell_type": "markdown",
   "metadata": {},
   "source": [
    "**Convervative model**"
   ]
  },
  {
   "cell_type": "code",
   "execution_count": 8,
   "metadata": {},
   "outputs": [],
   "source": [
    "from core.models import ConservativeModel"
   ]
  },
  {
   "cell_type": "markdown",
   "metadata": {},
   "source": [
    "**Linear/Logistic regression**"
   ]
  },
  {
   "cell_type": "code",
   "execution_count": 9,
   "metadata": {
    "scrolled": false
   },
   "outputs": [],
   "source": [
    "from sklearn.linear_model import LinearRegression, LogisticRegression"
   ]
  },
  {
   "cell_type": "markdown",
   "metadata": {},
   "source": [
    "**Random**"
   ]
  },
  {
   "cell_type": "code",
   "execution_count": 10,
   "metadata": {},
   "outputs": [],
   "source": [
    "from core.models import RandomModel"
   ]
  },
  {
   "cell_type": "markdown",
   "metadata": {},
   "source": [
    "**Random Forest**"
   ]
  },
  {
   "cell_type": "code",
   "execution_count": 11,
   "metadata": {},
   "outputs": [],
   "source": [
    "from sklearn.ensemble.forest import RandomForestClassifier, RandomForestRegressor"
   ]
  },
  {
   "cell_type": "markdown",
   "metadata": {},
   "source": [
    "**Clustering**"
   ]
  },
  {
   "cell_type": "code",
   "execution_count": 12,
   "metadata": {},
   "outputs": [],
   "source": [
    "from core.models import ClusterModel, ClusterExtModel"
   ]
  },
  {
   "cell_type": "code",
   "execution_count": 13,
   "metadata": {},
   "outputs": [],
   "source": [
    "from sklearn.neural_network import MLPClassifier"
   ]
  },
  {
   "cell_type": "markdown",
   "metadata": {},
   "source": [
    "** Acceptance model **"
   ]
  },
  {
   "cell_type": "code",
   "execution_count": 14,
   "metadata": {},
   "outputs": [],
   "source": [
    "from core.models import AcceptanceModel"
   ]
  },
  {
   "cell_type": "markdown",
   "metadata": {},
   "source": [
    "** Data augmentation **"
   ]
  },
  {
   "cell_type": "code",
   "execution_count": 15,
   "metadata": {},
   "outputs": [],
   "source": [
    "from core.utils.data_augmentation import DACombine"
   ]
  },
  {
   "cell_type": "markdown",
   "metadata": {},
   "source": [
    "**Baseline models**"
   ]
  },
  {
   "cell_type": "code",
   "execution_count": 16,
   "metadata": {},
   "outputs": [
    {
     "data": {
      "text/html": [
       "<div>\n",
       "<style scoped>\n",
       "    .dataframe tbody tr th:only-of-type {\n",
       "        vertical-align: middle;\n",
       "    }\n",
       "\n",
       "    .dataframe tbody tr th {\n",
       "        vertical-align: top;\n",
       "    }\n",
       "\n",
       "    .dataframe thead th {\n",
       "        text-align: right;\n",
       "    }\n",
       "</style>\n",
       "<table border=\"1\" class=\"dataframe\">\n",
       "  <thead>\n",
       "    <tr style=\"text-align: right;\">\n",
       "      <th></th>\n",
       "      <th>avg_loss</th>\n",
       "      <th>avg_loss_ratio</th>\n",
       "      <th>avg_win_loss</th>\n",
       "      <th>loss_sum</th>\n",
       "      <th>mse</th>\n",
       "      <th>rejection_ratio</th>\n",
       "    </tr>\n",
       "  </thead>\n",
       "  <tbody>\n",
       "    <tr>\n",
       "      <th>featureless</th>\n",
       "      <td>26.897619</td>\n",
       "      <td>0.218055</td>\n",
       "      <td>23.998552</td>\n",
       "      <td>34482.0</td>\n",
       "      <td>1505.321429</td>\n",
       "      <td>0.066825</td>\n",
       "    </tr>\n",
       "    <tr>\n",
       "      <th>svc</th>\n",
       "      <td>26.934127</td>\n",
       "      <td>0.223484</td>\n",
       "      <td>21.936848</td>\n",
       "      <td>965.0</td>\n",
       "      <td>1660.067460</td>\n",
       "      <td>0.089048</td>\n",
       "    </tr>\n",
       "    <tr>\n",
       "      <th>featureless_da2</th>\n",
       "      <td>36.381746</td>\n",
       "      <td>0.295125</td>\n",
       "      <td>34.656535</td>\n",
       "      <td>46459.0</td>\n",
       "      <td>2078.257937</td>\n",
       "      <td>0.055556</td>\n",
       "    </tr>\n",
       "    <tr>\n",
       "      <th>svc_da2</th>\n",
       "      <td>65.272222</td>\n",
       "      <td>0.596533</td>\n",
       "      <td>25.279843</td>\n",
       "      <td>2340.0</td>\n",
       "      <td>6298.472222</td>\n",
       "      <td>0.518413</td>\n",
       "    </tr>\n",
       "  </tbody>\n",
       "</table>\n",
       "</div>"
      ],
      "text/plain": [
       "                  avg_loss  avg_loss_ratio  avg_win_loss  loss_sum  \\\n",
       "featureless      26.897619        0.218055     23.998552   34482.0   \n",
       "svc              26.934127        0.223484     21.936848     965.0   \n",
       "featureless_da2  36.381746        0.295125     34.656535   46459.0   \n",
       "svc_da2          65.272222        0.596533     25.279843    2340.0   \n",
       "\n",
       "                         mse  rejection_ratio  \n",
       "featureless      1505.321429         0.066825  \n",
       "svc              1660.067460         0.089048  \n",
       "featureless_da2  2078.257937         0.055556  \n",
       "svc_da2          6298.472222         0.518413  "
      ]
     },
     "execution_count": 16,
     "metadata": {},
     "output_type": "execute_result"
    }
   ],
   "source": [
    "from sklearn.svm import SVC\n",
    "\n",
    "benchmark_models = {\n",
    "    #Featureless:\n",
    "    #\"random\": RandomModel(MAX_GAIN),\n",
    "    #\"conservative\": ConservativeModel(MAX_GAIN),\n",
    "    \"featureless\": FeaturelessModel(MAX_GAIN),\n",
    "    \"svc\": SVC(gamma='auto') \n",
    "#     \"linear_regressor\": LinearRegression(copy_X=False),\n",
    "#     \"linear_regressor_mse\": keras_linear_regression(loss=\"mse\"),\n",
    "}\n",
    "\n",
    "results = dict()\n",
    "# for key, model in benchmark_models.items():\n",
    "#     results[key] = process_benchmark_cv(model, x, y.ravel())\n",
    "#     results[key+\"_da\"] = process_benchmark_cv(model, x, y.ravel(), augment_data=2)\n",
    "#results = {key: process_benchmark_cv(model, x, y.ravel()) for key, model in benchmark_models.items()}\n",
    "results = process_benchmarks(benchmark_models, x, y.ravel(), augment_data=[None, 2])\n",
    "\n",
    "results_mean = {key: item.mean() for key, item in results.items()}\n",
    "results_std = {key: item.std() for key, item in results.items()}\n",
    "pd.DataFrame(results_mean).T"
   ]
  },
  {
   "cell_type": "code",
   "execution_count": 17,
   "metadata": {},
   "outputs": [
    {
     "data": {
      "text/plain": [
       "<matplotlib.axes._subplots.AxesSubplot at 0x7f9b54312a90>"
      ]
     },
     "execution_count": 17,
     "metadata": {},
     "output_type": "execute_result"
    },
    {
     "data": {
      "image/png": "[encoded data removed]",
      "text/plain": [
       "<Figure size 1080x360 with 1 Axes>"
      ]
     },
     "metadata": {
      "needs_background": "light"
     },
     "output_type": "display_data"
    }
   ],
   "source": [
    "df_results_mean = pd.DataFrame(results_mean)\n",
    "df_results_std = pd.DataFrame(results_std)\n",
    "df_results_mean.plot.bar(logy=True, figsize=(15, 5))"
   ]
  },
  {
   "cell_type": "markdown",
   "metadata": {},
   "source": [
    "**Clustering based models**"
   ]
  },
  {
   "cell_type": "code",
   "execution_count": null,
   "metadata": {},
   "outputs": [],
   "source": [
    "benchmark_models = {\n",
    "#     #Cluster-based\n",
    "    \"affinity\": ClusterModel(base_model=\"affinity\"),\n",
    "#     \"bayes\": ClusterModel(base_model=\"bayes\", n_components=8),\n",
    "#     \"birch\": ClusterModel(base_model=\"birch\"),\n",
    "#     \"kmeans\": ClusterModel(base_model=\"kmeans\", n_clusters=16),\n",
    "    \"meanshift\": ClusterModel(base_model=\"meanshift\", cluster_all=True),\n",
    "    \"affinity_ext\": ClusterExtModel(base_model=\"affinity\"),\n",
    "#     \"bayes_ext\": ClusterExtModel(base_model=\"bayes\", n_components=8),\n",
    "#     \"birch_ext\": ClusterExtModel(base_model=\"birch\"),\n",
    "#     \"kmeans_ext\": ClusterModel(base_model=\"kmeans\", n_clusters=16),\n",
    "    \"meanshift_ext\": ClusterExtModel(base_model=\"meanshift\", cluster_all=True),\n",
    "}\n",
    "\n",
    "results = {key: process_benchmark_cv(model, x, y.ravel()) for key, model in benchmark_models.items()}\n",
    "\n",
    "results_mean = {key: item.mean() for key, item in results.items()}\n",
    "results_std = {key: item.std() for key, item in results.items()}\n",
    "pd.DataFrame(results_mean).T"
   ]
  },
  {
   "cell_type": "code",
   "execution_count": null,
   "metadata": {},
   "outputs": [],
   "source": [
    "df_results_mean = pd.DataFrame(results_mean)\n",
    "df_results_std = pd.DataFrame(results_std)\n",
    "df_results_mean.plot.bar(logy=True, figsize=(15, 5))"
   ]
  },
  {
   "cell_type": "markdown",
   "metadata": {},
   "source": [
    "**Other models**"
   ]
  },
  {
   "cell_type": "code",
   "execution_count": null,
   "metadata": {},
   "outputs": [],
   "source": [
    "benchmark_models = {\n",
    "    'featureless': FeaturelessModel(),\n",
    "    # Regression\n",
    "    #\"random_forest_regr\": RandomForestRegressor(min_samples_leaf=5),\n",
    "    'logistic_regression': LogisticRegression(penalty='l1', solver='liblinear', multi_class='auto'),\n",
    "    #\"nn_regression_hiddenless\": KerasModel(no_hidden_layer=True),\n",
    "#     \"nn_regression\": KerasModel(batch_size=30, epochs=200),\n",
    "    'acceptance_model': AcceptanceModel(),   #step=10, zero_one=True),\n",
    "    # Classification\n",
    "    \"random_forest\": RandomForestClassifier(min_samples_leaf=5),#max_depth=3, random_state=0, n_estimators=10),\n",
    "}\n",
    "\n",
    "results = dict()\n",
    "\n",
    "results = process_benchmarks(benchmark_models, x, y.ravel(), augment_data=[None, 2])\n",
    "results_mean = {key: item.mean() for key, item in results.items()}\n",
    "results_std = {key: item.std() for key, item in results.items()}\n",
    "pd.DataFrame(results_mean).T"
   ]
  },
  {
   "cell_type": "code",
   "execution_count": null,
   "metadata": {},
   "outputs": [],
   "source": [
    "df_results_mean = pd.DataFrame(results_mean)\n",
    "df_results_std = pd.DataFrame(results_std)\n",
    "df_results_mean.plot.bar(logy=True, figsize=(15, 5))"
   ]
  },
  {
   "cell_type": "markdown",
   "metadata": {},
   "source": [
    "**TOP MODELS**"
   ]
  },
  {
   "cell_type": "code",
   "execution_count": null,
   "metadata": {},
   "outputs": [],
   "source": [
    "from sklearn.svm import SVR\n",
    "benchmark_models = {\n",
    "    'featureless': FeaturelessModel(),\n",
    "    'logistic_regression': LogisticRegression(penalty='l1', solver='liblinear', multi_class='auto'),\n",
    "    'svc': SVC(gamma='auto'),\n",
    "    'acceptance_model': AcceptanceModel(step=10, zero_one=True),\n",
    "    'acceptance_model_svr': AcceptanceModel(SVR(gamma='auto', kernel='poly', degree=1), step=10, zero_one=True),\n",
    "    \n",
    "    # Classification\n",
    "    #\"random_forest\": RandomForestClassifier(min_samples_leaf=5),#max_depth=3, random_state=0, n_estimators=10),\n",
    "}\n",
    "\n",
    "results = dict()\n",
    "\n",
    "results = process_benchmarks(benchmark_models, x, y.ravel(), augment_data=None)\n",
    "results_mean = {key: item.mean() for key, item in results.items()}\n",
    "results_std = {key: item.std() for key, item in results.items()}\n",
    "pd.DataFrame(results_mean).T"
   ]
  },
  {
   "cell_type": "code",
   "execution_count": null,
   "metadata": {},
   "outputs": [],
   "source": [
    "df_results_mean = pd.DataFrame(results_mean)\n",
    "df_results_std = pd.DataFrame(results_std)\n",
    "df_results_mean.plot.bar(logy=True, figsize=(15, 5))"
   ]
  },
  {
   "cell_type": "code",
   "execution_count": null,
   "metadata": {},
   "outputs": [],
   "source": [
    "from sklearn.svm import SVR\n",
    "benchmark_models = {\n",
    "    'mlp': MLPClassifier(\n",
    "        hidden_layer_sizes=(1024,), max_iter=1024, solver='sgd',\n",
    "        learning_rate='adaptive',\n",
    "        activation='relu',\n",
    "    ),\n",
    "    'log_reg': LogisticRegression(multi_class='auto', solver='lbfgs'),\n",
    "}\n",
    "\n",
    "results = dict()\n",
    "\n",
    "results = process_benchmarks(benchmark_models, x, y.ravel(), augment_data=None)\n",
    "results_mean = {key: item.mean() for key, item in results.items()}\n",
    "results_std = {key: item.std() for key, item in results.items()}\n",
    "pd.DataFrame(results_mean).T"
   ]
  },
  {
   "cell_type": "code",
   "execution_count": null,
   "metadata": {},
   "outputs": [],
   "source": []
  }
 ],
 "metadata": {
  "kernelspec": {
   "display_name": "Python 3",
   "language": "python",
   "name": "python3"
  },
  "language_info": {
   "codemirror_mode": {
    "name": "ipython",
    "version": 3
   },
   "file_extension": ".py",
   "mimetype": "text/x-python",
   "name": "python",
   "nbconvert_exporter": "python",
   "pygments_lexer": "ipython3",
   "version": "3.6.0"
  }
 },
 "nbformat": 4,
 "nbformat_minor": 2
}
