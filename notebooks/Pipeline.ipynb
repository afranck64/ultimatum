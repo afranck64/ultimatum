{
 "cells": [
  {
   "cell_type": "code",
   "execution_count": null,
   "metadata": {},
   "outputs": [],
   "source": []
  },
  {
   "cell_type": "markdown",
   "metadata": {},
   "source": [
    "## Data preparation and sanitization"
   ]
  },
  {
   "cell_type": "code",
   "execution_count": 1,
   "metadata": {},
   "outputs": [],
   "source": [
    "import pandas as pd\n",
    "%matplotlib inline\n",
    "import matplotlib.pyplot as plt\n",
    "import numpy as np\n",
    "from IPython.display import display\n",
    "from sklearn.model_selection import train_test_split\n",
    "from sklearn.metrics import r2_score\n",
    "import seaborn as sb\n",
    "\n",
    "# Read and sanitize the data\n",
    "df = pd.read_excel(\"../data/UG_HH_NEW_continuous_no200.xls\")\n",
    "#df = pd.read_excel(\"./UG_HH_NEW_categorical_no200.xls\")\n",
    "df = df.dropna()\n",
    "## Usable columns: ['time_spent_risk', 'cells', 'selfish', 'time_spent_prop', 'count_effort', \n",
    "## 'Honesty_Humility','Extraversion', 'Agreeableness', 'min_offer']\n",
    "#df[\"effort\"] = (1/df['time_spent_prop'] ) * (1/df['count_effort'])\n",
    "df_effort = df[['time_spent_prop', 'count_effort']]\n",
    "df_effort = (df_effort - df_effort.min()) / (df_effort.max() - df_effort.min())\n",
    "\n",
    "df['effort'] = df_effort['time_spent_prop'] * df_effort['count_effort']\n",
    "df = df[['time_spent_risk', 'cells', 'selfish', 'effort',\n",
    "         'Honesty_Humility','Extraversion', 'Agreeableness', 'min_offer']]\n",
    "\n",
    "df = df[['selfish','Honesty_Humility','Extraversion', 'Agreeableness', 'min_offer']]\n",
    "\n",
    "MAX_ACCEPTABLE_MIN_OFFER = 150\n",
    "df = df[df['min_offer'] <= MAX_ACCEPTABLE_MIN_OFFER]\n",
    "\n",
    "NORMALISE_DATA = True\n",
    "\n",
    "\n",
    "x = df.values[:, :-1]\n",
    "y = df.values[:, -1:]\n",
    "\n",
    "if NORMALISE_DATA:\n",
    "    x_min = x.min(axis=0)\n",
    "    x_max = x.max(axis=0)\n",
    "    x = (x - x_min) / (x_max - x_min)\n",
    "    \n",
    "NB_FEATURES = x.shape[1]"
   ]
  },
  {
   "cell_type": "code",
   "execution_count": null,
   "metadata": {},
   "outputs": [],
   "source": []
  },
  {
   "cell_type": "markdown",
   "metadata": {},
   "source": [
    "## Linear regression (continuous dataset)"
   ]
  },
  {
   "cell_type": "markdown",
   "metadata": {},
   "source": [
    "**Accuracy / Loss - For model comparison**"
   ]
  },
  {
   "cell_type": "code",
   "execution_count": 2,
   "metadata": {},
   "outputs": [],
   "source": [
    "MAX_GAIN = 200\n"
   ]
  },
  {
   "cell_type": "markdown",
   "metadata": {},
   "source": [
    "#### Benchmark"
   ]
  },
  {
   "cell_type": "code",
   "execution_count": 3,
   "metadata": {},
   "outputs": [
    {
     "name": "stdout",
     "output_type": "stream",
     "text": [
      "ADD path: </home/franck/Desktop/MA-Thesis/code>\n",
      "['', '/home/franck/anaconda3/lib/python36.zip', '/home/franck/anaconda3/lib/python3.6', '/home/franck/anaconda3/lib/python3.6/lib-dynload', '/home/franck/anaconda3/lib/python3.6/site-packages', '/home/franck/anaconda3/lib/python3.6/site-packages/IPython/extensions', '/home/franck/.ipython', '/home/franck/Desktop/MA-Thesis/code']\n",
      "/home/franck/Desktop/MA-Thesis/code/notebooks/utils/data_augmentation.py\n"
     ]
    },
    {
     "name": "stderr",
     "output_type": "stream",
     "text": [
      "Using TensorFlow backend.\n"
     ]
    }
   ],
   "source": [
    "from utils.benchmark import process_benchmarks, process_benchmark_cv, process_model\n"
   ]
  },
  {
   "cell_type": "markdown",
   "metadata": {},
   "source": [
    "**Keras Model**"
   ]
  },
  {
   "cell_type": "code",
   "execution_count": 26,
   "metadata": {},
   "outputs": [],
   "source": [
    "from models import KerasModel, loss_tf, gain_tf"
   ]
  },
  {
   "cell_type": "code",
   "execution_count": 27,
   "metadata": {},
   "outputs": [],
   "source": [
    "import os, sys\n"
   ]
  },
  {
   "cell_type": "code",
   "execution_count": 6,
   "metadata": {},
   "outputs": [],
   "source": [
    "# #sci-kit like training\n",
    "# sm = keras_model(\"mse\") \n",
    "# history = sm.fit(xTrain, yTrain, validation_split=0.33, epochs=100, batch_size=64, verbose=0)\n",
    "# loss_hist = pd.DataFrame(data={'loss': history.history['loss']})\n",
    "# loss_hist.plot(figsize=(30,10))\n",
    "# smPredict = sm.predict(xTest, batch_size=128)\n",
    "\n",
    "# out_data = pd.DataFrame(data={'y_test': np.ravel(yTest), 'y_pred': np.ravel(smPredict)})\n",
    "# stl = sm.evaluate(xTest, yTest, verbose=0)\n",
    "# print(\"Results: %2.2f (%.2f) MSE, Scalar test loss: %.2f\" % (smPredict.mean(), smPredict.std(), stl))\n",
    "# #out_data.plot(figsize=(30,10))"
   ]
  },
  {
   "cell_type": "markdown",
   "metadata": {},
   "source": [
    "**Featureless model (fixed value)**"
   ]
  },
  {
   "cell_type": "code",
   "execution_count": 7,
   "metadata": {},
   "outputs": [],
   "source": [
    "from models import FeaturelessModel"
   ]
  },
  {
   "cell_type": "markdown",
   "metadata": {},
   "source": [
    "**Convervative model**"
   ]
  },
  {
   "cell_type": "code",
   "execution_count": 8,
   "metadata": {},
   "outputs": [],
   "source": [
    "from models import ConservativeModel"
   ]
  },
  {
   "cell_type": "markdown",
   "metadata": {},
   "source": [
    "**Linear/Logistic regression**"
   ]
  },
  {
   "cell_type": "code",
   "execution_count": 9,
   "metadata": {
    "scrolled": false
   },
   "outputs": [],
   "source": [
    "from sklearn.linear_model import LinearRegression, LogisticRegression"
   ]
  },
  {
   "cell_type": "markdown",
   "metadata": {},
   "source": [
    "**Random**"
   ]
  },
  {
   "cell_type": "code",
   "execution_count": 10,
   "metadata": {},
   "outputs": [],
   "source": [
    "from models import RandomModel"
   ]
  },
  {
   "cell_type": "markdown",
   "metadata": {},
   "source": [
    "**Random Forest**"
   ]
  },
  {
   "cell_type": "code",
   "execution_count": 11,
   "metadata": {},
   "outputs": [],
   "source": [
    "from sklearn.ensemble.forest import RandomForestClassifier, RandomForestRegressor"
   ]
  },
  {
   "cell_type": "markdown",
   "metadata": {},
   "source": [
    "**Clustering**"
   ]
  },
  {
   "cell_type": "code",
   "execution_count": 12,
   "metadata": {},
   "outputs": [],
   "source": [
    "from models import ClusterModel, ClusterExtModel"
   ]
  },
  {
   "cell_type": "markdown",
   "metadata": {},
   "source": [
    "** Acceptance model **"
   ]
  },
  {
   "cell_type": "code",
   "execution_count": 13,
   "metadata": {},
   "outputs": [],
   "source": [
    "from models import AcceptanceModel"
   ]
  },
  {
   "cell_type": "markdown",
   "metadata": {},
   "source": [
    "** Data augmentation **"
   ]
  },
  {
   "cell_type": "code",
   "execution_count": 14,
   "metadata": {},
   "outputs": [],
   "source": [
    "from utils.data_augmentation import DACombine"
   ]
  },
  {
   "cell_type": "markdown",
   "metadata": {},
   "source": [
    "**Baseline models**"
   ]
  },
  {
   "cell_type": "code",
   "execution_count": 29,
   "metadata": {},
   "outputs": [
    {
     "data": {
      "text/html": [
       "<div>\n",
       "<style scoped>\n",
       "    .dataframe tbody tr th:only-of-type {\n",
       "        vertical-align: middle;\n",
       "    }\n",
       "\n",
       "    .dataframe tbody tr th {\n",
       "        vertical-align: top;\n",
       "    }\n",
       "\n",
       "    .dataframe thead th {\n",
       "        text-align: right;\n",
       "    }\n",
       "</style>\n",
       "<table border=\"1\" class=\"dataframe\">\n",
       "  <thead>\n",
       "    <tr style=\"text-align: right;\">\n",
       "      <th></th>\n",
       "      <th>avg_loss</th>\n",
       "      <th>avg_loss_ratio</th>\n",
       "      <th>avg_win_loss</th>\n",
       "      <th>loss_sum</th>\n",
       "      <th>mse</th>\n",
       "      <th>rejection_ratio</th>\n",
       "    </tr>\n",
       "  </thead>\n",
       "  <tbody>\n",
       "    <tr>\n",
       "      <th>featureless</th>\n",
       "      <td>27.001587</td>\n",
       "      <td>0.213637</td>\n",
       "      <td>24.000891</td>\n",
       "      <td>962.0</td>\n",
       "      <td>1517.492063</td>\n",
       "      <td>0.061587</td>\n",
       "    </tr>\n",
       "    <tr>\n",
       "      <th>featureless_da2</th>\n",
       "      <td>38.511905</td>\n",
       "      <td>0.307712</td>\n",
       "      <td>36.658874</td>\n",
       "      <td>1371.0</td>\n",
       "      <td>2280.837302</td>\n",
       "      <td>0.050317</td>\n",
       "    </tr>\n",
       "    <tr>\n",
       "      <th>svc</th>\n",
       "      <td>27.001587</td>\n",
       "      <td>0.213637</td>\n",
       "      <td>24.000891</td>\n",
       "      <td>962.0</td>\n",
       "      <td>1517.492063</td>\n",
       "      <td>0.061587</td>\n",
       "    </tr>\n",
       "    <tr>\n",
       "      <th>svc_da2</th>\n",
       "      <td>84.006349</td>\n",
       "      <td>0.717400</td>\n",
       "      <td>42.874603</td>\n",
       "      <td>2990.0</td>\n",
       "      <td>9295.809524</td>\n",
       "      <td>0.606508</td>\n",
       "    </tr>\n",
       "  </tbody>\n",
       "</table>\n",
       "</div>"
      ],
      "text/plain": [
       "                  avg_loss  avg_loss_ratio  avg_win_loss  loss_sum  \\\n",
       "featureless      27.001587        0.213637     24.000891     962.0   \n",
       "featureless_da2  38.511905        0.307712     36.658874    1371.0   \n",
       "svc              27.001587        0.213637     24.000891     962.0   \n",
       "svc_da2          84.006349        0.717400     42.874603    2990.0   \n",
       "\n",
       "                         mse  rejection_ratio  \n",
       "featureless      1517.492063         0.061587  \n",
       "featureless_da2  2280.837302         0.050317  \n",
       "svc              1517.492063         0.061587  \n",
       "svc_da2          9295.809524         0.606508  "
      ]
     },
     "execution_count": 29,
     "metadata": {},
     "output_type": "execute_result"
    }
   ],
   "source": [
    "from sklearn.svm import SVC\n",
    "\n",
    "benchmark_models = {\n",
    "    #Featureless:\n",
    "    #\"random\": RandomModel(MAX_GAIN),\n",
    "    #\"conservative\": ConservativeModel(MAX_GAIN),\n",
    "    \"featureless\": FeaturelessModel(MAX_GAIN),\n",
    "    \"svc\": SVC(gamma='auto') \n",
    "#     \"linear_regressor\": LinearRegression(copy_X=False),\n",
    "#     \"linear_regressor_mse\": keras_linear_regression(loss=\"mse\"),\n",
    "}\n",
    "\n",
    "results = dict()\n",
    "# for key, model in benchmark_models.items():\n",
    "#     results[key] = process_benchmark_cv(model, x, y.ravel())\n",
    "#     results[key+\"_da\"] = process_benchmark_cv(model, x, y.ravel(), augment_data=2)\n",
    "#results = {key: process_benchmark_cv(model, x, y.ravel()) for key, model in benchmark_models.items()}\n",
    "results = process_benchmarks(benchmark_models, x, y.ravel(), augment_data=[None, 2])\n",
    "\n",
    "results_mean = {key: item.mean() for key, item in results.items()}\n",
    "results_std = {key: item.std() for key, item in results.items()}\n",
    "pd.DataFrame(results_mean).T"
   ]
  },
  {
   "cell_type": "code",
   "execution_count": 16,
   "metadata": {},
   "outputs": [
    {
     "data": {
      "text/plain": [
       "<matplotlib.axes._subplots.AxesSubplot at 0x7fc0a1e66208>"
      ]
     },
     "execution_count": 16,
     "metadata": {},
     "output_type": "execute_result"
    },
    {
     "data": {
      "image/png": "[encoded data removed]",
      "text/plain": [
       "<Figure size 1080x360 with 1 Axes>"
      ]
     },
     "metadata": {},
     "output_type": "display_data"
    }
   ],
   "source": [
    "df_results_mean = pd.DataFrame(results_mean)\n",
    "df_results_std = pd.DataFrame(results_std)\n",
    "df_results_mean.plot.bar(logy=True, figsize=(15, 5))"
   ]
  },
  {
   "cell_type": "markdown",
   "metadata": {},
   "source": [
    "**Clustering based models**"
   ]
  },
  {
   "cell_type": "code",
   "execution_count": 19,
   "metadata": {},
   "outputs": [
    {
     "data": {
      "text/html": [
       "<div>\n",
       "<style scoped>\n",
       "    .dataframe tbody tr th:only-of-type {\n",
       "        vertical-align: middle;\n",
       "    }\n",
       "\n",
       "    .dataframe tbody tr th {\n",
       "        vertical-align: top;\n",
       "    }\n",
       "\n",
       "    .dataframe thead th {\n",
       "        text-align: right;\n",
       "    }\n",
       "</style>\n",
       "<table border=\"1\" class=\"dataframe\">\n",
       "  <thead>\n",
       "    <tr style=\"text-align: right;\">\n",
       "      <th></th>\n",
       "      <th>avg_loss</th>\n",
       "      <th>avg_loss_ratio</th>\n",
       "      <th>avg_win_loss</th>\n",
       "      <th>loss_sum</th>\n",
       "      <th>mse</th>\n",
       "      <th>rejection_ratio</th>\n",
       "    </tr>\n",
       "  </thead>\n",
       "  <tbody>\n",
       "    <tr>\n",
       "      <th>affinity</th>\n",
       "      <td>35.692222</td>\n",
       "      <td>0.292489</td>\n",
       "      <td>30.335308</td>\n",
       "      <td>1272.6</td>\n",
       "      <td>2191.710317</td>\n",
       "      <td>0.100476</td>\n",
       "    </tr>\n",
       "    <tr>\n",
       "      <th>affinity_ext</th>\n",
       "      <td>29.547619</td>\n",
       "      <td>0.236782</td>\n",
       "      <td>25.861464</td>\n",
       "      <td>1053.0</td>\n",
       "      <td>1704.460317</td>\n",
       "      <td>0.072698</td>\n",
       "    </tr>\n",
       "    <tr>\n",
       "      <th>meanshift</th>\n",
       "      <td>32.607619</td>\n",
       "      <td>0.258506</td>\n",
       "      <td>30.719481</td>\n",
       "      <td>1161.4</td>\n",
       "      <td>1777.692698</td>\n",
       "      <td>0.050317</td>\n",
       "    </tr>\n",
       "    <tr>\n",
       "      <th>meanshift_ext</th>\n",
       "      <td>27.573016</td>\n",
       "      <td>0.219080</td>\n",
       "      <td>24.102217</td>\n",
       "      <td>982.0</td>\n",
       "      <td>1580.349206</td>\n",
       "      <td>0.067302</td>\n",
       "    </tr>\n",
       "  </tbody>\n",
       "</table>\n",
       "</div>"
      ],
      "text/plain": [
       "                avg_loss  avg_loss_ratio  avg_win_loss  loss_sum          mse  \\\n",
       "affinity       35.692222        0.292489     30.335308    1272.6  2191.710317   \n",
       "affinity_ext   29.547619        0.236782     25.861464    1053.0  1704.460317   \n",
       "meanshift      32.607619        0.258506     30.719481    1161.4  1777.692698   \n",
       "meanshift_ext  27.573016        0.219080     24.102217     982.0  1580.349206   \n",
       "\n",
       "               rejection_ratio  \n",
       "affinity              0.100476  \n",
       "affinity_ext          0.072698  \n",
       "meanshift             0.050317  \n",
       "meanshift_ext         0.067302  "
      ]
     },
     "execution_count": 19,
     "metadata": {},
     "output_type": "execute_result"
    }
   ],
   "source": [
    "benchmark_models = {\n",
    "#     #Cluster-based\n",
    "    \"affinity\": ClusterModel(base_model=\"affinity\"),\n",
    "#     \"bayes\": ClusterModel(base_model=\"bayes\", n_components=8),\n",
    "#     \"birch\": ClusterModel(base_model=\"birch\"),\n",
    "#     \"kmeans\": ClusterModel(base_model=\"kmeans\", n_clusters=16),\n",
    "    \"meanshift\": ClusterModel(base_model=\"meanshift\", cluster_all=True),\n",
    "    \"affinity_ext\": ClusterExtModel(base_model=\"affinity\"),\n",
    "#     \"bayes_ext\": ClusterExtModel(base_model=\"bayes\", n_components=8),\n",
    "#     \"birch_ext\": ClusterExtModel(base_model=\"birch\"),\n",
    "#     \"kmeans_ext\": ClusterModel(base_model=\"kmeans\", n_clusters=16),\n",
    "    \"meanshift_ext\": ClusterExtModel(base_model=\"meanshift\", cluster_all=True),\n",
    "}\n",
    "\n",
    "results = {key: process_benchmark_cv(model, x, y.ravel()) for key, model in benchmark_models.items()}\n",
    "\n",
    "results_mean = {key: item.mean() for key, item in results.items()}\n",
    "results_std = {key: item.std() for key, item in results.items()}\n",
    "pd.DataFrame(results_mean).T"
   ]
  },
  {
   "cell_type": "code",
   "execution_count": 20,
   "metadata": {},
   "outputs": [
    {
     "data": {
      "text/plain": [
       "<matplotlib.axes._subplots.AxesSubplot at 0x7fc08da11eb8>"
      ]
     },
     "execution_count": 20,
     "metadata": {},
     "output_type": "execute_result"
    },
    {
     "data": {
      "image/png": "[encoded data removed]",
      "text/plain": [
       "<Figure size 1080x360 with 1 Axes>"
      ]
     },
     "metadata": {},
     "output_type": "display_data"
    }
   ],
   "source": [
    "df_results_mean = pd.DataFrame(results_mean)\n",
    "df_results_std = pd.DataFrame(results_std)\n",
    "df_results_mean.plot.bar(logy=True, figsize=(15, 5))"
   ]
  },
  {
   "cell_type": "markdown",
   "metadata": {},
   "source": [
    "**Other models**"
   ]
  },
  {
   "cell_type": "code",
   "execution_count": 21,
   "metadata": {},
   "outputs": [
    {
     "data": {
      "text/html": [
       "<div>\n",
       "<style scoped>\n",
       "    .dataframe tbody tr th:only-of-type {\n",
       "        vertical-align: middle;\n",
       "    }\n",
       "\n",
       "    .dataframe tbody tr th {\n",
       "        vertical-align: top;\n",
       "    }\n",
       "\n",
       "    .dataframe thead th {\n",
       "        text-align: right;\n",
       "    }\n",
       "</style>\n",
       "<table border=\"1\" class=\"dataframe\">\n",
       "  <thead>\n",
       "    <tr style=\"text-align: right;\">\n",
       "      <th></th>\n",
       "      <th>avg_loss</th>\n",
       "      <th>avg_loss_ratio</th>\n",
       "      <th>avg_win_loss</th>\n",
       "      <th>loss_sum</th>\n",
       "      <th>mse</th>\n",
       "      <th>rejection_ratio</th>\n",
       "    </tr>\n",
       "  </thead>\n",
       "  <tbody>\n",
       "    <tr>\n",
       "      <th>acceptance_model</th>\n",
       "      <td>28.779365</td>\n",
       "      <td>0.229611</td>\n",
       "      <td>25.471535</td>\n",
       "      <td>1026.0</td>\n",
       "      <td>1639.158730</td>\n",
       "      <td>0.067143</td>\n",
       "    </tr>\n",
       "    <tr>\n",
       "      <th>acceptance_model_da2</th>\n",
       "      <td>39.117460</td>\n",
       "      <td>0.331113</td>\n",
       "      <td>30.581663</td>\n",
       "      <td>1396.0</td>\n",
       "      <td>2606.571429</td>\n",
       "      <td>0.150476</td>\n",
       "    </tr>\n",
       "    <tr>\n",
       "      <th>featureless</th>\n",
       "      <td>27.001587</td>\n",
       "      <td>0.213637</td>\n",
       "      <td>24.000891</td>\n",
       "      <td>962.0</td>\n",
       "      <td>1517.492063</td>\n",
       "      <td>0.061587</td>\n",
       "    </tr>\n",
       "    <tr>\n",
       "      <th>featureless_da2</th>\n",
       "      <td>38.315873</td>\n",
       "      <td>0.306289</td>\n",
       "      <td>36.658874</td>\n",
       "      <td>1363.0</td>\n",
       "      <td>2223.730159</td>\n",
       "      <td>0.050317</td>\n",
       "    </tr>\n",
       "    <tr>\n",
       "      <th>logistic_regression</th>\n",
       "      <td>27.017460</td>\n",
       "      <td>0.214933</td>\n",
       "      <td>23.401070</td>\n",
       "      <td>962.0</td>\n",
       "      <td>1550.428571</td>\n",
       "      <td>0.067302</td>\n",
       "    </tr>\n",
       "    <tr>\n",
       "      <th>logistic_regression_da2</th>\n",
       "      <td>77.947619</td>\n",
       "      <td>0.675107</td>\n",
       "      <td>42.737939</td>\n",
       "      <td>2773.0</td>\n",
       "      <td>7925.682540</td>\n",
       "      <td>0.522857</td>\n",
       "    </tr>\n",
       "  </tbody>\n",
       "</table>\n",
       "</div>"
      ],
      "text/plain": [
       "                          avg_loss  avg_loss_ratio  avg_win_loss  loss_sum  \\\n",
       "acceptance_model         28.779365        0.229611     25.471535    1026.0   \n",
       "acceptance_model_da2     39.117460        0.331113     30.581663    1396.0   \n",
       "featureless              27.001587        0.213637     24.000891     962.0   \n",
       "featureless_da2          38.315873        0.306289     36.658874    1363.0   \n",
       "logistic_regression      27.017460        0.214933     23.401070     962.0   \n",
       "logistic_regression_da2  77.947619        0.675107     42.737939    2773.0   \n",
       "\n",
       "                                 mse  rejection_ratio  \n",
       "acceptance_model         1639.158730         0.067143  \n",
       "acceptance_model_da2     2606.571429         0.150476  \n",
       "featureless              1517.492063         0.061587  \n",
       "featureless_da2          2223.730159         0.050317  \n",
       "logistic_regression      1550.428571         0.067302  \n",
       "logistic_regression_da2  7925.682540         0.522857  "
      ]
     },
     "execution_count": 21,
     "metadata": {},
     "output_type": "execute_result"
    }
   ],
   "source": [
    "benchmark_models = {\n",
    "    'featureless': FeaturelessModel(),\n",
    "    # Regression\n",
    "    #\"random_forest_regr\": RandomForestRegressor(min_samples_leaf=5),\n",
    "    'logistic_regression': LogisticRegression(penalty='l1', solver='liblinear', multi_class='auto'),\n",
    "    #\"nn_regression_mse\": keras_model(loss=\"mse\"),\n",
    "    #\"nn_regression_ext\": keras_model(loss=loss_tf),\n",
    "    'acceptance_model': AcceptanceModel(step=10, zero_one=True),\n",
    "    \n",
    "    # Classification\n",
    "    #\"random_forest\": RandomForestClassifier(min_samples_leaf=5),#max_depth=3, random_state=0, n_estimators=10),\n",
    "}\n",
    "\n",
    "results = dict()\n",
    "\n",
    "results = process_benchmarks(benchmark_models, x, y.ravel(), augment_data=[None, 2])\n",
    "results_mean = {key: item.mean() for key, item in results.items()}\n",
    "results_std = {key: item.std() for key, item in results.items()}\n",
    "pd.DataFrame(results_mean).T"
   ]
  },
  {
   "cell_type": "code",
   "execution_count": 22,
   "metadata": {},
   "outputs": [
    {
     "data": {
      "text/plain": [
       "<matplotlib.axes._subplots.AxesSubplot at 0x7fc089e12a58>"
      ]
     },
     "execution_count": 22,
     "metadata": {},
     "output_type": "execute_result"
    },
    {
     "data": {
      "image/png": "[encoded data removed]",
      "text/plain": [
       "<Figure size 1080x360 with 1 Axes>"
      ]
     },
     "metadata": {},
     "output_type": "display_data"
    }
   ],
   "source": [
    "df_results_mean = pd.DataFrame(results_mean)\n",
    "df_results_std = pd.DataFrame(results_std)\n",
    "df_results_mean.plot.bar(logy=True, figsize=(15, 5))"
   ]
  },
  {
   "cell_type": "markdown",
   "metadata": {},
   "source": [
    "**TOP MODELS**"
   ]
  },
  {
   "cell_type": "code",
   "execution_count": 34,
   "metadata": {},
   "outputs": [
    {
     "data": {
      "text/html": [
       "<div>\n",
       "<style scoped>\n",
       "    .dataframe tbody tr th:only-of-type {\n",
       "        vertical-align: middle;\n",
       "    }\n",
       "\n",
       "    .dataframe tbody tr th {\n",
       "        vertical-align: top;\n",
       "    }\n",
       "\n",
       "    .dataframe thead th {\n",
       "        text-align: right;\n",
       "    }\n",
       "</style>\n",
       "<table border=\"1\" class=\"dataframe\">\n",
       "  <thead>\n",
       "    <tr style=\"text-align: right;\">\n",
       "      <th></th>\n",
       "      <th>avg_loss</th>\n",
       "      <th>avg_loss_ratio</th>\n",
       "      <th>avg_win_loss</th>\n",
       "      <th>loss_sum</th>\n",
       "      <th>mse</th>\n",
       "      <th>rejection_ratio</th>\n",
       "    </tr>\n",
       "  </thead>\n",
       "  <tbody>\n",
       "    <tr>\n",
       "      <th>acceptance_model</th>\n",
       "      <td>28.769048</td>\n",
       "      <td>0.229593</td>\n",
       "      <td>25.920699</td>\n",
       "      <td>1026.0</td>\n",
       "      <td>1588.130952</td>\n",
       "      <td>0.061746</td>\n",
       "    </tr>\n",
       "    <tr>\n",
       "      <th>featureless</th>\n",
       "      <td>26.972222</td>\n",
       "      <td>0.213643</td>\n",
       "      <td>24.009117</td>\n",
       "      <td>962.0</td>\n",
       "      <td>1515.654762</td>\n",
       "      <td>0.061905</td>\n",
       "    </tr>\n",
       "    <tr>\n",
       "      <th>logistic_regression</th>\n",
       "      <td>32.369048</td>\n",
       "      <td>0.266247</td>\n",
       "      <td>24.008028</td>\n",
       "      <td>1152.0</td>\n",
       "      <td>2180.337302</td>\n",
       "      <td>0.124286</td>\n",
       "    </tr>\n",
       "    <tr>\n",
       "      <th>svc</th>\n",
       "      <td>26.972222</td>\n",
       "      <td>0.213643</td>\n",
       "      <td>24.009117</td>\n",
       "      <td>962.0</td>\n",
       "      <td>1515.654762</td>\n",
       "      <td>0.061905</td>\n",
       "    </tr>\n",
       "  </tbody>\n",
       "</table>\n",
       "</div>"
      ],
      "text/plain": [
       "                      avg_loss  avg_loss_ratio  avg_win_loss  loss_sum  \\\n",
       "acceptance_model     28.769048        0.229593     25.920699    1026.0   \n",
       "featureless          26.972222        0.213643     24.009117     962.0   \n",
       "logistic_regression  32.369048        0.266247     24.008028    1152.0   \n",
       "svc                  26.972222        0.213643     24.009117     962.0   \n",
       "\n",
       "                             mse  rejection_ratio  \n",
       "acceptance_model     1588.130952         0.061746  \n",
       "featureless          1515.654762         0.061905  \n",
       "logistic_regression  2180.337302         0.124286  \n",
       "svc                  1515.654762         0.061905  "
      ]
     },
     "execution_count": 34,
     "metadata": {},
     "output_type": "execute_result"
    }
   ],
   "source": [
    "benchmark_models = {\n",
    "    'featureless': FeaturelessModel(),\n",
    "    'logistic_regression': LogisticRegression(penalty='l1', solver='liblinear', multi_class='auto'),\n",
    "    'svc': SVC(gamma='auto'),\n",
    "    'acceptance_model': AcceptanceModel(step=10, zero_one=True),\n",
    "    \n",
    "    # Classification\n",
    "    #\"random_forest\": RandomForestClassifier(min_samples_leaf=5),#max_depth=3, random_state=0, n_estimators=10),\n",
    "}\n",
    "\n",
    "results = dict()\n",
    "\n",
    "results = process_benchmarks(benchmark_models, x, y.ravel(), augment_data=None, shuffle=True)\n",
    "results_mean = {key: item.mean() for key, item in results.items()}\n",
    "results_std = {key: item.std() for key, item in results.items()}\n",
    "pd.DataFrame(results_mean).T"
   ]
  },
  {
   "cell_type": "code",
   "execution_count": 24,
   "metadata": {},
   "outputs": [
    {
     "data": {
      "text/plain": [
       "<matplotlib.axes._subplots.AxesSubplot at 0x7fc089bfb320>"
      ]
     },
     "execution_count": 24,
     "metadata": {},
     "output_type": "execute_result"
    },
    {
     "data": {
      "image/png": "[encoded data removed]",
      "text/plain": [
       "<Figure size 1080x360 with 1 Axes>"
      ]
     },
     "metadata": {},
     "output_type": "display_data"
    }
   ],
   "source": [
    "df_results_mean = pd.DataFrame(results_mean)\n",
    "df_results_std = pd.DataFrame(results_std)\n",
    "df_results_mean.plot.bar(logy=True, figsize=(15, 5))"
   ]
  },
  {
   "cell_type": "code",
   "execution_count": null,
   "metadata": {},
   "outputs": [],
   "source": []
  }
 ],
 "metadata": {
  "kernelspec": {
   "display_name": "Python 3",
   "language": "python",
   "name": "python3"
  },
  "language_info": {
   "codemirror_mode": {
    "name": "ipython",
    "version": 3
   },
   "file_extension": ".py",
   "mimetype": "text/x-python",
   "name": "python",
   "nbconvert_exporter": "python",
   "pygments_lexer": "ipython3",
   "version": "3.6.7"
  }
 },
 "nbformat": 4,
 "nbformat_minor": 2
}
