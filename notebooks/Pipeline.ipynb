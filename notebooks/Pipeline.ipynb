{
 "cells": [
  {
   "cell_type": "markdown",
   "metadata": {},
   "source": [
    "## Data preparation and sanitization"
   ]
  },
  {
   "cell_type": "code",
   "execution_count": 40,
   "metadata": {},
   "outputs": [],
   "source": [
    "import pandas as pd\n",
    "%matplotlib inline\n",
    "import matplotlib.pyplot as plt\n",
    "import numpy as np\n",
    "from IPython.display import display\n",
    "from sklearn.model_selection import train_test_split\n",
    "from sklearn.metrics import r2_score\n",
    "import seaborn as sb\n",
    "\n",
    "# Read and sanitize the data\n",
    "df = pd.read_excel(\"../data/UG_HH_NEW_continuous_no200.xls\")\n",
    "#df = pd.read_excel(\"./UG_HH_NEW_categorical_no200.xls\")\n",
    "\n",
    "df = df.dropna()\n",
    "\n",
    "\n",
    "NORMALISE_DATA = False\n",
    "\n",
    "\n",
    "x = df.values[:, :-1]\n",
    "y = df.values[:, -1:]\n",
    "\n",
    "if NORMALISE_DATA:\n",
    "    x_min = x.min(axis=0)\n",
    "    x_max = x.max(axis=0)\n",
    "    x = (x - x_min) / (x_max - x_min)\n",
    "    \n",
    "NB_FEATURES = x.shape[1]"
   ]
  },
  {
   "cell_type": "markdown",
   "metadata": {},
   "source": [
    "## Linear regression (continuous dataset)"
   ]
  },
  {
   "cell_type": "markdown",
   "metadata": {},
   "source": [
    "**Accuracy / Loss - For model comparison**"
   ]
  },
  {
   "cell_type": "code",
   "execution_count": 41,
   "metadata": {},
   "outputs": [],
   "source": [
    "MAX_GAIN = 200\n",
    "\n",
    "def loss(min_offer, predicted):\n",
    "    \"\"\"\n",
    "    Compute loss for the ultimatum game,\n",
    "    as the difference between the possible gain and the actual one\n",
    "    \"\"\"\n",
    "    min_offer = min_offer.ravel()\n",
    "    predicted = predicted.ravel()\n",
    "    rejected = min_offer > predicted\n",
    "    res = predicted - min_offer\n",
    "    if rejected.sum() != 0:\n",
    "        res[rejected] = MAX_GAIN - min_offer[rejected]\n",
    "    bad_predictions = (predicted < 0) | (predicted > MAX_GAIN)\n",
    "    if bad_predictions.sum() != 0:\n",
    "        res[bad_predictions] = MAX_GAIN - min_offer[bad_predictions]\n",
    "    return res\n",
    "\n",
    "def loss_sum(min_offer, predicted):\n",
    "    return loss(min_offer, predicted).sum()\n",
    "\n",
    "def avg_loss(min_offer, predicted):\n",
    "    \"\"\"\n",
    "    Compute avg loss for the ultimatum game\n",
    "    \"\"\"\n",
    "    return np.mean(loss(min_offer, predicted))\n",
    "\n",
    "def mse(min_offer, predicted):\n",
    "    \"\"\"\n",
    "    Compute mse using the loss as error\n",
    "    \"\"\"\n",
    "    return np.mean(np.square(loss(min_offer, predicted)))\n",
    "\n",
    "def rejection_ratio(min_offer, predicted):\n",
    "    \"\"\"\n",
    "    Compute ratio of rejected proposals without consideration of values\n",
    "    \"\"\"\n",
    "    accepted = (min_offer <= predicted)\n",
    "    return 1 - np.mean(accepted)\n",
    "\n",
    "def avg_win_loss(min_offer, predicted):\n",
    "    \"\"\"\n",
    "    Compute avg_loss of accepted proposals\n",
    "    \"\"\"\n",
    "    min_offer = min_offer.ravel()\n",
    "    predicted = predicted.ravel()\n",
    "    accepted = (min_offer <= predicted)\n",
    "    if accepted.sum() == 0:\n",
    "        return 0\n",
    "    return avg_loss(min_offer[accepted], predicted[accepted])\n",
    "\n",
    "\n",
    "def gain(min_offer, predicted):\n",
    "    min_offer = min_offer.ravel()\n",
    "    predicted = predicted.ravel()    \n",
    "    res = MAX_GAIN - predicted\n",
    "    res[predicted < min_offer] = 0\n",
    "    return res\n",
    "\n",
    "def avg_loss_ratio(min_offer, predicted):\n",
    "    \"\"\"\n",
    "    Compute the avg gain ratio in relation to the maximal gain\n",
    "    \"\"\"\n",
    "    return 1 - np.mean(gain(min_offer, predicted) / gain(min_offer, min_offer))\n"
   ]
  },
  {
   "cell_type": "markdown",
   "metadata": {},
   "source": [
    "#### Benchmark"
   ]
  },
  {
   "cell_type": "code",
   "execution_count": 42,
   "metadata": {},
   "outputs": [],
   "source": [
    "benchmark_functions = [avg_loss, mse, rejection_ratio, avg_win_loss, avg_loss_ratio, loss_sum]\n",
    "\n",
    "from sklearn.model_selection import KFold\n",
    "import numpy as np\n",
    "\n",
    "def process_model(model, xTrain, yTrain, xTest, yTest, fit_kwargs=None, predict_kwargs=None):\n",
    "    fit_kwargs = {} if fit_kwargs is None else fit_kwargs\n",
    "    predict_kwargs = {} if predict_kwargs is None else predict_kwargs\n",
    "    model.fit(xTrain, yTrain, **fit_kwargs)\n",
    "    yPredict = model.predict(xTest, **predict_kwargs)\n",
    "    results = {func.__name__: func(yTest, yPredict) for func in benchmark_functions}\n",
    "    return results\n",
    "    \n",
    "def process_benchmark_cv(model, X, y, cv=5, metrics=None, fit_kwargs=None, predict_kwargs=None):\n",
    "    # We make sure original values aren't modified, even by mistake\n",
    "    X = np.copy(X)\n",
    "    y = np.copy(y)\n",
    "    \n",
    "    kf = KFold(n_splits=cv)\n",
    "    results = []\n",
    "    for train_index, test_index in kf.split(X):\n",
    "        xTrain, yTrain = X[train_index], y[train_index]\n",
    "        xTrain, yTrain = DACombine().fit_predict(xTrain, yTrain)\n",
    "        xTest, yTest = X[test_index], y[test_index]\n",
    "        benchmark_result = process_model(model, xTrain, yTrain, xTest, yTest, fit_kwargs, predict_kwargs)\n",
    "        results.append(benchmark_result)\n",
    "    return pd.DataFrame(results)"
   ]
  },
  {
   "cell_type": "markdown",
   "metadata": {},
   "source": []
  },
  {
   "cell_type": "code",
   "execution_count": 43,
   "metadata": {},
   "outputs": [],
   "source": [
    "#keras\n",
    "import math\n",
    "from keras.models import Sequential\n",
    "from keras.layers import Dense\n",
    "from keras.layers import multiply\n",
    "from keras.wrappers.scikit_learn import KerasRegressor\n",
    "import keras.backend as K\n",
    "from sklearn.model_selection import cross_val_score\n",
    "from sklearn.model_selection import KFold\n",
    "from sklearn.preprocessing import StandardScaler\n",
    "from sklearn.pipeline import Pipeline\n",
    "import tensorflow as tf\n",
    "import sys\n",
    "\n",
    "\n",
    "def sigmoid1024_tf(x):\n",
    "    return (1024**x) / (1024**x + 1)\n",
    "\n",
    "def sigmoid_tf(x):\n",
    "    return K.sigmoid(x)\n",
    "\n",
    "def gain_tf(x):\n",
    "    math_pi = tf.constant(math.pi)\n",
    "    one = tf.constant(1.0)\n",
    "    ten = tf.constant(10.0)\n",
    "    x = tf.math.subtract(y_true, y_pred)\n",
    "    x = tf.math.truediv(x, ten)\n",
    "    left_mul = sigmoid_tf(x)\n",
    "    right_mul = tf.math.cos(tf.math.divide(x, math_pi))\n",
    "    return tf.math.multiply(left_mul, right_mul)\n",
    "\n",
    "def loss_tf(y_true, y_pred):\n",
    "    math_pi = tf.constant(math.pi)\n",
    "    one = tf.constant(1.0)\n",
    "    ten = tf.constant(10.0)\n",
    "    x0 = tf.math.subtract(y_true, y_pred)\n",
    "    x = tf.math.truediv(x0, ten)\n",
    "    left_mul = sigmoid_tf(x)\n",
    "    right_mul = tf.math.cos(tf.math.divide(x, math_pi))\n",
    "    return tf.math.subtract(one*2, tf.math.multiply(left_mul, right_mul))\n",
    "\n",
    "def _keras_model(loss=None, metrics=None):\n",
    "    \"\"\"\n",
    "    build a simple regression model\n",
    "    :param loss: (str|callable, default: loss_tf)\n",
    "    \"\"\"\n",
    "    if loss is None:\n",
    "        loss = loss_tf\n",
    "    if metrics is None:\n",
    "        metrics = [\"mae\"]\n",
    "    model = Sequential()\n",
    "    model.add(Dense(1, input_dim=NB_FEATURES, kernel_initializer='normal', activation='relu'))\n",
    "    model.add(Dense(1, kernel_initializer='normal'))\n",
    "    model.compile(loss=loss, optimizer='adam', metrics=metrics)\n",
    "    return model\n",
    "\n",
    "def keras_model(loss=None, metrics=None, nb_epoch=100, batch_size=32, verbose=False):\n",
    "    build_fn = lambda : _keras_model(loss, metrics)\n",
    "    return KerasRegressor(build_fn=build_fn, epochs=nb_epoch, batch_size=batch_size, verbose=verbose)"
   ]
  },
  {
   "cell_type": "code",
   "execution_count": 44,
   "metadata": {},
   "outputs": [],
   "source": [
    "# #sci-kit like training\n",
    "# sm = keras_model(\"mse\") \n",
    "# history = sm.fit(xTrain, yTrain, validation_split=0.33, epochs=100, batch_size=64, verbose=0)\n",
    "# loss_hist = pd.DataFrame(data={'loss': history.history['loss']})\n",
    "# loss_hist.plot(figsize=(30,10))\n",
    "# smPredict = sm.predict(xTest, batch_size=128)\n",
    "\n",
    "# out_data = pd.DataFrame(data={'y_test': np.ravel(yTest), 'y_pred': np.ravel(smPredict)})\n",
    "# stl = sm.evaluate(xTest, yTest, verbose=0)\n",
    "# print(\"Results: %2.2f (%.2f) MSE, Scalar test loss: %.2f\" % (smPredict.mean(), smPredict.std(), stl))\n",
    "# #out_data.plot(figsize=(30,10))"
   ]
  },
  {
   "cell_type": "markdown",
   "metadata": {},
   "source": [
    "**Featureless model (fixed value)**"
   ]
  },
  {
   "cell_type": "code",
   "execution_count": 45,
   "metadata": {},
   "outputs": [],
   "source": [
    "class FeatureLessModel(object):\n",
    "    def __init__(self, max_value, loss=None):\n",
    "        self.value = None\n",
    "        self.max_value = max_value\n",
    "        self.loss = loss or avg_loss_ratio\n",
    "        self._trained = False\n",
    "    \n",
    "    def fit(self, xTrain, yTrain, **kwargs):\n",
    "        min_loss = float('inf')\n",
    "        best_value = 0\n",
    "        for value in np.arange(self.max_value):\n",
    "            fixedPredict = np.ones_like(yTrain) * value\n",
    "            loss = self.loss(yTrain, fixedPredict)\n",
    "            if loss < min_loss:\n",
    "                min_loss = loss\n",
    "                best_value = value\n",
    "        self._trained = True\n",
    "        self.value = best_value\n",
    "    \n",
    "    def predict(self, xTrain, **kwargs):\n",
    "        if not self._trained:\n",
    "            raise ValueError(\"The model first need to be trained!!!\")\n",
    "        res = np.ones((xTrain.shape[0], 1) ) * self.value\n",
    "        return res\n",
    "\n",
    "    \n"
   ]
  },
  {
   "cell_type": "markdown",
   "metadata": {},
   "source": [
    "**Convervative model**"
   ]
  },
  {
   "cell_type": "code",
   "execution_count": 46,
   "metadata": {},
   "outputs": [],
   "source": [
    "class ConservativeModel(object):\n",
    "    def __init__(self, max_value):\n",
    "        self.value = None\n",
    "        self.max_value = max_value\n",
    "        self._trained = False\n",
    "\n",
    "    def fit(self, xTrain, yTrain, **kwargs):\n",
    "        self.value = self.max_value - 1\n",
    "        self._trained = True\n",
    "    \n",
    "    def predict(self, xTest, **kwargs):\n",
    "        if not self._trained:\n",
    "            raise ValueError(\"The model should first be trained\")\n",
    "        return np.ones((xTest.shape[0], 1)) * self.value"
   ]
  },
  {
   "cell_type": "markdown",
   "metadata": {},
   "source": [
    "**Linear regression**"
   ]
  },
  {
   "cell_type": "code",
   "execution_count": 47,
   "metadata": {
    "scrolled": false
   },
   "outputs": [],
   "source": [
    "from sklearn.linear_model import LinearRegression"
   ]
  },
  {
   "cell_type": "markdown",
   "metadata": {},
   "source": [
    "**Random**"
   ]
  },
  {
   "cell_type": "code",
   "execution_count": 48,
   "metadata": {},
   "outputs": [],
   "source": [
    "class RandomModel(object):\n",
    "    def __init__(self, max_value):\n",
    "        self.value = max_value\n",
    "        self._trained = False\n",
    "\n",
    "    def fit(self, xTrain, yTrain, **kwargs):\n",
    "        self._trained = True\n",
    "    \n",
    "    def predict(self, xTest, **kwargs):\n",
    "        if not self._trained:\n",
    "            raise ValueError(\"The model should first be trained\")\n",
    "        return np.random.random((xTest.shape[0], 1)) * self.value"
   ]
  },
  {
   "cell_type": "markdown",
   "metadata": {},
   "source": [
    "**Random Forest**"
   ]
  },
  {
   "cell_type": "code",
   "execution_count": 49,
   "metadata": {},
   "outputs": [],
   "source": [
    "from sklearn.ensemble.forest import RandomForestClassifier, RandomForestRegressor"
   ]
  },
  {
   "cell_type": "markdown",
   "metadata": {},
   "source": [
    "**Clustering**"
   ]
  },
  {
   "cell_type": "code",
   "execution_count": 50,
   "metadata": {},
   "outputs": [],
   "source": [
    "from sklearn.cluster import KMeans, MeanShift, DBSCAN, SpectralClustering, Birch, MiniBatchKMeans, AffinityPropagation\n",
    "from sklearn.mixture import BayesianGaussianMixture\n",
    "\n",
    "\n",
    "class ClusterModel(object):\n",
    "    def __init__(self, **kwargs):\n",
    "        if \"base_model\" in kwargs:\n",
    "            base_model_ = kwargs.pop(\"base_model\")\n",
    "            if isinstance(base_model_, str):\n",
    "                models = {\n",
    "                    \"kmeans\": KMeans,\n",
    "                    \"meanshift\": MeanShift,\n",
    "                    \"birch\": Birch,\n",
    "                    \"spectral\": SpectralClustering,\n",
    "                    \"minibatch\": MiniBatchKMeans,\n",
    "                    \"affinity\": AffinityPropagation,\n",
    "                    \"bayes\": BayesianGaussianMixture,\n",
    "                }\n",
    "                self.base_model = models.get(base_model_, MeanShift)(**kwargs)\n",
    "            else:\n",
    "                self.base_model = base_model_\n",
    "        else:\n",
    "            self.base_model = MeanShift(**kwargs)\n",
    "        super().__init__()\n",
    "        self.clustersClasses = None\n",
    "        self._trained = False\n",
    "    \n",
    "    def fit(self, xTrain, yTrain, **kwargs):\n",
    "        self.base_model.fit(xTrain)\n",
    "        labels = np.array([item for item in np.unique(self.base_model.labels_) if item >= 0])\n",
    "        clustersClasses = np.zeros_like(labels)\n",
    "        for cluster in range(len(labels)):\n",
    "            values = yTrain[self.base_model.labels_==cluster]\n",
    "            clustersClasses[cluster] = values.mean() + values.std()\n",
    "        self.clustersClasses = clustersClasses\n",
    "        self._trained = True\n",
    "    \n",
    "    def predict(self, xTest, **kwargs):\n",
    "        if self._trained is None:\n",
    "            raise ValueError(\"Model not trained yet\")\n",
    "        predClusters = self.base_model.predict(xTest)\n",
    "        return self.clustersClasses[predClusters]\n",
    "\n",
    "class ClusterExtModel(object):\n",
    "    def __init__(self, **kwargs):\n",
    "        if \"base_model\" in kwargs:\n",
    "            base_model_ = kwargs.pop(\"base_model\")\n",
    "            if isinstance(base_model_, str):\n",
    "                models = {\n",
    "                    \"kmeans\": KMeans,\n",
    "                    \"meanshift\": MeanShift,\n",
    "                    \"birch\": Birch,\n",
    "                    \"spectral\": SpectralClustering,\n",
    "                    \"minibatch\": MiniBatchKMeans,\n",
    "                    \"affinity\": AffinityPropagation,\n",
    "                    \"bayes\": BayesianGaussianMixture,\n",
    "                }\n",
    "                self.base_model = models.get(base_model_, MeanShift)(**kwargs)\n",
    "            else:\n",
    "                self.base_model = base_model_\n",
    "        else:\n",
    "            self.base_model = MeanShift(**kwargs)\n",
    "        self._trained = False\n",
    "        self.sub_models = None\n",
    "        self.max_value = MAX_GAIN\n",
    "        \n",
    "    def fit(self, xTrain, yTrain, **kwargs):        \n",
    "        self.base_model.fit(xTrain, yTrain, **kwargs)\n",
    "        labels = np.array([item for item in np.unique(self.base_model.labels_) if item >= 0])\n",
    "        clustersClasses = np.zeros_like(labels)\n",
    "        sub_models = []\n",
    "        for cluster in range(len(labels)):\n",
    "            sub_model = FeatureLessModel(self.max_value)\n",
    "            mask = self.base_model.labels_==cluster\n",
    "            sub_model.fit(xTrain[mask], yTrain[mask])\n",
    "            sub_models.append(sub_model)\n",
    "        # We use an array instead of a list for better indexing\n",
    "        self.clustersClasses = [sub_model.value for sub_model in sub_models]\n",
    "        self.sub_models = np.array(sub_models)\n",
    "        self._trained = True\n",
    "    \n",
    "    def predict(self, xTest, **kwargs):\n",
    "        if self._trained is None:\n",
    "            raise ValueError(\"Model not trained yet\")\n",
    "        predClusters = self.base_model.predict(xTest)\n",
    "        sub_models = self.sub_models[predClusters]\n",
    "        preds = []\n",
    "        dummy_x = np.array([0])\n",
    "        for idx in range(xTest.shape[0]):\n",
    "            preds.append(sub_models[idx].predict(dummy_x))\n",
    "        res = np.array(preds).ravel()\n",
    "        return res\n",
    "        #return self.clustersClasses[predClusters]\n",
    "            "
   ]
  },
  {
   "cell_type": "markdown",
   "metadata": {},
   "source": [
    "** Data augmentation **"
   ]
  },
  {
   "cell_type": "code",
   "execution_count": 51,
   "metadata": {},
   "outputs": [],
   "source": [
    "class DACombine(object):\n",
    "    def __init__(self, size=None, nb_features=NB_FEATURES):\n",
    "        self.size = size\n",
    "        self.nb_features = nb_features\n",
    "    \n",
    "    def fit_predict(self, xTrain, yTrain, size=None):\n",
    "        size = size or self.size or len(xTrain) * 4\n",
    "        indices = np.arange(self.nb_features)\n",
    "        np.random.shuffle(indices)\n",
    "        targets = yTrain.ravel()\n",
    "        xRes = []\n",
    "        yRes = []\n",
    "        for _ in range(size):\n",
    "            target = np.random.choice(targets)\n",
    "            target_mask = yTrain.ravel()==target\n",
    "            xTrain_target = xTrain[target_mask]\n",
    "            i = np.random.randint(xTrain_target.shape[0])\n",
    "            j = np.random.randint(xTrain_target.shape[0])\n",
    "            x = np.zeros_like(xTrain_target[0])\n",
    "            np.random.shuffle(indices)\n",
    "            split = int(np.random.randint(self.nb_features))\n",
    "            mask_i = indices[:split]\n",
    "            mask_j = indices[split:]\n",
    "            x[mask_i] = xTrain_target[i, mask_i]\n",
    "            x[mask_j] = xTrain_target[j, mask_j]\n",
    "            xRes.append(x)\n",
    "            yRes.append(target)\n",
    "        return np.array(xRes), np.array(yRes)\n",
    "        \n",
    "        "
   ]
  },
  {
   "cell_type": "markdown",
   "metadata": {},
   "source": [
    "**Baseline models**"
   ]
  },
  {
   "cell_type": "code",
   "execution_count": 52,
   "metadata": {},
   "outputs": [
    {
     "data": {
      "text/html": [
       "<div>\n",
       "<style scoped>\n",
       "    .dataframe tbody tr th:only-of-type {\n",
       "        vertical-align: middle;\n",
       "    }\n",
       "\n",
       "    .dataframe tbody tr th {\n",
       "        vertical-align: top;\n",
       "    }\n",
       "\n",
       "    .dataframe thead th {\n",
       "        text-align: right;\n",
       "    }\n",
       "</style>\n",
       "<table border=\"1\" class=\"dataframe\">\n",
       "  <thead>\n",
       "    <tr style=\"text-align: right;\">\n",
       "      <th></th>\n",
       "      <th>avg_loss</th>\n",
       "      <th>avg_loss_ratio</th>\n",
       "      <th>avg_win_loss</th>\n",
       "      <th>loss_sum</th>\n",
       "      <th>mse</th>\n",
       "      <th>rejection_ratio</th>\n",
       "    </tr>\n",
       "  </thead>\n",
       "  <tbody>\n",
       "    <tr>\n",
       "      <th>conservative</th>\n",
       "      <td>119.215079</td>\n",
       "      <td>0.990177</td>\n",
       "      <td>119.215079</td>\n",
       "      <td>4267.200000</td>\n",
       "      <td>15084.700794</td>\n",
       "      <td>0.000000</td>\n",
       "    </tr>\n",
       "    <tr>\n",
       "      <th>featureless</th>\n",
       "      <td>26.897619</td>\n",
       "      <td>0.218127</td>\n",
       "      <td>24.028855</td>\n",
       "      <td>963.000000</td>\n",
       "      <td>1510.321429</td>\n",
       "      <td>0.066825</td>\n",
       "    </tr>\n",
       "    <tr>\n",
       "      <th>random</th>\n",
       "      <td>80.169453</td>\n",
       "      <td>0.686153</td>\n",
       "      <td>64.867733</td>\n",
       "      <td>2868.724604</td>\n",
       "      <td>8065.651091</td>\n",
       "      <td>0.358787</td>\n",
       "    </tr>\n",
       "  </tbody>\n",
       "</table>\n",
       "</div>"
      ],
      "text/plain": [
       "                avg_loss  avg_loss_ratio  avg_win_loss     loss_sum  \\\n",
       "conservative  119.215079        0.990177    119.215079  4267.200000   \n",
       "featureless    26.897619        0.218127     24.028855   963.000000   \n",
       "random         80.169453        0.686153     64.867733  2868.724604   \n",
       "\n",
       "                       mse  rejection_ratio  \n",
       "conservative  15084.700794         0.000000  \n",
       "featureless    1510.321429         0.066825  \n",
       "random         8065.651091         0.358787  "
      ]
     },
     "execution_count": 52,
     "metadata": {},
     "output_type": "execute_result"
    }
   ],
   "source": [
    "benchmark_models = {\n",
    "    #Featureless:\n",
    "    \"random\": RandomModel(MAX_GAIN),\n",
    "    \"conservative\": ConservativeModel(MAX_GAIN),\n",
    "    \"featureless\": FeatureLessModel(MAX_GAIN),\n",
    "    #\"linear_regressor\": LinearRegression(copy_X=False),\n",
    "}\n",
    "\n",
    "results = {key: process_benchmark_cv(model, x, y.ravel()) for key, model in benchmark_models.items()}\n",
    "\n",
    "results_mean = {key: item.mean() for key, item in results.items()}\n",
    "results_std = {key: item.std() for key, item in results.items()}\n",
    "pd.DataFrame(results_mean).T"
   ]
  },
  {
   "cell_type": "code",
   "execution_count": 53,
   "metadata": {},
   "outputs": [],
   "source": [
    "# df_results_mean = pd.DataFrame(results_mean)\n",
    "# df_results_std = pd.DataFrame(results_std)\n",
    "# df_results_mean.plot.bar(logy=True, figsize=(15, 5))"
   ]
  },
  {
   "cell_type": "markdown",
   "metadata": {},
   "source": [
    "**Clustering based models**"
   ]
  },
  {
   "cell_type": "code",
   "execution_count": 54,
   "metadata": {},
   "outputs": [],
   "source": [
    "# benchmark_models = {\n",
    "#     #Cluster-based\n",
    "#     \"affinity\": ClusterModel(base_model=\"affinity\"),\n",
    "#     \"bayes\": ClusterModel(base_model=\"bayes\", n_components=8),\n",
    "#     \"birch\": ClusterModel(base_model=\"birch\"),\n",
    "#     \"kmeans\": ClusterModel(base_model=\"kmeans\", n_clusters=16),\n",
    "#     \"meanshift\": ClusterModel(base_model=\"meanshift\", cluster_all=True),\n",
    "#     \"affinity_ext\": ClusterExtModel(base_model=\"affinity\"),\n",
    "#     \"bayes_ext\": ClusterExtModel(base_model=\"bayes\", n_components=8),\n",
    "#     \"birch_ext\": ClusterExtModel(base_model=\"birch\"),\n",
    "#     \"kmeans_ext\": ClusterModel(base_model=\"kmeans\", n_clusters=16),\n",
    "#     \"meanshift_ext\": ClusterExtModel(base_model=\"meanshift\", cluster_all=True),\n",
    "# }\n",
    "\n",
    "# results = {key: process_benchmark_cv(model, x, y.ravel()) for key, model in benchmark_models.items()}\n",
    "\n",
    "# results_mean = {key: item.mean() for key, item in results.items()}\n",
    "# results_std = {key: item.std() for key, item in results.items()}\n",
    "# pd.DataFrame(results_mean).T"
   ]
  },
  {
   "cell_type": "code",
   "execution_count": 55,
   "metadata": {},
   "outputs": [],
   "source": [
    "# df_results_mean = pd.DataFrame(results_mean)\n",
    "# df_results_std = pd.DataFrame(results_std)\n",
    "# df_results_mean.plot.bar(logy=True, figsize=(15, 5))"
   ]
  },
  {
   "cell_type": "markdown",
   "metadata": {},
   "source": [
    "**Other models**"
   ]
  },
  {
   "cell_type": "code",
   "execution_count": 56,
   "metadata": {},
   "outputs": [
    {
     "data": {
      "text/html": [
       "<div>\n",
       "<style scoped>\n",
       "    .dataframe tbody tr th:only-of-type {\n",
       "        vertical-align: middle;\n",
       "    }\n",
       "\n",
       "    .dataframe tbody tr th {\n",
       "        vertical-align: top;\n",
       "    }\n",
       "\n",
       "    .dataframe thead th {\n",
       "        text-align: right;\n",
       "    }\n",
       "</style>\n",
       "<table border=\"1\" class=\"dataframe\">\n",
       "  <thead>\n",
       "    <tr style=\"text-align: right;\">\n",
       "      <th></th>\n",
       "      <th>avg_loss</th>\n",
       "      <th>avg_loss_ratio</th>\n",
       "      <th>avg_win_loss</th>\n",
       "      <th>loss_sum</th>\n",
       "      <th>mse</th>\n",
       "      <th>rejection_ratio</th>\n",
       "    </tr>\n",
       "  </thead>\n",
       "  <tbody>\n",
       "    <tr>\n",
       "      <th>nn_regression:</th>\n",
       "      <td>98.363827</td>\n",
       "      <td>0.857665</td>\n",
       "      <td>9.482579</td>\n",
       "      <td>3525.658008</td>\n",
       "      <td>11581.679462</td>\n",
       "      <td>0.842540</td>\n",
       "    </tr>\n",
       "    <tr>\n",
       "      <th>random_forest</th>\n",
       "      <td>36.180952</td>\n",
       "      <td>0.315999</td>\n",
       "      <td>12.455026</td>\n",
       "      <td>1295.000000</td>\n",
       "      <td>3496.095238</td>\n",
       "      <td>0.251270</td>\n",
       "    </tr>\n",
       "    <tr>\n",
       "      <th>random_forest_regr</th>\n",
       "      <td>70.401708</td>\n",
       "      <td>0.646872</td>\n",
       "      <td>16.841368</td>\n",
       "      <td>2521.450982</td>\n",
       "      <td>7228.438942</td>\n",
       "      <td>0.602857</td>\n",
       "    </tr>\n",
       "  </tbody>\n",
       "</table>\n",
       "</div>"
      ],
      "text/plain": [
       "                     avg_loss  avg_loss_ratio  avg_win_loss     loss_sum  \\\n",
       "nn_regression:      98.363827        0.857665      9.482579  3525.658008   \n",
       "random_forest       36.180952        0.315999     12.455026  1295.000000   \n",
       "random_forest_regr  70.401708        0.646872     16.841368  2521.450982   \n",
       "\n",
       "                             mse  rejection_ratio  \n",
       "nn_regression:      11581.679462         0.842540  \n",
       "random_forest        3496.095238         0.251270  \n",
       "random_forest_regr   7228.438942         0.602857  "
      ]
     },
     "execution_count": 56,
     "metadata": {},
     "output_type": "execute_result"
    }
   ],
   "source": [
    "benchmark_models = {\n",
    "    # Regression\n",
    "    \"random_forest_regr\": RandomForestRegressor(min_samples_leaf=5),\n",
    "    \"nn_regression:\": keras_model(),\n",
    "    \n",
    "    # Classification\n",
    "    \"random_forest\": RandomForestClassifier(min_samples_leaf=5),#max_depth=3, random_state=0, n_estimators=10),\n",
    "}\n",
    "\n",
    "results = {key: process_benchmark_cv(model, x, y.ravel()) for key, model in benchmark_models.items()}\n",
    "\n",
    "results_mean = {key: item.mean() for key, item in results.items()}\n",
    "results_std = {key: item.std() for key, item in results.items()}\n",
    "pd.DataFrame(results_mean).T"
   ]
  },
  {
   "cell_type": "code",
   "execution_count": 57,
   "metadata": {},
   "outputs": [
    {
     "data": {
      "text/plain": [
       "<matplotlib.axes._subplots.AxesSubplot at 0x7f791df4fa20>"
      ]
     },
     "execution_count": 57,
     "metadata": {},
     "output_type": "execute_result"
    },
    {
     "data": {
      "image/png": "[encoded data removed]",
      "text/plain": [
       "<Figure size 1080x360 with 1 Axes>"
      ]
     },
     "metadata": {},
     "output_type": "display_data"
    }
   ],
   "source": [
    "df_results_mean = pd.DataFrame(results_mean)\n",
    "df_results_std = pd.DataFrame(results_std)\n",
    "df_results_mean.plot.bar(logy=True, figsize=(15, 5))"
   ]
  },
  {
   "cell_type": "code",
   "execution_count": null,
   "metadata": {},
   "outputs": [],
   "source": []
  }
 ],
 "metadata": {
  "kernelspec": {
   "display_name": "Python 3",
   "language": "python",
   "name": "python3"
  },
  "language_info": {
   "codemirror_mode": {
    "name": "ipython",
    "version": 3
   },
   "file_extension": ".py",
   "mimetype": "text/x-python",
   "name": "python",
   "nbconvert_exporter": "python",
   "pygments_lexer": "ipython3",
   "version": "3.6.7"
  }
 },
 "nbformat": 4,
 "nbformat_minor": 2
}
