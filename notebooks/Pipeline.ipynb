{
 "cells": [
  {
   "cell_type": "code",
   "execution_count": null,
   "metadata": {},
   "outputs": [],
   "source": []
  },
  {
   "cell_type": "markdown",
   "metadata": {},
   "source": [
    "## Data preparation and sanitization"
   ]
  },
  {
   "cell_type": "code",
   "execution_count": 1,
   "metadata": {},
   "outputs": [],
   "source": [
    "import pandas as pd\n",
    "%matplotlib inline\n",
    "import matplotlib.pyplot as plt\n",
    "import numpy as np\n",
    "from IPython.display import display\n",
    "from sklearn.model_selection import train_test_split\n",
    "from sklearn.metrics import r2_score\n",
    "import seaborn as sb\n",
    "\n",
    "from utils.preprocessing import df_to_xy\n",
    "\n",
    "# Read and sanitize the data\n",
    "df = pd.read_excel(\"../data/UG_HH_NEW_continuous_no200.xls\")\n",
    "#df = pd.read_excel(\"./UG_HH_NEW_categorical_no200.xls\")\n",
    "df = df.dropna()\n",
    "\n",
    "\n",
    "x, y = df_to_xy(df, fuse_risk=True, centered=True, min_target=5, max_target=190)"
   ]
  },
  {
   "cell_type": "code",
   "execution_count": null,
   "metadata": {},
   "outputs": [],
   "source": []
  },
  {
   "cell_type": "markdown",
   "metadata": {},
   "source": [
    "## Linear regression (continuous dataset)"
   ]
  },
  {
   "cell_type": "markdown",
   "metadata": {},
   "source": [
    "**Accuracy / Loss - For model comparison**"
   ]
  },
  {
   "cell_type": "code",
   "execution_count": 2,
   "metadata": {},
   "outputs": [],
   "source": [
    "MAX_GAIN = 200\n"
   ]
  },
  {
   "cell_type": "markdown",
   "metadata": {},
   "source": [
    "#### Benchmark"
   ]
  },
  {
   "cell_type": "code",
   "execution_count": 3,
   "metadata": {},
   "outputs": [
    {
     "name": "stderr",
     "output_type": "stream",
     "text": [
      "Using TensorFlow backend.\n"
     ]
    }
   ],
   "source": [
    "from utils.benchmark import process_benchmarks, process_benchmark_cv, process_model\n"
   ]
  },
  {
   "cell_type": "markdown",
   "metadata": {},
   "source": [
    "**Keras Model**"
   ]
  },
  {
   "cell_type": "code",
   "execution_count": 4,
   "metadata": {},
   "outputs": [],
   "source": [
    "from models import KerasModel, loss_tf, gain_tf"
   ]
  },
  {
   "cell_type": "code",
   "execution_count": 5,
   "metadata": {},
   "outputs": [],
   "source": [
    "import os, sys\n"
   ]
  },
  {
   "cell_type": "code",
   "execution_count": 6,
   "metadata": {},
   "outputs": [],
   "source": [
    "# #sci-kit like training\n",
    "# sm = keras_model(\"mse\") \n",
    "# history = sm.fit(xTrain, yTrain, validation_split=0.33, epochs=100, batch_size=64, verbose=0)\n",
    "# loss_hist = pd.DataFrame(data={'loss': history.history['loss']})\n",
    "# loss_hist.plot(figsize=(30,10))\n",
    "# smPredict = sm.predict(xTest, batch_size=128)\n",
    "\n",
    "# out_data = pd.DataFrame(data={'y_test': np.ravel(yTest), 'y_pred': np.ravel(smPredict)})\n",
    "# stl = sm.evaluate(xTest, yTest, verbose=0)\n",
    "# print(\"Results: %2.2f (%.2f) MSE, Scalar test loss: %.2f\" % (smPredict.mean(), smPredict.std(), stl))\n",
    "# #out_data.plot(figsize=(30,10))"
   ]
  },
  {
   "cell_type": "markdown",
   "metadata": {},
   "source": [
    "**Featureless model (fixed value)**"
   ]
  },
  {
   "cell_type": "code",
   "execution_count": 7,
   "metadata": {},
   "outputs": [],
   "source": [
    "from models import FeaturelessModel"
   ]
  },
  {
   "cell_type": "markdown",
   "metadata": {},
   "source": [
    "**Convervative model**"
   ]
  },
  {
   "cell_type": "code",
   "execution_count": 8,
   "metadata": {},
   "outputs": [],
   "source": [
    "from models import ConservativeModel"
   ]
  },
  {
   "cell_type": "markdown",
   "metadata": {},
   "source": [
    "**Linear/Logistic regression**"
   ]
  },
  {
   "cell_type": "code",
   "execution_count": 9,
   "metadata": {
    "scrolled": false
   },
   "outputs": [],
   "source": [
    "from sklearn.linear_model import LinearRegression, LogisticRegression"
   ]
  },
  {
   "cell_type": "markdown",
   "metadata": {},
   "source": [
    "**Random**"
   ]
  },
  {
   "cell_type": "code",
   "execution_count": 10,
   "metadata": {},
   "outputs": [],
   "source": [
    "from models import RandomModel"
   ]
  },
  {
   "cell_type": "markdown",
   "metadata": {},
   "source": [
    "**Random Forest**"
   ]
  },
  {
   "cell_type": "code",
   "execution_count": 11,
   "metadata": {},
   "outputs": [],
   "source": [
    "from sklearn.ensemble.forest import RandomForestClassifier, RandomForestRegressor"
   ]
  },
  {
   "cell_type": "markdown",
   "metadata": {},
   "source": [
    "**Clustering**"
   ]
  },
  {
   "cell_type": "code",
   "execution_count": 12,
   "metadata": {},
   "outputs": [],
   "source": [
    "from models import ClusterModel, ClusterExtModel"
   ]
  },
  {
   "cell_type": "code",
   "execution_count": 13,
   "metadata": {},
   "outputs": [],
   "source": [
    "from sklearn.neural_network import MLPClassifier"
   ]
  },
  {
   "cell_type": "markdown",
   "metadata": {},
   "source": [
    "** Acceptance model **"
   ]
  },
  {
   "cell_type": "code",
   "execution_count": 14,
   "metadata": {},
   "outputs": [],
   "source": [
    "from models import AcceptanceModel"
   ]
  },
  {
   "cell_type": "markdown",
   "metadata": {},
   "source": [
    "** Data augmentation **"
   ]
  },
  {
   "cell_type": "code",
   "execution_count": 15,
   "metadata": {},
   "outputs": [],
   "source": [
    "from utils.data_augmentation import DACombine"
   ]
  },
  {
   "cell_type": "markdown",
   "metadata": {},
   "source": [
    "**Baseline models**"
   ]
  },
  {
   "cell_type": "code",
   "execution_count": 16,
   "metadata": {},
   "outputs": [
    {
     "data": {
      "text/html": [
       "<div>\n",
       "<style scoped>\n",
       "    .dataframe tbody tr th:only-of-type {\n",
       "        vertical-align: middle;\n",
       "    }\n",
       "\n",
       "    .dataframe tbody tr th {\n",
       "        vertical-align: top;\n",
       "    }\n",
       "\n",
       "    .dataframe thead th {\n",
       "        text-align: right;\n",
       "    }\n",
       "</style>\n",
       "<table border=\"1\" class=\"dataframe\">\n",
       "  <thead>\n",
       "    <tr style=\"text-align: right;\">\n",
       "      <th></th>\n",
       "      <th>avg_loss</th>\n",
       "      <th>avg_loss_ratio</th>\n",
       "      <th>avg_win_loss</th>\n",
       "      <th>loss_sum</th>\n",
       "      <th>mse</th>\n",
       "      <th>rejection_ratio</th>\n",
       "    </tr>\n",
       "  </thead>\n",
       "  <tbody>\n",
       "    <tr>\n",
       "      <th>featureless</th>\n",
       "      <td>26.897619</td>\n",
       "      <td>0.218055</td>\n",
       "      <td>23.998552</td>\n",
       "      <td>963.0</td>\n",
       "      <td>1505.321429</td>\n",
       "      <td>0.066825</td>\n",
       "    </tr>\n",
       "    <tr>\n",
       "      <th>featureless_da2</th>\n",
       "      <td>42.659524</td>\n",
       "      <td>0.346746</td>\n",
       "      <td>41.420400</td>\n",
       "      <td>1526.0</td>\n",
       "      <td>2561.869048</td>\n",
       "      <td>0.050000</td>\n",
       "    </tr>\n",
       "    <tr>\n",
       "      <th>svc</th>\n",
       "      <td>26.897619</td>\n",
       "      <td>0.218055</td>\n",
       "      <td>23.998552</td>\n",
       "      <td>963.0</td>\n",
       "      <td>1505.321429</td>\n",
       "      <td>0.066825</td>\n",
       "    </tr>\n",
       "    <tr>\n",
       "      <th>svc_da2</th>\n",
       "      <td>81.060317</td>\n",
       "      <td>0.710048</td>\n",
       "      <td>22.867262</td>\n",
       "      <td>2902.0</td>\n",
       "      <td>9034.246032</td>\n",
       "      <td>0.653651</td>\n",
       "    </tr>\n",
       "  </tbody>\n",
       "</table>\n",
       "</div>"
      ],
      "text/plain": [
       "                  avg_loss  avg_loss_ratio  avg_win_loss  loss_sum  \\\n",
       "featureless      26.897619        0.218055     23.998552     963.0   \n",
       "featureless_da2  42.659524        0.346746     41.420400    1526.0   \n",
       "svc              26.897619        0.218055     23.998552     963.0   \n",
       "svc_da2          81.060317        0.710048     22.867262    2902.0   \n",
       "\n",
       "                         mse  rejection_ratio  \n",
       "featureless      1505.321429         0.066825  \n",
       "featureless_da2  2561.869048         0.050000  \n",
       "svc              1505.321429         0.066825  \n",
       "svc_da2          9034.246032         0.653651  "
      ]
     },
     "execution_count": 16,
     "metadata": {},
     "output_type": "execute_result"
    }
   ],
   "source": [
    "from sklearn.svm import SVC\n",
    "\n",
    "benchmark_models = {\n",
    "    #Featureless:\n",
    "    #\"random\": RandomModel(MAX_GAIN),\n",
    "    #\"conservative\": ConservativeModel(MAX_GAIN),\n",
    "    \"featureless\": FeaturelessModel(MAX_GAIN),\n",
    "    \"svc\": SVC(gamma='auto') \n",
    "#     \"linear_regressor\": LinearRegression(copy_X=False),\n",
    "#     \"linear_regressor_mse\": keras_linear_regression(loss=\"mse\"),\n",
    "}\n",
    "\n",
    "results = dict()\n",
    "# for key, model in benchmark_models.items():\n",
    "#     results[key] = process_benchmark_cv(model, x, y.ravel())\n",
    "#     results[key+\"_da\"] = process_benchmark_cv(model, x, y.ravel(), augment_data=2)\n",
    "#results = {key: process_benchmark_cv(model, x, y.ravel()) for key, model in benchmark_models.items()}\n",
    "results = process_benchmarks(benchmark_models, x, y.ravel(), augment_data=[None, 2])\n",
    "\n",
    "results_mean = {key: item.mean() for key, item in results.items()}\n",
    "results_std = {key: item.std() for key, item in results.items()}\n",
    "pd.DataFrame(results_mean).T"
   ]
  },
  {
   "cell_type": "code",
   "execution_count": 17,
   "metadata": {},
   "outputs": [
    {
     "data": {
      "text/plain": [
       "<matplotlib.axes._subplots.AxesSubplot at 0x7f099a1ad7f0>"
      ]
     },
     "execution_count": 17,
     "metadata": {},
     "output_type": "execute_result"
    },
    {
     "data": {
      "image/png": "[encoded data removed]",
      "text/plain": [
       "<Figure size 1080x360 with 1 Axes>"
      ]
     },
     "metadata": {},
     "output_type": "display_data"
    }
   ],
   "source": [
    "df_results_mean = pd.DataFrame(results_mean)\n",
    "df_results_std = pd.DataFrame(results_std)\n",
    "df_results_mean.plot.bar(logy=True, figsize=(15, 5))"
   ]
  },
  {
   "cell_type": "markdown",
   "metadata": {},
   "source": [
    "**Clustering based models**"
   ]
  },
  {
   "cell_type": "code",
   "execution_count": 18,
   "metadata": {},
   "outputs": [
    {
     "data": {
      "text/html": [
       "<div>\n",
       "<style scoped>\n",
       "    .dataframe tbody tr th:only-of-type {\n",
       "        vertical-align: middle;\n",
       "    }\n",
       "\n",
       "    .dataframe tbody tr th {\n",
       "        vertical-align: top;\n",
       "    }\n",
       "\n",
       "    .dataframe thead th {\n",
       "        text-align: right;\n",
       "    }\n",
       "</style>\n",
       "<table border=\"1\" class=\"dataframe\">\n",
       "  <thead>\n",
       "    <tr style=\"text-align: right;\">\n",
       "      <th></th>\n",
       "      <th>avg_loss</th>\n",
       "      <th>avg_loss_ratio</th>\n",
       "      <th>avg_win_loss</th>\n",
       "      <th>loss_sum</th>\n",
       "      <th>mse</th>\n",
       "      <th>rejection_ratio</th>\n",
       "    </tr>\n",
       "  </thead>\n",
       "  <tbody>\n",
       "    <tr>\n",
       "      <th>affinity</th>\n",
       "      <td>37.779206</td>\n",
       "      <td>0.325621</td>\n",
       "      <td>27.949628</td>\n",
       "      <td>1353.8</td>\n",
       "      <td>2480.991905</td>\n",
       "      <td>0.150000</td>\n",
       "    </tr>\n",
       "    <tr>\n",
       "      <th>affinity_ext</th>\n",
       "      <td>30.123016</td>\n",
       "      <td>0.247157</td>\n",
       "      <td>23.564694</td>\n",
       "      <td>1079.0</td>\n",
       "      <td>1967.440476</td>\n",
       "      <td>0.100159</td>\n",
       "    </tr>\n",
       "    <tr>\n",
       "      <th>meanshift</th>\n",
       "      <td>32.409524</td>\n",
       "      <td>0.261931</td>\n",
       "      <td>30.656535</td>\n",
       "      <td>1160.2</td>\n",
       "      <td>1766.825397</td>\n",
       "      <td>0.055556</td>\n",
       "    </tr>\n",
       "    <tr>\n",
       "      <th>meanshift_ext</th>\n",
       "      <td>26.897619</td>\n",
       "      <td>0.218055</td>\n",
       "      <td>23.998552</td>\n",
       "      <td>963.0</td>\n",
       "      <td>1505.321429</td>\n",
       "      <td>0.066825</td>\n",
       "    </tr>\n",
       "  </tbody>\n",
       "</table>\n",
       "</div>"
      ],
      "text/plain": [
       "                avg_loss  avg_loss_ratio  avg_win_loss  loss_sum          mse  \\\n",
       "affinity       37.779206        0.325621     27.949628    1353.8  2480.991905   \n",
       "affinity_ext   30.123016        0.247157     23.564694    1079.0  1967.440476   \n",
       "meanshift      32.409524        0.261931     30.656535    1160.2  1766.825397   \n",
       "meanshift_ext  26.897619        0.218055     23.998552     963.0  1505.321429   \n",
       "\n",
       "               rejection_ratio  \n",
       "affinity              0.150000  \n",
       "affinity_ext          0.100159  \n",
       "meanshift             0.055556  \n",
       "meanshift_ext         0.066825  "
      ]
     },
     "execution_count": 18,
     "metadata": {},
     "output_type": "execute_result"
    }
   ],
   "source": [
    "benchmark_models = {\n",
    "#     #Cluster-based\n",
    "    \"affinity\": ClusterModel(base_model=\"affinity\"),\n",
    "#     \"bayes\": ClusterModel(base_model=\"bayes\", n_components=8),\n",
    "#     \"birch\": ClusterModel(base_model=\"birch\"),\n",
    "#     \"kmeans\": ClusterModel(base_model=\"kmeans\", n_clusters=16),\n",
    "    \"meanshift\": ClusterModel(base_model=\"meanshift\", cluster_all=True),\n",
    "    \"affinity_ext\": ClusterExtModel(base_model=\"affinity\"),\n",
    "#     \"bayes_ext\": ClusterExtModel(base_model=\"bayes\", n_components=8),\n",
    "#     \"birch_ext\": ClusterExtModel(base_model=\"birch\"),\n",
    "#     \"kmeans_ext\": ClusterModel(base_model=\"kmeans\", n_clusters=16),\n",
    "    \"meanshift_ext\": ClusterExtModel(base_model=\"meanshift\", cluster_all=True),\n",
    "}\n",
    "\n",
    "results = {key: process_benchmark_cv(model, x, y.ravel()) for key, model in benchmark_models.items()}\n",
    "\n",
    "results_mean = {key: item.mean() for key, item in results.items()}\n",
    "results_std = {key: item.std() for key, item in results.items()}\n",
    "pd.DataFrame(results_mean).T"
   ]
  },
  {
   "cell_type": "code",
   "execution_count": 19,
   "metadata": {},
   "outputs": [
    {
     "data": {
      "text/plain": [
       "<matplotlib.axes._subplots.AxesSubplot at 0x7f09822f6f98>"
      ]
     },
     "execution_count": 19,
     "metadata": {},
     "output_type": "execute_result"
    },
    {
     "data": {
      "image/png": "[encoded data removed]",
      "text/plain": [
       "<Figure size 1080x360 with 1 Axes>"
      ]
     },
     "metadata": {},
     "output_type": "display_data"
    }
   ],
   "source": [
    "df_results_mean = pd.DataFrame(results_mean)\n",
    "df_results_std = pd.DataFrame(results_std)\n",
    "df_results_mean.plot.bar(logy=True, figsize=(15, 5))"
   ]
  },
  {
   "cell_type": "markdown",
   "metadata": {},
   "source": [
    "**Other models**"
   ]
  },
  {
   "cell_type": "code",
   "execution_count": 20,
   "metadata": {},
   "outputs": [
    {
     "name": "stderr",
     "output_type": "stream",
     "text": [
      "/home/franck/Desktop/MA-Thesis/code/notebooks/models/metrics.py:12: RuntimeWarning: invalid value encountered in greater\n",
      "  rejected = min_offer > predicted\n",
      "/home/franck/Desktop/MA-Thesis/code/notebooks/models/metrics.py:16: RuntimeWarning: invalid value encountered in less\n",
      "  bad_predictions = (predicted < 0) | (predicted > MAX_GAIN)\n",
      "/home/franck/Desktop/MA-Thesis/code/notebooks/models/metrics.py:16: RuntimeWarning: invalid value encountered in greater\n",
      "  bad_predictions = (predicted < 0) | (predicted > MAX_GAIN)\n",
      "/home/franck/Desktop/MA-Thesis/code/notebooks/models/metrics.py:40: RuntimeWarning: invalid value encountered in less_equal\n",
      "  accepted = (min_offer <= predicted)\n",
      "/home/franck/Desktop/MA-Thesis/code/notebooks/models/metrics.py:49: RuntimeWarning: invalid value encountered in less_equal\n",
      "  accepted = (min_offer <= predicted)\n",
      "/home/franck/Desktop/MA-Thesis/code/notebooks/models/metrics.py:59: RuntimeWarning: invalid value encountered in less\n",
      "  res[predicted < min_offer] = 0\n",
      "/home/franck/Desktop/MA-Thesis/code/notebooks/models/metrics.py:12: RuntimeWarning: invalid value encountered in greater\n",
      "  rejected = min_offer > predicted\n",
      "/home/franck/Desktop/MA-Thesis/code/notebooks/models/metrics.py:16: RuntimeWarning: invalid value encountered in less\n",
      "  bad_predictions = (predicted < 0) | (predicted > MAX_GAIN)\n",
      "/home/franck/Desktop/MA-Thesis/code/notebooks/models/metrics.py:16: RuntimeWarning: invalid value encountered in greater\n",
      "  bad_predictions = (predicted < 0) | (predicted > MAX_GAIN)\n",
      "/home/franck/Desktop/MA-Thesis/code/notebooks/models/metrics.py:40: RuntimeWarning: invalid value encountered in less_equal\n",
      "  accepted = (min_offer <= predicted)\n",
      "/home/franck/Desktop/MA-Thesis/code/notebooks/models/metrics.py:49: RuntimeWarning: invalid value encountered in less_equal\n",
      "  accepted = (min_offer <= predicted)\n",
      "/home/franck/Desktop/MA-Thesis/code/notebooks/models/metrics.py:59: RuntimeWarning: invalid value encountered in less\n",
      "  res[predicted < min_offer] = 0\n",
      "/home/franck/Desktop/MA-Thesis/code/notebooks/models/metrics.py:12: RuntimeWarning: invalid value encountered in greater\n",
      "  rejected = min_offer > predicted\n",
      "/home/franck/Desktop/MA-Thesis/code/notebooks/models/metrics.py:16: RuntimeWarning: invalid value encountered in less\n",
      "  bad_predictions = (predicted < 0) | (predicted > MAX_GAIN)\n",
      "/home/franck/Desktop/MA-Thesis/code/notebooks/models/metrics.py:16: RuntimeWarning: invalid value encountered in greater\n",
      "  bad_predictions = (predicted < 0) | (predicted > MAX_GAIN)\n",
      "/home/franck/Desktop/MA-Thesis/code/notebooks/models/metrics.py:40: RuntimeWarning: invalid value encountered in less_equal\n",
      "  accepted = (min_offer <= predicted)\n",
      "/home/franck/Desktop/MA-Thesis/code/notebooks/models/metrics.py:49: RuntimeWarning: invalid value encountered in less_equal\n",
      "  accepted = (min_offer <= predicted)\n",
      "/home/franck/Desktop/MA-Thesis/code/notebooks/models/metrics.py:59: RuntimeWarning: invalid value encountered in less\n",
      "  res[predicted < min_offer] = 0\n",
      "/home/franck/Desktop/MA-Thesis/code/notebooks/models/metrics.py:12: RuntimeWarning: invalid value encountered in greater\n",
      "  rejected = min_offer > predicted\n",
      "/home/franck/Desktop/MA-Thesis/code/notebooks/models/metrics.py:16: RuntimeWarning: invalid value encountered in less\n",
      "  bad_predictions = (predicted < 0) | (predicted > MAX_GAIN)\n",
      "/home/franck/Desktop/MA-Thesis/code/notebooks/models/metrics.py:16: RuntimeWarning: invalid value encountered in greater\n",
      "  bad_predictions = (predicted < 0) | (predicted > MAX_GAIN)\n",
      "/home/franck/Desktop/MA-Thesis/code/notebooks/models/metrics.py:40: RuntimeWarning: invalid value encountered in less_equal\n",
      "  accepted = (min_offer <= predicted)\n",
      "/home/franck/Desktop/MA-Thesis/code/notebooks/models/metrics.py:49: RuntimeWarning: invalid value encountered in less_equal\n",
      "  accepted = (min_offer <= predicted)\n",
      "/home/franck/Desktop/MA-Thesis/code/notebooks/models/metrics.py:59: RuntimeWarning: invalid value encountered in less\n",
      "  res[predicted < min_offer] = 0\n",
      "/home/franck/Desktop/MA-Thesis/code/notebooks/models/metrics.py:12: RuntimeWarning: invalid value encountered in greater\n",
      "  rejected = min_offer > predicted\n",
      "/home/franck/Desktop/MA-Thesis/code/notebooks/models/metrics.py:16: RuntimeWarning: invalid value encountered in less\n",
      "  bad_predictions = (predicted < 0) | (predicted > MAX_GAIN)\n",
      "/home/franck/Desktop/MA-Thesis/code/notebooks/models/metrics.py:16: RuntimeWarning: invalid value encountered in greater\n",
      "  bad_predictions = (predicted < 0) | (predicted > MAX_GAIN)\n",
      "/home/franck/Desktop/MA-Thesis/code/notebooks/models/metrics.py:40: RuntimeWarning: invalid value encountered in less_equal\n",
      "  accepted = (min_offer <= predicted)\n",
      "/home/franck/Desktop/MA-Thesis/code/notebooks/models/metrics.py:49: RuntimeWarning: invalid value encountered in less_equal\n",
      "  accepted = (min_offer <= predicted)\n",
      "/home/franck/Desktop/MA-Thesis/code/notebooks/models/metrics.py:59: RuntimeWarning: invalid value encountered in less\n",
      "  res[predicted < min_offer] = 0\n",
      "/home/franck/Desktop/MA-Thesis/code/notebooks/models/metrics.py:12: RuntimeWarning: invalid value encountered in greater\n",
      "  rejected = min_offer > predicted\n",
      "/home/franck/Desktop/MA-Thesis/code/notebooks/models/metrics.py:16: RuntimeWarning: invalid value encountered in less\n",
      "  bad_predictions = (predicted < 0) | (predicted > MAX_GAIN)\n",
      "/home/franck/Desktop/MA-Thesis/code/notebooks/models/metrics.py:16: RuntimeWarning: invalid value encountered in greater\n",
      "  bad_predictions = (predicted < 0) | (predicted > MAX_GAIN)\n",
      "/home/franck/Desktop/MA-Thesis/code/notebooks/models/metrics.py:40: RuntimeWarning: invalid value encountered in less_equal\n",
      "  accepted = (min_offer <= predicted)\n",
      "/home/franck/Desktop/MA-Thesis/code/notebooks/models/metrics.py:49: RuntimeWarning: invalid value encountered in less_equal\n",
      "  accepted = (min_offer <= predicted)\n",
      "/home/franck/Desktop/MA-Thesis/code/notebooks/models/metrics.py:59: RuntimeWarning: invalid value encountered in less\n",
      "  res[predicted < min_offer] = 0\n",
      "/home/franck/Desktop/MA-Thesis/code/notebooks/models/metrics.py:12: RuntimeWarning: invalid value encountered in greater\n",
      "  rejected = min_offer > predicted\n",
      "/home/franck/Desktop/MA-Thesis/code/notebooks/models/metrics.py:16: RuntimeWarning: invalid value encountered in less\n",
      "  bad_predictions = (predicted < 0) | (predicted > MAX_GAIN)\n",
      "/home/franck/Desktop/MA-Thesis/code/notebooks/models/metrics.py:16: RuntimeWarning: invalid value encountered in greater\n",
      "  bad_predictions = (predicted < 0) | (predicted > MAX_GAIN)\n",
      "/home/franck/Desktop/MA-Thesis/code/notebooks/models/metrics.py:40: RuntimeWarning: invalid value encountered in less_equal\n",
      "  accepted = (min_offer <= predicted)\n",
      "/home/franck/Desktop/MA-Thesis/code/notebooks/models/metrics.py:49: RuntimeWarning: invalid value encountered in less_equal\n",
      "  accepted = (min_offer <= predicted)\n",
      "/home/franck/Desktop/MA-Thesis/code/notebooks/models/metrics.py:59: RuntimeWarning: invalid value encountered in less\n",
      "  res[predicted < min_offer] = 0\n"
     ]
    },
    {
     "data": {
      "text/html": [
       "<div>\n",
       "<style scoped>\n",
       "    .dataframe tbody tr th:only-of-type {\n",
       "        vertical-align: middle;\n",
       "    }\n",
       "\n",
       "    .dataframe tbody tr th {\n",
       "        vertical-align: top;\n",
       "    }\n",
       "\n",
       "    .dataframe thead th {\n",
       "        text-align: right;\n",
       "    }\n",
       "</style>\n",
       "<table border=\"1\" class=\"dataframe\">\n",
       "  <thead>\n",
       "    <tr style=\"text-align: right;\">\n",
       "      <th></th>\n",
       "      <th>avg_loss</th>\n",
       "      <th>avg_loss_ratio</th>\n",
       "      <th>avg_win_loss</th>\n",
       "      <th>loss_sum</th>\n",
       "      <th>mse</th>\n",
       "      <th>rejection_ratio</th>\n",
       "    </tr>\n",
       "  </thead>\n",
       "  <tbody>\n",
       "    <tr>\n",
       "      <th>acceptance_model</th>\n",
       "      <td>30.019841</td>\n",
       "      <td>0.265468</td>\n",
       "      <td>21.724914</td>\n",
       "      <td>1075.000000</td>\n",
       "      <td>1723.654762</td>\n",
       "      <td>0.128254</td>\n",
       "    </tr>\n",
       "    <tr>\n",
       "      <th>acceptance_model_da2</th>\n",
       "      <td>32.997619</td>\n",
       "      <td>0.296717</td>\n",
       "      <td>19.743202</td>\n",
       "      <td>1181.000000</td>\n",
       "      <td>2256.242063</td>\n",
       "      <td>0.178254</td>\n",
       "    </tr>\n",
       "    <tr>\n",
       "      <th>featureless</th>\n",
       "      <td>26.897619</td>\n",
       "      <td>0.218055</td>\n",
       "      <td>23.998552</td>\n",
       "      <td>963.000000</td>\n",
       "      <td>1505.321429</td>\n",
       "      <td>0.066825</td>\n",
       "    </tr>\n",
       "    <tr>\n",
       "      <th>featureless_da2</th>\n",
       "      <td>38.381746</td>\n",
       "      <td>0.311909</td>\n",
       "      <td>36.656535</td>\n",
       "      <td>1372.000000</td>\n",
       "      <td>2267.146825</td>\n",
       "      <td>0.055556</td>\n",
       "    </tr>\n",
       "    <tr>\n",
       "      <th>logistic_regression</th>\n",
       "      <td>26.080159</td>\n",
       "      <td>0.229628</td>\n",
       "      <td>15.759543</td>\n",
       "      <td>933.000000</td>\n",
       "      <td>1828.337302</td>\n",
       "      <td>0.133968</td>\n",
       "    </tr>\n",
       "    <tr>\n",
       "      <th>logistic_regression_da2</th>\n",
       "      <td>76.747619</td>\n",
       "      <td>0.659338</td>\n",
       "      <td>23.408692</td>\n",
       "      <td>2746.000000</td>\n",
       "      <td>8495.349206</td>\n",
       "      <td>0.581270</td>\n",
       "    </tr>\n",
       "    <tr>\n",
       "      <th>nn_regression</th>\n",
       "      <td>NaN</td>\n",
       "      <td>NaN</td>\n",
       "      <td>0.000000</td>\n",
       "      <td>NaN</td>\n",
       "      <td>NaN</td>\n",
       "      <td>1.000000</td>\n",
       "    </tr>\n",
       "    <tr>\n",
       "      <th>nn_regression_da2</th>\n",
       "      <td>42.120123</td>\n",
       "      <td>0.360166</td>\n",
       "      <td>16.176716</td>\n",
       "      <td>1502.103204</td>\n",
       "      <td>3096.895276</td>\n",
       "      <td>0.511746</td>\n",
       "    </tr>\n",
       "  </tbody>\n",
       "</table>\n",
       "</div>"
      ],
      "text/plain": [
       "                          avg_loss  avg_loss_ratio  avg_win_loss     loss_sum  \\\n",
       "acceptance_model         30.019841        0.265468     21.724914  1075.000000   \n",
       "acceptance_model_da2     32.997619        0.296717     19.743202  1181.000000   \n",
       "featureless              26.897619        0.218055     23.998552   963.000000   \n",
       "featureless_da2          38.381746        0.311909     36.656535  1372.000000   \n",
       "logistic_regression      26.080159        0.229628     15.759543   933.000000   \n",
       "logistic_regression_da2  76.747619        0.659338     23.408692  2746.000000   \n",
       "nn_regression                  NaN             NaN      0.000000          NaN   \n",
       "nn_regression_da2        42.120123        0.360166     16.176716  1502.103204   \n",
       "\n",
       "                                 mse  rejection_ratio  \n",
       "acceptance_model         1723.654762         0.128254  \n",
       "acceptance_model_da2     2256.242063         0.178254  \n",
       "featureless              1505.321429         0.066825  \n",
       "featureless_da2          2267.146825         0.055556  \n",
       "logistic_regression      1828.337302         0.133968  \n",
       "logistic_regression_da2  8495.349206         0.581270  \n",
       "nn_regression                    NaN         1.000000  \n",
       "nn_regression_da2        3096.895276         0.511746  "
      ]
     },
     "execution_count": 20,
     "metadata": {},
     "output_type": "execute_result"
    }
   ],
   "source": [
    "benchmark_models = {\n",
    "    'featureless': FeaturelessModel(),\n",
    "    # Regression\n",
    "    #\"random_forest_regr\": RandomForestRegressor(min_samples_leaf=5),\n",
    "    'logistic_regression': LogisticRegression(penalty='l1', solver='liblinear', multi_class='auto'),\n",
    "    #\"nn_regression_hiddenless\": KerasModel(no_hidden_layer=True),\n",
    "    \"nn_regression\": KerasModel(batch_size=30, epochs=200),\n",
    "    'acceptance_model': AcceptanceModel(step=10, zero_one=True),\n",
    "    # Classification\n",
    "    #\"random_forest\": RandomForestClassifier(min_samples_leaf=5),#max_depth=3, random_state=0, n_estimators=10),\n",
    "}\n",
    "\n",
    "results = dict()\n",
    "\n",
    "results = process_benchmarks(benchmark_models, x, y.ravel(), augment_data=[None, 2])\n",
    "results_mean = {key: item.mean() for key, item in results.items()}\n",
    "results_std = {key: item.std() for key, item in results.items()}\n",
    "pd.DataFrame(results_mean).T"
   ]
  },
  {
   "cell_type": "code",
   "execution_count": 21,
   "metadata": {},
   "outputs": [
    {
     "data": {
      "text/plain": [
       "<matplotlib.axes._subplots.AxesSubplot at 0x7f098226fa90>"
      ]
     },
     "execution_count": 21,
     "metadata": {},
     "output_type": "execute_result"
    },
    {
     "data": {
      "image/png": "[encoded data removed]",
      "text/plain": [
       "<Figure size 1080x360 with 1 Axes>"
      ]
     },
     "metadata": {},
     "output_type": "display_data"
    }
   ],
   "source": [
    "df_results_mean = pd.DataFrame(results_mean)\n",
    "df_results_std = pd.DataFrame(results_std)\n",
    "df_results_mean.plot.bar(logy=True, figsize=(15, 5))"
   ]
  },
  {
   "cell_type": "markdown",
   "metadata": {},
   "source": [
    "**TOP MODELS**"
   ]
  },
  {
   "cell_type": "code",
   "execution_count": 22,
   "metadata": {},
   "outputs": [
    {
     "data": {
      "text/html": [
       "<div>\n",
       "<style scoped>\n",
       "    .dataframe tbody tr th:only-of-type {\n",
       "        vertical-align: middle;\n",
       "    }\n",
       "\n",
       "    .dataframe tbody tr th {\n",
       "        vertical-align: top;\n",
       "    }\n",
       "\n",
       "    .dataframe thead th {\n",
       "        text-align: right;\n",
       "    }\n",
       "</style>\n",
       "<table border=\"1\" class=\"dataframe\">\n",
       "  <thead>\n",
       "    <tr style=\"text-align: right;\">\n",
       "      <th></th>\n",
       "      <th>avg_loss</th>\n",
       "      <th>avg_loss_ratio</th>\n",
       "      <th>avg_win_loss</th>\n",
       "      <th>loss_sum</th>\n",
       "      <th>mse</th>\n",
       "      <th>rejection_ratio</th>\n",
       "    </tr>\n",
       "  </thead>\n",
       "  <tbody>\n",
       "    <tr>\n",
       "      <th>acceptance_model</th>\n",
       "      <td>32.386508</td>\n",
       "      <td>0.274978</td>\n",
       "      <td>27.415630</td>\n",
       "      <td>1159.0</td>\n",
       "      <td>1705.638889</td>\n",
       "      <td>0.084921</td>\n",
       "    </tr>\n",
       "    <tr>\n",
       "      <th>acceptance_model_svr</th>\n",
       "      <td>31.654762</td>\n",
       "      <td>0.266094</td>\n",
       "      <td>28.426471</td>\n",
       "      <td>1133.0</td>\n",
       "      <td>1556.099206</td>\n",
       "      <td>0.067778</td>\n",
       "    </tr>\n",
       "    <tr>\n",
       "      <th>featureless</th>\n",
       "      <td>26.872222</td>\n",
       "      <td>0.218179</td>\n",
       "      <td>23.828632</td>\n",
       "      <td>963.0</td>\n",
       "      <td>1505.099206</td>\n",
       "      <td>0.067302</td>\n",
       "    </tr>\n",
       "    <tr>\n",
       "      <th>logistic_regression</th>\n",
       "      <td>25.769048</td>\n",
       "      <td>0.226499</td>\n",
       "      <td>16.077431</td>\n",
       "      <td>923.0</td>\n",
       "      <td>1784.940476</td>\n",
       "      <td>0.128730</td>\n",
       "    </tr>\n",
       "    <tr>\n",
       "      <th>svc</th>\n",
       "      <td>26.872222</td>\n",
       "      <td>0.218179</td>\n",
       "      <td>23.828632</td>\n",
       "      <td>963.0</td>\n",
       "      <td>1505.099206</td>\n",
       "      <td>0.067302</td>\n",
       "    </tr>\n",
       "  </tbody>\n",
       "</table>\n",
       "</div>"
      ],
      "text/plain": [
       "                       avg_loss  avg_loss_ratio  avg_win_loss  loss_sum  \\\n",
       "acceptance_model      32.386508        0.274978     27.415630    1159.0   \n",
       "acceptance_model_svr  31.654762        0.266094     28.426471    1133.0   \n",
       "featureless           26.872222        0.218179     23.828632     963.0   \n",
       "logistic_regression   25.769048        0.226499     16.077431     923.0   \n",
       "svc                   26.872222        0.218179     23.828632     963.0   \n",
       "\n",
       "                              mse  rejection_ratio  \n",
       "acceptance_model      1705.638889         0.084921  \n",
       "acceptance_model_svr  1556.099206         0.067778  \n",
       "featureless           1505.099206         0.067302  \n",
       "logistic_regression   1784.940476         0.128730  \n",
       "svc                   1505.099206         0.067302  "
      ]
     },
     "execution_count": 22,
     "metadata": {},
     "output_type": "execute_result"
    }
   ],
   "source": [
    "from sklearn.svm import SVR\n",
    "benchmark_models = {\n",
    "    'featureless': FeaturelessModel(),\n",
    "    'logistic_regression': LogisticRegression(penalty='l1', solver='liblinear', multi_class='auto'),\n",
    "    'svc': SVC(gamma='auto'),\n",
    "    'acceptance_model': AcceptanceModel(step=10, zero_one=True),\n",
    "    'acceptance_model_svr': AcceptanceModel(SVR(gamma='auto', kernel='poly', degree=1), step=10, zero_one=True),\n",
    "    \n",
    "    # Classification\n",
    "    #\"random_forest\": RandomForestClassifier(min_samples_leaf=5),#max_depth=3, random_state=0, n_estimators=10),\n",
    "}\n",
    "\n",
    "results = dict()\n",
    "\n",
    "results = process_benchmarks(benchmark_models, x, y.ravel(), augment_data=None, shuffle=True)\n",
    "results_mean = {key: item.mean() for key, item in results.items()}\n",
    "results_std = {key: item.std() for key, item in results.items()}\n",
    "pd.DataFrame(results_mean).T"
   ]
  },
  {
   "cell_type": "code",
   "execution_count": 23,
   "metadata": {},
   "outputs": [
    {
     "data": {
      "text/plain": [
       "<matplotlib.axes._subplots.AxesSubplot at 0x7f093a0fbcf8>"
      ]
     },
     "execution_count": 23,
     "metadata": {},
     "output_type": "execute_result"
    },
    {
     "data": {
      "image/png": "[encoded data removed]",
      "text/plain": [
       "<Figure size 1080x360 with 1 Axes>"
      ]
     },
     "metadata": {},
     "output_type": "display_data"
    }
   ],
   "source": [
    "df_results_mean = pd.DataFrame(results_mean)\n",
    "df_results_std = pd.DataFrame(results_std)\n",
    "df_results_mean.plot.bar(logy=True, figsize=(15, 5))"
   ]
  },
  {
   "cell_type": "code",
   "execution_count": null,
   "metadata": {},
   "outputs": [],
   "source": []
  }
 ],
 "metadata": {
  "kernelspec": {
   "display_name": "Python 3",
   "language": "python",
   "name": "python3"
  },
  "language_info": {
   "codemirror_mode": {
    "name": "ipython",
    "version": 3
   },
   "file_extension": ".py",
   "mimetype": "text/x-python",
   "name": "python",
   "nbconvert_exporter": "python",
   "pygments_lexer": "ipython3",
   "version": "3.6.7"
  }
 },
 "nbformat": 4,
 "nbformat_minor": 2
}
