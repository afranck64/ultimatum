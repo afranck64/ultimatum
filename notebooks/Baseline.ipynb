{
 "cells": [
  {
   "cell_type": "code",
   "execution_count": null,
   "metadata": {},
   "outputs": [],
   "source": []
  },
  {
   "cell_type": "markdown",
   "metadata": {},
   "source": [
    "## Data preparation and sanitization"
   ]
  },
  {
   "cell_type": "code",
   "execution_count": 1,
   "metadata": {},
   "outputs": [],
   "source": [
    "import os\n",
    "import sys\n",
    "module_path = os.path.abspath(os.path.join('..'))\n",
    "if module_path not in sys.path:\n",
    "    sys.path.append(module_path)\n",
    "\n",
    "import pandas as pd\n",
    "%matplotlib inline\n",
    "import matplotlib.pyplot as plt\n",
    "import numpy as np\n",
    "from IPython.display import display\n",
    "from sklearn.model_selection import train_test_split\n",
    "from sklearn.metrics import r2_score\n",
    "import seaborn as sb\n",
    "\n",
    "from core.utils.preprocessing import df_to_xy\n",
    "\n",
    "# Read and sanitize the data\n",
    "df = pd.read_excel(\"../data/t00/own_data.xls\")\n",
    "df = df.dropna()\n",
    "\n",
    "\n",
    "x, y = df_to_xy(df, fuse_risk=True, centered=False, min_target=5, max_target=190)"
   ]
  },
  {
   "cell_type": "code",
   "execution_count": null,
   "metadata": {},
   "outputs": [],
   "source": []
  },
  {
   "cell_type": "markdown",
   "metadata": {},
   "source": [
    "## Linear regression (continuous dataset)"
   ]
  },
  {
   "cell_type": "markdown",
   "metadata": {},
   "source": [
    "#### Benchmark"
   ]
  },
  {
   "cell_type": "code",
   "execution_count": 2,
   "metadata": {},
   "outputs": [
    {
     "name": "stderr",
     "output_type": "stream",
     "text": [
      "Using TensorFlow backend.\n"
     ]
    }
   ],
   "source": [
    "from core.utils.benchmark import process_benchmarks, process_benchmark_cv, process_model\n",
    "from core.models.deep import KerasModel, loss_tf, gain_tf\n",
    "from core.models import EMModel, RandomModel\n",
    "from core.models import ConservativeModel\n",
    "from sklearn.linear_model import LinearRegression, LogisticRegression\n",
    "from core.models import RandomModel\n",
    "from sklearn.neural_network import MLPClassifier"
   ]
  },
  {
   "cell_type": "markdown",
   "metadata": {},
   "source": [
    "**Keras Model**"
   ]
  },
  {
   "cell_type": "code",
   "execution_count": 3,
   "metadata": {
    "scrolled": true
   },
   "outputs": [],
   "source": [
    "from core.models.deep import KerasModel, loss_tf, gain_tf"
   ]
  },
  {
   "cell_type": "markdown",
   "metadata": {},
   "source": [
    "**Featureless model (fixed value)**"
   ]
  },
  {
   "cell_type": "code",
   "execution_count": 4,
   "metadata": {},
   "outputs": [],
   "source": [
    "from core.models import EMModel, RandomModel"
   ]
  },
  {
   "cell_type": "markdown",
   "metadata": {},
   "source": [
    "**Random Forest**"
   ]
  },
  {
   "cell_type": "code",
   "execution_count": 5,
   "metadata": {},
   "outputs": [],
   "source": [
    "from sklearn.neural_network import MLPClassifier"
   ]
  },
  {
   "cell_type": "markdown",
   "metadata": {},
   "source": [
    "**Acceptance model**"
   ]
  },
  {
   "cell_type": "markdown",
   "metadata": {},
   "source": [
    "**Baseline models**"
   ]
  },
  {
   "cell_type": "code",
   "execution_count": 6,
   "metadata": {},
   "outputs": [
    {
     "data": {
      "text/html": [
       "<div>\n",
       "<style scoped>\n",
       "    .dataframe tbody tr th:only-of-type {\n",
       "        vertical-align: middle;\n",
       "    }\n",
       "\n",
       "    .dataframe tbody tr th {\n",
       "        vertical-align: top;\n",
       "    }\n",
       "\n",
       "    .dataframe thead th {\n",
       "        text-align: right;\n",
       "    }\n",
       "</style>\n",
       "<table border=\"1\" class=\"dataframe\">\n",
       "  <thead>\n",
       "    <tr style=\"text-align: right;\">\n",
       "      <th></th>\n",
       "      <th>avg_loss</th>\n",
       "      <th>avg_loss_ratio</th>\n",
       "      <th>avg_win_loss</th>\n",
       "      <th>invariance</th>\n",
       "      <th>loss_sum</th>\n",
       "      <th>mse</th>\n",
       "      <th>rejection_ratio</th>\n",
       "    </tr>\n",
       "  </thead>\n",
       "  <tbody>\n",
       "    <tr>\n",
       "      <th>em</th>\n",
       "      <td>26.060606</td>\n",
       "      <td>0.244481</td>\n",
       "      <td>23.372085</td>\n",
       "      <td>1.000000</td>\n",
       "      <td>860.000000</td>\n",
       "      <td>1446.363636</td>\n",
       "      <td>0.103030</td>\n",
       "    </tr>\n",
       "    <tr>\n",
       "      <th>svc</th>\n",
       "      <td>39.030303</td>\n",
       "      <td>0.363043</td>\n",
       "      <td>21.122622</td>\n",
       "      <td>0.184174</td>\n",
       "      <td>1288.000000</td>\n",
       "      <td>3324.545455</td>\n",
       "      <td>0.254545</td>\n",
       "    </tr>\n",
       "    <tr>\n",
       "      <th>human</th>\n",
       "      <td>47.146556</td>\n",
       "      <td>0.442987</td>\n",
       "      <td>29.284008</td>\n",
       "      <td>1.000000</td>\n",
       "      <td>7779.181818</td>\n",
       "      <td>4043.756657</td>\n",
       "      <td>0.272617</td>\n",
       "    </tr>\n",
       "    <tr>\n",
       "      <th>svr</th>\n",
       "      <td>59.430619</td>\n",
       "      <td>0.588582</td>\n",
       "      <td>28.385363</td>\n",
       "      <td>0.309535</td>\n",
       "      <td>1961.210429</td>\n",
       "      <td>5109.762769</td>\n",
       "      <td>0.496970</td>\n",
       "    </tr>\n",
       "    <tr>\n",
       "      <th>random</th>\n",
       "      <td>66.075443</td>\n",
       "      <td>0.614319</td>\n",
       "      <td>45.397565</td>\n",
       "      <td>0.148581</td>\n",
       "      <td>2180.489614</td>\n",
       "      <td>5958.316752</td>\n",
       "      <td>0.424242</td>\n",
       "    </tr>\n",
       "    <tr>\n",
       "      <th>linear_regressor</th>\n",
       "      <td>65.194514</td>\n",
       "      <td>0.634418</td>\n",
       "      <td>24.064925</td>\n",
       "      <td>0.177789</td>\n",
       "      <td>2151.418976</td>\n",
       "      <td>6203.788141</td>\n",
       "      <td>0.563636</td>\n",
       "    </tr>\n",
       "    <tr>\n",
       "      <th>conservative</th>\n",
       "      <td>110.757576</td>\n",
       "      <td>0.939179</td>\n",
       "      <td>110.757576</td>\n",
       "      <td>1.000000</td>\n",
       "      <td>3655.000000</td>\n",
       "      <td>13453.181818</td>\n",
       "      <td>0.000000</td>\n",
       "    </tr>\n",
       "  </tbody>\n",
       "</table>\n",
       "</div>"
      ],
      "text/plain": [
       "                    avg_loss  avg_loss_ratio  avg_win_loss  invariance  \\\n",
       "em                 26.060606        0.244481     23.372085    1.000000   \n",
       "svc                39.030303        0.363043     21.122622    0.184174   \n",
       "human              47.146556        0.442987     29.284008    1.000000   \n",
       "svr                59.430619        0.588582     28.385363    0.309535   \n",
       "random             66.075443        0.614319     45.397565    0.148581   \n",
       "linear_regressor   65.194514        0.634418     24.064925    0.177789   \n",
       "conservative      110.757576        0.939179    110.757576    1.000000   \n",
       "\n",
       "                     loss_sum           mse  rejection_ratio  \n",
       "em                 860.000000   1446.363636         0.103030  \n",
       "svc               1288.000000   3324.545455         0.254545  \n",
       "human             7779.181818   4043.756657         0.272617  \n",
       "svr               1961.210429   5109.762769         0.496970  \n",
       "random            2180.489614   5958.316752         0.424242  \n",
       "linear_regressor  2151.418976   6203.788141         0.563636  \n",
       "conservative      3655.000000  13453.181818         0.000000  "
      ]
     },
     "execution_count": 6,
     "metadata": {},
     "output_type": "execute_result"
    }
   ],
   "source": [
    "from sklearn.svm import SVC, SVR\n",
    "from sklearn.svm import SVC, SVR\n",
    "from core.utils.benchmark import benchmark_functions\n",
    "from core.models.metrics import cross_compute\n",
    "\n",
    "benchmark_models = {\n",
    "    \"random\": RandomModel(),\n",
    "    \"conservative\": ConservativeModel(),\n",
    "    \"em\": EMModel(),\n",
    "    \"svc\": SVC(gamma='auto'),\n",
    "    \"svr\": SVR(gamma='auto'),\n",
    "    \"linear_regressor\": LinearRegression(copy_X=False),\n",
    "#     \"linear_regressor_mse\": keras_linear_regression(loss=\"mse\"),\n",
    "}\n",
    "results = process_benchmarks(benchmark_models, x, y.ravel(), augment_data=[None])\n",
    "\n",
    "results_mean = {key: item.mean() for key, item in results.items()}\n",
    "results_mean[\"human\"] = {f.__name__:cross_compute(df.min_offer, df['prop'], f) for f in benchmark_functions}\n",
    "results_std = {key: item.std() for key, item in results.items()}\n",
    "results_df = pd.DataFrame(results_mean).T\n",
    "results_df.sort_values(\"avg_loss_ratio\", inplace=True)\n",
    "results_df"
   ]
  },
  {
   "cell_type": "code",
   "execution_count": null,
   "metadata": {},
   "outputs": [],
   "source": []
  }
 ],
 "metadata": {
  "kernelspec": {
   "display_name": "Python 3",
   "language": "python",
   "name": "python3"
  },
  "language_info": {
   "codemirror_mode": {
    "name": "ipython",
    "version": 3
   },
   "file_extension": ".py",
   "mimetype": "text/x-python",
   "name": "python",
   "nbconvert_exporter": "python",
   "pygments_lexer": "ipython3",
   "version": "3.6.8"
  }
 },
 "nbformat": 4,
 "nbformat_minor": 2
}
