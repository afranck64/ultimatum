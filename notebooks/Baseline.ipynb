{
 "cells": [
  {
   "cell_type": "code",
   "execution_count": null,
   "metadata": {},
   "outputs": [],
   "source": []
  },
  {
   "cell_type": "markdown",
   "metadata": {},
   "source": [
    "## Data preparation and sanitization"
   ]
  },
  {
   "cell_type": "code",
   "execution_count": 1,
   "metadata": {},
   "outputs": [],
   "source": [
    "import os\n",
    "import sys\n",
    "module_path = os.path.abspath(os.path.join('..'))\n",
    "if module_path not in sys.path:\n",
    "    sys.path.append(module_path)\n",
    "\n",
    "import pandas as pd\n",
    "%matplotlib inline\n",
    "import matplotlib.pyplot as plt\n",
    "import numpy as np\n",
    "from IPython.display import display\n",
    "from sklearn.model_selection import train_test_split\n",
    "from sklearn.metrics import r2_score\n",
    "import seaborn as sb\n",
    "\n",
    "from core.utils.preprocessing import df_to_xy\n",
    "\n",
    "\n",
    "# Read and sanitize the data\n",
    "df = pd.read_csv(\"../data/t00/data_t00.csv\")\n",
    "df_full = df.copy()\n",
    "drop_cols = [\"worker_id\", \"resp_worker_id\", \"prop_worker_id\", \"updated\", \"status\", \"job_id\", \"status\", \"timestamp\", \"rowid\", \"offer_dss\", \"offer\", \"offer_final\"]\n",
    "df = df[[col for col in df.columns if col not in drop_cols]]\n",
    "df = df.dropna()\n",
    "\n",
    "\n",
    "x, y = df_to_xy(df, fuse_risk=False, centered=True, min_target=0, max_target=100, normalize=True)"
   ]
  },
  {
   "cell_type": "code",
   "execution_count": null,
   "metadata": {},
   "outputs": [],
   "source": []
  },
  {
   "cell_type": "markdown",
   "metadata": {},
   "source": [
    "## Linear regression (continuous dataset)"
   ]
  },
  {
   "cell_type": "markdown",
   "metadata": {},
   "source": [
    "#### Benchmark"
   ]
  },
  {
   "cell_type": "code",
   "execution_count": 2,
   "metadata": {},
   "outputs": [
    {
     "name": "stderr",
     "output_type": "stream",
     "text": [
      "Using TensorFlow backend.\n"
     ]
    }
   ],
   "source": [
    "from core.utils.benchmark import process_benchmarks, process_benchmark_cv, process_model\n",
    "from core.models.deep import KerasModel, loss_tf, gain_tf\n",
    "from core.models import EMModel, RandomModel\n",
    "from core.models import ConservativeModel\n",
    "from sklearn.linear_model import LinearRegression, LogisticRegression\n",
    "from core.models import RandomModel\n",
    "from sklearn.neural_network import MLPClassifier"
   ]
  },
  {
   "cell_type": "markdown",
   "metadata": {},
   "source": [
    "**Keras Model**"
   ]
  },
  {
   "cell_type": "code",
   "execution_count": 3,
   "metadata": {
    "scrolled": true
   },
   "outputs": [],
   "source": [
    "from core.models.deep import KerasModel, loss_tf, gain_tf"
   ]
  },
  {
   "cell_type": "markdown",
   "metadata": {},
   "source": [
    "**Featureless model (fixed value)**"
   ]
  },
  {
   "cell_type": "code",
   "execution_count": 4,
   "metadata": {},
   "outputs": [],
   "source": [
    "from core.models import EMModel, RandomModel"
   ]
  },
  {
   "cell_type": "markdown",
   "metadata": {},
   "source": [
    "**Random Forest**"
   ]
  },
  {
   "cell_type": "code",
   "execution_count": 5,
   "metadata": {},
   "outputs": [],
   "source": [
    "from sklearn.neural_network import MLPClassifier"
   ]
  },
  {
   "cell_type": "markdown",
   "metadata": {},
   "source": [
    "**Acceptance model**"
   ]
  },
  {
   "cell_type": "markdown",
   "metadata": {},
   "source": [
    "**Baseline models**"
   ]
  },
  {
   "cell_type": "code",
   "execution_count": 6,
   "metadata": {},
   "outputs": [
    {
     "data": {
      "text/html": [
       "<div>\n",
       "<style scoped>\n",
       "    .dataframe tbody tr th:only-of-type {\n",
       "        vertical-align: middle;\n",
       "    }\n",
       "\n",
       "    .dataframe tbody tr th {\n",
       "        vertical-align: top;\n",
       "    }\n",
       "\n",
       "    .dataframe thead th {\n",
       "        text-align: right;\n",
       "    }\n",
       "</style>\n",
       "<table border=\"1\" class=\"dataframe\">\n",
       "  <thead>\n",
       "    <tr style=\"text-align: right;\">\n",
       "      <th></th>\n",
       "      <th>avg_loss</th>\n",
       "      <th>avg_loss_ratio</th>\n",
       "      <th>avg_win_loss</th>\n",
       "      <th>invariance</th>\n",
       "      <th>loss_sum</th>\n",
       "      <th>mse</th>\n",
       "      <th>rejection_ratio</th>\n",
       "    </tr>\n",
       "  </thead>\n",
       "  <tbody>\n",
       "    <tr>\n",
       "      <th>em</th>\n",
       "      <td>11.771429</td>\n",
       "      <td>0.187675</td>\n",
       "      <td>11.537176</td>\n",
       "      <td>1.000000</td>\n",
       "      <td>242.000000</td>\n",
       "      <td>386.095238</td>\n",
       "      <td>0.049048</td>\n",
       "    </tr>\n",
       "    <tr>\n",
       "      <th>svc</th>\n",
       "      <td>11.771429</td>\n",
       "      <td>0.187675</td>\n",
       "      <td>11.537176</td>\n",
       "      <td>1.000000</td>\n",
       "      <td>242.000000</td>\n",
       "      <td>386.095238</td>\n",
       "      <td>0.049048</td>\n",
       "    </tr>\n",
       "    <tr>\n",
       "      <th>human</th>\n",
       "      <td>21.499199</td>\n",
       "      <td>0.374794</td>\n",
       "      <td>12.256950</td>\n",
       "      <td>1.000000</td>\n",
       "      <td>2214.417476</td>\n",
       "      <td>976.823923</td>\n",
       "      <td>0.251673</td>\n",
       "    </tr>\n",
       "    <tr>\n",
       "      <th>svr</th>\n",
       "      <td>33.041517</td>\n",
       "      <td>0.622520</td>\n",
       "      <td>18.141918</td>\n",
       "      <td>0.619598</td>\n",
       "      <td>681.046617</td>\n",
       "      <td>1487.418042</td>\n",
       "      <td>0.514286</td>\n",
       "    </tr>\n",
       "    <tr>\n",
       "      <th>random</th>\n",
       "      <td>37.486318</td>\n",
       "      <td>0.670120</td>\n",
       "      <td>24.814805</td>\n",
       "      <td>0.188119</td>\n",
       "      <td>772.622063</td>\n",
       "      <td>1862.318023</td>\n",
       "      <td>0.495714</td>\n",
       "    </tr>\n",
       "    <tr>\n",
       "      <th>linear_regressor</th>\n",
       "      <td>42.210793</td>\n",
       "      <td>0.738103</td>\n",
       "      <td>34.143073</td>\n",
       "      <td>0.152101</td>\n",
       "      <td>869.776648</td>\n",
       "      <td>2237.834788</td>\n",
       "      <td>0.457143</td>\n",
       "    </tr>\n",
       "    <tr>\n",
       "      <th>conservative</th>\n",
       "      <td>54.466667</td>\n",
       "      <td>0.916466</td>\n",
       "      <td>56.149749</td>\n",
       "      <td>1.000000</td>\n",
       "      <td>1122.000000</td>\n",
       "      <td>3288.595238</td>\n",
       "      <td>0.029524</td>\n",
       "    </tr>\n",
       "  </tbody>\n",
       "</table>\n",
       "</div>"
      ],
      "text/plain": [
       "                   avg_loss  avg_loss_ratio  avg_win_loss  invariance  \\\n",
       "em                11.771429        0.187675     11.537176    1.000000   \n",
       "svc               11.771429        0.187675     11.537176    1.000000   \n",
       "human             21.499199        0.374794     12.256950    1.000000   \n",
       "svr               33.041517        0.622520     18.141918    0.619598   \n",
       "random            37.486318        0.670120     24.814805    0.188119   \n",
       "linear_regressor  42.210793        0.738103     34.143073    0.152101   \n",
       "conservative      54.466667        0.916466     56.149749    1.000000   \n",
       "\n",
       "                     loss_sum          mse  rejection_ratio  \n",
       "em                 242.000000   386.095238         0.049048  \n",
       "svc                242.000000   386.095238         0.049048  \n",
       "human             2214.417476   976.823923         0.251673  \n",
       "svr                681.046617  1487.418042         0.514286  \n",
       "random             772.622063  1862.318023         0.495714  \n",
       "linear_regressor   869.776648  2237.834788         0.457143  \n",
       "conservative      1122.000000  3288.595238         0.029524  "
      ]
     },
     "execution_count": 6,
     "metadata": {},
     "output_type": "execute_result"
    }
   ],
   "source": [
    "from sklearn.svm import SVC, SVR\n",
    "from sklearn.svm import SVC, SVR\n",
    "from core.utils.benchmark import benchmark_functions\n",
    "from core.models.metrics import cross_compute\n",
    "\n",
    "benchmark_models = {\n",
    "    \"random\": RandomModel(),\n",
    "    \"conservative\": ConservativeModel(),\n",
    "    \"em\": EMModel(),\n",
    "    \"svc\": SVC(gamma='auto'),\n",
    "    \"svr\": SVR(gamma='auto'),\n",
    "    \"linear_regressor\": LinearRegression(copy_X=False),\n",
    "#     \"linear_regressor_mse\": keras_linear_regression(loss=\"mse\"),\n",
    "}\n",
    "results = process_benchmarks(benchmark_models, x, y.ravel(), augment_data=[None])\n",
    "\n",
    "results_mean = {key: item.mean() for key, item in results.items()}\n",
    "results_mean[\"human\"] = {f.__name__:cross_compute(df.min_offer, df_full['offer_final'], f) for f in benchmark_functions}\n",
    "results_std = {key: item.std() for key, item in results.items()}\n",
    "results_df = pd.DataFrame(results_mean).T\n",
    "results_df.sort_values(\"avg_loss_ratio\", inplace=True)\n",
    "results_df"
   ]
  },
  {
   "cell_type": "code",
   "execution_count": null,
   "metadata": {},
   "outputs": [],
   "source": []
  },
  {
   "cell_type": "code",
   "execution_count": 7,
   "metadata": {},
   "outputs": [
    {
     "data": {
      "text/plain": [
       "50     44\n",
       "40     19\n",
       "5       9\n",
       "45      8\n",
       "35      5\n",
       "100     3\n",
       "30      3\n",
       "20      3\n",
       "25      2\n",
       "10      2\n",
       "0       2\n",
       "60      1\n",
       "55      1\n",
       "15      1\n",
       "Name: min_offer, dtype: int64"
      ]
     },
     "execution_count": 7,
     "metadata": {},
     "output_type": "execute_result"
    }
   ],
   "source": [
    "df_full[\"min_offer\"].value_counts()"
   ]
  },
  {
   "cell_type": "code",
   "execution_count": 8,
   "metadata": {},
   "outputs": [
    {
     "data": {
      "text/plain": [
       "50     67\n",
       "40      6\n",
       "25      5\n",
       "10      5\n",
       "55      3\n",
       "45      3\n",
       "60      2\n",
       "35      2\n",
       "30      2\n",
       "20      2\n",
       "15      2\n",
       "0       2\n",
       "100     1\n",
       "5       1\n",
       "Name: offer_final, dtype: int64"
      ]
     },
     "execution_count": 8,
     "metadata": {},
     "output_type": "execute_result"
    }
   ],
   "source": [
    "df_full[\"offer_final\"].value_counts()"
   ]
  }
 ],
 "metadata": {
  "kernelspec": {
   "display_name": "Python 3",
   "language": "python",
   "name": "python3"
  },
  "language_info": {
   "codemirror_mode": {
    "name": "ipython",
    "version": 3
   },
   "file_extension": ".py",
   "mimetype": "text/x-python",
   "name": "python",
   "nbconvert_exporter": "python",
   "pygments_lexer": "ipython3",
   "version": "3.6.8"
  }
 },
 "nbformat": 4,
 "nbformat_minor": 2
}
