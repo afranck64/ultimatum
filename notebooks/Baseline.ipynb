{
 "cells": [
  {
   "cell_type": "code",
   "execution_count": null,
   "metadata": {},
   "outputs": [],
   "source": []
  },
  {
   "cell_type": "markdown",
   "metadata": {},
   "source": [
    "## Data preparation and sanitization"
   ]
  },
  {
   "cell_type": "code",
   "execution_count": 1,
   "metadata": {},
   "outputs": [],
   "source": [
    "import os\n",
    "import sys\n",
    "module_path = os.path.abspath(os.path.join('..'))\n",
    "if module_path not in sys.path:\n",
    "    sys.path.append(module_path)\n",
    "\n",
    "import pandas as pd\n",
    "%matplotlib inline\n",
    "import matplotlib.pyplot as plt\n",
    "import numpy as np\n",
    "from IPython.display import display\n",
    "from sklearn.model_selection import train_test_split\n",
    "from sklearn.metrics import r2_score\n",
    "import seaborn as sb\n",
    "\n",
    "from core.utils.preprocessing import df_to_xy\n",
    "\n",
    "# Read and sanitize the data\n",
    "df = pd.read_excel(\"../data/t00/data.xls\")\n",
    "df = df.dropna()\n",
    "\n",
    "\n",
    "x, y = df_to_xy(df, fuse_risk=True, centered=False, min_target=5, max_target=190)"
   ]
  },
  {
   "cell_type": "code",
   "execution_count": null,
   "metadata": {},
   "outputs": [],
   "source": []
  },
  {
   "cell_type": "markdown",
   "metadata": {},
   "source": [
    "## Linear regression (continuous dataset)"
   ]
  },
  {
   "cell_type": "markdown",
   "metadata": {},
   "source": [
    "#### Benchmark"
   ]
  },
  {
   "cell_type": "code",
   "execution_count": 2,
   "metadata": {},
   "outputs": [
    {
     "name": "stderr",
     "output_type": "stream",
     "text": [
      "Using TensorFlow backend.\n"
     ]
    }
   ],
   "source": [
    "from core.utils.benchmark import process_benchmarks, process_benchmark_cv, process_model\n",
    "from core.models.deep import KerasModel, loss_tf, gain_tf\n",
    "from core.models import EMModel, RandomModel\n",
    "from core.models import ConservativeModel\n",
    "from sklearn.linear_model import LinearRegression, LogisticRegression\n",
    "from core.models import RandomModel\n",
    "from sklearn.neural_network import MLPClassifier"
   ]
  },
  {
   "cell_type": "markdown",
   "metadata": {},
   "source": [
    "**Keras Model**"
   ]
  },
  {
   "cell_type": "code",
   "execution_count": 3,
   "metadata": {
    "scrolled": true
   },
   "outputs": [],
   "source": [
    "from core.models.deep import KerasModel, loss_tf, gain_tf"
   ]
  },
  {
   "cell_type": "markdown",
   "metadata": {},
   "source": [
    "**Featureless model (fixed value)**"
   ]
  },
  {
   "cell_type": "code",
   "execution_count": 4,
   "metadata": {},
   "outputs": [],
   "source": [
    "from core.models import EMModel, RandomModel"
   ]
  },
  {
   "cell_type": "markdown",
   "metadata": {},
   "source": [
    "**Random Forest**"
   ]
  },
  {
   "cell_type": "code",
   "execution_count": 5,
   "metadata": {},
   "outputs": [],
   "source": [
    "from sklearn.neural_network import MLPClassifier"
   ]
  },
  {
   "cell_type": "markdown",
   "metadata": {},
   "source": [
    "**Acceptance model**"
   ]
  },
  {
   "cell_type": "markdown",
   "metadata": {},
   "source": [
    "**Baseline models**"
   ]
  },
  {
   "cell_type": "code",
   "execution_count": 6,
   "metadata": {},
   "outputs": [
    {
     "data": {
      "text/html": [
       "<div>\n",
       "<style scoped>\n",
       "    .dataframe tbody tr th:only-of-type {\n",
       "        vertical-align: middle;\n",
       "    }\n",
       "\n",
       "    .dataframe tbody tr th {\n",
       "        vertical-align: top;\n",
       "    }\n",
       "\n",
       "    .dataframe thead th {\n",
       "        text-align: right;\n",
       "    }\n",
       "</style>\n",
       "<table border=\"1\" class=\"dataframe\">\n",
       "  <thead>\n",
       "    <tr style=\"text-align: right;\">\n",
       "      <th></th>\n",
       "      <th>avg_loss</th>\n",
       "      <th>avg_loss_ratio</th>\n",
       "      <th>avg_win_loss</th>\n",
       "      <th>invariance</th>\n",
       "      <th>loss_sum</th>\n",
       "      <th>mse</th>\n",
       "      <th>rejection_ratio</th>\n",
       "    </tr>\n",
       "  </thead>\n",
       "  <tbody>\n",
       "    <tr>\n",
       "      <th>em</th>\n",
       "      <td>26.897619</td>\n",
       "      <td>0.218055</td>\n",
       "      <td>23.998552</td>\n",
       "      <td>1.000000</td>\n",
       "      <td>963.000000</td>\n",
       "      <td>1505.321429</td>\n",
       "      <td>0.066825</td>\n",
       "    </tr>\n",
       "    <tr>\n",
       "      <th>human</th>\n",
       "      <td>30.754190</td>\n",
       "      <td>0.261509</td>\n",
       "      <td>18.603896</td>\n",
       "      <td>0.158561</td>\n",
       "      <td>5505.000000</td>\n",
       "      <td>2594.832402</td>\n",
       "      <td>0.139665</td>\n",
       "    </tr>\n",
       "    <tr>\n",
       "      <th>svc</th>\n",
       "      <td>31.802381</td>\n",
       "      <td>0.278457</td>\n",
       "      <td>18.163757</td>\n",
       "      <td>0.204394</td>\n",
       "      <td>1141.000000</td>\n",
       "      <td>2413.464286</td>\n",
       "      <td>0.172381</td>\n",
       "    </tr>\n",
       "    <tr>\n",
       "      <th>svr</th>\n",
       "      <td>60.675561</td>\n",
       "      <td>0.573985</td>\n",
       "      <td>24.079861</td>\n",
       "      <td>0.292413</td>\n",
       "      <td>2172.908760</td>\n",
       "      <td>5403.002656</td>\n",
       "      <td>0.496825</td>\n",
       "    </tr>\n",
       "    <tr>\n",
       "      <th>linear_regressor</th>\n",
       "      <td>63.598092</td>\n",
       "      <td>0.582759</td>\n",
       "      <td>15.189009</td>\n",
       "      <td>0.176444</td>\n",
       "      <td>2278.057009</td>\n",
       "      <td>6512.577005</td>\n",
       "      <td>0.535873</td>\n",
       "    </tr>\n",
       "    <tr>\n",
       "      <th>random</th>\n",
       "      <td>70.892513</td>\n",
       "      <td>0.633293</td>\n",
       "      <td>33.429470</td>\n",
       "      <td>0.162209</td>\n",
       "      <td>2537.528721</td>\n",
       "      <td>6860.186820</td>\n",
       "      <td>0.519206</td>\n",
       "    </tr>\n",
       "    <tr>\n",
       "      <th>conservative</th>\n",
       "      <td>115.215079</td>\n",
       "      <td>0.953658</td>\n",
       "      <td>115.215079</td>\n",
       "      <td>1.000000</td>\n",
       "      <td>4124.000000</td>\n",
       "      <td>14136.424603</td>\n",
       "      <td>0.000000</td>\n",
       "    </tr>\n",
       "  </tbody>\n",
       "</table>\n",
       "</div>"
      ],
      "text/plain": [
       "                    avg_loss  avg_loss_ratio  avg_win_loss  invariance  \\\n",
       "em                 26.897619        0.218055     23.998552    1.000000   \n",
       "human              30.754190        0.261509     18.603896    0.158561   \n",
       "svc                31.802381        0.278457     18.163757    0.204394   \n",
       "svr                60.675561        0.573985     24.079861    0.292413   \n",
       "linear_regressor   63.598092        0.582759     15.189009    0.176444   \n",
       "random             70.892513        0.633293     33.429470    0.162209   \n",
       "conservative      115.215079        0.953658    115.215079    1.000000   \n",
       "\n",
       "                     loss_sum           mse  rejection_ratio  \n",
       "em                 963.000000   1505.321429         0.066825  \n",
       "human             5505.000000   2594.832402         0.139665  \n",
       "svc               1141.000000   2413.464286         0.172381  \n",
       "svr               2172.908760   5403.002656         0.496825  \n",
       "linear_regressor  2278.057009   6512.577005         0.535873  \n",
       "random            2537.528721   6860.186820         0.519206  \n",
       "conservative      4124.000000  14136.424603         0.000000  "
      ]
     },
     "execution_count": 6,
     "metadata": {},
     "output_type": "execute_result"
    }
   ],
   "source": [
    "from sklearn.svm import SVC, SVR\n",
    "from sklearn.svm import SVC, SVR\n",
    "from core.utils.benchmark import benchmark_functions\n",
    "from core.models.metrics import cross_compute\n",
    "\n",
    "benchmark_models = {\n",
    "    \"random\": RandomModel(),\n",
    "    \"conservative\": ConservativeModel(),\n",
    "    \"em\": EMModel(),\n",
    "    \"svc\": SVC(gamma='auto'),\n",
    "    \"svr\": SVR(gamma='auto'),\n",
    "    \"linear_regressor\": LinearRegression(copy_X=False),\n",
    "#     \"linear_regressor_mse\": keras_linear_regression(loss=\"mse\"),\n",
    "}\n",
    "results = process_benchmarks(benchmark_models, x, y.ravel(), augment_data=[None])\n",
    "\n",
    "results_mean = {key: item.mean() for key, item in results.items()}\n",
    "results_mean[\"human\"] = {f.__name__:cross_compute(df.min_offer, df['prop'], f) for f in benchmark_functions}\n",
    "results_std = {key: item.std() for key, item in results.items()}\n",
    "results_df = pd.DataFrame(results_mean).T\n",
    "results_df.sort_values(\"avg_loss_ratio\", inplace=True)\n",
    "results_df"
   ]
  }
 ],
 "metadata": {
  "kernelspec": {
   "display_name": "Python 3",
   "language": "python",
   "name": "python3"
  },
  "language_info": {
   "codemirror_mode": {
    "name": "ipython",
    "version": 3
   },
   "file_extension": ".py",
   "mimetype": "text/x-python",
   "name": "python",
   "nbconvert_exporter": "python",
   "pygments_lexer": "ipython3",
   "version": "3.6.8"
  }
 },
 "nbformat": 4,
 "nbformat_minor": 2
}
