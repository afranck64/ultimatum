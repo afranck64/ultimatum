{
 "cells": [
  {
   "cell_type": "markdown",
   "metadata": {},
   "source": [
    "## Treatment T12"
   ]
  },
  {
   "cell_type": "code",
   "execution_count": 1,
   "metadata": {},
   "outputs": [
    {
     "name": "stderr",
     "output_type": "stream",
     "text": [
      "/home/franck/anaconda3/envs/thesis/lib/python3.6/site-packages/sklearn/externals/six.py:31: DeprecationWarning: The module is deprecated in version 0.21 and will be removed in version 0.23 since we've dropped support for Python 2.7. Please rely on the official version of six (https://pypi.org/project/six/).\n",
      "  \"(https://pypi.org/project/six/).\", DeprecationWarning)\n"
     ]
    }
   ],
   "source": [
    "import os\n",
    "import sys\n",
    "module_path = os.path.abspath(os.path.join('..'))\n",
    "if module_path not in sys.path:\n",
    "    sys.path.append(module_path)\n",
    "\n",
    "import pandas as pd\n",
    "%matplotlib inline\n",
    "import matplotlib.pyplot as plt\n",
    "import numpy as np\n",
    "from IPython.display import display\n",
    "from sklearn.model_selection import train_test_split\n",
    "from sklearn.metrics import r2_score\n",
    "import seaborn as sns\n",
    "import imblearn\n",
    "\n",
    "\n",
    "TREATMENT = \"t12a\"\n",
    "\n",
    "export_folder = f\"../data/output/diagrams/{TREATMENT}\"\n",
    "os.makedirs(export_folder, exist_ok=True)\n",
    "\n",
    "# Read and sanitize the data\n",
    "df = pd.read_csv(f\"../data/{TREATMENT}/export/result__{TREATMENT}_prop.csv\")\n",
    "df_full = df.copy()\n",
    "# drop_cols = [\"worker_id\", \"resp_worker_id\", \"prop_worker_id\", \"updated\", \"status\", \"job_id\", \"status\", \"timestamp\", \"rowid\", \"offer_dss\", \"offer\", \"offer_final\", \"completion_code\"]\n",
    "drop_cols = [\"worker_id\", \"resp_worker_id\", \"prop_worker_id\", \"updated\", \"status\", \"job_id\", \"status\", \"timestamp\", \"rowid\", \"offer_dss\", \"offer\", \"offer_final\", \"completion_code\", \"prop_time_spent\"]\n",
    "df = df[[col for col in df.columns if col not in drop_cols]]\n",
    "df = df.dropna()\n",
    "\n",
    "cols = [col for col in df.columns if col != \"min_offer\"] + [\"min_offer\"]\n"
   ]
  },
  {
   "cell_type": "code",
   "execution_count": 2,
   "metadata": {},
   "outputs": [
    {
     "data": {
      "text/html": [
       "<div>\n",
       "<style scoped>\n",
       "    .dataframe tbody tr th:only-of-type {\n",
       "        vertical-align: middle;\n",
       "    }\n",
       "\n",
       "    .dataframe tbody tr th {\n",
       "        vertical-align: top;\n",
       "    }\n",
       "\n",
       "    .dataframe thead th {\n",
       "        text-align: right;\n",
       "    }\n",
       "</style>\n",
       "<table border=\"1\" class=\"dataframe\">\n",
       "  <thead>\n",
       "    <tr style=\"text-align: right;\">\n",
       "      <th></th>\n",
       "      <th>offer_final</th>\n",
       "      <th>min_offer</th>\n",
       "      <th>min_offer_final</th>\n",
       "    </tr>\n",
       "  </thead>\n",
       "  <tbody>\n",
       "    <tr>\n",
       "      <th>count</th>\n",
       "      <td>105.000000</td>\n",
       "      <td>105.000000</td>\n",
       "      <td>105.000000</td>\n",
       "    </tr>\n",
       "    <tr>\n",
       "      <th>mean</th>\n",
       "      <td>45.666667</td>\n",
       "      <td>41.380952</td>\n",
       "      <td>43.809524</td>\n",
       "    </tr>\n",
       "    <tr>\n",
       "      <th>std</th>\n",
       "      <td>14.495800</td>\n",
       "      <td>20.887695</td>\n",
       "      <td>21.128315</td>\n",
       "    </tr>\n",
       "    <tr>\n",
       "      <th>min</th>\n",
       "      <td>0.000000</td>\n",
       "      <td>0.000000</td>\n",
       "      <td>0.000000</td>\n",
       "    </tr>\n",
       "    <tr>\n",
       "      <th>25%</th>\n",
       "      <td>50.000000</td>\n",
       "      <td>30.000000</td>\n",
       "      <td>30.000000</td>\n",
       "    </tr>\n",
       "    <tr>\n",
       "      <th>50%</th>\n",
       "      <td>50.000000</td>\n",
       "      <td>40.000000</td>\n",
       "      <td>40.000000</td>\n",
       "    </tr>\n",
       "    <tr>\n",
       "      <th>75%</th>\n",
       "      <td>50.000000</td>\n",
       "      <td>50.000000</td>\n",
       "      <td>50.000000</td>\n",
       "    </tr>\n",
       "    <tr>\n",
       "      <th>max</th>\n",
       "      <td>90.000000</td>\n",
       "      <td>100.000000</td>\n",
       "      <td>100.000000</td>\n",
       "    </tr>\n",
       "  </tbody>\n",
       "</table>\n",
       "</div>"
      ],
      "text/plain": [
       "       offer_final   min_offer  min_offer_final\n",
       "count   105.000000  105.000000       105.000000\n",
       "mean     45.666667   41.380952        43.809524\n",
       "std      14.495800   20.887695        21.128315\n",
       "min       0.000000    0.000000         0.000000\n",
       "25%      50.000000   30.000000        30.000000\n",
       "50%      50.000000   40.000000        40.000000\n",
       "75%      50.000000   50.000000        50.000000\n",
       "max      90.000000  100.000000       100.000000"
      ]
     },
     "execution_count": 2,
     "metadata": {},
     "output_type": "execute_result"
    }
   ],
   "source": [
    "df_full[[\"offer_final\", \"min_offer\", \"min_offer_final\"]].describe()"
   ]
  },
  {
   "cell_type": "markdown",
   "metadata": {},
   "source": [
    "**Correlation to the target value**"
   ]
  },
  {
   "cell_type": "markdown",
   "metadata": {},
   "source": [
    "**Responder's min_offer / Proposer's over and final_offer distribution**"
   ]
  },
  {
   "cell_type": "code",
   "execution_count": 9,
   "metadata": {
    "scrolled": true
   },
   "outputs": [
    {
     "data": {
      "image/png": "[encoded data removed]",
      "text/plain": [
       "<Figure size 576x288 with 2 Axes>"
      ]
     },
     "metadata": {
      "needs_background": "light"
     },
     "output_type": "display_data"
    }
   ],
   "source": [
    "\n",
    "bins = list(range(0, 105, 5))\n",
    "f, axes = plt.subplots(1, 2, figsize=(8,4))\n",
    "ax = sns.distplot(df[\"min_offer\"], hist=True, kde=False, axlabel=\"Responder minimum offer\", bins=bins, label=\"Responder\", ax=axes[0])\n",
    "ax = sns.distplot(df[\"min_offer_final\"], hist=True, kde=False, axlabel=\"minimum offer\", bins=bins, label=\"Responder + DSS info\", ax=axes[0])\n",
    "_ = ax.set_ylabel(\"Frequency\")\n",
    "ax.legend(loc='best')\n",
    "\n",
    "ax = sns.distplot(df_full[\"offer_final\"], hist=True, kde=False, axlabel=\"offer\", bins=bins, label=\"Proposer + DSS\", ax=axes[1])\n",
    "_ = ax.set_ylabel(\"Frequency\")\n",
    "ax.legend(loc='center right')\n",
    "plt.tight_layout()\n",
    "\n",
    "ax.figure.savefig(os.path.join(export_folder, \"min_offer_offer.pdf\"))"
   ]
  },
  {
   "cell_type": "code",
   "execution_count": 4,
   "metadata": {},
   "outputs": [
    {
     "data": {
      "image/png": "[encoded data removed]",
      "text/plain": [
       "<Figure size 576x288 with 1 Axes>"
      ]
     },
     "metadata": {
      "needs_background": "light"
     },
     "output_type": "display_data"
    }
   ],
   "source": [
    "bins = list(range(-100, 105, 5))\n",
    "\n",
    "plt.figure(figsize=(8,4))\n",
    "offer_min_offer_diff = df_full[\"offer_final\"] - df_full[\"min_offer\"]\n",
    "ax = sns.distplot(offer_min_offer_diff, hist=True, kde=False, axlabel=\"offer - minimum offer\", bins=bins, label=\"Responder\")\n",
    "_ = ax.set_ylabel(\"Frequency\")\n",
    "\n",
    "\n",
    "offer_min_offer_diff = df_full[\"offer_final\"] - df_full[\"min_offer_final\"]\n",
    "ax = sns.distplot(offer_min_offer_diff, hist=True, kde=False, axlabel=\"offer - minimum offer\", bins=bins, label=\"Responder + DSS info\", ax=ax)\n",
    "plt.legend()\n",
    "plt.tight_layout()\n",
    "ax.figure.savefig(os.path.join(export_folder, \"offer-min_offer.pdf\"))"
   ]
  },
  {
   "cell_type": "code",
   "execution_count": 5,
   "metadata": {},
   "outputs": [],
   "source": [
    "from core.models.metrics import cross_compute, avg_gain_ratio, gain_mean, rejection_ratio, loss_sum, MAX_GAIN\n",
    "\n",
    "def get_infos(min_offer, offer, metrics=None, do_cross_compute=False):\n",
    "    if metrics is None:\n",
    "        metrics = [avg_gain_ratio, gain_mean, rejection_ratio, loss_sum]\n",
    "    #df = pd.DataFrame()\n",
    "    infos = dict()\n",
    "    for idx, metric in enumerate(metrics):\n",
    "        if do_cross_compute:\n",
    "            infos[metric.__name__] = cross_compute(min_offer, offer, metric)\n",
    "        else:\n",
    "            infos[metric.__name__] = metric(min_offer, offer)\n",
    "\n",
    "    return infos"
   ]
  },
  {
   "cell_type": "markdown",
   "metadata": {},
   "source": [
    "**Proposer's performance**"
   ]
  },
  {
   "cell_type": "code",
   "execution_count": 6,
   "metadata": {
    "scrolled": true
   },
   "outputs": [
    {
     "data": {
      "text/html": [
       "<div>\n",
       "<style scoped>\n",
       "    .dataframe tbody tr th:only-of-type {\n",
       "        vertical-align: middle;\n",
       "    }\n",
       "\n",
       "    .dataframe tbody tr th {\n",
       "        vertical-align: top;\n",
       "    }\n",
       "\n",
       "    .dataframe thead th {\n",
       "        text-align: right;\n",
       "    }\n",
       "</style>\n",
       "<table border=\"1\" class=\"dataframe\">\n",
       "  <thead>\n",
       "    <tr style=\"text-align: right;\">\n",
       "      <th></th>\n",
       "      <th>avg_gain_ratio</th>\n",
       "      <th>gain_mean</th>\n",
       "      <th>loss_sum</th>\n",
       "      <th>rejection_ratio</th>\n",
       "    </tr>\n",
       "  </thead>\n",
       "  <tbody>\n",
       "    <tr>\n",
       "      <th>Proposer</th>\n",
       "      <td>0.575657</td>\n",
       "      <td>35.714286</td>\n",
       "      <td>2405.0</td>\n",
       "      <td>0.314286</td>\n",
       "    </tr>\n",
       "    <tr>\n",
       "      <th>Proposer + DSS</th>\n",
       "      <td>0.635742</td>\n",
       "      <td>39.142857</td>\n",
       "      <td>2045.0</td>\n",
       "      <td>0.228571</td>\n",
       "    </tr>\n",
       "    <tr>\n",
       "      <th>AI-System</th>\n",
       "      <td>0.738887</td>\n",
       "      <td>44.761905</td>\n",
       "      <td>1455.0</td>\n",
       "      <td>0.104762</td>\n",
       "    </tr>\n",
       "  </tbody>\n",
       "</table>\n",
       "</div>"
      ],
      "text/plain": [
       "                avg_gain_ratio  gain_mean  loss_sum  rejection_ratio\n",
       "Proposer              0.575657  35.714286    2405.0         0.314286\n",
       "Proposer + DSS        0.635742  39.142857    2045.0         0.228571\n",
       "AI-System             0.738887  44.761905    1455.0         0.104762"
      ]
     },
     "execution_count": 6,
     "metadata": {},
     "output_type": "execute_result"
    }
   ],
   "source": [
    "df_infos = pd.DataFrame()\n",
    "#Human (fixed-matching) performance t00\n",
    "df_infos = df_infos.append(get_infos(df_full['min_offer'], df_full['offer']), ignore_index=True)\n",
    "#Human (cross-matched) average performance t00\n",
    "df_infos = df_infos.append(get_infos(df_full['min_offer'], df_full['offer'], do_cross_compute=True), ignore_index=True)\n",
    "#Human + DSS (fixed-matching) performance t00\n",
    "df_infos = df_infos.append(get_infos(df_full['min_offer'], df_full['offer_final']), ignore_index=True)\n",
    "#Human + DSS(cross-matched) average performance t00\n",
    "df_infos = df_infos.append(get_infos(df_full['min_offer'], df_full['offer_final'], do_cross_compute=True), ignore_index=True)\n",
    "#Top-model (fixed 50% prediction) average performance t00\n",
    "fixed_offer = MAX_GAIN // 2\n",
    "df_infos = df_infos.append(get_infos(df_full['min_offer'], [fixed_offer], do_cross_compute=True), ignore_index=True)\n",
    "\n",
    "df_infos.index = [\"Proposer\", \"Proposer (cross matched)\", \"Proposer + DSS\", \"Proposer + DSS (cross matched)\", \"AI-System\"]\n",
    "\n",
    "df_infos = df_infos.loc[[\"Proposer\", \"Proposer + DSS\", \"AI-System\"]]\n",
    "df_infos\n"
   ]
  },
  {
   "cell_type": "code",
   "execution_count": 31,
   "metadata": {},
   "outputs": [
    {
     "name": "stdout",
     "output_type": "stream",
     "text": [
      "rel_gain:  10.44 %\n",
      "dss_usage:  90.48 %\n",
      "rel_min_offer_variation:  35.57 %\n",
      "mard:  49.85 %\n"
     ]
    }
   ],
   "source": [
    "def woa(offer_final, offer, ai_offer):\n",
    "    res = (abs(offer_final - offer) ) / (abs(ai_offer - offer ))\n",
    "    res = res[np.invert(np.isnan(res) | np.isinf(res))]\n",
    "    res = np.clip(res, 0, 1)\n",
    "    return abs(res).mean()\n",
    "\n",
    "def get_resp_variation(df_full):\n",
    "    df_full = df_full.copy()[df_full[\"min_offer\"]>0]\n",
    "    return 100 * ((df_full[\"min_offer_dss\"] - df_full[\"min_offer\"]) / df_full[\"min_offer\"]).mean()\n",
    "\n",
    "def get_rel_gain(df_infos):\n",
    "    acc = df_infos['avg_gain_ratio']['Proposer']\n",
    "    acc_dss = df_infos['avg_gain_ratio']['Proposer + DSS']\n",
    "    return 100 * abs(acc - acc_dss) / acc\n",
    "\n",
    "def mrc(min_offer_final, min_offer):\n",
    "    res = abs(min_offer_final - min_offer) / min_offer\n",
    "    res = res[np.invert(np.isnan(res) | np.isinf(res))]\n",
    "    return 100 * abs(res).mean()\n",
    "    \n",
    "def get_dss_usage(df_full):\n",
    "    return 100 * (df_full.ai_nb_calls > 0).mean()\n",
    "\n",
    "print(\"rel_gain: \", round(get_rel_gain(df_infos), 2), \"%\")\n",
    "print(\"dss_usage: \", round(get_dss_usage(df_full), 2), \"%\")    \n",
    "print(\"rel_min_offer_variation: \", round(get_resp_variation(df_full), 2), \"%\")\n",
    "print(\"mard: \", round(mrc(df_full['min_offer_final'], df_full['min_offer']),2), \"%\")"
   ]
  },
  {
   "cell_type": "code",
   "execution_count": null,
   "metadata": {},
   "outputs": [],
   "source": []
  }
 ],
 "metadata": {
  "kernelspec": {
   "display_name": "Python 3",
   "language": "python",
   "name": "python3"
  },
  "language_info": {
   "codemirror_mode": {
    "name": "ipython",
    "version": 3
   },
   "file_extension": ".py",
   "mimetype": "text/x-python",
   "name": "python",
   "nbconvert_exporter": "python",
   "pygments_lexer": "ipython3",
   "version": "3.6.8"
  }
 },
 "nbformat": 4,
 "nbformat_minor": 2
}
