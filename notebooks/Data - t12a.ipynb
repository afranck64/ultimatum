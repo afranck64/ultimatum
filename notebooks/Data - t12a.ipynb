{
 "cells": [
  {
   "cell_type": "markdown",
   "metadata": {},
   "source": [
    "## Treatment T12"
   ]
  },
  {
   "cell_type": "code",
   "execution_count": 1,
   "metadata": {},
   "outputs": [
    {
     "name": "stderr",
     "output_type": "stream",
     "text": [
      "/home/franck/anaconda3/envs/thesis/lib/python3.6/site-packages/sklearn/externals/six.py:31: DeprecationWarning: The module is deprecated in version 0.21 and will be removed in version 0.23 since we've dropped support for Python 2.7. Please rely on the official version of six (https://pypi.org/project/six/).\n",
      "  \"(https://pypi.org/project/six/).\", DeprecationWarning)\n"
     ]
    }
   ],
   "source": [
    "import os\n",
    "import sys\n",
    "module_path = os.path.abspath(os.path.join('..'))\n",
    "if module_path not in sys.path:\n",
    "    sys.path.append(module_path)\n",
    "\n",
    "import pandas as pd\n",
    "%matplotlib inline\n",
    "import matplotlib.pyplot as plt\n",
    "import numpy as np\n",
    "from IPython.display import display\n",
    "from sklearn.model_selection import train_test_split\n",
    "from sklearn.metrics import r2_score\n",
    "import seaborn as sns\n",
    "import imblearn\n",
    "\n",
    "\n",
    "TREATMENT = \"t12a\"\n",
    "\n",
    "export_folder = f\"../data/output/diagrams/{TREATMENT}\"\n",
    "os.makedirs(export_folder, exist_ok=True)\n",
    "\n",
    "# Read and sanitize the data\n",
    "df = pd.read_csv(f\"../data/{TREATMENT}/export/result__{TREATMENT}_prop.csv\")\n",
    "df_full = df.copy()\n",
    "# drop_cols = [\"worker_id\", \"resp_worker_id\", \"prop_worker_id\", \"updated\", \"status\", \"job_id\", \"status\", \"timestamp\", \"rowid\", \"offer_dss\", \"offer\", \"offer_final\", \"completion_code\"]\n",
    "drop_cols = [\"worker_id\", \"resp_worker_id\", \"prop_worker_id\", \"updated\", \"status\", \"job_id\", \"status\", \"timestamp\", \"rowid\", \"offer_dss\", \"offer\", \"offer_final\", \"completion_code\", \"prop_time_spent\"]\n",
    "df = df[[col for col in df.columns if col not in drop_cols]]\n",
    "df = df.dropna()\n",
    "\n",
    "cols = [col for col in df.columns if col != \"min_offer\"] + [\"min_offer\"]\n"
   ]
  },
  {
   "cell_type": "code",
   "execution_count": 2,
   "metadata": {},
   "outputs": [
    {
     "data": {
      "text/html": [
       "<div>\n",
       "<style scoped>\n",
       "    .dataframe tbody tr th:only-of-type {\n",
       "        vertical-align: middle;\n",
       "    }\n",
       "\n",
       "    .dataframe tbody tr th {\n",
       "        vertical-align: top;\n",
       "    }\n",
       "\n",
       "    .dataframe thead th {\n",
       "        text-align: right;\n",
       "    }\n",
       "</style>\n",
       "<table border=\"1\" class=\"dataframe\">\n",
       "  <thead>\n",
       "    <tr style=\"text-align: right;\">\n",
       "      <th></th>\n",
       "      <th>offer_final</th>\n",
       "      <th>min_offer</th>\n",
       "      <th>min_offer_final</th>\n",
       "    </tr>\n",
       "  </thead>\n",
       "  <tbody>\n",
       "    <tr>\n",
       "      <th>count</th>\n",
       "      <td>105.000000</td>\n",
       "      <td>105.000000</td>\n",
       "      <td>105.000000</td>\n",
       "    </tr>\n",
       "    <tr>\n",
       "      <th>mean</th>\n",
       "      <td>45.666667</td>\n",
       "      <td>41.380952</td>\n",
       "      <td>43.809524</td>\n",
       "    </tr>\n",
       "    <tr>\n",
       "      <th>std</th>\n",
       "      <td>14.495800</td>\n",
       "      <td>20.887695</td>\n",
       "      <td>21.128315</td>\n",
       "    </tr>\n",
       "    <tr>\n",
       "      <th>min</th>\n",
       "      <td>0.000000</td>\n",
       "      <td>0.000000</td>\n",
       "      <td>0.000000</td>\n",
       "    </tr>\n",
       "    <tr>\n",
       "      <th>25%</th>\n",
       "      <td>50.000000</td>\n",
       "      <td>30.000000</td>\n",
       "      <td>30.000000</td>\n",
       "    </tr>\n",
       "    <tr>\n",
       "      <th>50%</th>\n",
       "      <td>50.000000</td>\n",
       "      <td>40.000000</td>\n",
       "      <td>40.000000</td>\n",
       "    </tr>\n",
       "    <tr>\n",
       "      <th>75%</th>\n",
       "      <td>50.000000</td>\n",
       "      <td>50.000000</td>\n",
       "      <td>50.000000</td>\n",
       "    </tr>\n",
       "    <tr>\n",
       "      <th>max</th>\n",
       "      <td>90.000000</td>\n",
       "      <td>100.000000</td>\n",
       "      <td>100.000000</td>\n",
       "    </tr>\n",
       "  </tbody>\n",
       "</table>\n",
       "</div>"
      ],
      "text/plain": [
       "       offer_final   min_offer  min_offer_final\n",
       "count   105.000000  105.000000       105.000000\n",
       "mean     45.666667   41.380952        43.809524\n",
       "std      14.495800   20.887695        21.128315\n",
       "min       0.000000    0.000000         0.000000\n",
       "25%      50.000000   30.000000        30.000000\n",
       "50%      50.000000   40.000000        40.000000\n",
       "75%      50.000000   50.000000        50.000000\n",
       "max      90.000000  100.000000       100.000000"
      ]
     },
     "execution_count": 2,
     "metadata": {},
     "output_type": "execute_result"
    }
   ],
   "source": [
    "df_full[[\"offer_final\", \"min_offer\", \"min_offer_final\"]].describe()"
   ]
  },
  {
   "cell_type": "markdown",
   "metadata": {},
   "source": [
    "**Correlation to the target value**"
   ]
  },
  {
   "cell_type": "markdown",
   "metadata": {},
   "source": [
    "**Responder's min_offer / Proposer's over and final_offer distribution**"
   ]
  },
  {
   "cell_type": "code",
   "execution_count": 3,
   "metadata": {
    "scrolled": true
   },
   "outputs": [
    {
     "data": {
      "image/png": "[encoded data removed]",
      "text/plain": [
       "<Figure size 576x288 with 2 Axes>"
      ]
     },
     "metadata": {
      "needs_background": "light"
     },
     "output_type": "display_data"
    }
   ],
   "source": [
    "\n",
    "bins = list(range(0, 105, 5))\n",
    "f, axes = plt.subplots(1, 2, figsize=(8,4))\n",
    "ax = sns.distplot(df[\"min_offer\"], hist=True, kde=False, axlabel=\"Responder minimum offer\", bins=bins, label=\"Responder\", ax=axes[0])\n",
    "ax = sns.distplot(df[\"min_offer_final\"], hist=True, kde=False, axlabel=\"minimum offer\", bins=bins, label=\"Responder + DSS info\", ax=axes[0])\n",
    "_ = ax.set_ylabel(\"Frequency\")\n",
    "ax.legend(loc='best')\n",
    "\n",
    "ax = sns.distplot(df_full[\"offer_final\"], hist=True, kde=False, axlabel=\"offer\", bins=bins, label=\"Proposer + DSS\", ax=axes[1])\n",
    "_ = ax.set_ylabel(\"Frequency\")\n",
    "ax.legend(loc='center right')\n",
    "plt.tight_layout()\n",
    "\n",
    "ax.figure.savefig(os.path.join(export_folder, \"min_offer_offer.pdf\"))"
   ]
  },
  {
   "cell_type": "code",
   "execution_count": 4,
   "metadata": {},
   "outputs": [
    {
     "data": {
      "image/png": "[encoded data removed]",
      "text/plain": [
       "<Figure size 432x216 with 1 Axes>"
      ]
     },
     "metadata": {
      "needs_background": "light"
     },
     "output_type": "display_data"
    }
   ],
   "source": [
    "bins = list(range(-100, 105, 5))\n",
    "\n",
    "plt.figure(figsize=(6,3))\n",
    "offer_min_offer_diff = df_full[\"offer_final\"] - df_full[\"min_offer\"]\n",
    "ax = sns.distplot(offer_min_offer_diff, hist=True, kde=False, axlabel=\"offer - minimum offer\", bins=bins, label=\"Responder\")\n",
    "_ = ax.set_ylabel(\"Frequency\")\n",
    "\n",
    "\n",
    "offer_min_offer_diff = df_full[\"offer_final\"] - df_full[\"min_offer_final\"]\n",
    "ax = sns.distplot(offer_min_offer_diff, hist=True, kde=False, axlabel=\"offer - minimum offer\", bins=bins, label=\"Responder + DSS info\", ax=ax)\n",
    "plt.legend()\n",
    "plt.tight_layout()\n",
    "ax.figure.savefig(os.path.join(export_folder, \"t12a-min_offer-diff.pdf\"))"
   ]
  },
  {
   "cell_type": "code",
   "execution_count": 70,
   "metadata": {},
   "outputs": [],
   "source": [
    "from core.models.metrics import cross_compute, avg_gain_ratio, gain_mean, rejection_ratio, loss_sum, MAX_GAIN\n",
    "\n",
    "@np.vectorize\n",
    "def _resp_gain(min_offer, offer):\n",
    "    return 0 if offer < min_offer else offer\n",
    "def resp_gain_mean(*args):\n",
    "    return _resp_gain(*args).mean()\n",
    "\n",
    "def prop_gain_mean(*args):\n",
    "    return gain_mean(*args)\n",
    "\n",
    "def get_infos(min_offer, offer, metrics=None, do_cross_compute=False):\n",
    "    if metrics is None:\n",
    "        metrics = [avg_gain_ratio, resp_gain_mean, prop_gain_mean, rejection_ratio, loss_sum]\n",
    "    #df = pd.DataFrame()\n",
    "    infos = dict()\n",
    "    for idx, metric in enumerate(metrics):\n",
    "        if do_cross_compute:\n",
    "            infos[metric.__name__] = cross_compute(min_offer, offer, metric)\n",
    "        else:\n",
    "            infos[metric.__name__] = metric(min_offer, offer)\n",
    "\n",
    "    return infos"
   ]
  },
  {
   "cell_type": "markdown",
   "metadata": {},
   "source": [
    "**Proposer's performance**"
   ]
  },
  {
   "cell_type": "code",
   "execution_count": 89,
   "metadata": {
    "scrolled": true
   },
   "outputs": [
    {
     "data": {
      "text/html": [
       "<div>\n",
       "<style scoped>\n",
       "    .dataframe tbody tr th:only-of-type {\n",
       "        vertical-align: middle;\n",
       "    }\n",
       "\n",
       "    .dataframe tbody tr th {\n",
       "        vertical-align: top;\n",
       "    }\n",
       "\n",
       "    .dataframe thead th {\n",
       "        text-align: right;\n",
       "    }\n",
       "</style>\n",
       "<table border=\"1\" class=\"dataframe\">\n",
       "  <thead>\n",
       "    <tr style=\"text-align: right;\">\n",
       "      <th></th>\n",
       "      <th>avg_gain_ratio</th>\n",
       "      <th>loss_sum</th>\n",
       "      <th>prop_gain_mean</th>\n",
       "      <th>rejection_ratio</th>\n",
       "      <th>resp_gain_mean</th>\n",
       "    </tr>\n",
       "  </thead>\n",
       "  <tbody>\n",
       "    <tr>\n",
       "      <th>Responder</th>\n",
       "      <td>0.635742</td>\n",
       "      <td>2045.000000</td>\n",
       "      <td>39.142857</td>\n",
       "      <td>0.228571</td>\n",
       "      <td>38.000000</td>\n",
       "    </tr>\n",
       "    <tr>\n",
       "      <th>Responder + DSS info</th>\n",
       "      <td>0.583641</td>\n",
       "      <td>2100.000000</td>\n",
       "      <td>36.190476</td>\n",
       "      <td>0.276190</td>\n",
       "      <td>36.190476</td>\n",
       "    </tr>\n",
       "    <tr>\n",
       "      <th>#Diff(%)</th>\n",
       "      <td>8.195339</td>\n",
       "      <td>-2.689487</td>\n",
       "      <td>7.542579</td>\n",
       "      <td>-20.833333</td>\n",
       "      <td>4.761905</td>\n",
       "    </tr>\n",
       "  </tbody>\n",
       "</table>\n",
       "</div>"
      ],
      "text/plain": [
       "                      avg_gain_ratio     loss_sum  prop_gain_mean  \\\n",
       "Responder                   0.635742  2045.000000       39.142857   \n",
       "Responder + DSS info        0.583641  2100.000000       36.190476   \n",
       "#Diff(%)                    8.195339    -2.689487        7.542579   \n",
       "\n",
       "                      rejection_ratio  resp_gain_mean  \n",
       "Responder                    0.228571       38.000000  \n",
       "Responder + DSS info         0.276190       36.190476  \n",
       "#Diff(%)                   -20.833333        4.761905  "
      ]
     },
     "execution_count": 89,
     "metadata": {},
     "output_type": "execute_result"
    }
   ],
   "source": [
    "df_infos = pd.DataFrame()\n",
    "#Human (fixed-matching) performance t00\n",
    "df_infos = df_infos.append(get_infos(df_full['min_offer'], df_full['offer_final']), ignore_index=True)\n",
    "#Human (cross-matched) average performance t00\n",
    "# df_infos = df_infos.append(get_infos(df_full['min_offer'], df_full['offer'], do_cross_compute=True), ignore_index=True)\n",
    "# #Human + DSS (fixed-matching) performance t00\n",
    "# df_infos = df_infos.append(get_infos(df_full['min_offer'], df_full['offer_final']), ignore_index=True)\n",
    "# #Human + DSS(cross-matched) average performance t00\n",
    "df_infos = df_infos.append(get_infos(df_full['min_offer_final'], df_full['offer_final']), ignore_index=True)\n",
    "#Top-model (fixed 50% prediction) average performance t00\n",
    "fixed_offer = MAX_GAIN // 2\n",
    "# df_infos = df_infos.append(get_infos(df_full['min_offer'], [fixed_offer], do_cross_compute=True), ignore_index=True)\n",
    "\n",
    "# df_infos.index = [\"Responder\", \"Proposer (cross matched)\", \"Responder + DSS info\", \"Proposer + DSS (cross matched)\", \"AI-System\"]\n",
    "# df_infos.index = [\"Responder\", \"Responder + DSS info\"]\n",
    "\n",
    "# df_infos = df_infos.loc[[\"Responder\", \"Responder + DSS info\"]]\n",
    "df_infos = df_infos.append(100*(df_infos.iloc[0] - df_infos.iloc[1]) / df_infos.iloc[0], ignore_index=True)\n",
    "df_infos.index = [\"Responder\", \"Responder + DSS info\", \"#Diff(%)\"]\n",
    "df_infos\n"
   ]
  },
  {
   "cell_type": "code",
   "execution_count": 91,
   "metadata": {},
   "outputs": [
    {
     "name": "stdout",
     "output_type": "stream",
     "text": [
      "rel_gain:  12.35 %\n",
      "rel_min_offer_variation:  35.57 %\n",
      "mard:  49.85 %\n"
     ]
    },
    {
     "name": "stderr",
     "output_type": "stream",
     "text": [
      "/home/franck/anaconda3/envs/thesis/lib/python3.6/site-packages/ipykernel_launcher.py:24: RuntimeWarning: divide by zero encountered in true_divide\n",
      "/home/franck/anaconda3/envs/thesis/lib/python3.6/site-packages/ipykernel_launcher.py:24: RuntimeWarning: invalid value encountered in true_divide\n"
     ]
    }
   ],
   "source": [
    "def woa(offer_final, offer, ai_offer):\n",
    "    res = (abs(offer_final - offer) ) / (abs(ai_offer - offer ))\n",
    "    res = res[np.invert(np.isnan(res) | np.isinf(res))]\n",
    "    res = np.clip(res, 0, 1)\n",
    "    return abs(res).mean()\n",
    "\n",
    "def get_resp_variation(df_full):\n",
    "    df_full = df_full.copy()[df_full[\"min_offer\"]>0]\n",
    "    return 100 * ((df_full[\"min_offer_dss\"] - df_full[\"min_offer\"]) / df_full[\"min_offer\"]).mean()\n",
    "\n",
    "def get_rel_gain(df_full):\n",
    "#     acc = df_infos['resp_gain_mean']['Responder']\n",
    "#     acc_dss = df_infos['resp_gain_mean']['Responder + DSS info']\n",
    "#     return 100 * abs(acc - acc_dss) / acc\n",
    "    acc = _resp_gain(df_full['min_offer'], df_full['offer_final'])\n",
    "    acc_dss = _resp_gain(df_full['min_offer_dss'], df_full['offer_final'])\n",
    "    return mrc(acc_dss, acc)\n",
    "\n",
    "\n",
    "def get_rel_rejection_rate(df_full):\n",
    "    pass\n",
    "\n",
    "def mrc(new, old):\n",
    "    res = abs(new - old) / old\n",
    "    res = res[np.invert(np.isnan(res) | np.isinf(res))]\n",
    "    return 100 * abs(res).mean()\n",
    "    \n",
    "def get_dss_usage(df_full):\n",
    "    return 100 * (df_full.ai_nb_calls > 0).mean()\n",
    "\n",
    "print(\"rel_gain: \", round(get_rel_gain(df_full), 2), \"%\")\n",
    "print(\"rel_min_offer_variation: \", round(get_resp_variation(df_full), 2), \"%\")\n",
    "print(\"mard: \", round(mrc(df_full['min_offer_final'], df_full['min_offer']),2), \"%\")\n"
   ]
  },
  {
   "cell_type": "code",
   "execution_count": 56,
   "metadata": {},
   "outputs": [
    {
     "data": {
      "image/png": "[encoded data removed]",
      "text/plain": [
       "<Figure size 360x216 with 1 Axes>"
      ]
     },
     "metadata": {
      "needs_background": "light"
     },
     "output_type": "display_data"
    }
   ],
   "source": [
    "\n",
    "plt.figure(figsize=(5,3))\n",
    "df_full[\"Responder\"] = df_full.index\n",
    "sns.lineplot(x='Responder', y='min_offer', data=df_full, label=\"min_offer\")\n",
    "ax = sns.lineplot(x='Responder', y='min_offer_final', data=df_full, label=\"min_offer_dss\")\n",
    "ax.set_ylabel(\"min_offer\")\n",
    "\n",
    "plt.legend()\n",
    "plt.tight_layout()\n",
    "\n",
    "ax.figure.savefig(os.path.join(export_folder, \"t12a-min_offer.pdf\"))"
   ]
  },
  {
   "cell_type": "code",
   "execution_count": 57,
   "metadata": {},
   "outputs": [
    {
     "data": {
      "text/plain": [
       "<matplotlib.legend.Legend at 0x7fc47bd51208>"
      ]
     },
     "execution_count": 57,
     "metadata": {},
     "output_type": "execute_result"
    },
    {
     "data": {
      "image/png": "[encoded data removed]",
      "text/plain": [
       "<Figure size 432x288 with 1 Axes>"
      ]
     },
     "metadata": {
      "needs_background": "light"
     },
     "output_type": "display_data"
    }
   ],
   "source": [
    "df_full[\"diff_min_offer\"] = df_full[\"offer\"] - df_full[\"min_offer\"]\n",
    "df_full[\"Responder\"] = df_full.index\n",
    "ax = sns.lineplot(x='Responder', y='diff_min_offer', data=df_full, label=\"min_offer - min_offer (with DSS info)\")\n",
    "ax.set_ylabel(\"#min_offer\")\n",
    "\n",
    "plt.legend()"
   ]
  },
  {
   "cell_type": "code",
   "execution_count": 92,
   "metadata": {},
   "outputs": [
    {
     "data": {
      "text/html": [
       "<div>\n",
       "<style scoped>\n",
       "    .dataframe tbody tr th:only-of-type {\n",
       "        vertical-align: middle;\n",
       "    }\n",
       "\n",
       "    .dataframe tbody tr th {\n",
       "        vertical-align: top;\n",
       "    }\n",
       "\n",
       "    .dataframe thead th {\n",
       "        text-align: right;\n",
       "    }\n",
       "</style>\n",
       "<table border=\"1\" class=\"dataframe\">\n",
       "  <thead>\n",
       "    <tr style=\"text-align: right;\">\n",
       "      <th></th>\n",
       "      <th>avg_gain_ratio</th>\n",
       "      <th>loss_sum</th>\n",
       "      <th>prop_gain_mean</th>\n",
       "      <th>rejection_ratio</th>\n",
       "      <th>resp_gain_mean</th>\n",
       "    </tr>\n",
       "  </thead>\n",
       "  <tbody>\n",
       "    <tr>\n",
       "      <th>Resp./Prop.</th>\n",
       "      <td>0.575657</td>\n",
       "      <td>2405.000000</td>\n",
       "      <td>35.714286</td>\n",
       "      <td>0.314286</td>\n",
       "      <td>32.857143</td>\n",
       "    </tr>\n",
       "    <tr>\n",
       "      <th>Resp./Prop. + DSS/DSS info</th>\n",
       "      <td>0.583641</td>\n",
       "      <td>2100.000000</td>\n",
       "      <td>36.190476</td>\n",
       "      <td>0.276190</td>\n",
       "      <td>36.190476</td>\n",
       "    </tr>\n",
       "    <tr>\n",
       "      <th>#Diff (%)</th>\n",
       "      <td>-1.387033</td>\n",
       "      <td>12.681913</td>\n",
       "      <td>-1.333333</td>\n",
       "      <td>12.121212</td>\n",
       "      <td>-10.144928</td>\n",
       "    </tr>\n",
       "  </tbody>\n",
       "</table>\n",
       "</div>"
      ],
      "text/plain": [
       "                            avg_gain_ratio     loss_sum  prop_gain_mean  \\\n",
       "Resp./Prop.                       0.575657  2405.000000       35.714286   \n",
       "Resp./Prop. + DSS/DSS info        0.583641  2100.000000       36.190476   \n",
       "#Diff (%)                        -1.387033    12.681913       -1.333333   \n",
       "\n",
       "                            rejection_ratio  resp_gain_mean  \n",
       "Resp./Prop.                        0.314286       32.857143  \n",
       "Resp./Prop. + DSS/DSS info         0.276190       36.190476  \n",
       "#Diff (%)                         12.121212      -10.144928  "
      ]
     },
     "execution_count": 92,
     "metadata": {},
     "output_type": "execute_result"
    }
   ],
   "source": [
    "df_infos = pd.DataFrame()\n",
    "#Human (fixed-matching) performance t00\n",
    "df_infos = df_infos.append(get_infos(df_full['min_offer'], df_full['offer']), ignore_index=True)\n",
    "#Human (cross-matched) average performance t00\n",
    "# df_infos = df_infos.append(get_infos(df_full['min_offer'], df_full['offer'], do_cross_compute=True), ignore_index=True)\n",
    "# #Human + DSS (fixed-matching) performance t00\n",
    "# df_infos = df_infos.append(get_infos(df_full['min_offer'], df_full['offer_final']), ignore_index=True)\n",
    "# #Human + DSS(cross-matched) average performance t00\n",
    "df_infos = df_infos.append(get_infos(df_full['min_offer_final'], df_full['offer_final']), ignore_index=True)\n",
    "#Top-model (fixed 50% prediction) average performance t00\n",
    "fixed_offer = MAX_GAIN // 2\n",
    "# df_infos = df_infos.append(get_infos(df_full['min_offer'], [fixed_offer], do_cross_compute=True), ignore_index=True)\n",
    "\n",
    "# df_infos.index = [\"Responder\", \"Proposer (cross matched)\", \"Responder + DSS info\", \"Proposer + DSS (cross matched)\", \"AI-System\"]\n",
    "df_infos.index = [\"Resp./Prop.\", \"Resp./Prop. + DSS/DSS info\"]\n",
    "\n",
    "# df_infos = df_infos.loc[[\"Resp./Prop.\", \"Resp./Prop. + DSS/DSS info\"]]\n",
    "df_infos = df_infos.append(100*(df_infos.iloc[0] - df_infos.iloc[1]) / df_infos.iloc[0], ignore_index=True)\n",
    "df_infos.index = [\"Resp./Prop.\", \"Resp./Prop. + DSS/DSS info\", \"#Diff (%)\"]\n",
    "df_infos\n"
   ]
  },
  {
   "cell_type": "code",
   "execution_count": null,
   "metadata": {},
   "outputs": [],
   "source": []
  }
 ],
 "metadata": {
  "kernelspec": {
   "display_name": "Python 3",
   "language": "python",
   "name": "python3"
  },
  "language_info": {
   "codemirror_mode": {
    "name": "ipython",
    "version": 3
   },
   "file_extension": ".py",
   "mimetype": "text/x-python",
   "name": "python",
   "nbconvert_exporter": "python",
   "pygments_lexer": "ipython3",
   "version": "3.6.8"
  }
 },
 "nbformat": 4,
 "nbformat_minor": 2
}
