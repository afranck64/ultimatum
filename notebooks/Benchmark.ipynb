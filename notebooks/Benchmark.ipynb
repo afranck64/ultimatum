{
 "cells": [
  {
   "cell_type": "code",
   "execution_count": null,
   "metadata": {},
   "outputs": [],
   "source": []
  },
  {
   "cell_type": "markdown",
   "metadata": {},
   "source": [
    "## Data preparation and sanitization"
   ]
  },
  {
   "cell_type": "code",
   "execution_count": 1,
   "metadata": {},
   "outputs": [],
   "source": [
    "import os\n",
    "import sys\n",
    "module_path = os.path.abspath(os.path.join('..'))\n",
    "if module_path not in sys.path:\n",
    "    sys.path.append(module_path)\n",
    "# Suppress warnings\n",
    "import warnings\n",
    "warnings.filterwarnings('ignore')\n",
    "\n",
    "import numpy as np\n",
    "RND_SEED = 6\n",
    "np.random.seed(RND_SEED)\n",
    "import pandas as pd\n",
    "%matplotlib inline\n",
    "import matplotlib.pyplot as plt\n",
    "from IPython.display import display\n",
    "from sklearn.model_selection import train_test_split\n",
    "from sklearn.metrics import r2_score\n",
    "import seaborn as sb\n",
    "from core.utils.preprocessing import df_to_xy\n",
    "\n",
    "\n",
    "TREATMENT = \"t00\"\n",
    "\n",
    "# Read and sanitize the data\n",
    "df = pd.read_csv(f\"../data/{TREATMENT}/export/result__{TREATMENT}_prop.csv\")\n",
    "df_full = df.copy()\n",
    "drop_cols = [\"worker_id\", \"resp_worker_id\", \"prop_worker_id\", \"updated\", \"status\", \"job_id\", \"status\", \"timestamp\", \"rowid\", \"offer_dss\", \"offer\", \"offer_final\", \"completion_code\"]\n",
    "df = df[[col for col in df.columns if col not in drop_cols]]\n",
    "df = df.dropna()\n",
    "\n",
    "\n",
    "x, y = df_to_xy(df, fuse_risk=False, centered=False)"
   ]
  },
  {
   "cell_type": "code",
   "execution_count": null,
   "metadata": {},
   "outputs": [],
   "source": []
  },
  {
   "cell_type": "markdown",
   "metadata": {},
   "source": [
    "## Linear regression (continuous dataset)"
   ]
  },
  {
   "cell_type": "markdown",
   "metadata": {},
   "source": [
    "**Accuracy / Loss - For model comparison**"
   ]
  },
  {
   "cell_type": "code",
   "execution_count": 2,
   "metadata": {},
   "outputs": [],
   "source": [
    "from core.models.metrics import MAX_GAIN\n"
   ]
  },
  {
   "cell_type": "markdown",
   "metadata": {},
   "source": [
    "#### Benchmark"
   ]
  },
  {
   "cell_type": "code",
   "execution_count": 3,
   "metadata": {},
   "outputs": [],
   "source": [
    "from core.utils.benchmark import process_benchmarks, process_benchmark_cv, process_model\n"
   ]
  },
  {
   "cell_type": "markdown",
   "metadata": {},
   "source": [
    "**Keras Model**"
   ]
  },
  {
   "cell_type": "code",
   "execution_count": 4,
   "metadata": {},
   "outputs": [
    {
     "name": "stderr",
     "output_type": "stream",
     "text": [
      "Using TensorFlow backend.\n"
     ]
    }
   ],
   "source": [
    "from core.models.deep import KerasModel, loss_tf, gain_tf"
   ]
  },
  {
   "cell_type": "code",
   "execution_count": 5,
   "metadata": {},
   "outputs": [],
   "source": [
    "import os, sys\n"
   ]
  },
  {
   "cell_type": "markdown",
   "metadata": {},
   "source": [
    "**Featureless model**"
   ]
  },
  {
   "cell_type": "code",
   "execution_count": 6,
   "metadata": {},
   "outputs": [],
   "source": [
    "from core.models import EMModel, RandomModel"
   ]
  },
  {
   "cell_type": "markdown",
   "metadata": {},
   "source": [
    "**Convervative model**"
   ]
  },
  {
   "cell_type": "code",
   "execution_count": 7,
   "metadata": {},
   "outputs": [],
   "source": [
    "from core.models import ConservativeModel"
   ]
  },
  {
   "cell_type": "markdown",
   "metadata": {},
   "source": [
    "**Linear/Logistic regression**"
   ]
  },
  {
   "cell_type": "code",
   "execution_count": 8,
   "metadata": {
    "scrolled": false
   },
   "outputs": [],
   "source": [
    "from sklearn.linear_model import LinearRegression, LogisticRegression"
   ]
  },
  {
   "cell_type": "markdown",
   "metadata": {},
   "source": [
    "**SVM**"
   ]
  },
  {
   "cell_type": "code",
   "execution_count": 9,
   "metadata": {},
   "outputs": [],
   "source": [
    "from sklearn.svm import SVC"
   ]
  },
  {
   "cell_type": "markdown",
   "metadata": {},
   "source": [
    "**Random Forest**"
   ]
  },
  {
   "cell_type": "code",
   "execution_count": 10,
   "metadata": {},
   "outputs": [],
   "source": [
    "from sklearn.ensemble.forest import RandomForestClassifier, RandomForestRegressor"
   ]
  },
  {
   "cell_type": "markdown",
   "metadata": {},
   "source": [
    "**Clustering**"
   ]
  },
  {
   "cell_type": "code",
   "execution_count": 11,
   "metadata": {},
   "outputs": [],
   "source": [
    "from core.models import ClusterModel, ClusterExtModel"
   ]
  },
  {
   "cell_type": "code",
   "execution_count": 12,
   "metadata": {},
   "outputs": [],
   "source": [
    "from sklearn.neural_network import MLPClassifier"
   ]
  },
  {
   "cell_type": "markdown",
   "metadata": {},
   "source": [
    "**Acceptance model**"
   ]
  },
  {
   "cell_type": "code",
   "execution_count": 13,
   "metadata": {},
   "outputs": [],
   "source": [
    "from core.models import AcceptanceModel"
   ]
  },
  {
   "cell_type": "markdown",
   "metadata": {},
   "source": [
    "**Baseline models**"
   ]
  },
  {
   "cell_type": "markdown",
   "metadata": {},
   "source": [
    "**Clustering based models**"
   ]
  },
  {
   "cell_type": "markdown",
   "metadata": {},
   "source": [
    "**TOP MODELS**"
   ]
  },
  {
   "cell_type": "code",
   "execution_count": 14,
   "metadata": {},
   "outputs": [
    {
     "name": "stdout",
     "output_type": "stream",
     "text": [
      "WARNING:tensorflow:From /home/franck/anaconda3/envs/thesis/lib/python3.6/site-packages/tensorflow/python/framework/op_def_library.py:263: colocate_with (from tensorflow.python.framework.ops) is deprecated and will be removed in a future version.\n",
      "Instructions for updating:\n",
      "Colocations handled automatically by placer.\n",
      "WARNING:tensorflow:From /home/franck/anaconda3/envs/thesis/lib/python3.6/site-packages/tensorflow/python/ops/math_ops.py:3066: to_int32 (from tensorflow.python.ops.math_ops) is deprecated and will be removed in a future version.\n",
      "Instructions for updating:\n",
      "Use tf.cast instead.\n"
     ]
    },
    {
     "data": {
      "text/html": [
       "<div>\n",
       "<style scoped>\n",
       "    .dataframe tbody tr th:only-of-type {\n",
       "        vertical-align: middle;\n",
       "    }\n",
       "\n",
       "    .dataframe tbody tr th {\n",
       "        vertical-align: top;\n",
       "    }\n",
       "\n",
       "    .dataframe thead th {\n",
       "        text-align: right;\n",
       "    }\n",
       "</style>\n",
       "<table border=\"1\" class=\"dataframe\">\n",
       "  <thead>\n",
       "    <tr style=\"text-align: right;\">\n",
       "      <th></th>\n",
       "      <th>avg_loss</th>\n",
       "      <th>avg_loss_ratio</th>\n",
       "      <th>avg_win_loss</th>\n",
       "      <th>invariance</th>\n",
       "      <th>loss_sum</th>\n",
       "      <th>mse</th>\n",
       "      <th>rejection_ratio</th>\n",
       "    </tr>\n",
       "  </thead>\n",
       "  <tbody>\n",
       "    <tr>\n",
       "      <th>em</th>\n",
       "      <td>11.771429</td>\n",
       "      <td>0.187675</td>\n",
       "      <td>11.537176</td>\n",
       "      <td>1.000000</td>\n",
       "      <td>242.000000</td>\n",
       "      <td>386.095238</td>\n",
       "      <td>0.049048</td>\n",
       "    </tr>\n",
       "    <tr>\n",
       "      <th>svc</th>\n",
       "      <td>11.771429</td>\n",
       "      <td>0.187675</td>\n",
       "      <td>11.537176</td>\n",
       "      <td>1.000000</td>\n",
       "      <td>242.000000</td>\n",
       "      <td>386.095238</td>\n",
       "      <td>0.049048</td>\n",
       "    </tr>\n",
       "    <tr>\n",
       "      <th>cluster-meanshift</th>\n",
       "      <td>11.771429</td>\n",
       "      <td>0.187675</td>\n",
       "      <td>11.537176</td>\n",
       "      <td>1.000000</td>\n",
       "      <td>242.000000</td>\n",
       "      <td>386.095238</td>\n",
       "      <td>0.049048</td>\n",
       "    </tr>\n",
       "    <tr>\n",
       "      <th>random_forest</th>\n",
       "      <td>12.161905</td>\n",
       "      <td>0.199538</td>\n",
       "      <td>11.091751</td>\n",
       "      <td>0.614088</td>\n",
       "      <td>250.000000</td>\n",
       "      <td>405.857143</td>\n",
       "      <td>0.068571</td>\n",
       "    </tr>\n",
       "    <tr>\n",
       "      <th>nn</th>\n",
       "      <td>38.228571</td>\n",
       "      <td>0.636497</td>\n",
       "      <td>39.010902</td>\n",
       "      <td>0.404785</td>\n",
       "      <td>784.999999</td>\n",
       "      <td>2008.119047</td>\n",
       "      <td>0.019524</td>\n",
       "    </tr>\n",
       "    <tr>\n",
       "      <th>random</th>\n",
       "      <td>36.291306</td>\n",
       "      <td>0.655434</td>\n",
       "      <td>21.805543</td>\n",
       "      <td>0.190539</td>\n",
       "      <td>748.067432</td>\n",
       "      <td>1764.848562</td>\n",
       "      <td>0.504762</td>\n",
       "    </tr>\n",
       "    <tr>\n",
       "      <th>acceptance_model</th>\n",
       "      <td>38.166667</td>\n",
       "      <td>0.706664</td>\n",
       "      <td>16.913781</td>\n",
       "      <td>0.231395</td>\n",
       "      <td>787.000000</td>\n",
       "      <td>1921.880952</td>\n",
       "      <td>0.640476</td>\n",
       "    </tr>\n",
       "    <tr>\n",
       "      <th>linear_regressor</th>\n",
       "      <td>42.320793</td>\n",
       "      <td>0.739311</td>\n",
       "      <td>34.335815</td>\n",
       "      <td>0.152042</td>\n",
       "      <td>871.976648</td>\n",
       "      <td>2250.104788</td>\n",
       "      <td>0.457143</td>\n",
       "    </tr>\n",
       "    <tr>\n",
       "      <th>conservative</th>\n",
       "      <td>54.466667</td>\n",
       "      <td>0.916466</td>\n",
       "      <td>56.149749</td>\n",
       "      <td>1.000000</td>\n",
       "      <td>1122.000000</td>\n",
       "      <td>3288.595238</td>\n",
       "      <td>0.029524</td>\n",
       "    </tr>\n",
       "  </tbody>\n",
       "</table>\n",
       "</div>"
      ],
      "text/plain": [
       "                    avg_loss  avg_loss_ratio  avg_win_loss  invariance  \\\n",
       "em                 11.771429        0.187675     11.537176    1.000000   \n",
       "svc                11.771429        0.187675     11.537176    1.000000   \n",
       "cluster-meanshift  11.771429        0.187675     11.537176    1.000000   \n",
       "random_forest      12.161905        0.199538     11.091751    0.614088   \n",
       "nn                 38.228571        0.636497     39.010902    0.404785   \n",
       "random             36.291306        0.655434     21.805543    0.190539   \n",
       "acceptance_model   38.166667        0.706664     16.913781    0.231395   \n",
       "linear_regressor   42.320793        0.739311     34.335815    0.152042   \n",
       "conservative       54.466667        0.916466     56.149749    1.000000   \n",
       "\n",
       "                      loss_sum          mse  rejection_ratio  \n",
       "em                  242.000000   386.095238         0.049048  \n",
       "svc                 242.000000   386.095238         0.049048  \n",
       "cluster-meanshift   242.000000   386.095238         0.049048  \n",
       "random_forest       250.000000   405.857143         0.068571  \n",
       "nn                  784.999999  2008.119047         0.019524  \n",
       "random              748.067432  1764.848562         0.504762  \n",
       "acceptance_model    787.000000  1921.880952         0.640476  \n",
       "linear_regressor    871.976648  2250.104788         0.457143  \n",
       "conservative       1122.000000  3288.595238         0.029524  "
      ]
     },
     "execution_count": 14,
     "metadata": {},
     "output_type": "execute_result"
    }
   ],
   "source": [
    "benchmark_models = {\n",
    "    \"random\": RandomModel(MAX_GAIN),\n",
    "    \"conservative\": ConservativeModel(MAX_GAIN),\n",
    "    \"em\": EMModel(MAX_GAIN),\n",
    "    \"svc\": SVC(gamma='auto'),\n",
    "    \"cluster-meanshift\": ClusterExtModel(base_model=\"meanshift\"),\n",
    "    \"linear_regressor\": LinearRegression(copy_X=False),\n",
    "    \"nn\": KerasModel(no_hidden_layer=False, epochs=500),\n",
    "    'acceptance_model': AcceptanceModel(SVC(gamma='auto')),\n",
    "    \"random_forest\": RandomForestClassifier(n_estimators=100, min_samples_leaf=5),\n",
    "}\n",
    "\n",
    "results = dict()\n",
    "\n",
    "results = process_benchmarks(benchmark_models, x, y.ravel(), augment_data=[None])\n",
    "\n",
    "results_mean = {key: item.mean() for key, item in results.items()}\n",
    "results_std = {key: item.std() for key, item in results.items()}\n",
    "results_df = pd.DataFrame(results_mean).T\n",
    "results_df.sort_values(\"avg_loss_ratio\", inplace=True)\n",
    "results_df"
   ]
  },
  {
   "cell_type": "code",
   "execution_count": 15,
   "metadata": {},
   "outputs": [
    {
     "name": "stdout",
     "output_type": "stream",
     "text": [
      "\\begin{tabular}{lrrrrr}\n",
      "\\toprule\n",
      "{} &  avg\\_loss &  avg\\_loss\\_ratio &  avg\\_win\\_loss &  invariance &  rejection\\_ratio \\\\\n",
      "\\midrule\n",
      "em                &    11.771 &           0.188 &        11.537 &       1.000 &            0.049 \\\\\n",
      "svc               &    11.771 &           0.188 &        11.537 &       1.000 &            0.049 \\\\\n",
      "cluster-meanshift &    11.771 &           0.188 &        11.537 &       1.000 &            0.049 \\\\\n",
      "random\\_forest     &    12.162 &           0.200 &        11.092 &       0.614 &            0.069 \\\\\n",
      "nn                &    38.229 &           0.636 &        39.011 &       0.405 &            0.020 \\\\\n",
      "random            &    36.291 &           0.655 &        21.806 &       0.191 &            0.505 \\\\\n",
      "acceptance\\_model  &    38.167 &           0.707 &        16.914 &       0.231 &            0.640 \\\\\n",
      "linear\\_regressor  &    42.321 &           0.739 &        34.336 &       0.152 &            0.457 \\\\\n",
      "conservative      &    54.467 &           0.916 &        56.150 &       1.000 &            0.030 \\\\\n",
      "\\bottomrule\n",
      "\\end{tabular}\n",
      "\n"
     ]
    }
   ],
   "source": [
    "results_df = results_df[[col for col in results_df.columns if col not in [\"loss_sum\", \"mse\"]]]\n",
    "\n",
    "print(results_df.to_latex(float_format=\"%.3f\"))"
   ]
  }
 ],
 "metadata": {
  "kernelspec": {
   "display_name": "Python 3",
   "language": "python",
   "name": "python3"
  },
  "language_info": {
   "codemirror_mode": {
    "name": "ipython",
    "version": 3
   },
   "file_extension": ".py",
   "mimetype": "text/x-python",
   "name": "python",
   "nbconvert_exporter": "python",
   "pygments_lexer": "ipython3",
   "version": "3.6.8"
  }
 },
 "nbformat": 4,
 "nbformat_minor": 2
}
