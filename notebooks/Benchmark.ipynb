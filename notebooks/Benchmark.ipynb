{
 "cells": [
  {
   "cell_type": "code",
   "execution_count": null,
   "metadata": {},
   "outputs": [],
   "source": []
  },
  {
   "cell_type": "markdown",
   "metadata": {},
   "source": [
    "## Data preparation and sanitization"
   ]
  },
  {
   "cell_type": "code",
   "execution_count": 1,
   "metadata": {},
   "outputs": [],
   "source": [
    "import os\n",
    "import sys\n",
    "module_path = os.path.abspath(os.path.join('..'))\n",
    "if module_path not in sys.path:\n",
    "    sys.path.append(module_path)\n",
    "\n",
    "import pandas as pd\n",
    "%matplotlib inline\n",
    "import matplotlib.pyplot as plt\n",
    "import numpy as np\n",
    "from IPython.display import display\n",
    "from sklearn.model_selection import train_test_split\n",
    "from sklearn.metrics import r2_score\n",
    "import seaborn as sb\n",
    "\n",
    "from core.utils.preprocessing import df_to_xy\n",
    "\n",
    "# Read and sanitize the data\n",
    "#df = pd.read_excel(\"../data/t00/data.xls\")\n",
    "\n",
    "df = pd.read_excel(\"../data/t00/own_data.xls\")\n",
    "df = df.dropna()\n",
    "\n",
    "\n",
    "x, y = df_to_xy(df, fuse_risk=True, centered=False, min_target=5, max_target=190)"
   ]
  },
  {
   "cell_type": "code",
   "execution_count": null,
   "metadata": {},
   "outputs": [],
   "source": []
  },
  {
   "cell_type": "markdown",
   "metadata": {},
   "source": [
    "## Linear regression (continuous dataset)"
   ]
  },
  {
   "cell_type": "markdown",
   "metadata": {},
   "source": [
    "**Accuracy / Loss - For model comparison**"
   ]
  },
  {
   "cell_type": "code",
   "execution_count": 2,
   "metadata": {},
   "outputs": [],
   "source": [
    "MAX_GAIN = 200\n"
   ]
  },
  {
   "cell_type": "markdown",
   "metadata": {},
   "source": [
    "#### Benchmark"
   ]
  },
  {
   "cell_type": "code",
   "execution_count": 3,
   "metadata": {},
   "outputs": [],
   "source": [
    "from core.utils.benchmark import process_benchmarks, process_benchmark_cv, process_model\n"
   ]
  },
  {
   "cell_type": "markdown",
   "metadata": {},
   "source": [
    "**Keras Model**"
   ]
  },
  {
   "cell_type": "code",
   "execution_count": 4,
   "metadata": {},
   "outputs": [
    {
     "name": "stderr",
     "output_type": "stream",
     "text": [
      "Using TensorFlow backend.\n"
     ]
    }
   ],
   "source": [
    "from core.models.deep import KerasModel, loss_tf, gain_tf"
   ]
  },
  {
   "cell_type": "code",
   "execution_count": 5,
   "metadata": {},
   "outputs": [],
   "source": [
    "import os, sys\n"
   ]
  },
  {
   "cell_type": "code",
   "execution_count": 6,
   "metadata": {},
   "outputs": [],
   "source": [
    "# #sci-kit like training\n",
    "# sm = keras_model(\"mse\") \n",
    "# history = sm.fit(xTrain, yTrain, validation_split=0.33, epochs=100, batch_size=64, verbose=0)\n",
    "# loss_hist = pd.DataFrame(data={'loss': history.history['loss']})\n",
    "# loss_hist.plot(figsize=(30,10))\n",
    "# smPredict = sm.predict(xTest, batch_size=128)\n",
    "\n",
    "# out_data = pd.DataFrame(data={'y_test': np.ravel(yTest), 'y_pred': np.ravel(smPredict)})\n",
    "# stl = sm.evaluate(xTest, yTest, verbose=0)\n",
    "# print(\"Results: %2.2f (%.2f) MSE, Scalar test loss: %.2f\" % (smPredict.mean(), smPredict.std(), stl))\n",
    "# #out_data.plot(figsize=(30,10))"
   ]
  },
  {
   "cell_type": "markdown",
   "metadata": {},
   "source": [
    "**Featureless model (fixed value)**"
   ]
  },
  {
   "cell_type": "code",
   "execution_count": 7,
   "metadata": {},
   "outputs": [],
   "source": [
    "from core.models import EMModel, RandomModel"
   ]
  },
  {
   "cell_type": "markdown",
   "metadata": {},
   "source": [
    "**Convervative model**"
   ]
  },
  {
   "cell_type": "code",
   "execution_count": 8,
   "metadata": {},
   "outputs": [],
   "source": [
    "from core.models import ConservativeModel"
   ]
  },
  {
   "cell_type": "markdown",
   "metadata": {},
   "source": [
    "**Linear/Logistic regression**"
   ]
  },
  {
   "cell_type": "code",
   "execution_count": 9,
   "metadata": {
    "scrolled": false
   },
   "outputs": [],
   "source": [
    "from sklearn.linear_model import LinearRegression, LogisticRegression"
   ]
  },
  {
   "cell_type": "markdown",
   "metadata": {},
   "source": [
    "**Random**"
   ]
  },
  {
   "cell_type": "code",
   "execution_count": 10,
   "metadata": {},
   "outputs": [],
   "source": [
    "from core.models import RandomModel"
   ]
  },
  {
   "cell_type": "markdown",
   "metadata": {},
   "source": [
    "**Random Forest**"
   ]
  },
  {
   "cell_type": "code",
   "execution_count": 11,
   "metadata": {},
   "outputs": [],
   "source": [
    "from sklearn.ensemble.forest import RandomForestClassifier, RandomForestRegressor"
   ]
  },
  {
   "cell_type": "markdown",
   "metadata": {},
   "source": [
    "**Clustering**"
   ]
  },
  {
   "cell_type": "code",
   "execution_count": 12,
   "metadata": {},
   "outputs": [],
   "source": [
    "from core.models import ClusterModel, ClusterExtModel"
   ]
  },
  {
   "cell_type": "code",
   "execution_count": 13,
   "metadata": {},
   "outputs": [],
   "source": [
    "from sklearn.neural_network import MLPClassifier"
   ]
  },
  {
   "cell_type": "markdown",
   "metadata": {},
   "source": [
    "** Acceptance model **"
   ]
  },
  {
   "cell_type": "code",
   "execution_count": 14,
   "metadata": {},
   "outputs": [],
   "source": [
    "from core.models import AcceptanceModel"
   ]
  },
  {
   "cell_type": "markdown",
   "metadata": {},
   "source": [
    "** Data augmentation **"
   ]
  },
  {
   "cell_type": "code",
   "execution_count": 15,
   "metadata": {},
   "outputs": [],
   "source": [
    "from core.utils.data_augmentation import DACombine"
   ]
  },
  {
   "cell_type": "markdown",
   "metadata": {},
   "source": [
    "**Baseline models**"
   ]
  },
  {
   "cell_type": "code",
   "execution_count": 16,
   "metadata": {},
   "outputs": [
    {
     "data": {
      "text/html": [
       "<div>\n",
       "<style scoped>\n",
       "    .dataframe tbody tr th:only-of-type {\n",
       "        vertical-align: middle;\n",
       "    }\n",
       "\n",
       "    .dataframe tbody tr th {\n",
       "        vertical-align: top;\n",
       "    }\n",
       "\n",
       "    .dataframe thead th {\n",
       "        text-align: right;\n",
       "    }\n",
       "</style>\n",
       "<table border=\"1\" class=\"dataframe\">\n",
       "  <thead>\n",
       "    <tr style=\"text-align: right;\">\n",
       "      <th></th>\n",
       "      <th>avg_loss</th>\n",
       "      <th>avg_loss_ratio</th>\n",
       "      <th>avg_win_loss</th>\n",
       "      <th>invariance</th>\n",
       "      <th>loss_sum</th>\n",
       "      <th>mse</th>\n",
       "      <th>rejection_ratio</th>\n",
       "    </tr>\n",
       "  </thead>\n",
       "  <tbody>\n",
       "    <tr>\n",
       "      <th>em</th>\n",
       "      <td>26.060606</td>\n",
       "      <td>0.244481</td>\n",
       "      <td>23.372085</td>\n",
       "      <td>1.000000</td>\n",
       "      <td>860.000000</td>\n",
       "      <td>1446.363636</td>\n",
       "      <td>0.103030</td>\n",
       "    </tr>\n",
       "    <tr>\n",
       "      <th>svc</th>\n",
       "      <td>39.030303</td>\n",
       "      <td>0.363043</td>\n",
       "      <td>21.122622</td>\n",
       "      <td>0.184174</td>\n",
       "      <td>1288.000000</td>\n",
       "      <td>3324.545455</td>\n",
       "      <td>0.254545</td>\n",
       "    </tr>\n",
       "    <tr>\n",
       "      <th>random</th>\n",
       "      <td>60.735803</td>\n",
       "      <td>0.568098</td>\n",
       "      <td>39.750014</td>\n",
       "      <td>0.154264</td>\n",
       "      <td>2004.281486</td>\n",
       "      <td>5376.514618</td>\n",
       "      <td>0.387879</td>\n",
       "    </tr>\n",
       "    <tr>\n",
       "      <th>linear_regressor</th>\n",
       "      <td>65.194514</td>\n",
       "      <td>0.634418</td>\n",
       "      <td>24.064925</td>\n",
       "      <td>0.177789</td>\n",
       "      <td>2151.418976</td>\n",
       "      <td>6203.788141</td>\n",
       "      <td>0.563636</td>\n",
       "    </tr>\n",
       "    <tr>\n",
       "      <th>conservative</th>\n",
       "      <td>110.757576</td>\n",
       "      <td>0.939179</td>\n",
       "      <td>110.757576</td>\n",
       "      <td>1.000000</td>\n",
       "      <td>3655.000000</td>\n",
       "      <td>13453.181818</td>\n",
       "      <td>0.000000</td>\n",
       "    </tr>\n",
       "  </tbody>\n",
       "</table>\n",
       "</div>"
      ],
      "text/plain": [
       "                    avg_loss  avg_loss_ratio  avg_win_loss  invariance  \\\n",
       "em                 26.060606        0.244481     23.372085    1.000000   \n",
       "svc                39.030303        0.363043     21.122622    0.184174   \n",
       "random             60.735803        0.568098     39.750014    0.154264   \n",
       "linear_regressor   65.194514        0.634418     24.064925    0.177789   \n",
       "conservative      110.757576        0.939179    110.757576    1.000000   \n",
       "\n",
       "                     loss_sum           mse  rejection_ratio  \n",
       "em                 860.000000   1446.363636         0.103030  \n",
       "svc               1288.000000   3324.545455         0.254545  \n",
       "random            2004.281486   5376.514618         0.387879  \n",
       "linear_regressor  2151.418976   6203.788141         0.563636  \n",
       "conservative      3655.000000  13453.181818         0.000000  "
      ]
     },
     "execution_count": 16,
     "metadata": {},
     "output_type": "execute_result"
    }
   ],
   "source": [
    "from sklearn.svm import SVC\n",
    "\n",
    "benchmark_models = {\n",
    "    #Featureless:\n",
    "    \"random\": RandomModel(MAX_GAIN),\n",
    "    \"conservative\": ConservativeModel(MAX_GAIN),\n",
    "    \"em\": EMModel(MAX_GAIN),\n",
    "    \"svc\": SVC(gamma='auto'),\n",
    "    \"linear_regressor\": LinearRegression(copy_X=False),\n",
    "#     \"linear_regressor_mse\": keras_linear_regression(loss=\"mse\"),\n",
    "}\n",
    "\n",
    "results = dict()\n",
    "# for key, model in benchmark_models.items():\n",
    "#     results[key] = process_benchmark_cv(model, x, y.ravel())\n",
    "#     results[key+\"_da\"] = process_benchmark_cv(model, x, y.ravel(), augment_data=2)\n",
    "#results = {key: process_benchmark_cv(model, x, y.ravel()) for key, model in benchmark_models.items()}\n",
    "results = process_benchmarks(benchmark_models, x, y.ravel(), augment_data=[None])\n",
    "\n",
    "results_mean = {key: item.mean() for key, item in results.items()}\n",
    "results_std = {key: item.std() for key, item in results.items()}\n",
    "results_df = pd.DataFrame(results_mean).T\n",
    "results_df.sort_values(\"avg_loss_ratio\", inplace=True)\n",
    "results_df"
   ]
  },
  {
   "cell_type": "code",
   "execution_count": 17,
   "metadata": {},
   "outputs": [
    {
     "data": {
      "text/plain": [
       "<matplotlib.axes._subplots.AxesSubplot at 0x7f788e2ed9e8>"
      ]
     },
     "execution_count": 17,
     "metadata": {},
     "output_type": "execute_result"
    },
    {
     "data": {
      "image/png": "[encoded data removed]",
      "text/plain": [
       "<Figure size 1080x360 with 1 Axes>"
      ]
     },
     "metadata": {
      "needs_background": "light"
     },
     "output_type": "display_data"
    }
   ],
   "source": [
    "df_results_mean = pd.DataFrame(results_mean)\n",
    "df_results_std = pd.DataFrame(results_std)\n",
    "df_results_mean.plot.bar(logy=True, figsize=(15, 5))"
   ]
  },
  {
   "cell_type": "markdown",
   "metadata": {},
   "source": [
    "**Clustering based models**"
   ]
  },
  {
   "cell_type": "code",
   "execution_count": 18,
   "metadata": {},
   "outputs": [
    {
     "data": {
      "text/html": [
       "<div>\n",
       "<style scoped>\n",
       "    .dataframe tbody tr th:only-of-type {\n",
       "        vertical-align: middle;\n",
       "    }\n",
       "\n",
       "    .dataframe tbody tr th {\n",
       "        vertical-align: top;\n",
       "    }\n",
       "\n",
       "    .dataframe thead th {\n",
       "        text-align: right;\n",
       "    }\n",
       "</style>\n",
       "<table border=\"1\" class=\"dataframe\">\n",
       "  <thead>\n",
       "    <tr style=\"text-align: right;\">\n",
       "      <th></th>\n",
       "      <th>avg_loss</th>\n",
       "      <th>avg_loss_ratio</th>\n",
       "      <th>avg_win_loss</th>\n",
       "      <th>invariance</th>\n",
       "      <th>loss_sum</th>\n",
       "      <th>mse</th>\n",
       "      <th>rejection_ratio</th>\n",
       "    </tr>\n",
       "  </thead>\n",
       "  <tbody>\n",
       "    <tr>\n",
       "      <th>meanshift_ext</th>\n",
       "      <td>25.454545</td>\n",
       "      <td>0.222094</td>\n",
       "      <td>21.239268</td>\n",
       "      <td>0.184319</td>\n",
       "      <td>840.0</td>\n",
       "      <td>1396.363636</td>\n",
       "      <td>0.084848</td>\n",
       "    </tr>\n",
       "    <tr>\n",
       "      <th>affinity_ext</th>\n",
       "      <td>31.575758</td>\n",
       "      <td>0.281212</td>\n",
       "      <td>23.032061</td>\n",
       "      <td>0.168340</td>\n",
       "      <td>1042.0</td>\n",
       "      <td>2076.666667</td>\n",
       "      <td>0.139394</td>\n",
       "    </tr>\n",
       "    <tr>\n",
       "      <th>meanshift</th>\n",
       "      <td>34.793939</td>\n",
       "      <td>0.330445</td>\n",
       "      <td>29.890661</td>\n",
       "      <td>0.179483</td>\n",
       "      <td>1148.2</td>\n",
       "      <td>2059.957576</td>\n",
       "      <td>0.096970</td>\n",
       "    </tr>\n",
       "    <tr>\n",
       "      <th>affinity</th>\n",
       "      <td>39.412121</td>\n",
       "      <td>0.382829</td>\n",
       "      <td>28.828374</td>\n",
       "      <td>0.169431</td>\n",
       "      <td>1300.6</td>\n",
       "      <td>2677.266667</td>\n",
       "      <td>0.175758</td>\n",
       "    </tr>\n",
       "  </tbody>\n",
       "</table>\n",
       "</div>"
      ],
      "text/plain": [
       "                avg_loss  avg_loss_ratio  avg_win_loss  invariance  loss_sum  \\\n",
       "meanshift_ext  25.454545        0.222094     21.239268    0.184319     840.0   \n",
       "affinity_ext   31.575758        0.281212     23.032061    0.168340    1042.0   \n",
       "meanshift      34.793939        0.330445     29.890661    0.179483    1148.2   \n",
       "affinity       39.412121        0.382829     28.828374    0.169431    1300.6   \n",
       "\n",
       "                       mse  rejection_ratio  \n",
       "meanshift_ext  1396.363636         0.084848  \n",
       "affinity_ext   2076.666667         0.139394  \n",
       "meanshift      2059.957576         0.096970  \n",
       "affinity       2677.266667         0.175758  "
      ]
     },
     "execution_count": 18,
     "metadata": {},
     "output_type": "execute_result"
    }
   ],
   "source": [
    "benchmark_models = {\n",
    "#     #Cluster-based\n",
    "    \"affinity\": ClusterModel(base_model=\"affinity\"),\n",
    "#     \"bayes\": ClusterModel(base_model=\"bayes\", n_components=8),\n",
    "#     \"birch\": ClusterModel(base_model=\"birch\"),\n",
    "#     \"kmeans\": ClusterModel(base_model=\"kmeans\", n_clusters=16),\n",
    "    \"meanshift\": ClusterModel(base_model=\"meanshift\", cluster_all=True),\n",
    "    \"affinity_ext\": ClusterExtModel(base_model=\"affinity\"),\n",
    "#     \"bayes_ext\": ClusterExtModel(base_model=\"bayes\", n_components=8),\n",
    "#     \"birch_ext\": ClusterExtModel(base_model=\"birch\"),\n",
    "#     \"kmeans_ext\": ClusterModel(base_model=\"kmeans\", n_clusters=16),\n",
    "    \"meanshift_ext\": ClusterExtModel(base_model=\"meanshift\", cluster_all=True),\n",
    "}\n",
    "\n",
    "# results = {key: process_benchmark_cv(model, x, y.ravel(), ) for key, model in benchmark_models.items()}\n",
    "results = process_benchmarks(benchmark_models, x, y.ravel(), augment_data=[None], shuffle=True)\n",
    "\n",
    "results_mean = {key: item.mean() for key, item in results.items()}\n",
    "results_std = {key: item.std() for key, item in results.items()}\n",
    "results_df = pd.DataFrame(results_mean).T\n",
    "results_df.sort_values(\"avg_loss_ratio\", inplace=True)\n",
    "results_df"
   ]
  },
  {
   "cell_type": "code",
   "execution_count": 19,
   "metadata": {},
   "outputs": [
    {
     "data": {
      "text/html": [
       "<div>\n",
       "<style scoped>\n",
       "    .dataframe tbody tr th:only-of-type {\n",
       "        vertical-align: middle;\n",
       "    }\n",
       "\n",
       "    .dataframe tbody tr th {\n",
       "        vertical-align: top;\n",
       "    }\n",
       "\n",
       "    .dataframe thead th {\n",
       "        text-align: right;\n",
       "    }\n",
       "</style>\n",
       "<table border=\"1\" class=\"dataframe\">\n",
       "  <thead>\n",
       "    <tr style=\"text-align: right;\">\n",
       "      <th></th>\n",
       "      <th>avg_loss</th>\n",
       "      <th>avg_loss_ratio</th>\n",
       "      <th>avg_win_loss</th>\n",
       "      <th>invariance</th>\n",
       "      <th>loss_sum</th>\n",
       "      <th>mse</th>\n",
       "      <th>rejection_ratio</th>\n",
       "    </tr>\n",
       "  </thead>\n",
       "  <tbody>\n",
       "    <tr>\n",
       "      <th>affinity</th>\n",
       "      <td>10.938336</td>\n",
       "      <td>0.078210</td>\n",
       "      <td>4.286772</td>\n",
       "      <td>0.023156</td>\n",
       "      <td>360.965095</td>\n",
       "      <td>1471.444411</td>\n",
       "      <td>0.118143</td>\n",
       "    </tr>\n",
       "    <tr>\n",
       "      <th>meanshift</th>\n",
       "      <td>6.800529</td>\n",
       "      <td>0.080779</td>\n",
       "      <td>3.246857</td>\n",
       "      <td>0.028889</td>\n",
       "      <td>224.417468</td>\n",
       "      <td>819.304924</td>\n",
       "      <td>0.084087</td>\n",
       "    </tr>\n",
       "    <tr>\n",
       "      <th>affinity_ext</th>\n",
       "      <td>11.945507</td>\n",
       "      <td>0.113535</td>\n",
       "      <td>7.347650</td>\n",
       "      <td>0.020611</td>\n",
       "      <td>394.201725</td>\n",
       "      <td>1229.598479</td>\n",
       "      <td>0.097253</td>\n",
       "    </tr>\n",
       "    <tr>\n",
       "      <th>meanshift_ext</th>\n",
       "      <td>5.173749</td>\n",
       "      <td>0.064709</td>\n",
       "      <td>4.275093</td>\n",
       "      <td>0.027623</td>\n",
       "      <td>170.733711</td>\n",
       "      <td>444.183794</td>\n",
       "      <td>0.058289</td>\n",
       "    </tr>\n",
       "  </tbody>\n",
       "</table>\n",
       "</div>"
      ],
      "text/plain": [
       "                avg_loss  avg_loss_ratio  avg_win_loss  invariance  \\\n",
       "affinity       10.938336        0.078210      4.286772    0.023156   \n",
       "meanshift       6.800529        0.080779      3.246857    0.028889   \n",
       "affinity_ext   11.945507        0.113535      7.347650    0.020611   \n",
       "meanshift_ext   5.173749        0.064709      4.275093    0.027623   \n",
       "\n",
       "                 loss_sum          mse  rejection_ratio  \n",
       "affinity       360.965095  1471.444411         0.118143  \n",
       "meanshift      224.417468   819.304924         0.084087  \n",
       "affinity_ext   394.201725  1229.598479         0.097253  \n",
       "meanshift_ext  170.733711   444.183794         0.058289  "
      ]
     },
     "execution_count": 19,
     "metadata": {},
     "output_type": "execute_result"
    }
   ],
   "source": [
    "pd.DataFrame(results_std).T"
   ]
  },
  {
   "cell_type": "code",
   "execution_count": 20,
   "metadata": {},
   "outputs": [
    {
     "data": {
      "text/plain": [
       "<matplotlib.axes._subplots.AxesSubplot at 0x7f788bfd1470>"
      ]
     },
     "execution_count": 20,
     "metadata": {},
     "output_type": "execute_result"
    },
    {
     "data": {
      "image/png": "[encoded data removed]",
      "text/plain": [
       "<Figure size 1080x360 with 1 Axes>"
      ]
     },
     "metadata": {
      "needs_background": "light"
     },
     "output_type": "display_data"
    }
   ],
   "source": [
    "df_results_mean = pd.DataFrame(results_mean)\n",
    "df_results_std = pd.DataFrame(results_std)\n",
    "df_results_mean.plot.bar(logy=True, figsize=(15, 5))"
   ]
  },
  {
   "cell_type": "markdown",
   "metadata": {},
   "source": [
    "**Other models**"
   ]
  },
  {
   "cell_type": "code",
   "execution_count": 21,
   "metadata": {},
   "outputs": [
    {
     "name": "stderr",
     "output_type": "stream",
     "text": [
      "/home/franck/anaconda3/envs/thesis/lib/python3.6/site-packages/sklearn/utils/validation.py:724: DataConversionWarning: A column-vector y was passed when a 1d array was expected. Please change the shape of y to (n_samples, ), for example using ravel().\n",
      "  y = column_or_1d(y, warn=True)\n",
      "/home/franck/anaconda3/envs/thesis/lib/python3.6/site-packages/sklearn/svm/base.py:929: ConvergenceWarning: Liblinear failed to converge, increase the number of iterations.\n",
      "  \"the number of iterations.\", ConvergenceWarning)\n",
      "/home/franck/anaconda3/envs/thesis/lib/python3.6/site-packages/sklearn/ensemble/forest.py:245: FutureWarning: The default value of n_estimators will change from 10 in version 0.20 to 100 in 0.22.\n",
      "  \"10 in version 0.20 to 100 in 0.22.\", FutureWarning)\n",
      "/home/franck/anaconda3/envs/thesis/lib/python3.6/site-packages/sklearn/utils/validation.py:724: DataConversionWarning: A column-vector y was passed when a 1d array was expected. Please change the shape of y to (n_samples, ), for example using ravel().\n",
      "  y = column_or_1d(y, warn=True)\n",
      "/home/franck/anaconda3/envs/thesis/lib/python3.6/site-packages/sklearn/svm/base.py:929: ConvergenceWarning: Liblinear failed to converge, increase the number of iterations.\n",
      "  \"the number of iterations.\", ConvergenceWarning)\n",
      "/home/franck/anaconda3/envs/thesis/lib/python3.6/site-packages/sklearn/ensemble/forest.py:245: FutureWarning: The default value of n_estimators will change from 10 in version 0.20 to 100 in 0.22.\n",
      "  \"10 in version 0.20 to 100 in 0.22.\", FutureWarning)\n",
      "/home/franck/anaconda3/envs/thesis/lib/python3.6/site-packages/sklearn/utils/validation.py:724: DataConversionWarning: A column-vector y was passed when a 1d array was expected. Please change the shape of y to (n_samples, ), for example using ravel().\n",
      "  y = column_or_1d(y, warn=True)\n",
      "/home/franck/anaconda3/envs/thesis/lib/python3.6/site-packages/sklearn/svm/base.py:929: ConvergenceWarning: Liblinear failed to converge, increase the number of iterations.\n",
      "  \"the number of iterations.\", ConvergenceWarning)\n",
      "/home/franck/anaconda3/envs/thesis/lib/python3.6/site-packages/sklearn/ensemble/forest.py:245: FutureWarning: The default value of n_estimators will change from 10 in version 0.20 to 100 in 0.22.\n",
      "  \"10 in version 0.20 to 100 in 0.22.\", FutureWarning)\n",
      "/home/franck/anaconda3/envs/thesis/lib/python3.6/site-packages/sklearn/utils/validation.py:724: DataConversionWarning: A column-vector y was passed when a 1d array was expected. Please change the shape of y to (n_samples, ), for example using ravel().\n",
      "  y = column_or_1d(y, warn=True)\n",
      "/home/franck/anaconda3/envs/thesis/lib/python3.6/site-packages/sklearn/svm/base.py:929: ConvergenceWarning: Liblinear failed to converge, increase the number of iterations.\n",
      "  \"the number of iterations.\", ConvergenceWarning)\n",
      "/home/franck/anaconda3/envs/thesis/lib/python3.6/site-packages/sklearn/ensemble/forest.py:245: FutureWarning: The default value of n_estimators will change from 10 in version 0.20 to 100 in 0.22.\n",
      "  \"10 in version 0.20 to 100 in 0.22.\", FutureWarning)\n",
      "/home/franck/anaconda3/envs/thesis/lib/python3.6/site-packages/sklearn/utils/validation.py:724: DataConversionWarning: A column-vector y was passed when a 1d array was expected. Please change the shape of y to (n_samples, ), for example using ravel().\n",
      "  y = column_or_1d(y, warn=True)\n",
      "/home/franck/anaconda3/envs/thesis/lib/python3.6/site-packages/sklearn/svm/base.py:929: ConvergenceWarning: Liblinear failed to converge, increase the number of iterations.\n",
      "  \"the number of iterations.\", ConvergenceWarning)\n",
      "/home/franck/anaconda3/envs/thesis/lib/python3.6/site-packages/sklearn/ensemble/forest.py:245: FutureWarning: The default value of n_estimators will change from 10 in version 0.20 to 100 in 0.22.\n",
      "  \"10 in version 0.20 to 100 in 0.22.\", FutureWarning)\n",
      "/home/franck/anaconda3/envs/thesis/lib/python3.6/site-packages/sklearn/utils/validation.py:724: DataConversionWarning: A column-vector y was passed when a 1d array was expected. Please change the shape of y to (n_samples, ), for example using ravel().\n",
      "  y = column_or_1d(y, warn=True)\n",
      "/home/franck/anaconda3/envs/thesis/lib/python3.6/site-packages/sklearn/svm/base.py:929: ConvergenceWarning: Liblinear failed to converge, increase the number of iterations.\n",
      "  \"the number of iterations.\", ConvergenceWarning)\n",
      "/home/franck/anaconda3/envs/thesis/lib/python3.6/site-packages/sklearn/ensemble/forest.py:245: FutureWarning: The default value of n_estimators will change from 10 in version 0.20 to 100 in 0.22.\n",
      "  \"10 in version 0.20 to 100 in 0.22.\", FutureWarning)\n",
      "/home/franck/anaconda3/envs/thesis/lib/python3.6/site-packages/sklearn/utils/validation.py:724: DataConversionWarning: A column-vector y was passed when a 1d array was expected. Please change the shape of y to (n_samples, ), for example using ravel().\n",
      "  y = column_or_1d(y, warn=True)\n",
      "/home/franck/anaconda3/envs/thesis/lib/python3.6/site-packages/sklearn/svm/base.py:929: ConvergenceWarning: Liblinear failed to converge, increase the number of iterations.\n",
      "  \"the number of iterations.\", ConvergenceWarning)\n",
      "/home/franck/anaconda3/envs/thesis/lib/python3.6/site-packages/sklearn/ensemble/forest.py:245: FutureWarning: The default value of n_estimators will change from 10 in version 0.20 to 100 in 0.22.\n",
      "  \"10 in version 0.20 to 100 in 0.22.\", FutureWarning)\n",
      "/home/franck/anaconda3/envs/thesis/lib/python3.6/site-packages/sklearn/utils/validation.py:724: DataConversionWarning: A column-vector y was passed when a 1d array was expected. Please change the shape of y to (n_samples, ), for example using ravel().\n",
      "  y = column_or_1d(y, warn=True)\n",
      "/home/franck/anaconda3/envs/thesis/lib/python3.6/site-packages/sklearn/svm/base.py:929: ConvergenceWarning: Liblinear failed to converge, increase the number of iterations.\n",
      "  \"the number of iterations.\", ConvergenceWarning)\n",
      "/home/franck/anaconda3/envs/thesis/lib/python3.6/site-packages/sklearn/ensemble/forest.py:245: FutureWarning: The default value of n_estimators will change from 10 in version 0.20 to 100 in 0.22.\n",
      "  \"10 in version 0.20 to 100 in 0.22.\", FutureWarning)\n",
      "/home/franck/anaconda3/envs/thesis/lib/python3.6/site-packages/sklearn/utils/validation.py:724: DataConversionWarning: A column-vector y was passed when a 1d array was expected. Please change the shape of y to (n_samples, ), for example using ravel().\n",
      "  y = column_or_1d(y, warn=True)\n",
      "/home/franck/anaconda3/envs/thesis/lib/python3.6/site-packages/sklearn/svm/base.py:929: ConvergenceWarning: Liblinear failed to converge, increase the number of iterations.\n",
      "  \"the number of iterations.\", ConvergenceWarning)\n",
      "/home/franck/anaconda3/envs/thesis/lib/python3.6/site-packages/sklearn/ensemble/forest.py:245: FutureWarning: The default value of n_estimators will change from 10 in version 0.20 to 100 in 0.22.\n",
      "  \"10 in version 0.20 to 100 in 0.22.\", FutureWarning)\n",
      "/home/franck/anaconda3/envs/thesis/lib/python3.6/site-packages/sklearn/utils/validation.py:724: DataConversionWarning: A column-vector y was passed when a 1d array was expected. Please change the shape of y to (n_samples, ), for example using ravel().\n",
      "  y = column_or_1d(y, warn=True)\n",
      "/home/franck/anaconda3/envs/thesis/lib/python3.6/site-packages/sklearn/svm/base.py:929: ConvergenceWarning: Liblinear failed to converge, increase the number of iterations.\n",
      "  \"the number of iterations.\", ConvergenceWarning)\n",
      "/home/franck/anaconda3/envs/thesis/lib/python3.6/site-packages/sklearn/ensemble/forest.py:245: FutureWarning: The default value of n_estimators will change from 10 in version 0.20 to 100 in 0.22.\n",
      "  \"10 in version 0.20 to 100 in 0.22.\", FutureWarning)\n"
     ]
    },
    {
     "data": {
      "text/html": [
       "<div>\n",
       "<style scoped>\n",
       "    .dataframe tbody tr th:only-of-type {\n",
       "        vertical-align: middle;\n",
       "    }\n",
       "\n",
       "    .dataframe tbody tr th {\n",
       "        vertical-align: top;\n",
       "    }\n",
       "\n",
       "    .dataframe thead th {\n",
       "        text-align: right;\n",
       "    }\n",
       "</style>\n",
       "<table border=\"1\" class=\"dataframe\">\n",
       "  <thead>\n",
       "    <tr style=\"text-align: right;\">\n",
       "      <th></th>\n",
       "      <th>avg_loss</th>\n",
       "      <th>avg_loss_ratio</th>\n",
       "      <th>avg_win_loss</th>\n",
       "      <th>invariance</th>\n",
       "      <th>loss_sum</th>\n",
       "      <th>mse</th>\n",
       "      <th>rejection_ratio</th>\n",
       "    </tr>\n",
       "  </thead>\n",
       "  <tbody>\n",
       "    <tr>\n",
       "      <th>logistic_regression</th>\n",
       "      <td>24.606061</td>\n",
       "      <td>0.235065</td>\n",
       "      <td>20.143902</td>\n",
       "      <td>0.203237</td>\n",
       "      <td>812.0</td>\n",
       "      <td>1397.272727</td>\n",
       "      <td>0.109091</td>\n",
       "    </tr>\n",
       "    <tr>\n",
       "      <th>em</th>\n",
       "      <td>26.060606</td>\n",
       "      <td>0.244481</td>\n",
       "      <td>23.372085</td>\n",
       "      <td>1.000000</td>\n",
       "      <td>860.0</td>\n",
       "      <td>1446.363636</td>\n",
       "      <td>0.103030</td>\n",
       "    </tr>\n",
       "    <tr>\n",
       "      <th>em_da2</th>\n",
       "      <td>37.454545</td>\n",
       "      <td>0.336803</td>\n",
       "      <td>36.672340</td>\n",
       "      <td>1.000000</td>\n",
       "      <td>1236.0</td>\n",
       "      <td>2136.363636</td>\n",
       "      <td>0.084848</td>\n",
       "    </tr>\n",
       "    <tr>\n",
       "      <th>random_forest</th>\n",
       "      <td>37.848485</td>\n",
       "      <td>0.365332</td>\n",
       "      <td>21.802674</td>\n",
       "      <td>0.186101</td>\n",
       "      <td>1249.0</td>\n",
       "      <td>2902.878788</td>\n",
       "      <td>0.254545</td>\n",
       "    </tr>\n",
       "    <tr>\n",
       "      <th>acceptance_model</th>\n",
       "      <td>57.424242</td>\n",
       "      <td>0.529464</td>\n",
       "      <td>38.977679</td>\n",
       "      <td>0.190954</td>\n",
       "      <td>1895.0</td>\n",
       "      <td>5132.575758</td>\n",
       "      <td>0.369697</td>\n",
       "    </tr>\n",
       "    <tr>\n",
       "      <th>logistic_regression_da2</th>\n",
       "      <td>68.000000</td>\n",
       "      <td>0.634051</td>\n",
       "      <td>35.470652</td>\n",
       "      <td>0.137675</td>\n",
       "      <td>2244.0</td>\n",
       "      <td>6774.242424</td>\n",
       "      <td>0.496970</td>\n",
       "    </tr>\n",
       "    <tr>\n",
       "      <th>random_forest_da2</th>\n",
       "      <td>70.000000</td>\n",
       "      <td>0.646054</td>\n",
       "      <td>40.684895</td>\n",
       "      <td>0.138535</td>\n",
       "      <td>2310.0</td>\n",
       "      <td>6990.000000</td>\n",
       "      <td>0.496970</td>\n",
       "    </tr>\n",
       "    <tr>\n",
       "      <th>acceptance_model_da2</th>\n",
       "      <td>88.242424</td>\n",
       "      <td>0.768984</td>\n",
       "      <td>65.430736</td>\n",
       "      <td>0.142413</td>\n",
       "      <td>2912.0</td>\n",
       "      <td>10050.909091</td>\n",
       "      <td>0.593939</td>\n",
       "    </tr>\n",
       "  </tbody>\n",
       "</table>\n",
       "</div>"
      ],
      "text/plain": [
       "                          avg_loss  avg_loss_ratio  avg_win_loss  invariance  \\\n",
       "logistic_regression      24.606061        0.235065     20.143902    0.203237   \n",
       "em                       26.060606        0.244481     23.372085    1.000000   \n",
       "em_da2                   37.454545        0.336803     36.672340    1.000000   \n",
       "random_forest            37.848485        0.365332     21.802674    0.186101   \n",
       "acceptance_model         57.424242        0.529464     38.977679    0.190954   \n",
       "logistic_regression_da2  68.000000        0.634051     35.470652    0.137675   \n",
       "random_forest_da2        70.000000        0.646054     40.684895    0.138535   \n",
       "acceptance_model_da2     88.242424        0.768984     65.430736    0.142413   \n",
       "\n",
       "                         loss_sum           mse  rejection_ratio  \n",
       "logistic_regression         812.0   1397.272727         0.109091  \n",
       "em                          860.0   1446.363636         0.103030  \n",
       "em_da2                     1236.0   2136.363636         0.084848  \n",
       "random_forest              1249.0   2902.878788         0.254545  \n",
       "acceptance_model           1895.0   5132.575758         0.369697  \n",
       "logistic_regression_da2    2244.0   6774.242424         0.496970  \n",
       "random_forest_da2          2310.0   6990.000000         0.496970  \n",
       "acceptance_model_da2       2912.0  10050.909091         0.593939  "
      ]
     },
     "execution_count": 21,
     "metadata": {},
     "output_type": "execute_result"
    }
   ],
   "source": [
    "benchmark_models = {\n",
    "    'em': EMModel(),\n",
    "    # Regression\n",
    "    #\"random_forest_regr\": RandomForestRegressor(min_samples_leaf=5),\n",
    "    'logistic_regression': LogisticRegression(penalty='l1', solver='liblinear', multi_class='auto'),\n",
    "    #\"nn_regression_hiddenless\": KerasModel(no_hidden_layer=True),\n",
    "#     \"nn_regression\": KerasModel(batch_size=30, epochs=200),\n",
    "    'acceptance_model': AcceptanceModel(),   #step=10, zero_one=True),\n",
    "    # Classification\n",
    "    \"random_forest\": RandomForestClassifier(min_samples_leaf=5),#max_depth=3, random_state=0, n_estimators=10),\n",
    "}\n",
    "\n",
    "results = dict()\n",
    "\n",
    "results = process_benchmarks(benchmark_models, x, y.ravel(), augment_data=[None, 2])\n",
    "\n",
    "results_mean = {key: item.mean() for key, item in results.items()}\n",
    "results_std = {key: item.std() for key, item in results.items()}\n",
    "results_df = pd.DataFrame(results_mean).T\n",
    "results_df.sort_values(\"avg_loss_ratio\", inplace=True)\n",
    "results_df"
   ]
  },
  {
   "cell_type": "code",
   "execution_count": 22,
   "metadata": {},
   "outputs": [
    {
     "data": {
      "text/plain": [
       "<matplotlib.axes._subplots.AxesSubplot at 0x7f788e03cbe0>"
      ]
     },
     "execution_count": 22,
     "metadata": {},
     "output_type": "execute_result"
    },
    {
     "data": {
      "image/png": "[encoded data removed]",
      "text/plain": [
       "<Figure size 1080x360 with 1 Axes>"
      ]
     },
     "metadata": {
      "needs_background": "light"
     },
     "output_type": "display_data"
    }
   ],
   "source": [
    "df_results_mean = pd.DataFrame(results_mean)\n",
    "df_results_std = pd.DataFrame(results_std)\n",
    "df_results_mean.plot.bar(logy=True, figsize=(15, 5))"
   ]
  },
  {
   "cell_type": "markdown",
   "metadata": {},
   "source": [
    "**TOP MODELS**"
   ]
  },
  {
   "cell_type": "code",
   "execution_count": 23,
   "metadata": {},
   "outputs": [
    {
     "name": "stderr",
     "output_type": "stream",
     "text": [
      "/home/franck/anaconda3/envs/thesis/lib/python3.6/site-packages/sklearn/utils/validation.py:724: DataConversionWarning: A column-vector y was passed when a 1d array was expected. Please change the shape of y to (n_samples, ), for example using ravel().\n",
      "  y = column_or_1d(y, warn=True)\n",
      "/home/franck/anaconda3/envs/thesis/lib/python3.6/site-packages/sklearn/svm/base.py:929: ConvergenceWarning: Liblinear failed to converge, increase the number of iterations.\n",
      "  \"the number of iterations.\", ConvergenceWarning)\n",
      "/home/franck/anaconda3/envs/thesis/lib/python3.6/site-packages/sklearn/utils/validation.py:724: DataConversionWarning: A column-vector y was passed when a 1d array was expected. Please change the shape of y to (n_samples, ), for example using ravel().\n",
      "  y = column_or_1d(y, warn=True)\n",
      "/home/franck/anaconda3/envs/thesis/lib/python3.6/site-packages/sklearn/utils/validation.py:724: DataConversionWarning: A column-vector y was passed when a 1d array was expected. Please change the shape of y to (n_samples, ), for example using ravel().\n",
      "  y = column_or_1d(y, warn=True)\n",
      "/home/franck/anaconda3/envs/thesis/lib/python3.6/site-packages/sklearn/svm/base.py:929: ConvergenceWarning: Liblinear failed to converge, increase the number of iterations.\n",
      "  \"the number of iterations.\", ConvergenceWarning)\n",
      "/home/franck/anaconda3/envs/thesis/lib/python3.6/site-packages/sklearn/utils/validation.py:724: DataConversionWarning: A column-vector y was passed when a 1d array was expected. Please change the shape of y to (n_samples, ), for example using ravel().\n",
      "  y = column_or_1d(y, warn=True)\n",
      "/home/franck/anaconda3/envs/thesis/lib/python3.6/site-packages/sklearn/utils/validation.py:724: DataConversionWarning: A column-vector y was passed when a 1d array was expected. Please change the shape of y to (n_samples, ), for example using ravel().\n",
      "  y = column_or_1d(y, warn=True)\n",
      "/home/franck/anaconda3/envs/thesis/lib/python3.6/site-packages/sklearn/svm/base.py:929: ConvergenceWarning: Liblinear failed to converge, increase the number of iterations.\n",
      "  \"the number of iterations.\", ConvergenceWarning)\n",
      "/home/franck/anaconda3/envs/thesis/lib/python3.6/site-packages/sklearn/utils/validation.py:724: DataConversionWarning: A column-vector y was passed when a 1d array was expected. Please change the shape of y to (n_samples, ), for example using ravel().\n",
      "  y = column_or_1d(y, warn=True)\n",
      "/home/franck/anaconda3/envs/thesis/lib/python3.6/site-packages/sklearn/utils/validation.py:724: DataConversionWarning: A column-vector y was passed when a 1d array was expected. Please change the shape of y to (n_samples, ), for example using ravel().\n",
      "  y = column_or_1d(y, warn=True)\n",
      "/home/franck/anaconda3/envs/thesis/lib/python3.6/site-packages/sklearn/svm/base.py:929: ConvergenceWarning: Liblinear failed to converge, increase the number of iterations.\n",
      "  \"the number of iterations.\", ConvergenceWarning)\n",
      "/home/franck/anaconda3/envs/thesis/lib/python3.6/site-packages/sklearn/utils/validation.py:724: DataConversionWarning: A column-vector y was passed when a 1d array was expected. Please change the shape of y to (n_samples, ), for example using ravel().\n",
      "  y = column_or_1d(y, warn=True)\n",
      "/home/franck/anaconda3/envs/thesis/lib/python3.6/site-packages/sklearn/utils/validation.py:724: DataConversionWarning: A column-vector y was passed when a 1d array was expected. Please change the shape of y to (n_samples, ), for example using ravel().\n",
      "  y = column_or_1d(y, warn=True)\n",
      "/home/franck/anaconda3/envs/thesis/lib/python3.6/site-packages/sklearn/svm/base.py:929: ConvergenceWarning: Liblinear failed to converge, increase the number of iterations.\n",
      "  \"the number of iterations.\", ConvergenceWarning)\n",
      "/home/franck/anaconda3/envs/thesis/lib/python3.6/site-packages/sklearn/utils/validation.py:724: DataConversionWarning: A column-vector y was passed when a 1d array was expected. Please change the shape of y to (n_samples, ), for example using ravel().\n",
      "  y = column_or_1d(y, warn=True)\n"
     ]
    },
    {
     "data": {
      "text/html": [
       "<div>\n",
       "<style scoped>\n",
       "    .dataframe tbody tr th:only-of-type {\n",
       "        vertical-align: middle;\n",
       "    }\n",
       "\n",
       "    .dataframe tbody tr th {\n",
       "        vertical-align: top;\n",
       "    }\n",
       "\n",
       "    .dataframe thead th {\n",
       "        text-align: right;\n",
       "    }\n",
       "</style>\n",
       "<table border=\"1\" class=\"dataframe\">\n",
       "  <thead>\n",
       "    <tr style=\"text-align: right;\">\n",
       "      <th></th>\n",
       "      <th>avg_loss</th>\n",
       "      <th>avg_loss_ratio</th>\n",
       "      <th>avg_win_loss</th>\n",
       "      <th>invariance</th>\n",
       "      <th>loss_sum</th>\n",
       "      <th>mse</th>\n",
       "      <th>rejection_ratio</th>\n",
       "    </tr>\n",
       "  </thead>\n",
       "  <tbody>\n",
       "    <tr>\n",
       "      <th>logistic_regression</th>\n",
       "      <td>24.606061</td>\n",
       "      <td>0.235065</td>\n",
       "      <td>20.143902</td>\n",
       "      <td>0.203237</td>\n",
       "      <td>812.0</td>\n",
       "      <td>1397.272727</td>\n",
       "      <td>0.109091</td>\n",
       "    </tr>\n",
       "    <tr>\n",
       "      <th>em</th>\n",
       "      <td>26.060606</td>\n",
       "      <td>0.244481</td>\n",
       "      <td>23.372085</td>\n",
       "      <td>1.000000</td>\n",
       "      <td>860.0</td>\n",
       "      <td>1446.363636</td>\n",
       "      <td>0.103030</td>\n",
       "    </tr>\n",
       "    <tr>\n",
       "      <th>acceptance_model_svr</th>\n",
       "      <td>29.515152</td>\n",
       "      <td>0.282547</td>\n",
       "      <td>24.787500</td>\n",
       "      <td>0.219095</td>\n",
       "      <td>974.0</td>\n",
       "      <td>1644.545455</td>\n",
       "      <td>0.127273</td>\n",
       "    </tr>\n",
       "    <tr>\n",
       "      <th>svc</th>\n",
       "      <td>39.030303</td>\n",
       "      <td>0.363043</td>\n",
       "      <td>21.122622</td>\n",
       "      <td>0.184174</td>\n",
       "      <td>1288.0</td>\n",
       "      <td>3324.545455</td>\n",
       "      <td>0.254545</td>\n",
       "    </tr>\n",
       "    <tr>\n",
       "      <th>acceptance_model</th>\n",
       "      <td>43.151515</td>\n",
       "      <td>0.403938</td>\n",
       "      <td>33.533482</td>\n",
       "      <td>0.184673</td>\n",
       "      <td>1424.0</td>\n",
       "      <td>3160.909091</td>\n",
       "      <td>0.206061</td>\n",
       "    </tr>\n",
       "  </tbody>\n",
       "</table>\n",
       "</div>"
      ],
      "text/plain": [
       "                       avg_loss  avg_loss_ratio  avg_win_loss  invariance  \\\n",
       "logistic_regression   24.606061        0.235065     20.143902    0.203237   \n",
       "em                    26.060606        0.244481     23.372085    1.000000   \n",
       "acceptance_model_svr  29.515152        0.282547     24.787500    0.219095   \n",
       "svc                   39.030303        0.363043     21.122622    0.184174   \n",
       "acceptance_model      43.151515        0.403938     33.533482    0.184673   \n",
       "\n",
       "                      loss_sum          mse  rejection_ratio  \n",
       "logistic_regression      812.0  1397.272727         0.109091  \n",
       "em                       860.0  1446.363636         0.103030  \n",
       "acceptance_model_svr     974.0  1644.545455         0.127273  \n",
       "svc                     1288.0  3324.545455         0.254545  \n",
       "acceptance_model        1424.0  3160.909091         0.206061  "
      ]
     },
     "execution_count": 23,
     "metadata": {},
     "output_type": "execute_result"
    }
   ],
   "source": [
    "from sklearn.svm import SVR\n",
    "benchmark_models = {\n",
    "    'em': EMModel(),\n",
    "    'logistic_regression': LogisticRegression(penalty='l1', solver='liblinear', multi_class='auto'),\n",
    "    'svc': SVC(gamma='auto'),\n",
    "    'acceptance_model': AcceptanceModel(step=10, zero_one=True),\n",
    "    'acceptance_model_svr': AcceptanceModel(SVR(gamma='auto', kernel='poly', degree=1), step=10, zero_one=True),\n",
    "    \n",
    "    # Classification\n",
    "    #\"random_forest\": RandomForestClassifier(min_samples_leaf=5),#max_depth=3, random_state=0, n_estimators=10),\n",
    "}\n",
    "\n",
    "results = dict()\n",
    "\n",
    "results = process_benchmarks(benchmark_models, x, y.ravel(), augment_data=None)\n",
    "\n",
    "results_mean = {key: item.mean() for key, item in results.items()}\n",
    "results_std = {key: item.std() for key, item in results.items()}\n",
    "results_df = pd.DataFrame(results_mean).T\n",
    "results_df.sort_values(\"avg_loss_ratio\", inplace=True)\n",
    "results_df"
   ]
  },
  {
   "cell_type": "code",
   "execution_count": 24,
   "metadata": {},
   "outputs": [
    {
     "data": {
      "text/plain": [
       "<matplotlib.axes._subplots.AxesSubplot at 0x7f77d51c2668>"
      ]
     },
     "execution_count": 24,
     "metadata": {},
     "output_type": "execute_result"
    },
    {
     "data": {
      "image/png": "[encoded data removed]",
      "text/plain": [
       "<Figure size 1080x360 with 1 Axes>"
      ]
     },
     "metadata": {
      "needs_background": "light"
     },
     "output_type": "display_data"
    }
   ],
   "source": [
    "df_results_mean = pd.DataFrame(results_mean)\n",
    "df_results_std = pd.DataFrame(results_std)\n",
    "df_results_mean.plot.bar(logy=True, figsize=(15, 5))"
   ]
  },
  {
   "cell_type": "code",
   "execution_count": 25,
   "metadata": {},
   "outputs": [
    {
     "name": "stderr",
     "output_type": "stream",
     "text": [
      "/home/franck/anaconda3/envs/thesis/lib/python3.6/site-packages/sklearn/linear_model/logistic.py:947: ConvergenceWarning: lbfgs failed to converge. Increase the number of iterations.\n",
      "  \"of iterations.\", ConvergenceWarning)\n",
      "/home/franck/anaconda3/envs/thesis/lib/python3.6/site-packages/sklearn/neural_network/multilayer_perceptron.py:566: ConvergenceWarning: Stochastic Optimizer: Maximum iterations (1024) reached and the optimization hasn't converged yet.\n",
      "  % self.max_iter, ConvergenceWarning)\n",
      "/home/franck/anaconda3/envs/thesis/lib/python3.6/site-packages/sklearn/linear_model/logistic.py:947: ConvergenceWarning: lbfgs failed to converge. Increase the number of iterations.\n",
      "  \"of iterations.\", ConvergenceWarning)\n",
      "/home/franck/anaconda3/envs/thesis/lib/python3.6/site-packages/sklearn/neural_network/multilayer_perceptron.py:566: ConvergenceWarning: Stochastic Optimizer: Maximum iterations (1024) reached and the optimization hasn't converged yet.\n",
      "  % self.max_iter, ConvergenceWarning)\n",
      "/home/franck/anaconda3/envs/thesis/lib/python3.6/site-packages/sklearn/linear_model/logistic.py:947: ConvergenceWarning: lbfgs failed to converge. Increase the number of iterations.\n",
      "  \"of iterations.\", ConvergenceWarning)\n",
      "/home/franck/anaconda3/envs/thesis/lib/python3.6/site-packages/sklearn/linear_model/logistic.py:947: ConvergenceWarning: lbfgs failed to converge. Increase the number of iterations.\n",
      "  \"of iterations.\", ConvergenceWarning)\n",
      "/home/franck/anaconda3/envs/thesis/lib/python3.6/site-packages/sklearn/linear_model/logistic.py:947: ConvergenceWarning: lbfgs failed to converge. Increase the number of iterations.\n",
      "  \"of iterations.\", ConvergenceWarning)\n"
     ]
    },
    {
     "data": {
      "text/html": [
       "<div>\n",
       "<style scoped>\n",
       "    .dataframe tbody tr th:only-of-type {\n",
       "        vertical-align: middle;\n",
       "    }\n",
       "\n",
       "    .dataframe tbody tr th {\n",
       "        vertical-align: top;\n",
       "    }\n",
       "\n",
       "    .dataframe thead th {\n",
       "        text-align: right;\n",
       "    }\n",
       "</style>\n",
       "<table border=\"1\" class=\"dataframe\">\n",
       "  <thead>\n",
       "    <tr style=\"text-align: right;\">\n",
       "      <th></th>\n",
       "      <th>avg_loss</th>\n",
       "      <th>avg_loss_ratio</th>\n",
       "      <th>avg_win_loss</th>\n",
       "      <th>invariance</th>\n",
       "      <th>loss_sum</th>\n",
       "      <th>mse</th>\n",
       "      <th>rejection_ratio</th>\n",
       "    </tr>\n",
       "  </thead>\n",
       "  <tbody>\n",
       "    <tr>\n",
       "      <th>mlp</th>\n",
       "      <td>26.666667</td>\n",
       "      <td>0.250542</td>\n",
       "      <td>23.529557</td>\n",
       "      <td>0.870136</td>\n",
       "      <td>880.0</td>\n",
       "      <td>1506.969697</td>\n",
       "      <td>0.109091</td>\n",
       "    </tr>\n",
       "    <tr>\n",
       "      <th>log_reg</th>\n",
       "      <td>30.000000</td>\n",
       "      <td>0.276760</td>\n",
       "      <td>23.326437</td>\n",
       "      <td>0.271884</td>\n",
       "      <td>990.0</td>\n",
       "      <td>1960.303030</td>\n",
       "      <td>0.139394</td>\n",
       "    </tr>\n",
       "  </tbody>\n",
       "</table>\n",
       "</div>"
      ],
      "text/plain": [
       "          avg_loss  avg_loss_ratio  avg_win_loss  invariance  loss_sum  \\\n",
       "mlp      26.666667        0.250542     23.529557    0.870136     880.0   \n",
       "log_reg  30.000000        0.276760     23.326437    0.271884     990.0   \n",
       "\n",
       "                 mse  rejection_ratio  \n",
       "mlp      1506.969697         0.109091  \n",
       "log_reg  1960.303030         0.139394  "
      ]
     },
     "execution_count": 25,
     "metadata": {},
     "output_type": "execute_result"
    }
   ],
   "source": [
    "from sklearn.svm import SVR\n",
    "benchmark_models = {\n",
    "    'mlp': MLPClassifier(\n",
    "        hidden_layer_sizes=(1024,), max_iter=1024, solver='sgd',\n",
    "        learning_rate='adaptive',\n",
    "        activation='relu',\n",
    "    ),\n",
    "    'log_reg': LogisticRegression(multi_class='auto', solver='lbfgs'),\n",
    "}\n",
    "\n",
    "results = dict()\n",
    "\n",
    "results = process_benchmarks(benchmark_models, x, y.ravel(), augment_data=None)\n",
    "\n",
    "results_mean = {key: item.mean() for key, item in results.items()}\n",
    "results_std = {key: item.std() for key, item in results.items()}\n",
    "results_df = pd.DataFrame(results_mean).T\n",
    "results_df.sort_values(\"avg_loss_ratio\", inplace=True)\n",
    "results_df"
   ]
  },
  {
   "cell_type": "code",
   "execution_count": null,
   "metadata": {},
   "outputs": [],
   "source": []
  },
  {
   "cell_type": "code",
   "execution_count": 26,
   "metadata": {},
   "outputs": [
    {
     "name": "stdout",
     "output_type": "stream",
     "text": [
      "[ 50.  75. 100. 105. 150. 190.]\n",
      "acc:  0.6671093512381515\n",
      "[ 50.  75. 100. 105. 150. 190.]\n",
      "val_acc:  0.64670662071577\n"
     ]
    }
   ],
   "source": [
    "from core.models.metrics import avg_gain_ratio\n",
    "clf = ClusterExtModel(base_model=\"affinity\")\n",
    "xTrain, xTest, yTrain, yTest = train_test_split(x, y)\n",
    "clf.fit(xTrain, yTrain)\n",
    "\n",
    "# clf = EMModel()\n",
    "xTrain, xTest, yTrain, yTest = train_test_split(x, y)\n",
    "clf.fit(xTrain, yTrain)\n",
    "\n",
    "yPred = clf.predict(xTrain)\n",
    "\n",
    "print(np.unique(yPred))\n",
    "\n",
    "print(\"acc: \", avg_gain_ratio(yTrain, yPred))\n",
    "yPred = clf.predict(xTest)\n",
    "print(np.unique(yPred))\n",
    "print(\"val_acc: \", avg_gain_ratio(yTest, yPred))"
   ]
  }
 ],
 "metadata": {
  "kernelspec": {
   "display_name": "Python 3",
   "language": "python",
   "name": "python3"
  },
  "language_info": {
   "codemirror_mode": {
    "name": "ipython",
    "version": 3
   },
   "file_extension": ".py",
   "mimetype": "text/x-python",
   "name": "python",
   "nbconvert_exporter": "python",
   "pygments_lexer": "ipython3",
   "version": "3.6.8"
  }
 },
 "nbformat": 4,
 "nbformat_minor": 2
}
