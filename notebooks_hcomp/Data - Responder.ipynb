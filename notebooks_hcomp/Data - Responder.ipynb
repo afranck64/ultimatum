{
 "cells": [
  {
   "cell_type": "code",
   "execution_count": 1,
   "metadata": {},
   "outputs": [],
   "source": [
    "import os\n",
    "import sys\n",
    "module_path = os.path.abspath(os.path.join('..'))\n",
    "if module_path not in sys.path:\n",
    "    sys.path.append(module_path)\n",
    "\n",
    "import pandas as pd\n",
    "%matplotlib inline\n",
    "import matplotlib.pyplot as plt\n",
    "import numpy as np\n",
    "from IPython.display import display\n",
    "from sklearn.model_selection import train_test_split\n",
    "from sklearn.metrics import r2_score\n",
    "import seaborn as sns\n",
    "\n",
    "\n",
    "from utils import get_dfs_full_prop\n",
    "\n",
    "TREATMENT = \"hcomp.txx.resp\"\n",
    "\n",
    "export_folder = f\"../data/output/diagrams/{TREATMENT}\"\n",
    "os.makedirs(export_folder, exist_ok=True)\n",
    "\n",
    "\n",
    "dfs_full_prop = get_dfs_full_prop()\n",
    "\n",
    "dfs = {}\n",
    "dfs_full = {}\n",
    "\n",
    "\n",
    "result_df = pd.DataFrame(index=range(105))\n",
    "stats = pd.DataFrame(index=[\"min_offer\", \"min_offer_final\"])\n",
    "\n",
    "TREATMENTS = {\"t00\", \"t10a\", \"t11a\", \"t12\", \"t13\", \"t20\", \"t30\", \"t31\"}\n",
    "TREATMENTS_MAPPING = {\n",
    "    \"t00\": \"T0\",\n",
    "#     \"t10a\": \"TAI.R\",\n",
    "#     \"t10b\": \"TAI.R\",\n",
    "    \"t12\": \"T2.0\",\n",
    "    \"t13\": \"T2.1\",\n",
    "    #\"t20\": \"TAIAuto.R\",\n",
    "    \"t30\": \"T3.0\",\n",
    "    \"t31\": \"T3.1\",\n",
    "    \n",
    "}\n",
    "TREATMENTS = sorted(TREATMENTS_MAPPING.values())\n",
    "\n",
    "for treatment, new_treatment in TREATMENTS_MAPPING.items():\n",
    "\n",
    "    # Read and sanitize the data\n",
    "    df = pd.read_csv(f\"../data/{treatment}/export/result__{treatment}_resp.csv\")\n",
    "    df_full = df.copy()\n",
    "    # drop_cols = [\"worker_id\", \"resp_worker_id\", \"prop_worker_id\", \"updated\", \"status\", \"job_id\", \"status\", \"timestamp\", \"rowid\", \"offer_dss\", \"offer\", \"offer_final\", \"completion_code\"]\n",
    "    drop_cols = [\"worker_id\", \"resp_worker_id\", \"prop_worker_id\", \"updated\", \"status\", \"job_id\", \"status\", \"timestamp\", \"rowid\", \"offer_dss\", \"offer\", \"offer_final\", \"completion_code\", \"prop_time_spent\"]\n",
    "    df = df[[col for col in df.columns if col not in drop_cols]]\n",
    "    if \"min_offer_final\" not in df_full:\n",
    "        df_full[\"min_offer_final\"] = df_full[\"min_offer\"]\n",
    "    \n",
    "    treatment = new_treatment\n",
    "    dfs[treatment] = df\n",
    "    dfs_full[treatment] = df_full\n",
    "    result_df[treatment+\".\"+\"min_offer\"] = df_full[\"min_offer\"]\n",
    "    result_df[treatment+\".\"+\"min_offer_final\"] = df_full[\"min_offer_final\"]\n",
    "    stats[treatment] = [df_full[\"min_offer\"].mean(), df_full[\"min_offer_final\"].mean()]\n",
    "    \n",
    "\n",
    "cols = [col for col in df.columns if col != \"min_offer\"] + [\"min_offer\"]\n"
   ]
  },
  {
   "cell_type": "code",
   "execution_count": 2,
   "metadata": {},
   "outputs": [
    {
     "data": {
      "text/html": [
       "<div>\n",
       "<style scoped>\n",
       "    .dataframe tbody tr th:only-of-type {\n",
       "        vertical-align: middle;\n",
       "    }\n",
       "\n",
       "    .dataframe tbody tr th {\n",
       "        vertical-align: top;\n",
       "    }\n",
       "\n",
       "    .dataframe thead th {\n",
       "        text-align: right;\n",
       "    }\n",
       "</style>\n",
       "<table border=\"1\" class=\"dataframe\">\n",
       "  <thead>\n",
       "    <tr style=\"text-align: right;\">\n",
       "      <th></th>\n",
       "      <th>T0.min_offer</th>\n",
       "      <th>T0.min_offer_final</th>\n",
       "      <th>T2.0.min_offer</th>\n",
       "      <th>T2.0.min_offer_final</th>\n",
       "      <th>T2.1.min_offer</th>\n",
       "      <th>T2.1.min_offer_final</th>\n",
       "      <th>T3.0.min_offer</th>\n",
       "      <th>T3.0.min_offer_final</th>\n",
       "      <th>T3.1.min_offer</th>\n",
       "      <th>T3.1.min_offer_final</th>\n",
       "    </tr>\n",
       "  </thead>\n",
       "  <tbody>\n",
       "    <tr>\n",
       "      <th>count</th>\n",
       "      <td>105.000000</td>\n",
       "      <td>105.000000</td>\n",
       "      <td>105.000000</td>\n",
       "      <td>105.000000</td>\n",
       "      <td>105.000000</td>\n",
       "      <td>105.000000</td>\n",
       "      <td>105.000000</td>\n",
       "      <td>105.000000</td>\n",
       "      <td>105.000000</td>\n",
       "      <td>105.000000</td>\n",
       "    </tr>\n",
       "    <tr>\n",
       "      <th>mean</th>\n",
       "      <td>40.333333</td>\n",
       "      <td>40.333333</td>\n",
       "      <td>41.380952</td>\n",
       "      <td>43.809524</td>\n",
       "      <td>38.904762</td>\n",
       "      <td>41.095238</td>\n",
       "      <td>43.904762</td>\n",
       "      <td>45.904762</td>\n",
       "      <td>42.047619</td>\n",
       "      <td>42.428571</td>\n",
       "    </tr>\n",
       "    <tr>\n",
       "      <th>std</th>\n",
       "      <td>18.775837</td>\n",
       "      <td>18.775837</td>\n",
       "      <td>20.887695</td>\n",
       "      <td>21.128315</td>\n",
       "      <td>15.222405</td>\n",
       "      <td>16.495643</td>\n",
       "      <td>23.928790</td>\n",
       "      <td>23.704724</td>\n",
       "      <td>19.148901</td>\n",
       "      <td>19.216808</td>\n",
       "    </tr>\n",
       "    <tr>\n",
       "      <th>min</th>\n",
       "      <td>0.000000</td>\n",
       "      <td>0.000000</td>\n",
       "      <td>0.000000</td>\n",
       "      <td>0.000000</td>\n",
       "      <td>0.000000</td>\n",
       "      <td>0.000000</td>\n",
       "      <td>0.000000</td>\n",
       "      <td>0.000000</td>\n",
       "      <td>5.000000</td>\n",
       "      <td>5.000000</td>\n",
       "    </tr>\n",
       "    <tr>\n",
       "      <th>25%</th>\n",
       "      <td>35.000000</td>\n",
       "      <td>35.000000</td>\n",
       "      <td>30.000000</td>\n",
       "      <td>30.000000</td>\n",
       "      <td>30.000000</td>\n",
       "      <td>30.000000</td>\n",
       "      <td>30.000000</td>\n",
       "      <td>30.000000</td>\n",
       "      <td>30.000000</td>\n",
       "      <td>35.000000</td>\n",
       "    </tr>\n",
       "    <tr>\n",
       "      <th>50%</th>\n",
       "      <td>45.000000</td>\n",
       "      <td>45.000000</td>\n",
       "      <td>40.000000</td>\n",
       "      <td>40.000000</td>\n",
       "      <td>45.000000</td>\n",
       "      <td>45.000000</td>\n",
       "      <td>50.000000</td>\n",
       "      <td>50.000000</td>\n",
       "      <td>45.000000</td>\n",
       "      <td>45.000000</td>\n",
       "    </tr>\n",
       "    <tr>\n",
       "      <th>75%</th>\n",
       "      <td>50.000000</td>\n",
       "      <td>50.000000</td>\n",
       "      <td>50.000000</td>\n",
       "      <td>50.000000</td>\n",
       "      <td>50.000000</td>\n",
       "      <td>50.000000</td>\n",
       "      <td>50.000000</td>\n",
       "      <td>50.000000</td>\n",
       "      <td>50.000000</td>\n",
       "      <td>50.000000</td>\n",
       "    </tr>\n",
       "    <tr>\n",
       "      <th>max</th>\n",
       "      <td>100.000000</td>\n",
       "      <td>100.000000</td>\n",
       "      <td>100.000000</td>\n",
       "      <td>100.000000</td>\n",
       "      <td>85.000000</td>\n",
       "      <td>85.000000</td>\n",
       "      <td>100.000000</td>\n",
       "      <td>100.000000</td>\n",
       "      <td>100.000000</td>\n",
       "      <td>100.000000</td>\n",
       "    </tr>\n",
       "  </tbody>\n",
       "</table>\n",
       "</div>"
      ],
      "text/plain": [
       "       T0.min_offer  T0.min_offer_final  T2.0.min_offer  T2.0.min_offer_final  \\\n",
       "count    105.000000          105.000000      105.000000            105.000000   \n",
       "mean      40.333333           40.333333       41.380952             43.809524   \n",
       "std       18.775837           18.775837       20.887695             21.128315   \n",
       "min        0.000000            0.000000        0.000000              0.000000   \n",
       "25%       35.000000           35.000000       30.000000             30.000000   \n",
       "50%       45.000000           45.000000       40.000000             40.000000   \n",
       "75%       50.000000           50.000000       50.000000             50.000000   \n",
       "max      100.000000          100.000000      100.000000            100.000000   \n",
       "\n",
       "       T2.1.min_offer  T2.1.min_offer_final  T3.0.min_offer  \\\n",
       "count      105.000000            105.000000      105.000000   \n",
       "mean        38.904762             41.095238       43.904762   \n",
       "std         15.222405             16.495643       23.928790   \n",
       "min          0.000000              0.000000        0.000000   \n",
       "25%         30.000000             30.000000       30.000000   \n",
       "50%         45.000000             45.000000       50.000000   \n",
       "75%         50.000000             50.000000       50.000000   \n",
       "max         85.000000             85.000000      100.000000   \n",
       "\n",
       "       T3.0.min_offer_final  T3.1.min_offer  T3.1.min_offer_final  \n",
       "count            105.000000      105.000000            105.000000  \n",
       "mean              45.904762       42.047619             42.428571  \n",
       "std               23.704724       19.148901             19.216808  \n",
       "min                0.000000        5.000000              5.000000  \n",
       "25%               30.000000       30.000000             35.000000  \n",
       "50%               50.000000       45.000000             45.000000  \n",
       "75%               50.000000       50.000000             50.000000  \n",
       "max              100.000000      100.000000            100.000000  "
      ]
     },
     "execution_count": 2,
     "metadata": {},
     "output_type": "execute_result"
    }
   ],
   "source": [
    "result_df.describe()"
   ]
  },
  {
   "cell_type": "code",
   "execution_count": 3,
   "metadata": {},
   "outputs": [
    {
     "data": {
      "text/plain": [
       "<AxesSubplot:>"
      ]
     },
     "execution_count": 3,
     "metadata": {},
     "output_type": "execute_result"
    },
    {
     "data": {
      "image/png": "[encoded data removed]",
      "text/plain": [
       "<Figure size 432x288 with 1 Axes>"
      ]
     },
     "metadata": {
      "needs_background": "light"
     },
     "output_type": "display_data"
    }
   ],
   "source": [
    "#sns.set()\n",
    "stats.T.plot.bar()"
   ]
  },
  {
   "cell_type": "code",
   "execution_count": 4,
   "metadata": {},
   "outputs": [
    {
     "data": {
      "text/plain": [
       "<AxesSubplot:>"
      ]
     },
     "execution_count": 4,
     "metadata": {},
     "output_type": "execute_result"
    },
    {
     "data": {
      "image/png": "[encoded data removed]",
      "text/plain": [
       "<Figure size 432x288 with 1 Axes>"
      ]
     },
     "metadata": {
      "needs_background": "light"
     },
     "output_type": "display_data"
    }
   ],
   "source": [
    "import seaborn as sns\n",
    "\n",
    "result_df.columns\n",
    "\n",
    "sns.barplot(data=result_df)"
   ]
  },
  {
   "cell_type": "markdown",
   "metadata": {},
   "source": [
    "**Correlation to the target value**"
   ]
  },
  {
   "cell_type": "markdown",
   "metadata": {},
   "source": [
    "**Responder's min_offer / Proposer's over and final_offer distribution**"
   ]
  },
  {
   "cell_type": "code",
   "execution_count": 5,
   "metadata": {
    "scrolled": true
   },
   "outputs": [
    {
     "name": "stderr",
     "output_type": "stream",
     "text": [
      "/usr/local/lib/python3.8/site-packages/seaborn/distributions.py:2557: FutureWarning: `distplot` is a deprecated function and will be removed in a future version. Please adapt your code to use either `displot` (a figure-level function with similar flexibility) or `histplot` (an axes-level function for histograms).\n",
      "  warnings.warn(msg, FutureWarning)\n"
     ]
    },
    {
     "name": "stdout",
     "output_type": "stream",
     "text": [
      "../data/output/diagrams/hcomp.txx.resp\n"
     ]
    },
    {
     "data": {
      "image/png": "[encoded data removed]",
      "text/plain": [
       "<Figure size 504x504 with 6 Axes>"
      ]
     },
     "metadata": {
      "needs_background": "light"
     },
     "output_type": "display_data"
    },
    {
     "data": {
      "text/plain": [
       "<Figure size 360x288 with 0 Axes>"
      ]
     },
     "metadata": {},
     "output_type": "display_data"
    },
    {
     "data": {
      "text/plain": [
       "<Figure size 360x288 with 0 Axes>"
      ]
     },
     "metadata": {},
     "output_type": "display_data"
    },
    {
     "data": {
      "text/plain": [
       "<Figure size 360x288 with 0 Axes>"
      ]
     },
     "metadata": {},
     "output_type": "display_data"
    },
    {
     "data": {
      "text/plain": [
       "<Figure size 360x288 with 0 Axes>"
      ]
     },
     "metadata": {},
     "output_type": "display_data"
    },
    {
     "data": {
      "text/plain": [
       "<Figure size 360x288 with 0 Axes>"
      ]
     },
     "metadata": {},
     "output_type": "display_data"
    }
   ],
   "source": [
    "\n",
    "bins = list(range(0, 105, 5))\n",
    "\n",
    "idx = 0\n",
    "\n",
    "f, axes = plt.subplots(3, 2, figsize=(7, 7))\n",
    "\n",
    "nb_rows = 3\n",
    "nb_cols = 2\n",
    "for treatment in sorted(TREATMENTS):\n",
    "    df = dfs_full[treatment]\n",
    "    fig = plt.figure(figsize=(5, 4))\n",
    "    ax = sns.distplot(df[\"min_offer\"], hist=True, kde=False, bins=bins, ax=axes[idx//nb_cols, idx%nb_cols],  axlabel=treatment, label=\"Responder\")\n",
    "    _ = ax.legend()\n",
    "    if treatment.upper() not in {\"T0.R\"}:\n",
    "        ax = sns.distplot(df[\"min_offer_final\"], hist=True, kde=False, bins=bins, ax=axes[idx//nb_cols, idx%nb_cols],  axlabel=treatment, label=\"Responder + DSS_info\")\n",
    "    _ = ax.legend(loc=\"center\")\n",
    "    \n",
    "    idx += 1\n",
    "_ = plt.tight_layout()\n",
    "\n",
    "\n",
    "f.savefig(os.path.join(export_folder, \"min_offers.pdf\"), bbox_inches='tight')\n",
    "\n",
    "print(export_folder)"
   ]
  },
  {
   "cell_type": "code",
   "execution_count": 6,
   "metadata": {},
   "outputs": [
    {
     "name": "stdout",
     "output_type": "stream",
     "text": [
      "(21,) (21,)\n",
      "(21,) (21,)\n",
      "(21,) (21,)\n",
      "(21,) (21,)\n",
      "../data/output/diagrams/hcomp.txx.resp\n"
     ]
    },
    {
     "name": "stderr",
     "output_type": "stream",
     "text": [
      "/usr/local/lib/python3.8/site-packages/seaborn/_decorators.py:36: FutureWarning: Pass the following variables as keyword args: x, y. From version 0.12, the only valid positional argument will be `data`, and passing other arguments without an explicit keyword will result in an error or misinterpretation.\n",
      "  warnings.warn(\n",
      "/usr/local/lib/python3.8/site-packages/seaborn/_decorators.py:36: FutureWarning: Pass the following variables as keyword args: x, y. From version 0.12, the only valid positional argument will be `data`, and passing other arguments without an explicit keyword will result in an error or misinterpretation.\n",
      "  warnings.warn(\n",
      "/usr/local/lib/python3.8/site-packages/seaborn/_decorators.py:36: FutureWarning: Pass the following variables as keyword args: x, y. From version 0.12, the only valid positional argument will be `data`, and passing other arguments without an explicit keyword will result in an error or misinterpretation.\n",
      "  warnings.warn(\n",
      "/usr/local/lib/python3.8/site-packages/seaborn/_decorators.py:36: FutureWarning: Pass the following variables as keyword args: x, y. From version 0.12, the only valid positional argument will be `data`, and passing other arguments without an explicit keyword will result in an error or misinterpretation.\n",
      "  warnings.warn(\n"
     ]
    },
    {
     "data": {
      "image/png": "[encoded data removed]",
      "text/plain": [
       "<Figure size 720x504 with 1 Axes>"
      ]
     },
     "metadata": {
      "needs_background": "light"
     },
     "output_type": "display_data"
    },
    {
     "data": {
      "text/plain": [
       "<Figure size 360x288 with 0 Axes>"
      ]
     },
     "metadata": {},
     "output_type": "display_data"
    },
    {
     "data": {
      "text/plain": [
       "<Figure size 360x288 with 0 Axes>"
      ]
     },
     "metadata": {},
     "output_type": "display_data"
    },
    {
     "data": {
      "text/plain": [
       "<Figure size 360x288 with 0 Axes>"
      ]
     },
     "metadata": {},
     "output_type": "display_data"
    },
    {
     "data": {
      "text/plain": [
       "<Figure size 360x288 with 0 Axes>"
      ]
     },
     "metadata": {},
     "output_type": "display_data"
    },
    {
     "data": {
      "text/plain": [
       "<Figure size 360x288 with 0 Axes>"
      ]
     },
     "metadata": {},
     "output_type": "display_data"
    }
   ],
   "source": [
    "\n",
    "bins = np.array(list(range(-55, 55, 5)))\n",
    "idx = 0\n",
    "\n",
    "f, axes = plt.subplots(1, 1, figsize=(10, 7))\n",
    "\n",
    "kwargs = {'cumulative': True}\n",
    "ax = axes\n",
    "for treatment in TREATMENTS:\n",
    "    #ax = axes[idx//3, idx%3]\n",
    "    df = dfs_full[treatment]\n",
    "    fig = plt.figure(figsize=(5, 4))\n",
    "    #ax = sns.distplot(df[\"offer\"], hist=True, kde=False, hist_kws=kwargs, bins=bins, ax=axes[idx//3, idx%3],  axlabel=treatment)\n",
    "    #_ = ax.legend()\n",
    "    if treatment.upper() != \"T0\":\n",
    "        x = bins[:-1]\n",
    "        y = np.cumsum(np.histogram(df[\"min_offer_final\"] - df[\"min_offer\"], bins=bins)[0])\n",
    "        print(x.shape, y.shape)\n",
    "        y = y * 100 / df.shape[0]\n",
    "        ax = sns.lineplot(x, y, label=treatment, ax=ax)\n",
    "        ax.set(xlabel =\"min_offer_final - min_offer\")\n",
    "        #ax.legend()\n",
    "    #_ = ax.legend(loc=\"center\")\n",
    "    \n",
    "    idx += 1\n",
    "\n",
    "plt.tight_layout()\n",
    "f.savefig(os.path.join(export_folder, \"final-min_offer_diff_hist_cumul.pdf\"), bbox_inches='tight')\n",
    "\n",
    "print(export_folder)"
   ]
  },
  {
   "cell_type": "code",
   "execution_count": 7,
   "metadata": {},
   "outputs": [
    {
     "name": "stdout",
     "output_type": "stream",
     "text": [
      "../data/output/diagrams/hcomp.txx.resp\n"
     ]
    },
    {
     "data": {
      "image/png": "[encoded data removed]",
      "text/plain": [
       "<Figure size 576x360 with 2 Axes>"
      ]
     },
     "metadata": {
      "needs_background": "light"
     },
     "output_type": "display_data"
    },
    {
     "data": {
      "text/plain": [
       "<Figure size 360x288 with 0 Axes>"
      ]
     },
     "metadata": {},
     "output_type": "display_data"
    },
    {
     "data": {
      "text/plain": [
       "<Figure size 360x288 with 0 Axes>"
      ]
     },
     "metadata": {},
     "output_type": "display_data"
    },
    {
     "data": {
      "text/plain": [
       "<Figure size 360x288 with 0 Axes>"
      ]
     },
     "metadata": {},
     "output_type": "display_data"
    },
    {
     "data": {
      "text/plain": [
       "<Figure size 360x288 with 0 Axes>"
      ]
     },
     "metadata": {},
     "output_type": "display_data"
    },
    {
     "data": {
      "text/plain": [
       "<Figure size 360x288 with 0 Axes>"
      ]
     },
     "metadata": {},
     "output_type": "display_data"
    }
   ],
   "source": [
    "\n",
    "bins = np.array(list(range(-55, 55, 5)))\n",
    "bins_neg = np.array(list(range(-55, 0)))\n",
    "bins_pos = np.array(list(range(5, 55)))\n",
    "\n",
    "idx = 0\n",
    "\n",
    "f, axes = plt.subplots(1, 2, figsize=(8, 5))\n",
    "\n",
    "\n",
    "kwargs = {'cumulative': True}\n",
    "ax = axes\n",
    "for treatment in TREATMENTS:\n",
    "    #ax = axes[idx//3, idx%3]\n",
    "    df = dfs_full[treatment]\n",
    "    fig = plt.figure(figsize=(5, 4))\n",
    "    #ax = sns.distplot(df[\"offer\"], hist=True, kde=False, hist_kws=kwargs, bins=bins, ax=axes[idx//3, idx%3],  axlabel=treatment)\n",
    "    #_ = ax.legend()\n",
    "    if treatment.upper() != \"T0\":\n",
    "        x = bins[:-1]\n",
    "        y_neg = np.cumsum(np.histogram(df[\"min_offer_final\"] - df[\"min_offer\"], bins=bins_neg)[0])\n",
    "        y_neg = y_neg * 100 / df.shape[0]\n",
    "        y_pos = np.cumsum(np.histogram(df[\"min_offer_final\"] - df[\"min_offer\"], bins=bins_pos)[0])\n",
    "        y_pos = y_pos * 100 / df.shape[0]\n",
    "        #print(x.shape, y.shape)\n",
    "        ax = axes[0]\n",
    "        ax = sns.lineplot(x=bins_neg[:-1], y=y_neg, label=treatment, ax=ax)\n",
    "        ax.set(xlabel =\"$min\\_offer_{final} - min\\_offer$\", ylabel=\"fraction of participants (%)\")\n",
    "        ax.set_ylim(0, 30)\n",
    "        \n",
    "        ax = axes[1]\n",
    "        ax = sns.lineplot(x=bins_pos[:-1], y=y_pos.astype(int), label=treatment, ax=ax)\n",
    "        ax.set(xlabel =\"$min\\_offer_{final} - min\\_offer$\")\n",
    "        ax.set_ylim(0, 30)\n",
    "        #ax.legend()\n",
    "    #_ = ax.legend(loc=\"center\")\n",
    "    \n",
    "    idx += 1\n",
    "\n",
    "plt.tight_layout()\n",
    "f.savefig(os.path.join(export_folder, \"final-min_offer_diff_hist_cumul_split.pdf\"), bbox_inches='tight')\n",
    "\n",
    "print(export_folder)"
   ]
  }
 ],
 "metadata": {
  "kernelspec": {
   "display_name": "Python 3",
   "language": "python",
   "name": "python3"
  },
  "language_info": {
   "codemirror_mode": {
    "name": "ipython",
    "version": 3
   },
   "file_extension": ".py",
   "mimetype": "text/x-python",
   "name": "python",
   "nbconvert_exporter": "python",
   "pygments_lexer": "ipython3",
   "version": "3.8.9"
  }
 },
 "nbformat": 4,
 "nbformat_minor": 2
}
