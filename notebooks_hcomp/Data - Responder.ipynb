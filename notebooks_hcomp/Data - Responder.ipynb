{
 "cells": [
  {
   "cell_type": "code",
   "execution_count": 1,
   "metadata": {},
   "outputs": [
    {
     "name": "stderr",
     "output_type": "stream",
     "text": [
      "/usr/local/lib/python3.6/site-packages/sklearn/externals/six.py:31: DeprecationWarning: The module is deprecated in version 0.21 and will be removed in version 0.23 since we've dropped support for Python 2.7. Please rely on the official version of six (https://pypi.org/project/six/).\n",
      "  \"(https://pypi.org/project/six/).\", DeprecationWarning)\n"
     ]
    }
   ],
   "source": [
    "import os\n",
    "import sys\n",
    "module_path = os.path.abspath(os.path.join('..'))\n",
    "if module_path not in sys.path:\n",
    "    sys.path.append(module_path)\n",
    "\n",
    "import pandas as pd\n",
    "%matplotlib inline\n",
    "import matplotlib.pyplot as plt\n",
    "import numpy as np\n",
    "from IPython.display import display\n",
    "from sklearn.model_selection import train_test_split\n",
    "from sklearn.metrics import r2_score\n",
    "import seaborn as sns\n",
    "import imblearn\n",
    "\n",
    "from utils import get_dfs_full_prop\n",
    "\n",
    "TREATMENT = \"hcomp.txx.resp\"\n",
    "\n",
    "export_folder = f\"../data/output/diagrams/{TREATMENT}\"\n",
    "os.makedirs(export_folder, exist_ok=True)\n",
    "\n",
    "\n",
    "dfs_full_prop = get_dfs_full_prop()\n",
    "\n",
    "dfs = {}\n",
    "dfs_full = {}\n",
    "\n",
    "\n",
    "result_df = pd.DataFrame(index=range(105))\n",
    "stats = pd.DataFrame(index=[\"min_offer\", \"min_offer_final\"])\n",
    "\n",
    "TREATMENTS = {\"t00\", \"t10a\", \"t11a\", \"t12\", \"t13\", \"t20\"}\n",
    "TREATMENTS_MAPPING = {\n",
    "    \"t00\": \"T0\",\n",
    "#     \"t10a\": \"TAI.R\",\n",
    "#     \"t10b\": \"TAI.R\",\n",
    "    \"t12\": \"T2.0\",\n",
    "    \"t13\": \"T2.1\",\n",
    "    #\"t20\": \"TAIAuto.R\",\n",
    "    \n",
    "}\n",
    "TREATMENTS = sorted(TREATMENTS_MAPPING.values())\n",
    "\n",
    "for treatment, new_treatment in TREATMENTS_MAPPING.items():\n",
    "\n",
    "    # Read and sanitize the data\n",
    "    df = pd.read_csv(f\"../data/{treatment}/export/result__{treatment}_resp.csv\")\n",
    "    df_full = df.copy()\n",
    "    # drop_cols = [\"worker_id\", \"resp_worker_id\", \"prop_worker_id\", \"updated\", \"status\", \"job_id\", \"status\", \"timestamp\", \"rowid\", \"offer_dss\", \"offer\", \"offer_final\", \"completion_code\"]\n",
    "    drop_cols = [\"worker_id\", \"resp_worker_id\", \"prop_worker_id\", \"updated\", \"status\", \"job_id\", \"status\", \"timestamp\", \"rowid\", \"offer_dss\", \"offer\", \"offer_final\", \"completion_code\", \"prop_time_spent\"]\n",
    "    df = df[[col for col in df.columns if col not in drop_cols]]\n",
    "    if \"min_offer_final\" not in df_full:\n",
    "        df_full[\"min_offer_final\"] = df_full[\"min_offer\"]\n",
    "    \n",
    "    treatment = new_treatment\n",
    "    dfs[treatment] = df\n",
    "    dfs_full[treatment] = df_full\n",
    "    result_df[treatment+\".\"+\"min_offer\"] = df_full[\"min_offer\"]\n",
    "    result_df[treatment+\".\"+\"min_offer_final\"] = df_full[\"min_offer_final\"]\n",
    "    stats[treatment] = [df_full[\"min_offer\"].mean(), df_full[\"min_offer_final\"].mean()]\n",
    "    \n",
    "\n",
    "cols = [col for col in df.columns if col != \"min_offer\"] + [\"min_offer\"]\n"
   ]
  },
  {
   "cell_type": "code",
   "execution_count": 2,
   "metadata": {},
   "outputs": [
    {
     "data": {
      "text/html": [
       "<div>\n",
       "<style scoped>\n",
       "    .dataframe tbody tr th:only-of-type {\n",
       "        vertical-align: middle;\n",
       "    }\n",
       "\n",
       "    .dataframe tbody tr th {\n",
       "        vertical-align: top;\n",
       "    }\n",
       "\n",
       "    .dataframe thead th {\n",
       "        text-align: right;\n",
       "    }\n",
       "</style>\n",
       "<table border=\"1\" class=\"dataframe\">\n",
       "  <thead>\n",
       "    <tr style=\"text-align: right;\">\n",
       "      <th></th>\n",
       "      <th>T0.min_offer</th>\n",
       "      <th>T0.min_offer_final</th>\n",
       "      <th>T2.0.min_offer</th>\n",
       "      <th>T2.0.min_offer_final</th>\n",
       "      <th>T2.1.min_offer</th>\n",
       "      <th>T2.1.min_offer_final</th>\n",
       "    </tr>\n",
       "  </thead>\n",
       "  <tbody>\n",
       "    <tr>\n",
       "      <th>count</th>\n",
       "      <td>105.000000</td>\n",
       "      <td>105.000000</td>\n",
       "      <td>105.000000</td>\n",
       "      <td>105.000000</td>\n",
       "      <td>105.000000</td>\n",
       "      <td>105.000000</td>\n",
       "    </tr>\n",
       "    <tr>\n",
       "      <th>mean</th>\n",
       "      <td>40.333333</td>\n",
       "      <td>40.333333</td>\n",
       "      <td>41.380952</td>\n",
       "      <td>43.809524</td>\n",
       "      <td>38.904762</td>\n",
       "      <td>41.095238</td>\n",
       "    </tr>\n",
       "    <tr>\n",
       "      <th>std</th>\n",
       "      <td>18.775837</td>\n",
       "      <td>18.775837</td>\n",
       "      <td>20.887695</td>\n",
       "      <td>21.128315</td>\n",
       "      <td>15.222405</td>\n",
       "      <td>16.495643</td>\n",
       "    </tr>\n",
       "    <tr>\n",
       "      <th>min</th>\n",
       "      <td>0.000000</td>\n",
       "      <td>0.000000</td>\n",
       "      <td>0.000000</td>\n",
       "      <td>0.000000</td>\n",
       "      <td>0.000000</td>\n",
       "      <td>0.000000</td>\n",
       "    </tr>\n",
       "    <tr>\n",
       "      <th>25%</th>\n",
       "      <td>35.000000</td>\n",
       "      <td>35.000000</td>\n",
       "      <td>30.000000</td>\n",
       "      <td>30.000000</td>\n",
       "      <td>30.000000</td>\n",
       "      <td>30.000000</td>\n",
       "    </tr>\n",
       "    <tr>\n",
       "      <th>50%</th>\n",
       "      <td>45.000000</td>\n",
       "      <td>45.000000</td>\n",
       "      <td>40.000000</td>\n",
       "      <td>40.000000</td>\n",
       "      <td>45.000000</td>\n",
       "      <td>45.000000</td>\n",
       "    </tr>\n",
       "    <tr>\n",
       "      <th>75%</th>\n",
       "      <td>50.000000</td>\n",
       "      <td>50.000000</td>\n",
       "      <td>50.000000</td>\n",
       "      <td>50.000000</td>\n",
       "      <td>50.000000</td>\n",
       "      <td>50.000000</td>\n",
       "    </tr>\n",
       "    <tr>\n",
       "      <th>max</th>\n",
       "      <td>100.000000</td>\n",
       "      <td>100.000000</td>\n",
       "      <td>100.000000</td>\n",
       "      <td>100.000000</td>\n",
       "      <td>85.000000</td>\n",
       "      <td>85.000000</td>\n",
       "    </tr>\n",
       "  </tbody>\n",
       "</table>\n",
       "</div>"
      ],
      "text/plain": [
       "       T0.min_offer  T0.min_offer_final  T2.0.min_offer  T2.0.min_offer_final  \\\n",
       "count    105.000000          105.000000      105.000000            105.000000   \n",
       "mean      40.333333           40.333333       41.380952             43.809524   \n",
       "std       18.775837           18.775837       20.887695             21.128315   \n",
       "min        0.000000            0.000000        0.000000              0.000000   \n",
       "25%       35.000000           35.000000       30.000000             30.000000   \n",
       "50%       45.000000           45.000000       40.000000             40.000000   \n",
       "75%       50.000000           50.000000       50.000000             50.000000   \n",
       "max      100.000000          100.000000      100.000000            100.000000   \n",
       "\n",
       "       T2.1.min_offer  T2.1.min_offer_final  \n",
       "count      105.000000            105.000000  \n",
       "mean        38.904762             41.095238  \n",
       "std         15.222405             16.495643  \n",
       "min          0.000000              0.000000  \n",
       "25%         30.000000             30.000000  \n",
       "50%         45.000000             45.000000  \n",
       "75%         50.000000             50.000000  \n",
       "max         85.000000             85.000000  "
      ]
     },
     "execution_count": 2,
     "metadata": {},
     "output_type": "execute_result"
    }
   ],
   "source": [
    "result_df.describe()"
   ]
  },
  {
   "cell_type": "code",
   "execution_count": 3,
   "metadata": {},
   "outputs": [
    {
     "data": {
      "text/plain": [
       "<matplotlib.axes._subplots.AxesSubplot at 0x7fb7083aafd0>"
      ]
     },
     "execution_count": 3,
     "metadata": {},
     "output_type": "execute_result"
    },
    {
     "data": {
      "image/png": "[encoded data removed]",
      "text/plain": [
       "<Figure size 432x288 with 1 Axes>"
      ]
     },
     "metadata": {
      "needs_background": "light"
     },
     "output_type": "display_data"
    }
   ],
   "source": [
    "#sns.set()\n",
    "stats.T.plot.bar()"
   ]
  },
  {
   "cell_type": "code",
   "execution_count": 4,
   "metadata": {},
   "outputs": [
    {
     "data": {
      "text/plain": [
       "<matplotlib.axes._subplots.AxesSubplot at 0x7fb686ec4278>"
      ]
     },
     "execution_count": 4,
     "metadata": {},
     "output_type": "execute_result"
    },
    {
     "data": {
      "image/png": "[encoded data removed]",
      "text/plain": [
       "<Figure size 432x288 with 1 Axes>"
      ]
     },
     "metadata": {
      "needs_background": "light"
     },
     "output_type": "display_data"
    }
   ],
   "source": [
    "import seaborn as sns\n",
    "\n",
    "result_df.columns\n",
    "\n",
    "sns.barplot(data=result_df)"
   ]
  },
  {
   "cell_type": "markdown",
   "metadata": {},
   "source": [
    "**Correlation to the target value**"
   ]
  },
  {
   "cell_type": "markdown",
   "metadata": {},
   "source": [
    "**Responder's min_offer / Proposer's over and final_offer distribution**"
   ]
  },
  {
   "cell_type": "code",
   "execution_count": 5,
   "metadata": {
    "scrolled": true
   },
   "outputs": [
    {
     "name": "stdout",
     "output_type": "stream",
     "text": [
      "../data/output/diagrams/hcomp.txx.resp\n"
     ]
    },
    {
     "data": {
      "image/png": "[encoded data removed]",
      "text/plain": [
       "<Figure size 504x504 with 4 Axes>"
      ]
     },
     "metadata": {
      "needs_background": "light"
     },
     "output_type": "display_data"
    },
    {
     "data": {
      "text/plain": [
       "<Figure size 360x288 with 0 Axes>"
      ]
     },
     "metadata": {},
     "output_type": "display_data"
    },
    {
     "data": {
      "text/plain": [
       "<Figure size 360x288 with 0 Axes>"
      ]
     },
     "metadata": {},
     "output_type": "display_data"
    },
    {
     "data": {
      "text/plain": [
       "<Figure size 360x288 with 0 Axes>"
      ]
     },
     "metadata": {},
     "output_type": "display_data"
    }
   ],
   "source": [
    "\n",
    "bins = list(range(0, 105, 5))\n",
    "\n",
    "idx = 0\n",
    "\n",
    "f, axes = plt.subplots(2, 2, figsize=(7, 7))\n",
    "\n",
    "nb_rows = 3\n",
    "nb_cols = 2\n",
    "for treatment in sorted(TREATMENTS):\n",
    "    df = dfs_full[treatment]\n",
    "    fig = plt.figure(figsize=(5, 4))\n",
    "    ax = sns.distplot(df[\"min_offer\"], hist=True, kde=False, bins=bins, ax=axes[idx//nb_cols, idx%nb_cols],  axlabel=treatment, label=\"Responder\")\n",
    "    _ = ax.legend()\n",
    "    if treatment.upper() not in {\"T0.R\"}:\n",
    "        ax = sns.distplot(df[\"min_offer_final\"], hist=True, kde=False, bins=bins, ax=axes[idx//nb_cols, idx%nb_cols],  axlabel=treatment, label=\"Responder + DSS_info\")\n",
    "    _ = ax.legend(loc=\"center\")\n",
    "    \n",
    "    idx += 1\n",
    "_ = plt.tight_layout()\n",
    "\n",
    "\n",
    "f.savefig(os.path.join(export_folder, \"min_offers.pdf\"), bbox_inches='tight')\n",
    "\n",
    "print(export_folder)"
   ]
  },
  {
   "cell_type": "code",
   "execution_count": 6,
   "metadata": {},
   "outputs": [
    {
     "name": "stdout",
     "output_type": "stream",
     "text": [
      "(21,) (21,)\n",
      "(21,) (21,)\n",
      "../data/output/diagrams/hcomp.txx.resp\n"
     ]
    },
    {
     "data": {
      "image/png": "[encoded data removed]",
      "text/plain": [
       "<Figure size 720x504 with 1 Axes>"
      ]
     },
     "metadata": {
      "needs_background": "light"
     },
     "output_type": "display_data"
    },
    {
     "data": {
      "text/plain": [
       "<Figure size 360x288 with 0 Axes>"
      ]
     },
     "metadata": {},
     "output_type": "display_data"
    },
    {
     "data": {
      "text/plain": [
       "<Figure size 360x288 with 0 Axes>"
      ]
     },
     "metadata": {},
     "output_type": "display_data"
    },
    {
     "data": {
      "text/plain": [
       "<Figure size 360x288 with 0 Axes>"
      ]
     },
     "metadata": {},
     "output_type": "display_data"
    }
   ],
   "source": [
    "\n",
    "bins = np.array(list(range(-55, 55, 5)))\n",
    "idx = 0\n",
    "\n",
    "f, axes = plt.subplots(1, 1, figsize=(10, 7))\n",
    "\n",
    "kwargs = {'cumulative': True}\n",
    "ax = axes\n",
    "for treatment in TREATMENTS:\n",
    "    #ax = axes[idx//3, idx%3]\n",
    "    df = dfs_full[treatment]\n",
    "    fig = plt.figure(figsize=(5, 4))\n",
    "    #ax = sns.distplot(df[\"offer\"], hist=True, kde=False, hist_kws=kwargs, bins=bins, ax=axes[idx//3, idx%3],  axlabel=treatment)\n",
    "    #_ = ax.legend()\n",
    "    if treatment.upper() != \"T0\":\n",
    "        x = bins[:-1]\n",
    "        y = np.cumsum(np.histogram(df[\"min_offer_final\"] - df[\"min_offer\"], bins=bins)[0])\n",
    "        print(x.shape, y.shape)\n",
    "        y = y * 100 / df.shape[0]\n",
    "        ax = sns.lineplot(x, y, label=treatment, ax=ax)\n",
    "        ax.set(xlabel =\"min_offer_final - min_offer\")\n",
    "        #ax.legend()\n",
    "    #_ = ax.legend(loc=\"center\")\n",
    "    \n",
    "    idx += 1\n",
    "\n",
    "plt.tight_layout()\n",
    "f.savefig(os.path.join(export_folder, \"final-min_offer_diff_hist_cumul.pdf\"), bbox_inches='tight')\n",
    "\n",
    "print(export_folder)"
   ]
  },
  {
   "cell_type": "code",
   "execution_count": 13,
   "metadata": {},
   "outputs": [
    {
     "name": "stdout",
     "output_type": "stream",
     "text": [
      "(21,) (21,)\n",
      "(21,) (21,)\n",
      "../data/output/diagrams/hcomp.txx.resp\n"
     ]
    },
    {
     "data": {
      "image/png": "[encoded data removed]",
      "text/plain": [
       "<Figure size 576x360 with 2 Axes>"
      ]
     },
     "metadata": {
      "needs_background": "light"
     },
     "output_type": "display_data"
    },
    {
     "data": {
      "text/plain": [
       "<Figure size 360x288 with 0 Axes>"
      ]
     },
     "metadata": {},
     "output_type": "display_data"
    },
    {
     "data": {
      "text/plain": [
       "<Figure size 360x288 with 0 Axes>"
      ]
     },
     "metadata": {},
     "output_type": "display_data"
    },
    {
     "data": {
      "text/plain": [
       "<Figure size 360x288 with 0 Axes>"
      ]
     },
     "metadata": {},
     "output_type": "display_data"
    }
   ],
   "source": [
    "\n",
    "bins = np.array(list(range(-55, 55, 5)))\n",
    "bins_neg = np.array(list(range(-55, 0)))\n",
    "bins_pos = np.array(list(range(5, 55)))\n",
    "\n",
    "idx = 0\n",
    "\n",
    "f, axes = plt.subplots(1, 2, figsize=(8, 5))\n",
    "\n",
    "\n",
    "kwargs = {'cumulative': True}\n",
    "ax = axes\n",
    "for treatment in TREATMENTS:\n",
    "    #ax = axes[idx//3, idx%3]\n",
    "    df = dfs_full[treatment]\n",
    "    fig = plt.figure(figsize=(5, 4))\n",
    "    #ax = sns.distplot(df[\"offer\"], hist=True, kde=False, hist_kws=kwargs, bins=bins, ax=axes[idx//3, idx%3],  axlabel=treatment)\n",
    "    #_ = ax.legend()\n",
    "    if treatment.upper() != \"T0\":\n",
    "        x = bins[:-1]\n",
    "        y_neg = np.cumsum(np.histogram(df[\"min_offer_final\"] - df[\"min_offer\"], bins=bins_neg)[0])\n",
    "        y_neg = y_neg * 100 / df.shape[0]\n",
    "        y_pos = np.cumsum(np.histogram(df[\"min_offer_final\"] - df[\"min_offer\"], bins=bins_pos)[0])\n",
    "        y_pos = y_pos * 100 / df.shape[0]\n",
    "        print(x.shape, y.shape)\n",
    "        ax = axes[0]\n",
    "        ax = sns.lineplot(x=bins_neg[:-1], y=y_neg, label=treatment, ax=ax)\n",
    "        ax.set(xlabel =\"$min\\_offer_{final} - min\\_offer$\", ylabel=\"fraction of participants (%)\")\n",
    "        ax.set_ylim(0, 30)\n",
    "        \n",
    "        ax = axes[1]\n",
    "        ax = sns.lineplot(x=bins_pos[:-1], y=y_pos.astype(int), label=treatment, ax=ax)\n",
    "        ax.set(xlabel =\"$min\\_offer_{final} - min\\_offer$\")\n",
    "        ax.set_ylim(0, 30)\n",
    "        #ax.legend()\n",
    "    #_ = ax.legend(loc=\"center\")\n",
    "    \n",
    "    idx += 1\n",
    "\n",
    "plt.tight_layout()\n",
    "f.savefig(os.path.join(export_folder, \"final-min_offer_diff_hist_cumul_split.pdf\"), bbox_inches='tight')\n",
    "\n",
    "print(export_folder)"
   ]
  },
  {
   "cell_type": "code",
   "execution_count": 8,
   "metadata": {},
   "outputs": [],
   "source": [
    "# bins = list(range(-100, 105, 5))\n",
    "\n",
    "# plt.figure(figsize=(8,4))\n",
    "# offer_min_offer_diff = df_full[\"offer\"] - df_full[\"min_offer\"]\n",
    "# ax = sns.distplot(offer_min_offer_diff, hist=True, kde=False, axlabel=\"offer - minimum offer\", bins=bins, label=\"Proposer\")\n",
    "# _ = ax.set_ylabel(\"Frequefncy\")\n",
    "\n",
    "\n",
    "# offer_min_offer_diff = df_full[\"offer_final\"] - df_full[\"min_offer\"]\n",
    "# ax = sns.distplot(offer_min_offer_diff, hist=True, kde=False, axlabel=\"offer - minimum offer\", bins=bins, label=\"Proposer + DSS\", ax=ax)\n",
    "# plt.legend()\n",
    "# plt.tight_layout()\n",
    "# ax.figure.savefig(os.path.join(export_folder, \"offer-min_offer.pdf\"))"
   ]
  },
  {
   "cell_type": "code",
   "execution_count": 9,
   "metadata": {},
   "outputs": [],
   "source": [
    "from core.models.metrics import cross_compute, avg_gain_ratio, gain_mean, rejection_ratio, loss_sum, MAX_GAIN\n",
    "\n",
    "@np.vectorize\n",
    "def resp_gain(min_offer, offer):\n",
    "    return offer if offer >= min_offer else 0\n",
    "\n",
    "def resp_gain_mean(min_offer, offer):\n",
    "    return resp_gain(min_offer, offer).mean()\n",
    "\n",
    "def resp_gain_ratio(min_offer, offer):\n",
    "    numerator, denominator = resp_gain(min_offer, offer), resp_gain(min_offer, MAX_GAIN)\n",
    "    zero_mask = denominator==0\n",
    "    denominator[zero_mask] = 1  #avoid division by zero\n",
    "    tmp = numerator / denominator\n",
    "    tmp[denominator==0] = 0\n",
    "    return np.mean(tmp)\n",
    "\n",
    "def resp_gain_ratio_mean(min_offer, offer):\n",
    "    return resp_gain_ratio(min_offer, offer).mean()\n",
    "\n",
    "\n",
    "def get_infos(min_offer, offer, metrics=None, do_cross_compute=False):\n",
    "    if metrics is None:\n",
    "        metrics = [resp_gain_ratio_mean, resp_gain_mean, rejection_ratio, loss_sum]\n",
    "    #df = pd.DataFrame()\n",
    "    size1, size2 = len(min_offer), len(offer)\n",
    "    if size1 != size2:\n",
    "        print(\"WARNING: different shapes!!!\", size1, size2)\n",
    "        min_size = min(size1, size2)\n",
    "        min_offer = min_offer[:min_size]\n",
    "        offer = offer[:min_size]\n",
    "    infos = dict()\n",
    "    for idx, metric in enumerate(metrics):\n",
    "        if do_cross_compute:\n",
    "            infos[metric.__name__] = cross_compute(min_offer, offer, metric)\n",
    "        else:\n",
    "            infos[metric.__name__] = metric(min_offer, offer)\n",
    "\n",
    "    return infos"
   ]
  },
  {
   "cell_type": "markdown",
   "metadata": {},
   "source": [
    "**Proposer's performance**"
   ]
  },
  {
   "cell_type": "code",
   "execution_count": 10,
   "metadata": {
    "scrolled": true
   },
   "outputs": [
    {
     "ename": "KeyError",
     "evalue": "'TAI.R'",
     "output_type": "error",
     "traceback": [
      "\u001b[0;31m---------------------------------------------------------------------------\u001b[0m",
      "\u001b[0;31mKeyError\u001b[0m                                  Traceback (most recent call last)",
      "\u001b[0;32m<ipython-input-10-6dc9ea7e9bdb>\u001b[0m in \u001b[0;36m<module>\u001b[0;34m\u001b[0m\n\u001b[1;32m      2\u001b[0m \u001b[0;31m# #Human (fixed-matching) performance t00\u001b[0m\u001b[0;34m\u001b[0m\u001b[0;34m\u001b[0m\u001b[0;34m\u001b[0m\u001b[0m\n\u001b[1;32m      3\u001b[0m \u001b[0;31m# df_infos = df_infos.append(get_infos(df_full['min_offer'], df_full['offer']), ignore_index=True)\u001b[0m\u001b[0;34m\u001b[0m\u001b[0;34m\u001b[0m\u001b[0;34m\u001b[0m\u001b[0m\n\u001b[0;32m----> 4\u001b[0;31m \u001b[0mdf_infos\u001b[0m \u001b[0;34m=\u001b[0m \u001b[0mdf_infos\u001b[0m\u001b[0;34m.\u001b[0m\u001b[0mappend\u001b[0m\u001b[0;34m(\u001b[0m\u001b[0mget_infos\u001b[0m\u001b[0;34m(\u001b[0m\u001b[0mdfs_full\u001b[0m\u001b[0;34m[\u001b[0m\u001b[0;34m'TAI.R'\u001b[0m\u001b[0;34m]\u001b[0m\u001b[0;34m[\u001b[0m\u001b[0;34m'min_offer'\u001b[0m\u001b[0;34m]\u001b[0m\u001b[0;34m,\u001b[0m \u001b[0mdfs_full_prop\u001b[0m\u001b[0;34m[\u001b[0m\u001b[0;34m'TAI.Pu'\u001b[0m\u001b[0;34m]\u001b[0m\u001b[0;34m[\u001b[0m\u001b[0;34m'offer_final'\u001b[0m\u001b[0;34m]\u001b[0m\u001b[0;34m)\u001b[0m\u001b[0;34m,\u001b[0m \u001b[0mignore_index\u001b[0m\u001b[0;34m=\u001b[0m\u001b[0;32mTrue\u001b[0m\u001b[0;34m)\u001b[0m\u001b[0;34m\u001b[0m\u001b[0;34m\u001b[0m\u001b[0m\n\u001b[0m\u001b[1;32m      5\u001b[0m \u001b[0mdf_infos\u001b[0m \u001b[0;34m=\u001b[0m \u001b[0mdf_infos\u001b[0m\u001b[0;34m.\u001b[0m\u001b[0mappend\u001b[0m\u001b[0;34m(\u001b[0m\u001b[0mget_infos\u001b[0m\u001b[0;34m(\u001b[0m\u001b[0mdfs_full\u001b[0m\u001b[0;34m[\u001b[0m\u001b[0;34m'TAI.R'\u001b[0m\u001b[0;34m]\u001b[0m\u001b[0;34m[\u001b[0m\u001b[0;34m'min_offer_final'\u001b[0m\u001b[0;34m]\u001b[0m\u001b[0;34m,\u001b[0m \u001b[0mdfs_full_prop\u001b[0m\u001b[0;34m[\u001b[0m\u001b[0;34m'TAI.Pu'\u001b[0m\u001b[0;34m]\u001b[0m\u001b[0;34m[\u001b[0m\u001b[0;34m'offer_final'\u001b[0m\u001b[0;34m]\u001b[0m\u001b[0;34m)\u001b[0m\u001b[0;34m,\u001b[0m \u001b[0mignore_index\u001b[0m\u001b[0;34m=\u001b[0m\u001b[0;32mTrue\u001b[0m\u001b[0;34m)\u001b[0m\u001b[0;34m\u001b[0m\u001b[0;34m\u001b[0m\u001b[0m\n\u001b[1;32m      6\u001b[0m \u001b[0;34m\u001b[0m\u001b[0m\n",
      "\u001b[0;31mKeyError\u001b[0m: 'TAI.R'"
     ]
    }
   ],
   "source": [
    "df_infos = pd.DataFrame()\n",
    "# #Human (fixed-matching) performance t00\n",
    "# df_infos = df_infos.append(get_infos(df_full['min_offer'], df_full['offer']), ignore_index=True)\n",
    "df_infos = df_infos.append(get_infos(dfs_full['TAI.R']['min_offer'], dfs_full_prop['TAI.Pu']['offer_final']), ignore_index=True)\n",
    "df_infos = df_infos.append(get_infos(dfs_full['TAI.R']['min_offer_final'], dfs_full_prop['TAI.Pu']['offer_final']), ignore_index=True)\n",
    "\n",
    "\n",
    "df_infos.index = [\"TAI.Pu + DSS vs TAI.R\", \"TAI.PU + DSS vs TAI.R + DSS_info\"]\n",
    "\n",
    "# df_infos = df_infos.loc[[\"Proposer\", \"Proposer + DSS\", \"AI-System\"]]\n",
    "df_infos\n"
   ]
  },
  {
   "cell_type": "code",
   "execution_count": null,
   "metadata": {},
   "outputs": [],
   "source": [
    "df_infos = pd.DataFrame()\n",
    "# #Human (fixed-matching) performance t00\n",
    "# df_infos = df_infos.append(get_infos(df_full['min_offer'], df_full['offer']), ignore_index=True)\n",
    "df_infos = df_infos.append(get_infos(dfs_full['TXAI.R']['min_offer'], dfs_full_prop['TXAI.Pu']['offer_final']), ignore_index=True)\n",
    "df_infos = df_infos.append(get_infos(dfs_full['TXAI.R']['min_offer_final'], dfs_full_prop['TXAI.Pu']['offer_final']), ignore_index=True)\n",
    "\n",
    "\n",
    "df_infos.index = [\"TXAI.Pu + DSS vs TXAI.R\", \"TXAI.Pu + DSS vs TXAI.R + DSS_info\"]\n",
    "\n",
    "df_infos\n"
   ]
  },
  {
   "cell_type": "code",
   "execution_count": null,
   "metadata": {},
   "outputs": [],
   "source": [
    "np.histogram(df[\"min_offer\"] - df[\"min_offer_final\"])\n",
    "\n",
    "plt.figure(figsize=(5,3))\n",
    "tmp = pd.DataFrame()\n",
    "tmp[\"TAI.R#min_offer\"] = result_df[\"TAI.R.min_offer\"] - result_df[\"TAI.R.min_offer_final\"]\n",
    "tmp[\"TXAI.R#min_offer\"] = result_df[\"TXAI.R.min_offer\"] - result_df[\"TXAI.R.min_offer_final\"]\n",
    "\n",
    "\n",
    "bins = np.arange(-100, 100, 5)\n",
    "ax = sns.distplot(tmp[\"TAI.R#min_offer\"], hist=True, kde=False, axlabel=\"Responder minimum offer\", bins=bins, label=\"TAI.R\")\n",
    "ax = sns.distplot(tmp[\"TXAI.R#min_offer\"], hist=True, kde=False, axlabel=\"min_offer - min_offer_dss\", bins=bins, label=\"TXAI.R\")\n",
    "ax.legend(loc='best')\n",
    "_ = ax.set_ylabel(\"Frequency\")\n",
    "\n",
    "ax.set_yscale('log')\n",
    "plt.tight_layout()\n",
    "\n",
    "\n",
    "ax.figure.savefig(os.path.join(export_folder, \"TAIvsTXAIdiff.pdf\"))"
   ]
  },
  {
   "cell_type": "code",
   "execution_count": null,
   "metadata": {},
   "outputs": [],
   "source": []
  }
 ],
 "metadata": {
  "kernelspec": {
   "display_name": "Python 3",
   "language": "python",
   "name": "python3"
  },
  "language_info": {
   "codemirror_mode": {
    "name": "ipython",
    "version": 3
   },
   "file_extension": ".py",
   "mimetype": "text/x-python",
   "name": "python",
   "nbconvert_exporter": "python",
   "pygments_lexer": "ipython3",
   "version": "3.6.9"
  }
 },
 "nbformat": 4,
 "nbformat_minor": 2
}
