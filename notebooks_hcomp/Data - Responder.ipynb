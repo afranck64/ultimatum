{
 "cells": [
  {
   "cell_type": "code",
   "execution_count": 27,
   "metadata": {},
   "outputs": [],
   "source": [
    "import os\n",
    "import sys\n",
    "module_path = os.path.abspath(os.path.join('..'))\n",
    "if module_path not in sys.path:\n",
    "    sys.path.append(module_path)\n",
    "\n",
    "import pandas as pd\n",
    "%matplotlib inline\n",
    "import matplotlib.pyplot as plt\n",
    "import numpy as np\n",
    "from IPython.display import display\n",
    "from sklearn.model_selection import train_test_split\n",
    "from sklearn.metrics import r2_score\n",
    "import seaborn as sns\n",
    "import imblearn\n",
    "\n",
    "from utils import get_dfs_full_prop\n",
    "\n",
    "TREATMENT = \"hcomp.txx.resp\"\n",
    "\n",
    "export_folder = f\"../data/output/diagrams/{TREATMENT}\"\n",
    "os.makedirs(export_folder, exist_ok=True)\n",
    "\n",
    "\n",
    "dfs_full_prop = get_dfs_full_prop()\n",
    "\n",
    "dfs = {}\n",
    "dfs_full = {}\n",
    "\n",
    "\n",
    "result_df = pd.DataFrame(index=range(105))\n",
    "stats = pd.DataFrame(index=[\"min_offer\", \"min_offer_final\"])\n",
    "\n",
    "TREATMENTS = {\"t00\", \"t10a\", \"t11a\", \"t12\", \"t13\", \"t20\"}\n",
    "TREATMENTS_MAPPING = {\n",
    "    \"t00\": \"T0.R\",\n",
    "#     \"t10a\": \"TAI.R\",\n",
    "#     \"t10b\": \"TAI.R\",\n",
    "    \"t12\": \"TAI.R\",\n",
    "    \"t13\": \"TXAI.R\",\n",
    "    \"t20\": \"TAIAuto.R\",\n",
    "    \n",
    "}\n",
    "TREATMENTS = sorted(TREATMENTS_MAPPING.values())\n",
    "\n",
    "for treatment, new_treatment in TREATMENTS_MAPPING.items():\n",
    "\n",
    "    # Read and sanitize the data\n",
    "    df = pd.read_csv(f\"../data/{treatment}/export/result__{treatment}_resp.csv\")\n",
    "    df_full = df.copy()\n",
    "    # drop_cols = [\"worker_id\", \"resp_worker_id\", \"prop_worker_id\", \"updated\", \"status\", \"job_id\", \"status\", \"timestamp\", \"rowid\", \"offer_dss\", \"offer\", \"offer_final\", \"completion_code\"]\n",
    "    drop_cols = [\"worker_id\", \"resp_worker_id\", \"prop_worker_id\", \"updated\", \"status\", \"job_id\", \"status\", \"timestamp\", \"rowid\", \"offer_dss\", \"offer\", \"offer_final\", \"completion_code\", \"prop_time_spent\"]\n",
    "    df = df[[col for col in df.columns if col not in drop_cols]]\n",
    "    if \"min_offer_final\" not in df_full:\n",
    "        df_full[\"min_offer_final\"] = df_full[\"min_offer\"]\n",
    "    \n",
    "    treatment = new_treatment\n",
    "    dfs[treatment] = df\n",
    "    dfs_full[treatment] = df_full\n",
    "    result_df[treatment+\".\"+\"min_offer\"] = df_full[\"min_offer\"]\n",
    "    result_df[treatment+\".\"+\"min_offer_final\"] = df_full[\"min_offer_final\"]\n",
    "    stats[treatment] = [df_full[\"min_offer\"].mean(), df_full[\"min_offer_final\"].mean()]\n",
    "    \n",
    "\n",
    "cols = [col for col in df.columns if col != \"min_offer\"] + [\"min_offer\"]\n"
   ]
  },
  {
   "cell_type": "code",
   "execution_count": 2,
   "metadata": {},
   "outputs": [
    {
     "data": {
      "text/html": [
       "<div>\n",
       "<style scoped>\n",
       "    .dataframe tbody tr th:only-of-type {\n",
       "        vertical-align: middle;\n",
       "    }\n",
       "\n",
       "    .dataframe tbody tr th {\n",
       "        vertical-align: top;\n",
       "    }\n",
       "\n",
       "    .dataframe thead th {\n",
       "        text-align: right;\n",
       "    }\n",
       "</style>\n",
       "<table border=\"1\" class=\"dataframe\">\n",
       "  <thead>\n",
       "    <tr style=\"text-align: right;\">\n",
       "      <th></th>\n",
       "      <th>T0.R.min_offer</th>\n",
       "      <th>T0.R.min_offer_final</th>\n",
       "      <th>TAI.R.min_offer</th>\n",
       "      <th>TAI.R.min_offer_final</th>\n",
       "      <th>TXAI.R.min_offer</th>\n",
       "      <th>TXAI.R.min_offer_final</th>\n",
       "      <th>TAIAuto.R.min_offer</th>\n",
       "      <th>TAIAuto.R.min_offer_final</th>\n",
       "    </tr>\n",
       "  </thead>\n",
       "  <tbody>\n",
       "    <tr>\n",
       "      <th>count</th>\n",
       "      <td>105.000000</td>\n",
       "      <td>105.000000</td>\n",
       "      <td>105.000000</td>\n",
       "      <td>105.000000</td>\n",
       "      <td>105.000000</td>\n",
       "      <td>105.000000</td>\n",
       "      <td>105.000000</td>\n",
       "      <td>105.000000</td>\n",
       "    </tr>\n",
       "    <tr>\n",
       "      <th>mean</th>\n",
       "      <td>40.333333</td>\n",
       "      <td>40.333333</td>\n",
       "      <td>41.380952</td>\n",
       "      <td>43.809524</td>\n",
       "      <td>38.904762</td>\n",
       "      <td>41.095238</td>\n",
       "      <td>41.333333</td>\n",
       "      <td>41.333333</td>\n",
       "    </tr>\n",
       "    <tr>\n",
       "      <th>std</th>\n",
       "      <td>18.775837</td>\n",
       "      <td>18.775837</td>\n",
       "      <td>20.887695</td>\n",
       "      <td>21.128315</td>\n",
       "      <td>15.222405</td>\n",
       "      <td>16.495643</td>\n",
       "      <td>22.884184</td>\n",
       "      <td>22.884184</td>\n",
       "    </tr>\n",
       "    <tr>\n",
       "      <th>min</th>\n",
       "      <td>0.000000</td>\n",
       "      <td>0.000000</td>\n",
       "      <td>0.000000</td>\n",
       "      <td>0.000000</td>\n",
       "      <td>0.000000</td>\n",
       "      <td>0.000000</td>\n",
       "      <td>0.000000</td>\n",
       "      <td>0.000000</td>\n",
       "    </tr>\n",
       "    <tr>\n",
       "      <th>25%</th>\n",
       "      <td>35.000000</td>\n",
       "      <td>35.000000</td>\n",
       "      <td>30.000000</td>\n",
       "      <td>30.000000</td>\n",
       "      <td>30.000000</td>\n",
       "      <td>30.000000</td>\n",
       "      <td>25.000000</td>\n",
       "      <td>25.000000</td>\n",
       "    </tr>\n",
       "    <tr>\n",
       "      <th>50%</th>\n",
       "      <td>45.000000</td>\n",
       "      <td>45.000000</td>\n",
       "      <td>40.000000</td>\n",
       "      <td>40.000000</td>\n",
       "      <td>45.000000</td>\n",
       "      <td>45.000000</td>\n",
       "      <td>45.000000</td>\n",
       "      <td>45.000000</td>\n",
       "    </tr>\n",
       "    <tr>\n",
       "      <th>75%</th>\n",
       "      <td>50.000000</td>\n",
       "      <td>50.000000</td>\n",
       "      <td>50.000000</td>\n",
       "      <td>50.000000</td>\n",
       "      <td>50.000000</td>\n",
       "      <td>50.000000</td>\n",
       "      <td>50.000000</td>\n",
       "      <td>50.000000</td>\n",
       "    </tr>\n",
       "    <tr>\n",
       "      <th>max</th>\n",
       "      <td>100.000000</td>\n",
       "      <td>100.000000</td>\n",
       "      <td>100.000000</td>\n",
       "      <td>100.000000</td>\n",
       "      <td>85.000000</td>\n",
       "      <td>85.000000</td>\n",
       "      <td>100.000000</td>\n",
       "      <td>100.000000</td>\n",
       "    </tr>\n",
       "  </tbody>\n",
       "</table>\n",
       "</div>"
      ],
      "text/plain": [
       "       T0.R.min_offer  T0.R.min_offer_final  TAI.R.min_offer  \\\n",
       "count      105.000000            105.000000       105.000000   \n",
       "mean        40.333333             40.333333        41.380952   \n",
       "std         18.775837             18.775837        20.887695   \n",
       "min          0.000000              0.000000         0.000000   \n",
       "25%         35.000000             35.000000        30.000000   \n",
       "50%         45.000000             45.000000        40.000000   \n",
       "75%         50.000000             50.000000        50.000000   \n",
       "max        100.000000            100.000000       100.000000   \n",
       "\n",
       "       TAI.R.min_offer_final  TXAI.R.min_offer  TXAI.R.min_offer_final  \\\n",
       "count             105.000000        105.000000              105.000000   \n",
       "mean               43.809524         38.904762               41.095238   \n",
       "std                21.128315         15.222405               16.495643   \n",
       "min                 0.000000          0.000000                0.000000   \n",
       "25%                30.000000         30.000000               30.000000   \n",
       "50%                40.000000         45.000000               45.000000   \n",
       "75%                50.000000         50.000000               50.000000   \n",
       "max               100.000000         85.000000               85.000000   \n",
       "\n",
       "       TAIAuto.R.min_offer  TAIAuto.R.min_offer_final  \n",
       "count           105.000000                 105.000000  \n",
       "mean             41.333333                  41.333333  \n",
       "std              22.884184                  22.884184  \n",
       "min               0.000000                   0.000000  \n",
       "25%              25.000000                  25.000000  \n",
       "50%              45.000000                  45.000000  \n",
       "75%              50.000000                  50.000000  \n",
       "max             100.000000                 100.000000  "
      ]
     },
     "execution_count": 2,
     "metadata": {},
     "output_type": "execute_result"
    }
   ],
   "source": [
    "result_df.describe()"
   ]
  },
  {
   "cell_type": "code",
   "execution_count": 3,
   "metadata": {},
   "outputs": [
    {
     "data": {
      "text/plain": [
       "<matplotlib.axes._subplots.AxesSubplot at 0x7f0f4014f978>"
      ]
     },
     "execution_count": 3,
     "metadata": {},
     "output_type": "execute_result"
    },
    {
     "data": {
      "image/png": "[encoded data removed]",
      "text/plain": [
       "<Figure size 432x288 with 1 Axes>"
      ]
     },
     "metadata": {
      "needs_background": "light"
     },
     "output_type": "display_data"
    }
   ],
   "source": [
    "#sns.set()\n",
    "stats.T.plot.bar()"
   ]
  },
  {
   "cell_type": "code",
   "execution_count": 4,
   "metadata": {},
   "outputs": [
    {
     "data": {
      "text/plain": [
       "<matplotlib.axes._subplots.AxesSubplot at 0x7f0ebfdf4438>"
      ]
     },
     "execution_count": 4,
     "metadata": {},
     "output_type": "execute_result"
    },
    {
     "data": {
      "image/png": "[encoded data removed]",
      "text/plain": [
       "<Figure size 432x288 with 1 Axes>"
      ]
     },
     "metadata": {
      "needs_background": "light"
     },
     "output_type": "display_data"
    }
   ],
   "source": [
    "import seaborn as sns\n",
    "\n",
    "result_df.columns\n",
    "\n",
    "sns.barplot(data=result_df)"
   ]
  },
  {
   "cell_type": "markdown",
   "metadata": {},
   "source": [
    "**Correlation to the target value**"
   ]
  },
  {
   "cell_type": "markdown",
   "metadata": {},
   "source": [
    "**Responder's min_offer / Proposer's over and final_offer distribution**"
   ]
  },
  {
   "cell_type": "code",
   "execution_count": 38,
   "metadata": {
    "scrolled": true
   },
   "outputs": [
    {
     "name": "stdout",
     "output_type": "stream",
     "text": [
      "../data/output/diagrams/hcomp.txx.resp\n"
     ]
    },
    {
     "data": {
      "image/png": "[encoded data removed]",
      "text/plain": [
       "<Figure size 504x504 with 4 Axes>"
      ]
     },
     "metadata": {
      "needs_background": "light"
     },
     "output_type": "display_data"
    },
    {
     "data": {
      "text/plain": [
       "<Figure size 360x288 with 0 Axes>"
      ]
     },
     "metadata": {},
     "output_type": "display_data"
    },
    {
     "data": {
      "text/plain": [
       "<Figure size 360x288 with 0 Axes>"
      ]
     },
     "metadata": {},
     "output_type": "display_data"
    },
    {
     "data": {
      "text/plain": [
       "<Figure size 360x288 with 0 Axes>"
      ]
     },
     "metadata": {},
     "output_type": "display_data"
    },
    {
     "data": {
      "text/plain": [
       "<Figure size 360x288 with 0 Axes>"
      ]
     },
     "metadata": {},
     "output_type": "display_data"
    }
   ],
   "source": [
    "\n",
    "bins = list(range(0, 105, 5))\n",
    "\n",
    "idx = 0\n",
    "\n",
    "f, axes = plt.subplots(2, 2, figsize=(7, 7))\n",
    "\n",
    "nb_rows = 3\n",
    "nb_cols = 2\n",
    "for treatment in sorted(TREATMENTS):\n",
    "    df = dfs_full[treatment]\n",
    "    fig = plt.figure(figsize=(5, 4))\n",
    "    ax = sns.distplot(df[\"min_offer\"], hist=True, kde=False, bins=bins, ax=axes[idx//nb_cols, idx%nb_cols],  axlabel=treatment, label=\"Responder\")\n",
    "    _ = ax.legend()\n",
    "    if treatment.upper() not in {\"T0.R\"}:\n",
    "        ax = sns.distplot(df[\"min_offer_final\"], hist=True, kde=False, bins=bins, ax=axes[idx//nb_cols, idx%nb_cols],  axlabel=treatment, label=\"Responder + DSS_info\")\n",
    "    _ = ax.legend(loc=\"center\")\n",
    "    \n",
    "    idx += 1\n",
    "_ = plt.tight_layout()\n",
    "\n",
    "\n",
    "f.savefig(os.path.join(export_folder, \"min_offers.pdf\"), bbox_inches='tight')\n",
    "\n",
    "print(export_folder)"
   ]
  },
  {
   "cell_type": "code",
   "execution_count": null,
   "metadata": {},
   "outputs": [],
   "source": []
  },
  {
   "cell_type": "code",
   "execution_count": 6,
   "metadata": {},
   "outputs": [],
   "source": [
    "# bins = list(range(-100, 105, 5))\n",
    "\n",
    "# plt.figure(figsize=(8,4))\n",
    "# offer_min_offer_diff = df_full[\"offer\"] - df_full[\"min_offer\"]\n",
    "# ax = sns.distplot(offer_min_offer_diff, hist=True, kde=False, axlabel=\"offer - minimum offer\", bins=bins, label=\"Proposer\")\n",
    "# _ = ax.set_ylabel(\"Frequefncy\")\n",
    "\n",
    "\n",
    "# offer_min_offer_diff = df_full[\"offer_final\"] - df_full[\"min_offer\"]\n",
    "# ax = sns.distplot(offer_min_offer_diff, hist=True, kde=False, axlabel=\"offer - minimum offer\", bins=bins, label=\"Proposer + DSS\", ax=ax)\n",
    "# plt.legend()\n",
    "# plt.tight_layout()\n",
    "# ax.figure.savefig(os.path.join(export_folder, \"offer-min_offer.pdf\"))"
   ]
  },
  {
   "cell_type": "code",
   "execution_count": 64,
   "metadata": {},
   "outputs": [],
   "source": [
    "from core.models.metrics import cross_compute, avg_gain_ratio, gain_mean, rejection_ratio, loss_sum, MAX_GAIN\n",
    "\n",
    "@np.vectorize\n",
    "def resp_gain(min_offer, offer):\n",
    "    return offer if offer >= min_offer else 0\n",
    "\n",
    "def resp_gain_mean(min_offer, offer):\n",
    "    return resp_gain(min_offer, offer).mean()\n",
    "\n",
    "def resp_gain_ratio(min_offer, offer):\n",
    "    numerator, denominator = resp_gain(min_offer, offer), resp_gain(min_offer, MAX_GAIN)\n",
    "    zero_mask = denominator==0\n",
    "    denominator[zero_mask] = 1  #avoid division by zero\n",
    "    tmp = numerator / denominator\n",
    "    tmp[denominator==0] = 0\n",
    "    return np.mean(tmp)\n",
    "\n",
    "def resp_gain_ratio_mean(min_offer, offer):\n",
    "    return resp_gain_ratio(min_offer, offer).mean()\n",
    "\n",
    "\n",
    "def get_infos(min_offer, offer, metrics=None, do_cross_compute=False):\n",
    "    if metrics is None:\n",
    "        metrics = [resp_gain_ratio_mean, resp_gain_mean, rejection_ratio, loss_sum]\n",
    "    #df = pd.DataFrame()\n",
    "    size1, size2 = len(min_offer), len(offer)\n",
    "    if size1 != size2:\n",
    "        print(\"WARNING: different shapes!!!\", size1, size2)\n",
    "        min_size = min(size1, size2)\n",
    "        min_offer = min_offer[:min_size]\n",
    "        offer = offer[:min_size]\n",
    "    infos = dict()\n",
    "    for idx, metric in enumerate(metrics):\n",
    "        if do_cross_compute:\n",
    "            infos[metric.__name__] = cross_compute(min_offer, offer, metric)\n",
    "        else:\n",
    "            infos[metric.__name__] = metric(min_offer, offer)\n",
    "\n",
    "    return infos"
   ]
  },
  {
   "cell_type": "markdown",
   "metadata": {},
   "source": [
    "**Proposer's performance**"
   ]
  },
  {
   "cell_type": "code",
   "execution_count": 65,
   "metadata": {
    "scrolled": true
   },
   "outputs": [
    {
     "data": {
      "text/html": [
       "<div>\n",
       "<style scoped>\n",
       "    .dataframe tbody tr th:only-of-type {\n",
       "        vertical-align: middle;\n",
       "    }\n",
       "\n",
       "    .dataframe tbody tr th {\n",
       "        vertical-align: top;\n",
       "    }\n",
       "\n",
       "    .dataframe thead th {\n",
       "        text-align: right;\n",
       "    }\n",
       "</style>\n",
       "<table border=\"1\" class=\"dataframe\">\n",
       "  <thead>\n",
       "    <tr style=\"text-align: right;\">\n",
       "      <th></th>\n",
       "      <th>loss_sum</th>\n",
       "      <th>rejection_ratio</th>\n",
       "      <th>resp_gain_mean</th>\n",
       "      <th>resp_gain_ratio_mean</th>\n",
       "    </tr>\n",
       "  </thead>\n",
       "  <tbody>\n",
       "    <tr>\n",
       "      <th>TAI.Pu + DSS vs TAI.R</th>\n",
       "      <td>2045.0</td>\n",
       "      <td>0.228571</td>\n",
       "      <td>38.000000</td>\n",
       "      <td>0.380000</td>\n",
       "    </tr>\n",
       "    <tr>\n",
       "      <th>TAI.PU + DSS vs TAI.R + DSS_info</th>\n",
       "      <td>2100.0</td>\n",
       "      <td>0.276190</td>\n",
       "      <td>36.190476</td>\n",
       "      <td>0.361905</td>\n",
       "    </tr>\n",
       "  </tbody>\n",
       "</table>\n",
       "</div>"
      ],
      "text/plain": [
       "                                  loss_sum  rejection_ratio  resp_gain_mean  \\\n",
       "TAI.Pu + DSS vs TAI.R               2045.0         0.228571       38.000000   \n",
       "TAI.PU + DSS vs TAI.R + DSS_info    2100.0         0.276190       36.190476   \n",
       "\n",
       "                                  resp_gain_ratio_mean  \n",
       "TAI.Pu + DSS vs TAI.R                         0.380000  \n",
       "TAI.PU + DSS vs TAI.R + DSS_info              0.361905  "
      ]
     },
     "execution_count": 65,
     "metadata": {},
     "output_type": "execute_result"
    }
   ],
   "source": [
    "df_infos = pd.DataFrame()\n",
    "# #Human (fixed-matching) performance t00\n",
    "# df_infos = df_infos.append(get_infos(df_full['min_offer'], df_full['offer']), ignore_index=True)\n",
    "df_infos = df_infos.append(get_infos(dfs_full['TAI.R']['min_offer'], dfs_full_prop['TAI.Pu']['offer_final']), ignore_index=True)\n",
    "df_infos = df_infos.append(get_infos(dfs_full['TAI.R']['min_offer_final'], dfs_full_prop['TAI.Pu']['offer_final']), ignore_index=True)\n",
    "\n",
    "\n",
    "df_infos.index = [\"TAI.Pu + DSS vs TAI.R\", \"TAI.PU + DSS vs TAI.R + DSS_info\"]\n",
    "\n",
    "# df_infos = df_infos.loc[[\"Proposer\", \"Proposer + DSS\", \"AI-System\"]]\n",
    "df_infos\n"
   ]
  },
  {
   "cell_type": "code",
   "execution_count": 66,
   "metadata": {},
   "outputs": [
    {
     "name": "stdout",
     "output_type": "stream",
     "text": [
      "WARNING: different shapes!!! 105 103\n",
      "WARNING: different shapes!!! 105 103\n"
     ]
    },
    {
     "data": {
      "text/html": [
       "<div>\n",
       "<style scoped>\n",
       "    .dataframe tbody tr th:only-of-type {\n",
       "        vertical-align: middle;\n",
       "    }\n",
       "\n",
       "    .dataframe tbody tr th {\n",
       "        vertical-align: top;\n",
       "    }\n",
       "\n",
       "    .dataframe thead th {\n",
       "        text-align: right;\n",
       "    }\n",
       "</style>\n",
       "<table border=\"1\" class=\"dataframe\">\n",
       "  <thead>\n",
       "    <tr style=\"text-align: right;\">\n",
       "      <th></th>\n",
       "      <th>loss_sum</th>\n",
       "      <th>rejection_ratio</th>\n",
       "      <th>resp_gain_mean</th>\n",
       "      <th>resp_gain_ratio_mean</th>\n",
       "    </tr>\n",
       "  </thead>\n",
       "  <tbody>\n",
       "    <tr>\n",
       "      <th>TXAI.Pu + DSS vs TXAI.R</th>\n",
       "      <td>2005.0</td>\n",
       "      <td>0.145631</td>\n",
       "      <td>43.592233</td>\n",
       "      <td>0.435922</td>\n",
       "    </tr>\n",
       "    <tr>\n",
       "      <th>TXAI.Pu + DSS vs TXAI.R + DSS_info</th>\n",
       "      <td>1875.0</td>\n",
       "      <td>0.174757</td>\n",
       "      <td>41.650485</td>\n",
       "      <td>0.416505</td>\n",
       "    </tr>\n",
       "  </tbody>\n",
       "</table>\n",
       "</div>"
      ],
      "text/plain": [
       "                                    loss_sum  rejection_ratio  resp_gain_mean  \\\n",
       "TXAI.Pu + DSS vs TXAI.R               2005.0         0.145631       43.592233   \n",
       "TXAI.Pu + DSS vs TXAI.R + DSS_info    1875.0         0.174757       41.650485   \n",
       "\n",
       "                                    resp_gain_ratio_mean  \n",
       "TXAI.Pu + DSS vs TXAI.R                         0.435922  \n",
       "TXAI.Pu + DSS vs TXAI.R + DSS_info              0.416505  "
      ]
     },
     "execution_count": 66,
     "metadata": {},
     "output_type": "execute_result"
    }
   ],
   "source": [
    "df_infos = pd.DataFrame()\n",
    "# #Human (fixed-matching) performance t00\n",
    "# df_infos = df_infos.append(get_infos(df_full['min_offer'], df_full['offer']), ignore_index=True)\n",
    "df_infos = df_infos.append(get_infos(dfs_full['TXAI.R']['min_offer'], dfs_full_prop['TXAI.Pu']['offer_final']), ignore_index=True)\n",
    "df_infos = df_infos.append(get_infos(dfs_full['TXAI.R']['min_offer_final'], dfs_full_prop['TXAI.Pu']['offer_final']), ignore_index=True)\n",
    "\n",
    "\n",
    "df_infos.index = [\"TXAI.Pu + DSS vs TXAI.R\", \"TXAI.Pu + DSS vs TXAI.R + DSS_info\"]\n",
    "\n",
    "df_infos\n"
   ]
  },
  {
   "cell_type": "code",
   "execution_count": 52,
   "metadata": {},
   "outputs": [
    {
     "data": {
      "image/png": "[encoded data removed]",
      "text/plain": [
       "<Figure size 360x216 with 1 Axes>"
      ]
     },
     "metadata": {
      "needs_background": "light"
     },
     "output_type": "display_data"
    }
   ],
   "source": [
    "np.histogram(df[\"min_offer\"] - df[\"min_offer_final\"])\n",
    "\n",
    "plt.figure(figsize=(5,3))\n",
    "tmp = pd.DataFrame()\n",
    "tmp[\"TAI.R#min_offer\"] = result_df[\"TAI.R.min_offer\"] - result_df[\"TAI.R.min_offer_final\"]\n",
    "tmp[\"TXAI.R#min_offer\"] = result_df[\"TXAI.R.min_offer\"] - result_df[\"TXAI.R.min_offer_final\"]\n",
    "\n",
    "\n",
    "bins = np.arange(-100, 100, 5)\n",
    "ax = sns.distplot(tmp[\"TAI.R#min_offer\"], hist=True, kde=False, axlabel=\"Responder minimum offer\", bins=bins, label=\"TAI.R\")\n",
    "ax = sns.distplot(tmp[\"TXAI.R#min_offer\"], hist=True, kde=False, axlabel=\"min_offer - min_offer_dss\", bins=bins, label=\"TXAI.R\")\n",
    "ax.legend(loc='best')\n",
    "_ = ax.set_ylabel(\"Frequency\")\n",
    "\n",
    "ax.set_yscale('log')\n",
    "plt.tight_layout()\n",
    "\n",
    "\n",
    "ax.figure.savefig(os.path.join(export_folder, \"TAIvsTXAIdiff.pdf\"))"
   ]
  },
  {
   "cell_type": "code",
   "execution_count": null,
   "metadata": {},
   "outputs": [],
   "source": [
    "tmp.describe()"
   ]
  }
 ],
 "metadata": {
  "kernelspec": {
   "display_name": "Python 3",
   "language": "python",
   "name": "python3"
  },
  "language_info": {
   "codemirror_mode": {
    "name": "ipython",
    "version": 3
   },
   "file_extension": ".py",
   "mimetype": "text/x-python",
   "name": "python",
   "nbconvert_exporter": "python",
   "pygments_lexer": "ipython3",
   "version": "3.6.9"
  }
 },
 "nbformat": 4,
 "nbformat_minor": 2
}
