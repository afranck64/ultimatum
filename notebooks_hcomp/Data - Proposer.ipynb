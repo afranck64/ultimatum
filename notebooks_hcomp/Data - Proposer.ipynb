{
 "cells": [
  {
   "cell_type": "code",
   "execution_count": 32,
   "metadata": {},
   "outputs": [],
   "source": [
    "import os\n",
    "import sys\n",
    "module_path = os.path.abspath(os.path.join('..'))\n",
    "if module_path not in sys.path:\n",
    "    sys.path.append(module_path)\n",
    "\n",
    "import pandas as pd\n",
    "%matplotlib inline\n",
    "import matplotlib.pyplot as plt\n",
    "import numpy as np\n",
    "from IPython.display import display\n",
    "from sklearn.model_selection import train_test_split\n",
    "from sklearn.metrics import r2_score\n",
    "import seaborn as sns\n",
    "import imblearn\n",
    "\n",
    "from utils import get_dfs_full_resp\n",
    "\n",
    "TREATMENT = \"hcomp.txx.prop\"\n",
    "\n",
    "export_folder = f\"../data/output/diagrams/{TREATMENT}\"\n",
    "os.makedirs(export_folder, exist_ok=True)\n",
    "\n",
    "dfs = {}\n",
    "dfs_full = {}\n",
    "\n",
    "result_df = pd.DataFrame(index=range(105))\n",
    "index=[\"Proposer\", \"Proposer + DSS\"]\n",
    "stats = pd.DataFrame(index=index)\n",
    "\n",
    "#TREATMENTS = {\"t00\", \"t10a\", \"t10b\", \"t11a\", \"t11b\", \"t11c\"}\n",
    "TREATMENTS_MAPPING = {\n",
    "    \"t00\": \"T0.P\",\n",
    "    \"t10a\": \"TAI.Pu\",\n",
    "    \"t10b\": \"TAI.Pn\",\n",
    "    \"t11a\": \"TXAI.Pu\",\n",
    "    \"t11b\": \"TXAI.Pi\",\n",
    "    \"t11c\": \"TXAI.Pua\",\n",
    "    \n",
    "}\n",
    "TREATMENTS = TREATMENTS_MAPPING.values()\n",
    "\n",
    "for treatment, new_treatment in TREATMENTS_MAPPING.items():\n",
    "\n",
    "    # Read and sanitize the data\n",
    "    df = pd.read_csv(f\"../data/{treatment}/export/result__{treatment}_prop.csv\")\n",
    "    df_full = df.copy()\n",
    "    # drop_cols = [\"worker_id\", \"resp_worker_id\", \"prop_worker_id\", \"updated\", \"status\", \"job_id\", \"status\", \"timestamp\", \"rowid\", \"offer_dss\", \"offer\", \"offer_final\", \"completion_code\"]\n",
    "    drop_cols = [\"worker_id\", \"resp_worker_id\", \"prop_worker_id\", \"updated\", \"status\", \"job_id\", \"status\", \"timestamp\", \"rowid\", \"offer_dss\", \"offer\", \"offer_final\", \"completion_code\", \"prop_time_spent\"]\n",
    "    df = df[[col for col in df.columns if col not in drop_cols]]\n",
    "    \n",
    "    treatment = new_treatment\n",
    "    dfs[treatment] = df\n",
    "    dfs_full[treatment] = df_full\n",
    "    result_df[treatment+\".\"+\"offer\"] = df_full[\"offer\"]\n",
    "    result_df[treatment+\".\"+\"offer_final\"] = df_full[\"offer_final\"]\n",
    "    stats[treatment.upper()] = [df_full[\"offer\"].mean(), df_full[\"offer_final\"].mean()]\n",
    "    \n",
    "\n",
    "cols = [col for col in df.columns if col != \"min_offer\"] + [\"min_offer\"]\n",
    "\n",
    "dfs_full_resp = get_dfs_full_resp()"
   ]
  },
  {
   "cell_type": "code",
   "execution_count": 27,
   "metadata": {},
   "outputs": [
    {
     "data": {
      "text/html": [
       "<div>\n",
       "<style scoped>\n",
       "    .dataframe tbody tr th:only-of-type {\n",
       "        vertical-align: middle;\n",
       "    }\n",
       "\n",
       "    .dataframe tbody tr th {\n",
       "        vertical-align: top;\n",
       "    }\n",
       "\n",
       "    .dataframe thead th {\n",
       "        text-align: right;\n",
       "    }\n",
       "</style>\n",
       "<table border=\"1\" class=\"dataframe\">\n",
       "  <thead>\n",
       "    <tr style=\"text-align: right;\">\n",
       "      <th></th>\n",
       "      <th>T0.P.offer</th>\n",
       "      <th>T0.P.offer_final</th>\n",
       "      <th>TAI.Pu.offer</th>\n",
       "      <th>TAI.Pu.offer_final</th>\n",
       "      <th>TAI.Pn.offer</th>\n",
       "      <th>TAI.Pn.offer_final</th>\n",
       "      <th>TXAI.Pu.offer</th>\n",
       "      <th>TXAI.Pu.offer_final</th>\n",
       "      <th>TXAI.Pi.offer</th>\n",
       "      <th>TXAI.Pi.offer_final</th>\n",
       "      <th>TXAI.Pua.offer</th>\n",
       "      <th>TXAI.Pua.offer_final</th>\n",
       "    </tr>\n",
       "  </thead>\n",
       "  <tbody>\n",
       "    <tr>\n",
       "      <th>count</th>\n",
       "      <td>103.000000</td>\n",
       "      <td>103.000000</td>\n",
       "      <td>105.000000</td>\n",
       "      <td>105.000000</td>\n",
       "      <td>105.000000</td>\n",
       "      <td>105.000000</td>\n",
       "      <td>103.000000</td>\n",
       "      <td>103.000000</td>\n",
       "      <td>105.000000</td>\n",
       "      <td>105.000000</td>\n",
       "      <td>102.000000</td>\n",
       "      <td>102.000000</td>\n",
       "    </tr>\n",
       "    <tr>\n",
       "      <th>mean</th>\n",
       "      <td>43.592233</td>\n",
       "      <td>43.592233</td>\n",
       "      <td>41.476190</td>\n",
       "      <td>45.666667</td>\n",
       "      <td>44.714286</td>\n",
       "      <td>49.380952</td>\n",
       "      <td>46.990291</td>\n",
       "      <td>48.155340</td>\n",
       "      <td>46.666667</td>\n",
       "      <td>49.285714</td>\n",
       "      <td>44.558824</td>\n",
       "      <td>46.470588</td>\n",
       "    </tr>\n",
       "    <tr>\n",
       "      <th>std</th>\n",
       "      <td>14.974119</td>\n",
       "      <td>14.974119</td>\n",
       "      <td>15.315964</td>\n",
       "      <td>14.495800</td>\n",
       "      <td>16.782382</td>\n",
       "      <td>14.588840</td>\n",
       "      <td>13.920992</td>\n",
       "      <td>13.320894</td>\n",
       "      <td>17.929706</td>\n",
       "      <td>14.081298</td>\n",
       "      <td>19.180009</td>\n",
       "      <td>17.371711</td>\n",
       "    </tr>\n",
       "    <tr>\n",
       "      <th>min</th>\n",
       "      <td>0.000000</td>\n",
       "      <td>0.000000</td>\n",
       "      <td>0.000000</td>\n",
       "      <td>0.000000</td>\n",
       "      <td>0.000000</td>\n",
       "      <td>5.000000</td>\n",
       "      <td>0.000000</td>\n",
       "      <td>0.000000</td>\n",
       "      <td>0.000000</td>\n",
       "      <td>0.000000</td>\n",
       "      <td>5.000000</td>\n",
       "      <td>0.000000</td>\n",
       "    </tr>\n",
       "    <tr>\n",
       "      <th>25%</th>\n",
       "      <td>40.000000</td>\n",
       "      <td>40.000000</td>\n",
       "      <td>35.000000</td>\n",
       "      <td>50.000000</td>\n",
       "      <td>40.000000</td>\n",
       "      <td>50.000000</td>\n",
       "      <td>45.000000</td>\n",
       "      <td>50.000000</td>\n",
       "      <td>40.000000</td>\n",
       "      <td>50.000000</td>\n",
       "      <td>40.000000</td>\n",
       "      <td>40.000000</td>\n",
       "    </tr>\n",
       "    <tr>\n",
       "      <th>50%</th>\n",
       "      <td>50.000000</td>\n",
       "      <td>50.000000</td>\n",
       "      <td>50.000000</td>\n",
       "      <td>50.000000</td>\n",
       "      <td>50.000000</td>\n",
       "      <td>50.000000</td>\n",
       "      <td>50.000000</td>\n",
       "      <td>50.000000</td>\n",
       "      <td>50.000000</td>\n",
       "      <td>50.000000</td>\n",
       "      <td>50.000000</td>\n",
       "      <td>50.000000</td>\n",
       "    </tr>\n",
       "    <tr>\n",
       "      <th>75%</th>\n",
       "      <td>50.000000</td>\n",
       "      <td>50.000000</td>\n",
       "      <td>50.000000</td>\n",
       "      <td>50.000000</td>\n",
       "      <td>50.000000</td>\n",
       "      <td>50.000000</td>\n",
       "      <td>50.000000</td>\n",
       "      <td>50.000000</td>\n",
       "      <td>50.000000</td>\n",
       "      <td>50.000000</td>\n",
       "      <td>50.000000</td>\n",
       "      <td>50.000000</td>\n",
       "    </tr>\n",
       "    <tr>\n",
       "      <th>max</th>\n",
       "      <td>100.000000</td>\n",
       "      <td>100.000000</td>\n",
       "      <td>80.000000</td>\n",
       "      <td>90.000000</td>\n",
       "      <td>100.000000</td>\n",
       "      <td>100.000000</td>\n",
       "      <td>100.000000</td>\n",
       "      <td>100.000000</td>\n",
       "      <td>100.000000</td>\n",
       "      <td>100.000000</td>\n",
       "      <td>100.000000</td>\n",
       "      <td>100.000000</td>\n",
       "    </tr>\n",
       "  </tbody>\n",
       "</table>\n",
       "</div>"
      ],
      "text/plain": [
       "       T0.P.offer  T0.P.offer_final  TAI.Pu.offer  TAI.Pu.offer_final  \\\n",
       "count  103.000000        103.000000    105.000000          105.000000   \n",
       "mean    43.592233         43.592233     41.476190           45.666667   \n",
       "std     14.974119         14.974119     15.315964           14.495800   \n",
       "min      0.000000          0.000000      0.000000            0.000000   \n",
       "25%     40.000000         40.000000     35.000000           50.000000   \n",
       "50%     50.000000         50.000000     50.000000           50.000000   \n",
       "75%     50.000000         50.000000     50.000000           50.000000   \n",
       "max    100.000000        100.000000     80.000000           90.000000   \n",
       "\n",
       "       TAI.Pn.offer  TAI.Pn.offer_final  TXAI.Pu.offer  TXAI.Pu.offer_final  \\\n",
       "count    105.000000          105.000000     103.000000           103.000000   \n",
       "mean      44.714286           49.380952      46.990291            48.155340   \n",
       "std       16.782382           14.588840      13.920992            13.320894   \n",
       "min        0.000000            5.000000       0.000000             0.000000   \n",
       "25%       40.000000           50.000000      45.000000            50.000000   \n",
       "50%       50.000000           50.000000      50.000000            50.000000   \n",
       "75%       50.000000           50.000000      50.000000            50.000000   \n",
       "max      100.000000          100.000000     100.000000           100.000000   \n",
       "\n",
       "       TXAI.Pi.offer  TXAI.Pi.offer_final  TXAI.Pua.offer  \\\n",
       "count     105.000000           105.000000      102.000000   \n",
       "mean       46.666667            49.285714       44.558824   \n",
       "std        17.929706            14.081298       19.180009   \n",
       "min         0.000000             0.000000        5.000000   \n",
       "25%        40.000000            50.000000       40.000000   \n",
       "50%        50.000000            50.000000       50.000000   \n",
       "75%        50.000000            50.000000       50.000000   \n",
       "max       100.000000           100.000000      100.000000   \n",
       "\n",
       "       TXAI.Pua.offer_final  \n",
       "count            102.000000  \n",
       "mean              46.470588  \n",
       "std               17.371711  \n",
       "min                0.000000  \n",
       "25%               40.000000  \n",
       "50%               50.000000  \n",
       "75%               50.000000  \n",
       "max              100.000000  "
      ]
     },
     "execution_count": 27,
     "metadata": {},
     "output_type": "execute_result"
    }
   ],
   "source": [
    "result_df.describe()"
   ]
  },
  {
   "cell_type": "code",
   "execution_count": 28,
   "metadata": {},
   "outputs": [
    {
     "name": "stdout",
     "output_type": "stream",
     "text": [
      "\\begin{tabular}{lrrrrrr}\n",
      "\\toprule\n",
      "{} &       T0.P &     TAI.PU &     TAI.PN &    TXAI.PU &    TXAI.PI &   TXAI.PUA \\\\\n",
      "\\midrule\n",
      "Proposer       &  43.592233 &  41.476190 &  44.714286 &  46.990291 &  46.666667 &  44.558824 \\\\\n",
      "Proposer + DSS &  43.592233 &  45.666667 &  49.380952 &  48.155340 &  49.285714 &  46.470588 \\\\\n",
      "\\bottomrule\n",
      "\\end{tabular}\n",
      "\n"
     ]
    },
    {
     "data": {
      "image/png": "[encoded data removed]",
      "text/plain": [
       "<Figure size 432x288 with 1 Axes>"
      ]
     },
     "metadata": {
      "needs_background": "light"
     },
     "output_type": "display_data"
    },
    {
     "data": {
      "image/png": "[encoded data removed]",
      "text/plain": [
       "<Figure size 432x288 with 1 Axes>"
      ]
     },
     "metadata": {
      "needs_background": "light"
     },
     "output_type": "display_data"
    }
   ],
   "source": [
    "# sns.set()\n",
    "stats.T.plot.bar()\n",
    "\n",
    "    \n",
    "#tmp_stats = stats[[\"T0.P\", \"TAI.Pu\", \"TAI.Pn\", \"TXAI.Pu\", \"TXAI.Pi\", \"TXAI.Pua\"]]\n",
    "tmp_stats = stats\n",
    "tmp_stats.T.plot.bar()\n",
    "\n",
    "100*(tmp_stats.iloc[1] - tmp_stats.iloc[0]) / tmp_stats.iloc[0]\n",
    "\n",
    "# sns.barplot(y=index, data=stats.T)\n",
    "print(tmp_stats.to_latex())"
   ]
  },
  {
   "cell_type": "code",
   "execution_count": null,
   "metadata": {},
   "outputs": [],
   "source": []
  },
  {
   "cell_type": "markdown",
   "metadata": {},
   "source": [
    "**Correlation to the target value**"
   ]
  },
  {
   "cell_type": "markdown",
   "metadata": {},
   "source": [
    "**Responder's min_offer / Proposer's over and final_offer distribution**"
   ]
  },
  {
   "cell_type": "code",
   "execution_count": 29,
   "metadata": {
    "scrolled": false
   },
   "outputs": [
    {
     "name": "stdout",
     "output_type": "stream",
     "text": [
      "../data/output/diagrams/hcomp.txx.prop\n"
     ]
    },
    {
     "data": {
      "image/png": "[encoded data removed]",
      "text/plain": [
       "<Figure size 720x504 with 6 Axes>"
      ]
     },
     "metadata": {
      "needs_background": "light"
     },
     "output_type": "display_data"
    },
    {
     "data": {
      "text/plain": [
       "<Figure size 360x288 with 0 Axes>"
      ]
     },
     "metadata": {},
     "output_type": "display_data"
    },
    {
     "data": {
      "text/plain": [
       "<Figure size 360x288 with 0 Axes>"
      ]
     },
     "metadata": {},
     "output_type": "display_data"
    },
    {
     "data": {
      "text/plain": [
       "<Figure size 360x288 with 0 Axes>"
      ]
     },
     "metadata": {},
     "output_type": "display_data"
    },
    {
     "data": {
      "text/plain": [
       "<Figure size 360x288 with 0 Axes>"
      ]
     },
     "metadata": {},
     "output_type": "display_data"
    },
    {
     "data": {
      "text/plain": [
       "<Figure size 360x288 with 0 Axes>"
      ]
     },
     "metadata": {},
     "output_type": "display_data"
    },
    {
     "data": {
      "text/plain": [
       "<Figure size 360x288 with 0 Axes>"
      ]
     },
     "metadata": {},
     "output_type": "display_data"
    }
   ],
   "source": [
    "\n",
    "bins = list(range(0, 105, 5))\n",
    "\n",
    "idx = 0\n",
    "\n",
    "f, axes = plt.subplots(2, 3, figsize=(10, 7))\n",
    "\n",
    "for treatment in TREATMENTS:\n",
    "    df = dfs_full[treatment]\n",
    "    fig = plt.figure(figsize=(5, 4))\n",
    "    ax = sns.distplot(df[\"offer\"], hist=True, kde=False, bins=bins, ax=axes[idx//3, idx%3],  axlabel=treatment, label=\"Proposer\")\n",
    "    _ = ax.legend()\n",
    "    if treatment.upper() != \"T0.P\":\n",
    "        ax = sns.distplot(df[\"offer_final\"], hist=True, kde=False, bins=bins, ax=axes[idx//3, idx%3],  axlabel=treatment, label=\"Proposer + DSS\")\n",
    "    _ = ax.legend(loc=\"center\")\n",
    "    \n",
    "    idx += 1\n",
    "\n",
    "plt.tight_layout()\n",
    "f.savefig(os.path.join(export_folder, \"offers.pdf\"), bbox_inches='tight')\n",
    "\n",
    "print(export_folder)"
   ]
  },
  {
   "cell_type": "code",
   "execution_count": 5,
   "metadata": {},
   "outputs": [
    {
     "data": {
      "text/plain": [
       "(array([ 8,  8,  6, 11, 57,  6,  0,  1,  1,  4]),\n",
       " array([  5. ,  14.5,  24. ,  33.5,  43. ,  52.5,  62. ,  71.5,  81. ,\n",
       "         90.5, 100. ]))"
      ]
     },
     "execution_count": 5,
     "metadata": {},
     "output_type": "execute_result"
    }
   ],
   "source": [
    "np.histogram(df.offer)"
   ]
  },
  {
   "cell_type": "code",
   "execution_count": 6,
   "metadata": {},
   "outputs": [
    {
     "data": {
      "image/png": "[encoded data removed]",
      "text/plain": [
       "<Figure size 576x288 with 1 Axes>"
      ]
     },
     "metadata": {
      "needs_background": "light"
     },
     "output_type": "display_data"
    }
   ],
   "source": [
    "bins = list(range(-100, 105, 5))\n",
    "\n",
    "plt.figure(figsize=(8,4))\n",
    "offer_min_offer_diff = df_full[\"offer\"] - df_full[\"min_offer\"]\n",
    "ax = sns.distplot(offer_min_offer_diff, hist=True, kde=False, axlabel=\"offer - minimum offer\", bins=bins, label=\"Proposer\")\n",
    "_ = ax.set_ylabel(\"Frequency\")\n",
    "\n",
    "\n",
    "offer_min_offer_diff = df_full[\"offer_final\"] - df_full[\"min_offer\"]\n",
    "ax = sns.distplot(offer_min_offer_diff, hist=True, kde=False, axlabel=\"offer - minimum offer\", bins=bins, label=\"Proposer + DSS\", ax=ax)\n",
    "plt.legend()\n",
    "plt.tight_layout()\n",
    "ax.figure.savefig(os.path.join(export_folder, \"offer-min_offer.pdf\"))"
   ]
  },
  {
   "cell_type": "code",
   "execution_count": 36,
   "metadata": {},
   "outputs": [],
   "source": [
    "from core.models.metrics import cross_compute, avg_gain_ratio, gain_mean, rejection_ratio, loss_sum, MAX_GAIN\n",
    "\n",
    "def get_infos(min_offer, offer, metrics=None, do_cross_compute=False):\n",
    "    if metrics is None:\n",
    "        metrics = [avg_gain_ratio, gain_mean, rejection_ratio, loss_sum]\n",
    "    #df = pd.DataFrame()\n",
    "    size1, size2 = len(min_offer), len(offer)\n",
    "    if size1 != size2:\n",
    "        print(\"WARNING: different shapes!!!\", size1, size2)\n",
    "        min_size = min(size1, size2)\n",
    "        min_offer = min_offer[:min_size]\n",
    "        offer = offer[:min_size]\n",
    "    infos = dict()\n",
    "    for idx, metric in enumerate(metrics):\n",
    "        if do_cross_compute:\n",
    "            infos[metric.__name__] = cross_compute(min_offer, offer, metric)\n",
    "        else:\n",
    "            infos[metric.__name__] = metric(min_offer, offer)\n",
    "\n",
    "    return infos"
   ]
  },
  {
   "cell_type": "markdown",
   "metadata": {},
   "source": [
    "**Proposer's performance**"
   ]
  },
  {
   "cell_type": "code",
   "execution_count": 71,
   "metadata": {
    "scrolled": true
   },
   "outputs": [
    {
     "data": {
      "text/html": [
       "<div>\n",
       "<style scoped>\n",
       "    .dataframe tbody tr th:only-of-type {\n",
       "        vertical-align: middle;\n",
       "    }\n",
       "\n",
       "    .dataframe tbody tr th {\n",
       "        vertical-align: top;\n",
       "    }\n",
       "\n",
       "    .dataframe thead th {\n",
       "        text-align: right;\n",
       "    }\n",
       "</style>\n",
       "<table border=\"1\" class=\"dataframe\">\n",
       "  <thead>\n",
       "    <tr style=\"text-align: right;\">\n",
       "      <th></th>\n",
       "      <th>avg_gain_ratio</th>\n",
       "      <th>gain_mean</th>\n",
       "      <th>loss_sum</th>\n",
       "      <th>rejection_ratio</th>\n",
       "    </tr>\n",
       "  </thead>\n",
       "  <tbody>\n",
       "    <tr>\n",
       "      <th>TAI.Pu vs TAI.R</th>\n",
       "      <td>0.575657</td>\n",
       "      <td>35.714286</td>\n",
       "      <td>2405.0</td>\n",
       "      <td>0.314286</td>\n",
       "    </tr>\n",
       "    <tr>\n",
       "      <th>TAI.Pu + DSS vs TAI.R</th>\n",
       "      <td>0.635742</td>\n",
       "      <td>39.142857</td>\n",
       "      <td>2045.0</td>\n",
       "      <td>0.228571</td>\n",
       "    </tr>\n",
       "  </tbody>\n",
       "</table>\n",
       "</div>"
      ],
      "text/plain": [
       "                       avg_gain_ratio  gain_mean  loss_sum  rejection_ratio\n",
       "TAI.Pu vs TAI.R              0.575657  35.714286    2405.0         0.314286\n",
       "TAI.Pu + DSS vs TAI.R        0.635742  39.142857    2045.0         0.228571"
      ]
     },
     "execution_count": 71,
     "metadata": {},
     "output_type": "execute_result"
    }
   ],
   "source": [
    "#print(dfs['TAI.Pu'].columns)\n",
    "#print(result_df)\n",
    "df_infos = pd.DataFrame()\n",
    "# Previous computation\n",
    "#df_infos = df_infos.append(get_infos(result_df['t13a.min_offer'], result_df['t11a.offer']), ignore_index=True)\n",
    "#df_infos = df_infos.append(get_infos(result_df['t13a.min_offer_final'], result_df['t11a.offer_final']), ignore_index=True)\n",
    "\n",
    "df_infos = df_infos.append(get_infos(dfs_full_resp['TAI.R']['min_offer'], result_df['TAI.Pu.offer']), ignore_index=True)\n",
    "df_infos = df_infos.append(get_infos(dfs_full_resp['TAI.R']['min_offer'], result_df['TAI.Pu.offer_final']), ignore_index=True)\n",
    "\n",
    "#df_infos = df_infos.append(get_infos(df_full['min_offer'], [fixed_offer], do_cross_compute=True), ignore_index=True)\n",
    "\n",
    "df_infos.index = [\"TAI.Pu vs TAI.R\", \"TAI.Pu + DSS vs TAI.R\"]\n",
    "\n",
    "df_infos\n"
   ]
  },
  {
   "cell_type": "code",
   "execution_count": 74,
   "metadata": {},
   "outputs": [
    {
     "name": "stdout",
     "output_type": "stream",
     "text": [
      "WARNING: different shapes!!! 105 103\n",
      "WARNING: different shapes!!! 105 103\n"
     ]
    },
    {
     "data": {
      "text/html": [
       "<div>\n",
       "<style scoped>\n",
       "    .dataframe tbody tr th:only-of-type {\n",
       "        vertical-align: middle;\n",
       "    }\n",
       "\n",
       "    .dataframe tbody tr th {\n",
       "        vertical-align: top;\n",
       "    }\n",
       "\n",
       "    .dataframe thead th {\n",
       "        text-align: right;\n",
       "    }\n",
       "</style>\n",
       "<table border=\"1\" class=\"dataframe\">\n",
       "  <thead>\n",
       "    <tr style=\"text-align: right;\">\n",
       "      <th></th>\n",
       "      <th>avg_gain_ratio</th>\n",
       "      <th>gain_mean</th>\n",
       "      <th>loss_sum</th>\n",
       "      <th>rejection_ratio</th>\n",
       "    </tr>\n",
       "  </thead>\n",
       "  <tbody>\n",
       "    <tr>\n",
       "      <th>TXAI.Pu vs TXAI.R</th>\n",
       "      <td>0.683077</td>\n",
       "      <td>41.650485</td>\n",
       "      <td>2025.0</td>\n",
       "      <td>0.165049</td>\n",
       "    </tr>\n",
       "    <tr>\n",
       "      <th>TXAI.Pu + DSS vs TXAI.R</th>\n",
       "      <td>0.691837</td>\n",
       "      <td>41.844660</td>\n",
       "      <td>2005.0</td>\n",
       "      <td>0.145631</td>\n",
       "    </tr>\n",
       "  </tbody>\n",
       "</table>\n",
       "</div>"
      ],
      "text/plain": [
       "                         avg_gain_ratio  gain_mean  loss_sum  rejection_ratio\n",
       "TXAI.Pu vs TXAI.R              0.683077  41.650485    2025.0         0.165049\n",
       "TXAI.Pu + DSS vs TXAI.R        0.691837  41.844660    2005.0         0.145631"
      ]
     },
     "execution_count": 74,
     "metadata": {},
     "output_type": "execute_result"
    }
   ],
   "source": [
    "df_infos = pd.DataFrame()\n",
    "# Previous computation\n",
    "#df_infos = df_infos.append(get_infos(result_df['t13a.min_offer'], result_df['t11a.offer']), ignore_index=True)\n",
    "#df_infos = df_infos.append(get_infos(result_df['t13a.min_offer_final'], result_df['t11a.offer_final']), ignore_index=True)\n",
    "\n",
    "df_infos = df_infos.append(get_infos(dfs_full_resp['TXAI.R']['min_offer'], dfs_full['TXAI.Pu']['offer']), ignore_index=True)\n",
    "df_infos = df_infos.append(get_infos(dfs_full_resp['TXAI.R']['min_offer'], dfs_full['TXAI.Pu']['offer_final']), ignore_index=True)\n",
    "\n",
    "\n",
    "df_infos.index = [\"TXAI.Pu vs TXAI.R\", \"TXAI.Pu + DSS vs TXAI.R\"]\n",
    "\n",
    "df_infos\n"
   ]
  },
  {
   "cell_type": "code",
   "execution_count": 20,
   "metadata": {
    "scrolled": true
   },
   "outputs": [
    {
     "data": {
      "image/png": "[encoded data removed]",
      "text/plain": [
       "<Figure size 360x216 with 1 Axes>"
      ]
     },
     "metadata": {
      "needs_background": "light"
     },
     "output_type": "display_data"
    }
   ],
   "source": [
    "\n",
    "plt.figure(figsize=(5,3))\n",
    "tmp = pd.DataFrame()\n",
    "tmp[\"TAI.Pu#offer\"] = result_df[\"TAI.Pu.offer\"] - result_df[\"TAI.Pu.offer_final\"]\n",
    "tmp[\"TXAI.Pu#offer\"] = result_df[\"TXAI.Pu.offer\"] - result_df[\"TXAI.Pu.offer_final\"]\n",
    "\n",
    "\n",
    "bins = np.arange(-100, 100, 5)\n",
    "ax = sns.distplot(tmp[\"TAI.Pu#offer\"], hist=True, kde=False, axlabel=\"Responder minimum offer\", bins=bins, label=\"TAI.Pu\")\n",
    "ax = sns.distplot(tmp[\"TXAI.Pu#offer\"], hist=True, kde=False, axlabel=\"offer - offer_dss\", bins=bins, label=\"TXAI.Pu\")\n",
    "ax.legend(loc='best')\n",
    "_ = ax.set_ylabel(\"Frequency\")\n",
    "ax.set_yscale('log')\n",
    "plt.tight_layout()\n",
    "\n",
    "\n",
    "ax.figure.savefig(os.path.join(export_folder, \"t10avst11adiff.pdf\"))"
   ]
  },
  {
   "cell_type": "code",
   "execution_count": 21,
   "metadata": {},
   "outputs": [
    {
     "data": {
      "text/plain": [
       "<matplotlib.axes._subplots.AxesSubplot at 0x7fabdeee9be0>"
      ]
     },
     "execution_count": 21,
     "metadata": {},
     "output_type": "execute_result"
    },
    {
     "data": {
      "image/png": "[encoded data removed]",
      "text/plain": [
       "<Figure size 432x288 with 1 Axes>"
      ]
     },
     "metadata": {
      "needs_background": "light"
     },
     "output_type": "display_data"
    }
   ],
   "source": [
    "sns.lineplot(x=\"TAI.Pu.offer\", y=\"TAI.Pu.offer_final\", data=result_df)\n",
    "sns.lineplot(x=\"TXAI.Pu.offer\", y=\"TXAI.Pu.offer_final\", data=result_df)"
   ]
  },
  {
   "cell_type": "code",
   "execution_count": 22,
   "metadata": {},
   "outputs": [
    {
     "data": {
      "text/html": [
       "<div>\n",
       "<style scoped>\n",
       "    .dataframe tbody tr th:only-of-type {\n",
       "        vertical-align: middle;\n",
       "    }\n",
       "\n",
       "    .dataframe tbody tr th {\n",
       "        vertical-align: top;\n",
       "    }\n",
       "\n",
       "    .dataframe thead th {\n",
       "        text-align: right;\n",
       "    }\n",
       "</style>\n",
       "<table border=\"1\" class=\"dataframe\">\n",
       "  <thead>\n",
       "    <tr style=\"text-align: right;\">\n",
       "      <th></th>\n",
       "      <th>TAI.Pu#offer</th>\n",
       "      <th>TXAI.Pu#offer</th>\n",
       "    </tr>\n",
       "  </thead>\n",
       "  <tbody>\n",
       "    <tr>\n",
       "      <th>count</th>\n",
       "      <td>105.000000</td>\n",
       "      <td>103.000000</td>\n",
       "    </tr>\n",
       "    <tr>\n",
       "      <th>mean</th>\n",
       "      <td>-4.190476</td>\n",
       "      <td>-1.165049</td>\n",
       "    </tr>\n",
       "    <tr>\n",
       "      <th>std</th>\n",
       "      <td>13.956040</td>\n",
       "      <td>6.424672</td>\n",
       "    </tr>\n",
       "    <tr>\n",
       "      <th>min</th>\n",
       "      <td>-80.000000</td>\n",
       "      <td>-35.000000</td>\n",
       "    </tr>\n",
       "    <tr>\n",
       "      <th>25%</th>\n",
       "      <td>0.000000</td>\n",
       "      <td>0.000000</td>\n",
       "    </tr>\n",
       "    <tr>\n",
       "      <th>50%</th>\n",
       "      <td>0.000000</td>\n",
       "      <td>0.000000</td>\n",
       "    </tr>\n",
       "    <tr>\n",
       "      <th>75%</th>\n",
       "      <td>0.000000</td>\n",
       "      <td>0.000000</td>\n",
       "    </tr>\n",
       "    <tr>\n",
       "      <th>max</th>\n",
       "      <td>25.000000</td>\n",
       "      <td>25.000000</td>\n",
       "    </tr>\n",
       "  </tbody>\n",
       "</table>\n",
       "</div>"
      ],
      "text/plain": [
       "       TAI.Pu#offer  TXAI.Pu#offer\n",
       "count    105.000000     103.000000\n",
       "mean      -4.190476      -1.165049\n",
       "std       13.956040       6.424672\n",
       "min      -80.000000     -35.000000\n",
       "25%        0.000000       0.000000\n",
       "50%        0.000000       0.000000\n",
       "75%        0.000000       0.000000\n",
       "max       25.000000      25.000000"
      ]
     },
     "execution_count": 22,
     "metadata": {},
     "output_type": "execute_result"
    }
   ],
   "source": [
    "tmp.describe()"
   ]
  },
  {
   "cell_type": "code",
   "execution_count": 43,
   "metadata": {},
   "outputs": [
    {
     "data": {
      "text/plain": [
       "0       50\n",
       "1       50\n",
       "2       45\n",
       "3      100\n",
       "4       35\n",
       "5       25\n",
       "6       40\n",
       "7       40\n",
       "8       50\n",
       "9       30\n",
       "10      10\n",
       "11      35\n",
       "12      40\n",
       "13      50\n",
       "14      50\n",
       "15      50\n",
       "16      10\n",
       "17      40\n",
       "18      15\n",
       "19      45\n",
       "20      50\n",
       "21      50\n",
       "22      30\n",
       "23      30\n",
       "24      50\n",
       "25      40\n",
       "26      40\n",
       "27      35\n",
       "28       5\n",
       "29      25\n",
       "      ... \n",
       "75      20\n",
       "76      10\n",
       "77      25\n",
       "78      20\n",
       "79      30\n",
       "80     100\n",
       "81      50\n",
       "82      60\n",
       "83      30\n",
       "84      50\n",
       "85      50\n",
       "86      10\n",
       "87      50\n",
       "88      50\n",
       "89      50\n",
       "90      25\n",
       "91      40\n",
       "92      40\n",
       "93      50\n",
       "94       5\n",
       "95      40\n",
       "96      40\n",
       "97      50\n",
       "98      40\n",
       "99      50\n",
       "100     50\n",
       "101     25\n",
       "102     55\n",
       "103     50\n",
       "104     50\n",
       "Name: min_offer, Length: 105, dtype: int64"
      ]
     },
     "execution_count": 43,
     "metadata": {},
     "output_type": "execute_result"
    }
   ],
   "source": [
    "dfs_full_resp['TAI.R']['min_offer']"
   ]
  }
 ],
 "metadata": {
  "kernelspec": {
   "display_name": "Python 3",
   "language": "python",
   "name": "python3"
  },
  "language_info": {
   "codemirror_mode": {
    "name": "ipython",
    "version": 3
   },
   "file_extension": ".py",
   "mimetype": "text/x-python",
   "name": "python",
   "nbconvert_exporter": "python",
   "pygments_lexer": "ipython3",
   "version": "3.6.9"
  }
 },
 "nbformat": 4,
 "nbformat_minor": 2
}
